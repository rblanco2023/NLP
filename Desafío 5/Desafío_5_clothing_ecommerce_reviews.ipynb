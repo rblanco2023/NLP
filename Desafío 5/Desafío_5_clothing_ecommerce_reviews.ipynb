{
  "nbformat": 4,
  "nbformat_minor": 0,
  "metadata": {
    "colab": {
      "name": "Desafío 5 - clothing_ecommerce_reviews.ipynb",
      "provenance": [],
      "collapsed_sections": []
    },
    "kernelspec": {
      "name": "python3",
      "display_name": "Python 3"
    },
    "language_info": {
      "name": "python"
    },
    "gpuClass": "standard",
    "accelerator": "GPU"
  },
  "cells": [
    {
      "cell_type": "markdown",
      "metadata": {
        "id": "kBLpTr7plguX"
      },
      "source": [
        "<img src=\"https://github.com/hernancontigiani/ceia_memorias_especializacion/raw/master/Figures/logoFIUBA.jpg\" width=\"500\" align=\"center\">\n",
        "\n",
        "\n",
        "# Procesamiento de lenguaje natural\n",
        "## Sentiment analysis con Embeddings + LSTM"
      ]
    },
    {
      "cell_type": "markdown",
      "metadata": {
        "id": "9W6nuajhlqZD"
      },
      "source": [
        "### Objetivo\n",
        "El objetivo es utilizar las críticas de compradores de ropa para que el sistema determine la evaluación del comprador y su crítica (cuantas estrellas le asigna al producto)."
      ]
    },
    {
      "cell_type": "code",
      "source": [
        "!pip install --upgrade --no-cache-dir gdown --quiet"
      ],
      "metadata": {
        "id": "i6zvzv3qZ6xS",
        "colab": {
          "base_uri": "https://localhost:8080/"
        },
        "outputId": "4a94d009-6d91-4f73-f5a9-6b9834e6e9a1"
      },
      "execution_count": 2,
      "outputs": [
        {
          "output_type": "stream",
          "name": "stdout",
          "text": [
            "  Installing build dependencies ... \u001b[?25l\u001b[?25hdone\n",
            "  Getting requirements to build wheel ... \u001b[?25l\u001b[?25hdone\n",
            "    Preparing wheel metadata ... \u001b[?25l\u001b[?25hdone\n",
            "  Building wheel for gdown (PEP 517) ... \u001b[?25l\u001b[?25hdone\n"
          ]
        }
      ]
    },
    {
      "cell_type": "code",
      "metadata": {
        "id": "hCpOVzJdl8_p"
      },
      "source": [
        "import numpy as np\n",
        "import random\n",
        "import io\n",
        "import pickle\n",
        "import pandas as pd\n",
        "\n",
        "import matplotlib.pyplot as plt\n",
        "import seaborn as sns\n",
        "\n",
        "from tensorflow import keras\n",
        "from tensorflow.keras import layers\n",
        "\n",
        "from keras.utils.np_utils import to_categorical\n",
        "from keras.preprocessing.sequence import pad_sequences\n",
        "from keras.models import Sequential\n",
        "from keras.layers import Dense\n",
        "from keras.layers import LSTM\n",
        "from keras.layers import Embedding"
      ],
      "execution_count": 3,
      "outputs": []
    },
    {
      "cell_type": "markdown",
      "metadata": {
        "id": "8UPeRkrAmbF3"
      },
      "source": [
        "### Datos\n",
        "Utilizaremos como dataset críticas de compradores de ropa (eCommerce) los cuales puntuaron a cada prenda con un puntaje de 1 a 5 estrellas.\\\n",
        "Referencia del dataset: [LINK](https://www.kaggle.com/nicapotato/womens-ecommerce-clothing-reviews/version/1)"
      ]
    },
    {
      "cell_type": "code",
      "metadata": {
        "id": "C7jLvTU3lSyL",
        "colab": {
          "base_uri": "https://localhost:8080/"
        },
        "outputId": "6ff94dad-f542-4b42-8cec-7a7d44fd06ed"
      },
      "source": [
        "# Descargar la carpeta de dataset\n",
        "import os\n",
        "import gdown\n",
        "if os.access('clothing_ecommerce_reviews.csv', os.F_OK) is False:\n",
        "    url = 'https://drive.google.com/uc?id=1k2Dz4oY5uxI3JEaT6m-L2T2HvLkECYIP'\n",
        "    output = 'clothing_ecommerce_reviews.csv'\n",
        "    gdown.download(url, output, quiet=False)\n",
        "else:\n",
        "    print(\"El dataset ya se encuentra descargado\")"
      ],
      "execution_count": 4,
      "outputs": [
        {
          "output_type": "stream",
          "name": "stderr",
          "text": [
            "Downloading...\n",
            "From: https://drive.google.com/uc?id=1k2Dz4oY5uxI3JEaT6m-L2T2HvLkECYIP\n",
            "To: /content/clothing_ecommerce_reviews.csv\n",
            "100%|██████████| 8.48M/8.48M [00:00<00:00, 129MB/s]\n"
          ]
        }
      ]
    },
    {
      "cell_type": "code",
      "metadata": {
        "id": "o-SV1P3dnD1J",
        "colab": {
          "base_uri": "https://localhost:8080/",
          "height": 354
        },
        "outputId": "3403f14e-c0d2-443a-ac3d-e7d131e8aeb2"
      },
      "source": [
        "# Armar el dataset\n",
        "df = pd.read_csv('clothing_ecommerce_reviews.csv')\n",
        "df.drop(columns = ['Unnamed: 0'], inplace = True)\n",
        "df.head()"
      ],
      "execution_count": 5,
      "outputs": [
        {
          "output_type": "execute_result",
          "data": {
            "text/plain": [
              "   Clothing ID  Age                    Title  \\\n",
              "0          767   33                      NaN   \n",
              "1         1080   34                      NaN   \n",
              "2         1077   60  Some major design flaws   \n",
              "3         1049   50         My favorite buy!   \n",
              "4          847   47         Flattering shirt   \n",
              "\n",
              "                                         Review Text  Rating  Recommended IND  \\\n",
              "0  Absolutely wonderful - silky and sexy and comf...       4                1   \n",
              "1  Love this dress!  it's sooo pretty.  i happene...       5                1   \n",
              "2  I had such high hopes for this dress and reall...       3                0   \n",
              "3  I love, love, love this jumpsuit. it's fun, fl...       5                1   \n",
              "4  This shirt is very flattering to all due to th...       5                1   \n",
              "\n",
              "   Positive Feedback Count   Division Name Department Name Class Name  \n",
              "0                        0       Initmates        Intimate  Intimates  \n",
              "1                        4         General         Dresses    Dresses  \n",
              "2                        0         General         Dresses    Dresses  \n",
              "3                        0  General Petite         Bottoms      Pants  \n",
              "4                        6         General            Tops    Blouses  "
            ],
            "text/html": [
              "\n",
              "  <div id=\"df-540bed12-6a75-48f7-97e7-4b1e158c5e3b\">\n",
              "    <div class=\"colab-df-container\">\n",
              "      <div>\n",
              "<style scoped>\n",
              "    .dataframe tbody tr th:only-of-type {\n",
              "        vertical-align: middle;\n",
              "    }\n",
              "\n",
              "    .dataframe tbody tr th {\n",
              "        vertical-align: top;\n",
              "    }\n",
              "\n",
              "    .dataframe thead th {\n",
              "        text-align: right;\n",
              "    }\n",
              "</style>\n",
              "<table border=\"1\" class=\"dataframe\">\n",
              "  <thead>\n",
              "    <tr style=\"text-align: right;\">\n",
              "      <th></th>\n",
              "      <th>Clothing ID</th>\n",
              "      <th>Age</th>\n",
              "      <th>Title</th>\n",
              "      <th>Review Text</th>\n",
              "      <th>Rating</th>\n",
              "      <th>Recommended IND</th>\n",
              "      <th>Positive Feedback Count</th>\n",
              "      <th>Division Name</th>\n",
              "      <th>Department Name</th>\n",
              "      <th>Class Name</th>\n",
              "    </tr>\n",
              "  </thead>\n",
              "  <tbody>\n",
              "    <tr>\n",
              "      <th>0</th>\n",
              "      <td>767</td>\n",
              "      <td>33</td>\n",
              "      <td>NaN</td>\n",
              "      <td>Absolutely wonderful - silky and sexy and comf...</td>\n",
              "      <td>4</td>\n",
              "      <td>1</td>\n",
              "      <td>0</td>\n",
              "      <td>Initmates</td>\n",
              "      <td>Intimate</td>\n",
              "      <td>Intimates</td>\n",
              "    </tr>\n",
              "    <tr>\n",
              "      <th>1</th>\n",
              "      <td>1080</td>\n",
              "      <td>34</td>\n",
              "      <td>NaN</td>\n",
              "      <td>Love this dress!  it's sooo pretty.  i happene...</td>\n",
              "      <td>5</td>\n",
              "      <td>1</td>\n",
              "      <td>4</td>\n",
              "      <td>General</td>\n",
              "      <td>Dresses</td>\n",
              "      <td>Dresses</td>\n",
              "    </tr>\n",
              "    <tr>\n",
              "      <th>2</th>\n",
              "      <td>1077</td>\n",
              "      <td>60</td>\n",
              "      <td>Some major design flaws</td>\n",
              "      <td>I had such high hopes for this dress and reall...</td>\n",
              "      <td>3</td>\n",
              "      <td>0</td>\n",
              "      <td>0</td>\n",
              "      <td>General</td>\n",
              "      <td>Dresses</td>\n",
              "      <td>Dresses</td>\n",
              "    </tr>\n",
              "    <tr>\n",
              "      <th>3</th>\n",
              "      <td>1049</td>\n",
              "      <td>50</td>\n",
              "      <td>My favorite buy!</td>\n",
              "      <td>I love, love, love this jumpsuit. it's fun, fl...</td>\n",
              "      <td>5</td>\n",
              "      <td>1</td>\n",
              "      <td>0</td>\n",
              "      <td>General Petite</td>\n",
              "      <td>Bottoms</td>\n",
              "      <td>Pants</td>\n",
              "    </tr>\n",
              "    <tr>\n",
              "      <th>4</th>\n",
              "      <td>847</td>\n",
              "      <td>47</td>\n",
              "      <td>Flattering shirt</td>\n",
              "      <td>This shirt is very flattering to all due to th...</td>\n",
              "      <td>5</td>\n",
              "      <td>1</td>\n",
              "      <td>6</td>\n",
              "      <td>General</td>\n",
              "      <td>Tops</td>\n",
              "      <td>Blouses</td>\n",
              "    </tr>\n",
              "  </tbody>\n",
              "</table>\n",
              "</div>\n",
              "      <button class=\"colab-df-convert\" onclick=\"convertToInteractive('df-540bed12-6a75-48f7-97e7-4b1e158c5e3b')\"\n",
              "              title=\"Convert this dataframe to an interactive table.\"\n",
              "              style=\"display:none;\">\n",
              "        \n",
              "  <svg xmlns=\"http://www.w3.org/2000/svg\" height=\"24px\"viewBox=\"0 0 24 24\"\n",
              "       width=\"24px\">\n",
              "    <path d=\"M0 0h24v24H0V0z\" fill=\"none\"/>\n",
              "    <path d=\"M18.56 5.44l.94 2.06.94-2.06 2.06-.94-2.06-.94-.94-2.06-.94 2.06-2.06.94zm-11 1L8.5 8.5l.94-2.06 2.06-.94-2.06-.94L8.5 2.5l-.94 2.06-2.06.94zm10 10l.94 2.06.94-2.06 2.06-.94-2.06-.94-.94-2.06-.94 2.06-2.06.94z\"/><path d=\"M17.41 7.96l-1.37-1.37c-.4-.4-.92-.59-1.43-.59-.52 0-1.04.2-1.43.59L10.3 9.45l-7.72 7.72c-.78.78-.78 2.05 0 2.83L4 21.41c.39.39.9.59 1.41.59.51 0 1.02-.2 1.41-.59l7.78-7.78 2.81-2.81c.8-.78.8-2.07 0-2.86zM5.41 20L4 18.59l7.72-7.72 1.47 1.35L5.41 20z\"/>\n",
              "  </svg>\n",
              "      </button>\n",
              "      \n",
              "  <style>\n",
              "    .colab-df-container {\n",
              "      display:flex;\n",
              "      flex-wrap:wrap;\n",
              "      gap: 12px;\n",
              "    }\n",
              "\n",
              "    .colab-df-convert {\n",
              "      background-color: #E8F0FE;\n",
              "      border: none;\n",
              "      border-radius: 50%;\n",
              "      cursor: pointer;\n",
              "      display: none;\n",
              "      fill: #1967D2;\n",
              "      height: 32px;\n",
              "      padding: 0 0 0 0;\n",
              "      width: 32px;\n",
              "    }\n",
              "\n",
              "    .colab-df-convert:hover {\n",
              "      background-color: #E2EBFA;\n",
              "      box-shadow: 0px 1px 2px rgba(60, 64, 67, 0.3), 0px 1px 3px 1px rgba(60, 64, 67, 0.15);\n",
              "      fill: #174EA6;\n",
              "    }\n",
              "\n",
              "    [theme=dark] .colab-df-convert {\n",
              "      background-color: #3B4455;\n",
              "      fill: #D2E3FC;\n",
              "    }\n",
              "\n",
              "    [theme=dark] .colab-df-convert:hover {\n",
              "      background-color: #434B5C;\n",
              "      box-shadow: 0px 1px 3px 1px rgba(0, 0, 0, 0.15);\n",
              "      filter: drop-shadow(0px 1px 2px rgba(0, 0, 0, 0.3));\n",
              "      fill: #FFFFFF;\n",
              "    }\n",
              "  </style>\n",
              "\n",
              "      <script>\n",
              "        const buttonEl =\n",
              "          document.querySelector('#df-540bed12-6a75-48f7-97e7-4b1e158c5e3b button.colab-df-convert');\n",
              "        buttonEl.style.display =\n",
              "          google.colab.kernel.accessAllowed ? 'block' : 'none';\n",
              "\n",
              "        async function convertToInteractive(key) {\n",
              "          const element = document.querySelector('#df-540bed12-6a75-48f7-97e7-4b1e158c5e3b');\n",
              "          const dataTable =\n",
              "            await google.colab.kernel.invokeFunction('convertToInteractive',\n",
              "                                                     [key], {});\n",
              "          if (!dataTable) return;\n",
              "\n",
              "          const docLinkHtml = 'Like what you see? Visit the ' +\n",
              "            '<a target=\"_blank\" href=https://colab.research.google.com/notebooks/data_table.ipynb>data table notebook</a>'\n",
              "            + ' to learn more about interactive tables.';\n",
              "          element.innerHTML = '';\n",
              "          dataTable['output_type'] = 'display_data';\n",
              "          await google.colab.output.renderOutput(dataTable, element);\n",
              "          const docLink = document.createElement('div');\n",
              "          docLink.innerHTML = docLinkHtml;\n",
              "          element.appendChild(docLink);\n",
              "        }\n",
              "      </script>\n",
              "    </div>\n",
              "  </div>\n",
              "  "
            ]
          },
          "metadata": {},
          "execution_count": 5
        }
      ]
    },
    {
      "cell_type": "markdown",
      "metadata": {
        "id": "q-OwSePKm-FK"
      },
      "source": [
        "### 1 - Limpieza de datos\n",
        "Alumno:\n",
        "- Del dataset unicamente utilizar las columnas \"Review Text\" y \"Rating.\n",
        "- Tranformar el rating 1-5 a una escala numérica de 0 a 4.\n",
        "\n"
      ]
    },
    {
      "cell_type": "code",
      "metadata": {
        "id": "-hc7-AmYnPC3",
        "colab": {
          "base_uri": "https://localhost:8080/",
          "height": 206
        },
        "outputId": "695f4657-fe3d-4334-8461-190a1da056b9"
      },
      "source": [
        "df_reviews = df.loc[:, ['Review Text', 'Rating']].dropna()\n",
        "df_reviews['Rating'] = df_reviews['Rating'] - 1\n",
        "df_reviews.head()"
      ],
      "execution_count": 6,
      "outputs": [
        {
          "output_type": "execute_result",
          "data": {
            "text/plain": [
              "                                         Review Text  Rating\n",
              "0  Absolutely wonderful - silky and sexy and comf...       3\n",
              "1  Love this dress!  it's sooo pretty.  i happene...       4\n",
              "2  I had such high hopes for this dress and reall...       2\n",
              "3  I love, love, love this jumpsuit. it's fun, fl...       4\n",
              "4  This shirt is very flattering to all due to th...       4"
            ],
            "text/html": [
              "\n",
              "  <div id=\"df-93e23e99-2fce-48bf-a97d-d5d2048a8212\">\n",
              "    <div class=\"colab-df-container\">\n",
              "      <div>\n",
              "<style scoped>\n",
              "    .dataframe tbody tr th:only-of-type {\n",
              "        vertical-align: middle;\n",
              "    }\n",
              "\n",
              "    .dataframe tbody tr th {\n",
              "        vertical-align: top;\n",
              "    }\n",
              "\n",
              "    .dataframe thead th {\n",
              "        text-align: right;\n",
              "    }\n",
              "</style>\n",
              "<table border=\"1\" class=\"dataframe\">\n",
              "  <thead>\n",
              "    <tr style=\"text-align: right;\">\n",
              "      <th></th>\n",
              "      <th>Review Text</th>\n",
              "      <th>Rating</th>\n",
              "    </tr>\n",
              "  </thead>\n",
              "  <tbody>\n",
              "    <tr>\n",
              "      <th>0</th>\n",
              "      <td>Absolutely wonderful - silky and sexy and comf...</td>\n",
              "      <td>3</td>\n",
              "    </tr>\n",
              "    <tr>\n",
              "      <th>1</th>\n",
              "      <td>Love this dress!  it's sooo pretty.  i happene...</td>\n",
              "      <td>4</td>\n",
              "    </tr>\n",
              "    <tr>\n",
              "      <th>2</th>\n",
              "      <td>I had such high hopes for this dress and reall...</td>\n",
              "      <td>2</td>\n",
              "    </tr>\n",
              "    <tr>\n",
              "      <th>3</th>\n",
              "      <td>I love, love, love this jumpsuit. it's fun, fl...</td>\n",
              "      <td>4</td>\n",
              "    </tr>\n",
              "    <tr>\n",
              "      <th>4</th>\n",
              "      <td>This shirt is very flattering to all due to th...</td>\n",
              "      <td>4</td>\n",
              "    </tr>\n",
              "  </tbody>\n",
              "</table>\n",
              "</div>\n",
              "      <button class=\"colab-df-convert\" onclick=\"convertToInteractive('df-93e23e99-2fce-48bf-a97d-d5d2048a8212')\"\n",
              "              title=\"Convert this dataframe to an interactive table.\"\n",
              "              style=\"display:none;\">\n",
              "        \n",
              "  <svg xmlns=\"http://www.w3.org/2000/svg\" height=\"24px\"viewBox=\"0 0 24 24\"\n",
              "       width=\"24px\">\n",
              "    <path d=\"M0 0h24v24H0V0z\" fill=\"none\"/>\n",
              "    <path d=\"M18.56 5.44l.94 2.06.94-2.06 2.06-.94-2.06-.94-.94-2.06-.94 2.06-2.06.94zm-11 1L8.5 8.5l.94-2.06 2.06-.94-2.06-.94L8.5 2.5l-.94 2.06-2.06.94zm10 10l.94 2.06.94-2.06 2.06-.94-2.06-.94-.94-2.06-.94 2.06-2.06.94z\"/><path d=\"M17.41 7.96l-1.37-1.37c-.4-.4-.92-.59-1.43-.59-.52 0-1.04.2-1.43.59L10.3 9.45l-7.72 7.72c-.78.78-.78 2.05 0 2.83L4 21.41c.39.39.9.59 1.41.59.51 0 1.02-.2 1.41-.59l7.78-7.78 2.81-2.81c.8-.78.8-2.07 0-2.86zM5.41 20L4 18.59l7.72-7.72 1.47 1.35L5.41 20z\"/>\n",
              "  </svg>\n",
              "      </button>\n",
              "      \n",
              "  <style>\n",
              "    .colab-df-container {\n",
              "      display:flex;\n",
              "      flex-wrap:wrap;\n",
              "      gap: 12px;\n",
              "    }\n",
              "\n",
              "    .colab-df-convert {\n",
              "      background-color: #E8F0FE;\n",
              "      border: none;\n",
              "      border-radius: 50%;\n",
              "      cursor: pointer;\n",
              "      display: none;\n",
              "      fill: #1967D2;\n",
              "      height: 32px;\n",
              "      padding: 0 0 0 0;\n",
              "      width: 32px;\n",
              "    }\n",
              "\n",
              "    .colab-df-convert:hover {\n",
              "      background-color: #E2EBFA;\n",
              "      box-shadow: 0px 1px 2px rgba(60, 64, 67, 0.3), 0px 1px 3px 1px rgba(60, 64, 67, 0.15);\n",
              "      fill: #174EA6;\n",
              "    }\n",
              "\n",
              "    [theme=dark] .colab-df-convert {\n",
              "      background-color: #3B4455;\n",
              "      fill: #D2E3FC;\n",
              "    }\n",
              "\n",
              "    [theme=dark] .colab-df-convert:hover {\n",
              "      background-color: #434B5C;\n",
              "      box-shadow: 0px 1px 3px 1px rgba(0, 0, 0, 0.15);\n",
              "      filter: drop-shadow(0px 1px 2px rgba(0, 0, 0, 0.3));\n",
              "      fill: #FFFFFF;\n",
              "    }\n",
              "  </style>\n",
              "\n",
              "      <script>\n",
              "        const buttonEl =\n",
              "          document.querySelector('#df-93e23e99-2fce-48bf-a97d-d5d2048a8212 button.colab-df-convert');\n",
              "        buttonEl.style.display =\n",
              "          google.colab.kernel.accessAllowed ? 'block' : 'none';\n",
              "\n",
              "        async function convertToInteractive(key) {\n",
              "          const element = document.querySelector('#df-93e23e99-2fce-48bf-a97d-d5d2048a8212');\n",
              "          const dataTable =\n",
              "            await google.colab.kernel.invokeFunction('convertToInteractive',\n",
              "                                                     [key], {});\n",
              "          if (!dataTable) return;\n",
              "\n",
              "          const docLinkHtml = 'Like what you see? Visit the ' +\n",
              "            '<a target=\"_blank\" href=https://colab.research.google.com/notebooks/data_table.ipynb>data table notebook</a>'\n",
              "            + ' to learn more about interactive tables.';\n",
              "          element.innerHTML = '';\n",
              "          dataTable['output_type'] = 'display_data';\n",
              "          await google.colab.output.renderOutput(dataTable, element);\n",
              "          const docLink = document.createElement('div');\n",
              "          docLink.innerHTML = docLinkHtml;\n",
              "          element.appendChild(docLink);\n",
              "        }\n",
              "      </script>\n",
              "    </div>\n",
              "  </div>\n",
              "  "
            ]
          },
          "metadata": {},
          "execution_count": 6
        }
      ]
    },
    {
      "cell_type": "code",
      "metadata": {
        "id": "sZtvASVOn3ty"
      },
      "source": [
        "# Alumno: Observar como está distribuido el dataset respecto a la columna Rating\n",
        "# es decir, observar que tan balanceado se encuentra respecot a cada clase"
      ],
      "execution_count": null,
      "outputs": []
    },
    {
      "cell_type": "code",
      "source": [
        "df_reviews['Rating'].value_counts()"
      ],
      "metadata": {
        "colab": {
          "base_uri": "https://localhost:8080/"
        },
        "id": "-MUnfOqp2PE8",
        "outputId": "1b41d010-79e6-4cb5-c4bc-2e37962ef828"
      },
      "execution_count": 7,
      "outputs": [
        {
          "output_type": "execute_result",
          "data": {
            "text/plain": [
              "4    12540\n",
              "3     4908\n",
              "2     2823\n",
              "1     1549\n",
              "0      821\n",
              "Name: Rating, dtype: int64"
            ]
          },
          "metadata": {},
          "execution_count": 7
        }
      ]
    },
    {
      "cell_type": "code",
      "metadata": {
        "id": "gVJ_RVi4o1h3"
      },
      "source": [
        "# Alumno: tomar la columna de las review y almacenarlo todo en un vector numpy de reviews"
      ],
      "execution_count": null,
      "outputs": []
    },
    {
      "cell_type": "code",
      "source": [
        "reviews_seq = df_reviews['Review Text'].values"
      ],
      "metadata": {
        "id": "04vlFR6K3GjQ"
      },
      "execution_count": 8,
      "outputs": []
    },
    {
      "cell_type": "code",
      "metadata": {
        "id": "4nT5Un_co65Q"
      },
      "source": [
        "# Alumno: Cuantas reviews (rows) hay para evaluar?"
      ],
      "execution_count": null,
      "outputs": []
    },
    {
      "cell_type": "code",
      "source": [
        "len(reviews_seq)"
      ],
      "metadata": {
        "colab": {
          "base_uri": "https://localhost:8080/"
        },
        "id": "umijesKs4_X2",
        "outputId": "2fcf57c5-3044-471e-80ac-f0c318ff743a"
      },
      "execution_count": 9,
      "outputs": [
        {
          "output_type": "execute_result",
          "data": {
            "text/plain": [
              "22641"
            ]
          },
          "metadata": {},
          "execution_count": 9
        }
      ]
    },
    {
      "cell_type": "code",
      "metadata": {
        "id": "HP5uN9tqpHu_"
      },
      "source": [
        "# Alumno: Concatenar todas las reviews para armar el corpus"
      ],
      "execution_count": null,
      "outputs": []
    },
    {
      "cell_type": "code",
      "source": [
        "corpus = ' '.join(reviews_seq)"
      ],
      "metadata": {
        "id": "Zgovfcyu5iMe"
      },
      "execution_count": 10,
      "outputs": []
    },
    {
      "cell_type": "code",
      "metadata": {
        "id": "FEzmePgdpf74"
      },
      "source": [
        "# Alumno: ¿Cuál es la longitud de ese corpus?"
      ],
      "execution_count": null,
      "outputs": []
    },
    {
      "cell_type": "code",
      "source": [
        "len(corpus)"
      ],
      "metadata": {
        "colab": {
          "base_uri": "https://localhost:8080/"
        },
        "id": "6G_z-Aqh62Zq",
        "outputId": "621059f7-0afc-4f84-9779-eeddf9547514"
      },
      "execution_count": 11,
      "outputs": [
        {
          "output_type": "execute_result",
          "data": {
            "text/plain": [
              "7011643"
            ]
          },
          "metadata": {},
          "execution_count": 11
        }
      ]
    },
    {
      "cell_type": "code",
      "metadata": {
        "id": "MYeJLdDmpvOe"
      },
      "source": [
        "# Alumno: Utilizar \"text_to_word_sequence\" para separar las palabras en tokens\n",
        "# recordar que text_to_word_sequence automaticamente quita los signos de puntuacion y pasa el texto a lowercase\n",
        "from keras.preprocessing.text import text_to_word_sequence"
      ],
      "execution_count": 12,
      "outputs": []
    },
    {
      "cell_type": "code",
      "source": [
        "Tokens = text_to_word_sequence(corpus)"
      ],
      "metadata": {
        "id": "w9x9eXub7Agf"
      },
      "execution_count": 13,
      "outputs": []
    },
    {
      "cell_type": "code",
      "metadata": {
        "id": "M6L-fnWAp_lA"
      },
      "source": [
        "# Alumno: Dar un vistazo a los primeros 20 tokens/palabras"
      ],
      "execution_count": null,
      "outputs": []
    },
    {
      "cell_type": "code",
      "source": [
        "Tokens[0:20]"
      ],
      "metadata": {
        "colab": {
          "base_uri": "https://localhost:8080/"
        },
        "id": "ql_PIVfy7hNh",
        "outputId": "f57bee94-7162-4693-f2cd-dcc1be4406de"
      },
      "execution_count": 14,
      "outputs": [
        {
          "output_type": "execute_result",
          "data": {
            "text/plain": [
              "['absolutely',\n",
              " 'wonderful',\n",
              " 'silky',\n",
              " 'and',\n",
              " 'sexy',\n",
              " 'and',\n",
              " 'comfortable',\n",
              " 'love',\n",
              " 'this',\n",
              " 'dress',\n",
              " \"it's\",\n",
              " 'sooo',\n",
              " 'pretty',\n",
              " 'i',\n",
              " 'happened',\n",
              " 'to',\n",
              " 'find',\n",
              " 'it',\n",
              " 'in',\n",
              " 'a']"
            ]
          },
          "metadata": {},
          "execution_count": 14
        }
      ]
    },
    {
      "cell_type": "code",
      "metadata": {
        "id": "-8QgwwMUqG0d"
      },
      "source": [
        "# Alumno: ¿Cuántos tokens/palabras hay?"
      ],
      "execution_count": null,
      "outputs": []
    },
    {
      "cell_type": "code",
      "source": [
        "len(Tokens)"
      ],
      "metadata": {
        "colab": {
          "base_uri": "https://localhost:8080/"
        },
        "id": "YB5rswC57res",
        "outputId": "0e28eb70-f74f-4168-f15b-ce778c5ba45e"
      },
      "execution_count": 15,
      "outputs": [
        {
          "output_type": "execute_result",
          "data": {
            "text/plain": [
              "1372203"
            ]
          },
          "metadata": {},
          "execution_count": 15
        }
      ]
    },
    {
      "cell_type": "code",
      "metadata": {
        "id": "TFukNZdOsZ8_"
      },
      "source": [
        "# Alumno: Tokenizar las palabras con el Tokenizer de Keras\n",
        "# Definir una máxima cantidad de palabras a utilizar:\n",
        "# num_words --> the maximum number of words to keep, based on word frequency.\n",
        "# Only the most common num_words-1 words will be kept.\n",
        "from keras.preprocessing.text import Tokenizer\n",
        "num_words = 2000\n",
        "vocab_size = num_words\n",
        "tokens = Tokenizer(num_words)\n",
        "tokens.fit_on_texts(Tokens)"
      ],
      "execution_count": 16,
      "outputs": []
    },
    {
      "cell_type": "code",
      "metadata": {
        "id": "JnR1tlqZy94X"
      },
      "source": [
        "# Alumno: Obtener el diccionario de palabra (word) a índice\n",
        "# y observar la cantidad total del vocabulario"
      ],
      "execution_count": null,
      "outputs": []
    },
    {
      "cell_type": "code",
      "source": [
        "word_to_index = tokens.word_index\n",
        "len(word_to_index)"
      ],
      "metadata": {
        "colab": {
          "base_uri": "https://localhost:8080/"
        },
        "id": "-N7Zap3n8uwW",
        "outputId": "15916753-8281-41f4-a6b6-fd071d4f697a"
      },
      "execution_count": 17,
      "outputs": [
        {
          "output_type": "execute_result",
          "data": {
            "text/plain": [
              "14847"
            ]
          },
          "metadata": {},
          "execution_count": 17
        }
      ]
    },
    {
      "cell_type": "code",
      "metadata": {
        "id": "AvWzzSretQXf"
      },
      "source": [
        "# Alumno: Convertir las palabras/tokens a números"
      ],
      "execution_count": null,
      "outputs": []
    },
    {
      "cell_type": "code",
      "source": [
        "sequences = tokens.texts_to_sequences(reviews_seq)"
      ],
      "metadata": {
        "id": "gKvm-_dW91-u"
      },
      "execution_count": 18,
      "outputs": []
    },
    {
      "cell_type": "code",
      "metadata": {
        "id": "za73M5SRtbrP"
      },
      "source": [
        "# Alumno: Determinar cual es la oración más larga"
      ],
      "execution_count": null,
      "outputs": []
    },
    {
      "cell_type": "code",
      "source": [
        "Larga = 0\n",
        "for seq in sequences:\n",
        "  larga = len(seq)\n",
        "  if (larga>Larga):\n",
        "    Larga = larga\n",
        "print(\"Longitud de oración más larga: \",Larga)"
      ],
      "metadata": {
        "colab": {
          "base_uri": "https://localhost:8080/"
        },
        "id": "a5qcJvSS_UuE",
        "outputId": "247f9d24-575e-4f62-c8ba-e564ed9d833d"
      },
      "execution_count": 19,
      "outputs": [
        {
          "output_type": "stream",
          "name": "stdout",
          "text": [
            "Longitud de oración más larga:  115\n"
          ]
        }
      ]
    },
    {
      "cell_type": "code",
      "metadata": {
        "id": "oCkO9Wc9tls1"
      },
      "source": [
        "# Alumno: Realizar padding de las sentencias al mismo tamaño\n",
        "# tomando de referencia la máxima sentencia\n",
        "from keras.preprocessing.sequence import pad_sequences\n",
        "maxlen = Larga\n",
        "X = pad_sequences(sequences, padding='pre', maxlen=maxlen)"
      ],
      "execution_count": 20,
      "outputs": []
    },
    {
      "cell_type": "code",
      "metadata": {
        "id": "kGHHabVdt_aa"
      },
      "source": [
        "# Alumno: Observar las dimensiones de la variable input"
      ],
      "execution_count": null,
      "outputs": []
    },
    {
      "cell_type": "code",
      "source": [
        "X.shape"
      ],
      "metadata": {
        "colab": {
          "base_uri": "https://localhost:8080/"
        },
        "id": "VyOpJZbHo-oC",
        "outputId": "f7ca9171-0470-4fd0-9c56-68860da12c12"
      },
      "execution_count": 21,
      "outputs": [
        {
          "output_type": "execute_result",
          "data": {
            "text/plain": [
              "(22641, 115)"
            ]
          },
          "metadata": {},
          "execution_count": 21
        }
      ]
    },
    {
      "cell_type": "code",
      "metadata": {
        "id": "llVM-tzQo9_F"
      },
      "source": [
        "# Alumno tomar la columna rating y alcemacenarla en una variable \"y\" transformada a oneHotEncoding\n",
        "# Su shape debe ser equivalente la cantidad de rows del corpus y a la cantidad\n",
        "# de clases que se deseen predecir (en este ejemplo son 5)"
      ],
      "execution_count": null,
      "outputs": []
    },
    {
      "cell_type": "code",
      "source": [
        "Y = df_reviews['Rating']\n",
        "Y = to_categorical(Y) #One hot encoder de Keras\n",
        "Y.shape"
      ],
      "metadata": {
        "colab": {
          "base_uri": "https://localhost:8080/"
        },
        "id": "4lkk0xdtYhED",
        "outputId": "d93b71c6-2d4d-4e68-84bf-723fe566c5b7"
      },
      "execution_count": 22,
      "outputs": [
        {
          "output_type": "execute_result",
          "data": {
            "text/plain": [
              "(22641, 5)"
            ]
          },
          "metadata": {},
          "execution_count": 22
        }
      ]
    },
    {
      "cell_type": "code",
      "metadata": {
        "id": "Rmz9A6n4uK4V"
      },
      "source": [
        "# Alumno: Dividir los datos en train y test\n",
        "from sklearn.model_selection import train_test_split\n",
        "X_train, X_test, Y_train, Y_test = train_test_split(X, Y, test_size=0.3, random_state=42)"
      ],
      "execution_count": 23,
      "outputs": []
    },
    {
      "cell_type": "code",
      "metadata": {
        "id": "EcDPlhEouQ9E",
        "colab": {
          "base_uri": "https://localhost:8080/"
        },
        "outputId": "b9687974-6596-4e5a-e197-ba77cb96d3ff"
      },
      "source": [
        "# Alumno: determinar la dimensiones de entrada y salida\n",
        "input_shape = X_train.shape[1]\n",
        "output_shape = Y_train.shape[1]\n",
        "print(\"input shape: \", input_shape)\n",
        "print(\"output shape: \", output_shape)"
      ],
      "execution_count": 24,
      "outputs": [
        {
          "output_type": "stream",
          "name": "stdout",
          "text": [
            "input shape:  115\n",
            "output shape:  5\n"
          ]
        }
      ]
    },
    {
      "cell_type": "markdown",
      "metadata": {
        "id": "NpbQHExL6OTu"
      },
      "source": [
        "### 2 - Entrenar el modelo con Embeddings + LSTM"
      ]
    },
    {
      "cell_type": "code",
      "metadata": {
        "id": "NUkuWBsM6cx3"
      },
      "source": [
        "# Alumno: Entrene su modelo con LSTM entrenando sus propios embeddings\n",
        "# o utilizando embeddings pre-entrenados.\n",
        "from keras.layers import LSTM\n",
        "from keras.layers import Embedding\n",
        "from keras.layers import Dropout"
      ],
      "execution_count": 25,
      "outputs": []
    },
    {
      "cell_type": "code",
      "source": [
        "model = Sequential()\n",
        "# input_dim = vocab_size (max n_words)\n",
        "# input_length = setencias con padding a 115\n",
        "# output_dim = 50 --> crear embeddings de tamaño 50\n",
        "model.add(Embedding(input_dim=vocab_size+1, output_dim=50, input_length=input_shape))\n",
        "model.add(LSTM(units=16, return_sequences=True))\n",
        "model.add(Dropout(0.1))\n",
        "model.add(LSTM(units=32, return_sequences=True))\n",
        "model.add(Dropout(0.15))\n",
        "model.add(LSTM(units=32)) # La última capa LSTM no lleva return_sequences\n",
        "model.add(Dense(units=64, activation='relu'))\n",
        "model.add(Dropout(rate=0.15))\n",
        "model.add(Dense(units=output_shape, activation='relu'))\n",
        "model.compile(optimizer=\"adam\",\n",
        "              loss='categorical_crossentropy',\n",
        "              metrics=['accuracy'])\n",
        "\n",
        "model.summary()"
      ],
      "metadata": {
        "colab": {
          "base_uri": "https://localhost:8080/"
        },
        "id": "bBQbtT2SZ0UF",
        "outputId": "2f4fa8d2-b6d4-40f6-de58-de718287585b"
      },
      "execution_count": 26,
      "outputs": [
        {
          "output_type": "stream",
          "name": "stdout",
          "text": [
            "Model: \"sequential\"\n",
            "_________________________________________________________________\n",
            " Layer (type)                Output Shape              Param #   \n",
            "=================================================================\n",
            " embedding (Embedding)       (None, 115, 50)           100050    \n",
            "                                                                 \n",
            " lstm (LSTM)                 (None, 115, 16)           4288      \n",
            "                                                                 \n",
            " dropout (Dropout)           (None, 115, 16)           0         \n",
            "                                                                 \n",
            " lstm_1 (LSTM)               (None, 115, 32)           6272      \n",
            "                                                                 \n",
            " dropout_1 (Dropout)         (None, 115, 32)           0         \n",
            "                                                                 \n",
            " lstm_2 (LSTM)               (None, 32)                8320      \n",
            "                                                                 \n",
            " dense (Dense)               (None, 64)                2112      \n",
            "                                                                 \n",
            " dropout_2 (Dropout)         (None, 64)                0         \n",
            "                                                                 \n",
            " dense_1 (Dense)             (None, 5)                 325       \n",
            "                                                                 \n",
            "=================================================================\n",
            "Total params: 121,367\n",
            "Trainable params: 121,367\n",
            "Non-trainable params: 0\n",
            "_________________________________________________________________\n"
          ]
        }
      ]
    },
    {
      "cell_type": "code",
      "source": [
        "from keras.utils.vis_utils import plot_model\n",
        "plot_model(model, to_file='model_plot.png', show_shapes=True, show_layer_names=True)"
      ],
      "metadata": {
        "colab": {
          "base_uri": "https://localhost:8080/",
          "height": 1000
        },
        "id": "wULQnz5vbfO1",
        "outputId": "4d7e9a16-87a6-4d8c-bafd-ff765857f2e0"
      },
      "execution_count": 27,
      "outputs": [
        {
          "output_type": "execute_result",
          "data": {
            "text/plain": [
              "<IPython.core.display.Image object>"
            ],
            "image/png": "[encoded data removed]"
          },
          "metadata": {},
          "execution_count": 27
        }
      ]
    },
    {
      "cell_type": "code",
      "source": [
        "hist = model.fit(X_train, Y_train, epochs=100, validation_split=0.2)"
      ],
      "metadata": {
        "colab": {
          "base_uri": "https://localhost:8080/"
        },
        "id": "0Mlm5959bmTd",
        "outputId": "a4142479-6ac1-4e38-c7c8-3ab1b0f6dc3a"
      },
      "execution_count": null,
      "outputs": [
        {
          "output_type": "stream",
          "name": "stdout",
          "text": [
            "Epoch 1/100\n",
            "397/397 [==============================] - 18s 20ms/step - loss: 1.4306 - accuracy: 0.5514 - val_loss: 1.1447 - val_accuracy: 0.5454\n",
            "Epoch 2/100\n",
            "397/397 [==============================] - 7s 17ms/step - loss: 1.0611 - accuracy: 0.6002 - val_loss: 1.3359 - val_accuracy: 0.5931\n",
            "Epoch 3/100\n",
            "397/397 [==============================] - 7s 17ms/step - loss: 1.0336 - accuracy: 0.6107 - val_loss: 1.0873 - val_accuracy: 0.5871\n",
            "Epoch 4/100\n",
            "397/397 [==============================] - 7s 17ms/step - loss: 0.9705 - accuracy: 0.6327 - val_loss: 1.1274 - val_accuracy: 0.5811\n",
            "Epoch 5/100\n",
            "397/397 [==============================] - 7s 17ms/step - loss: 0.9224 - accuracy: 0.6428 - val_loss: 1.1653 - val_accuracy: 0.5729\n",
            "Epoch 6/100\n",
            "397/397 [==============================] - 7s 17ms/step - loss: 0.9383 - accuracy: 0.6450 - val_loss: 1.2016 - val_accuracy: 0.6041\n",
            "Epoch 7/100\n",
            "397/397 [==============================] - 7s 17ms/step - loss: 0.9287 - accuracy: 0.6391 - val_loss: 1.2075 - val_accuracy: 0.5934\n",
            "Epoch 8/100\n",
            "397/397 [==============================] - 7s 17ms/step - loss: 0.9039 - accuracy: 0.6545 - val_loss: 1.2404 - val_accuracy: 0.6000\n",
            "Epoch 9/100\n",
            "397/397 [==============================] - 8s 19ms/step - loss: 0.8934 - accuracy: 0.6507 - val_loss: 1.2737 - val_accuracy: 0.5801\n",
            "Epoch 10/100\n",
            "397/397 [==============================] - 7s 17ms/step - loss: 0.8146 - accuracy: 0.6760 - val_loss: 1.2614 - val_accuracy: 0.5968\n",
            "Epoch 11/100\n",
            "397/397 [==============================] - 7s 17ms/step - loss: 0.8565 - accuracy: 0.6439 - val_loss: 1.3228 - val_accuracy: 0.5823\n",
            "Epoch 12/100\n",
            "397/397 [==============================] - 7s 18ms/step - loss: 0.8691 - accuracy: 0.6635 - val_loss: 1.2063 - val_accuracy: 0.5915\n",
            "Epoch 13/100\n",
            "397/397 [==============================] - 7s 17ms/step - loss: 0.7602 - accuracy: 0.6916 - val_loss: 1.3089 - val_accuracy: 0.5918\n",
            "Epoch 14/100\n",
            "397/397 [==============================] - 7s 17ms/step - loss: 0.7306 - accuracy: 0.7081 - val_loss: 1.4261 - val_accuracy: 0.5795\n",
            "Epoch 15/100\n",
            "397/397 [==============================] - 7s 17ms/step - loss: 0.7683 - accuracy: 0.7145 - val_loss: 1.6070 - val_accuracy: 0.3868\n",
            "Epoch 16/100\n",
            "397/397 [==============================] - 7s 17ms/step - loss: 0.7682 - accuracy: 0.6888 - val_loss: 1.4373 - val_accuracy: 0.5871\n",
            "Epoch 17/100\n",
            "397/397 [==============================] - 7s 17ms/step - loss: 0.6741 - accuracy: 0.7348 - val_loss: 1.7298 - val_accuracy: 0.5754\n",
            "Epoch 18/100\n",
            "397/397 [==============================] - 7s 17ms/step - loss: 0.6992 - accuracy: 0.7248 - val_loss: 1.3045 - val_accuracy: 0.5943\n",
            "Epoch 19/100\n",
            "397/397 [==============================] - 7s 17ms/step - loss: 0.7141 - accuracy: 0.7201 - val_loss: 1.5824 - val_accuracy: 0.5883\n",
            "Epoch 20/100\n",
            "397/397 [==============================] - 7s 17ms/step - loss: 0.7192 - accuracy: 0.7180 - val_loss: 1.7846 - val_accuracy: 0.6003\n",
            "Epoch 21/100\n",
            "397/397 [==============================] - 7s 17ms/step - loss: 0.8387 - accuracy: 0.7138 - val_loss: 1.3317 - val_accuracy: 0.5691\n",
            "Epoch 22/100\n",
            "397/397 [==============================] - 7s 17ms/step - loss: 0.6779 - accuracy: 0.7380 - val_loss: 1.4573 - val_accuracy: 0.5795\n",
            "Epoch 23/100\n",
            "397/397 [==============================] - 7s 17ms/step - loss: 0.6253 - accuracy: 0.7575 - val_loss: 1.5996 - val_accuracy: 0.5789\n",
            "Epoch 24/100\n",
            "397/397 [==============================] - 7s 17ms/step - loss: 0.6143 - accuracy: 0.7699 - val_loss: 1.7241 - val_accuracy: 0.5984\n",
            "Epoch 25/100\n",
            "397/397 [==============================] - 7s 17ms/step - loss: 0.6207 - accuracy: 0.7674 - val_loss: 1.8210 - val_accuracy: 0.5716\n",
            "Epoch 26/100\n",
            "397/397 [==============================] - 7s 17ms/step - loss: 0.5862 - accuracy: 0.7798 - val_loss: 1.8983 - val_accuracy: 0.5804\n",
            "Epoch 27/100\n",
            "397/397 [==============================] - 7s 17ms/step - loss: 0.5927 - accuracy: 0.7848 - val_loss: 1.7947 - val_accuracy: 0.5798\n",
            "Epoch 28/100\n",
            "397/397 [==============================] - 7s 17ms/step - loss: 0.6426 - accuracy: 0.7738 - val_loss: 1.7233 - val_accuracy: 0.5729\n",
            "Epoch 29/100\n",
            "397/397 [==============================] - 7s 17ms/step - loss: 0.6840 - accuracy: 0.7415 - val_loss: 1.7045 - val_accuracy: 0.5577\n",
            "Epoch 30/100\n",
            "397/397 [==============================] - 7s 17ms/step - loss: 0.5595 - accuracy: 0.7927 - val_loss: 1.8115 - val_accuracy: 0.5845\n",
            "Epoch 31/100\n",
            "397/397 [==============================] - 7s 17ms/step - loss: 0.5330 - accuracy: 0.8075 - val_loss: 2.0899 - val_accuracy: 0.5782\n",
            "Epoch 32/100\n",
            "397/397 [==============================] - 7s 18ms/step - loss: 0.5113 - accuracy: 0.8188 - val_loss: 2.0985 - val_accuracy: 0.5798\n",
            "Epoch 33/100\n",
            "397/397 [==============================] - 7s 17ms/step - loss: 0.4994 - accuracy: 0.8240 - val_loss: 2.2254 - val_accuracy: 0.5634\n",
            "Epoch 34/100\n",
            "397/397 [==============================] - 7s 17ms/step - loss: 0.4910 - accuracy: 0.8308 - val_loss: 2.3771 - val_accuracy: 0.5697\n",
            "Epoch 35/100\n",
            "397/397 [==============================] - 7s 17ms/step - loss: 0.5380 - accuracy: 0.8189 - val_loss: 2.1308 - val_accuracy: 0.5656\n",
            "Epoch 36/100\n",
            "397/397 [==============================] - 7s 17ms/step - loss: 0.5912 - accuracy: 0.8005 - val_loss: 1.9478 - val_accuracy: 0.5703\n",
            "Epoch 37/100\n",
            "397/397 [==============================] - 7s 17ms/step - loss: 0.5764 - accuracy: 0.8006 - val_loss: 1.7947 - val_accuracy: 0.5123\n",
            "Epoch 38/100\n",
            "397/397 [==============================] - 7s 17ms/step - loss: 0.5898 - accuracy: 0.7836 - val_loss: 1.9385 - val_accuracy: 0.5710\n",
            "Epoch 39/100\n",
            "397/397 [==============================] - 7s 17ms/step - loss: 0.5048 - accuracy: 0.8278 - val_loss: 2.0906 - val_accuracy: 0.5511\n",
            "Epoch 40/100\n",
            "397/397 [==============================] - 7s 17ms/step - loss: 0.4500 - accuracy: 0.8510 - val_loss: 2.3110 - val_accuracy: 0.5662\n",
            "Epoch 41/100\n",
            "397/397 [==============================] - 7s 17ms/step - loss: 0.5600 - accuracy: 0.8137 - val_loss: 1.9529 - val_accuracy: 0.5502\n",
            "Epoch 42/100\n",
            "397/397 [==============================] - 10s 26ms/step - loss: 0.4608 - accuracy: 0.8499 - val_loss: 2.2334 - val_accuracy: 0.5530\n",
            "Epoch 43/100\n",
            "397/397 [==============================] - 8s 21ms/step - loss: 0.5022 - accuracy: 0.8445 - val_loss: 1.9677 - val_accuracy: 0.5562\n",
            "Epoch 44/100\n",
            "397/397 [==============================] - 7s 17ms/step - loss: 0.4246 - accuracy: 0.8599 - val_loss: 2.2067 - val_accuracy: 0.5505\n",
            "Epoch 45/100\n",
            "397/397 [==============================] - 7s 17ms/step - loss: 0.4018 - accuracy: 0.8676 - val_loss: 2.4297 - val_accuracy: 0.5634\n",
            "Epoch 46/100\n",
            "397/397 [==============================] - 7s 17ms/step - loss: 0.7838 - accuracy: 0.7753 - val_loss: 1.9311 - val_accuracy: 0.5640\n",
            "Epoch 47/100\n",
            "397/397 [==============================] - 7s 17ms/step - loss: 0.5118 - accuracy: 0.8273 - val_loss: 2.1741 - val_accuracy: 0.5555\n",
            "Epoch 48/100\n",
            "397/397 [==============================] - 7s 17ms/step - loss: 0.4488 - accuracy: 0.8563 - val_loss: 2.4394 - val_accuracy: 0.5606\n",
            "Epoch 49/100\n",
            "397/397 [==============================] - 7s 17ms/step - loss: 0.5355 - accuracy: 0.8329 - val_loss: 2.2369 - val_accuracy: 0.5552\n",
            "Epoch 50/100\n",
            "397/397 [==============================] - 7s 17ms/step - loss: 0.5653 - accuracy: 0.8034 - val_loss: 1.8411 - val_accuracy: 0.5644\n",
            "Epoch 51/100\n",
            "397/397 [==============================] - 7s 17ms/step - loss: 0.4342 - accuracy: 0.8658 - val_loss: 2.0194 - val_accuracy: 0.5685\n",
            "Epoch 52/100\n",
            "397/397 [==============================] - 7s 19ms/step - loss: 0.4000 - accuracy: 0.8759 - val_loss: 2.3987 - val_accuracy: 0.5565\n",
            "Epoch 53/100\n",
            "397/397 [==============================] - 7s 17ms/step - loss: 0.4277 - accuracy: 0.8672 - val_loss: 2.1715 - val_accuracy: 0.5530\n",
            "Epoch 54/100\n",
            "397/397 [==============================] - 7s 17ms/step - loss: 0.5391 - accuracy: 0.8497 - val_loss: 2.0342 - val_accuracy: 0.5562\n",
            "Epoch 55/100\n",
            "397/397 [==============================] - 8s 19ms/step - loss: 0.4699 - accuracy: 0.8482 - val_loss: 2.0447 - val_accuracy: 0.5647\n",
            "Epoch 56/100\n",
            "397/397 [==============================] - 7s 17ms/step - loss: 0.3727 - accuracy: 0.8823 - val_loss: 2.2699 - val_accuracy: 0.5603\n",
            "Epoch 57/100\n",
            "397/397 [==============================] - 7s 17ms/step - loss: 0.3504 - accuracy: 0.8938 - val_loss: 2.2559 - val_accuracy: 0.5574\n",
            "Epoch 58/100\n",
            "397/397 [==============================] - 7s 17ms/step - loss: 0.3428 - accuracy: 0.8948 - val_loss: 2.3813 - val_accuracy: 0.5502\n",
            "Epoch 59/100\n",
            "397/397 [==============================] - 7s 17ms/step - loss: 0.3698 - accuracy: 0.8840 - val_loss: 2.2898 - val_accuracy: 0.5527\n",
            "Epoch 60/100\n",
            "397/397 [==============================] - 7s 17ms/step - loss: 0.3319 - accuracy: 0.9043 - val_loss: 2.5099 - val_accuracy: 0.5404\n",
            "Epoch 61/100\n",
            "397/397 [==============================] - 7s 17ms/step - loss: 0.3248 - accuracy: 0.9026 - val_loss: 2.4932 - val_accuracy: 0.5571\n",
            "Epoch 62/100\n",
            "397/397 [==============================] - 7s 17ms/step - loss: 0.3199 - accuracy: 0.9046 - val_loss: 2.5379 - val_accuracy: 0.5558\n",
            "Epoch 63/100\n",
            "397/397 [==============================] - 7s 17ms/step - loss: 0.3376 - accuracy: 0.9005 - val_loss: 2.4243 - val_accuracy: 0.5479\n",
            "Epoch 64/100\n",
            "397/397 [==============================] - 7s 17ms/step - loss: 0.4427 - accuracy: 0.8781 - val_loss: 2.4122 - val_accuracy: 0.5407\n",
            "Epoch 65/100\n",
            "397/397 [==============================] - 7s 17ms/step - loss: 0.3617 - accuracy: 0.8919 - val_loss: 2.4812 - val_accuracy: 0.5502\n",
            "Epoch 66/100\n",
            "397/397 [==============================] - 7s 17ms/step - loss: 0.9772 - accuracy: 0.5859 - val_loss: 1.8269 - val_accuracy: 0.4517\n",
            "Epoch 67/100\n",
            "397/397 [==============================] - 7s 17ms/step - loss: 0.9713 - accuracy: 0.5924 - val_loss: 1.8319 - val_accuracy: 0.5615\n",
            "Epoch 68/100\n",
            "397/397 [==============================] - 7s 17ms/step - loss: 0.8678 - accuracy: 0.6472 - val_loss: 1.9308 - val_accuracy: 0.5593\n",
            "Epoch 69/100\n",
            "397/397 [==============================] - 7s 17ms/step - loss: 0.8032 - accuracy: 0.6718 - val_loss: 2.0281 - val_accuracy: 0.5672\n",
            "Epoch 70/100\n",
            "397/397 [==============================] - 7s 17ms/step - loss: 0.7520 - accuracy: 0.6870 - val_loss: 2.2089 - val_accuracy: 0.5688\n",
            "Epoch 71/100\n",
            "397/397 [==============================] - 7s 17ms/step - loss: 0.7128 - accuracy: 0.6959 - val_loss: 1.9946 - val_accuracy: 0.5691\n",
            "Epoch 72/100\n",
            "397/397 [==============================] - 7s 19ms/step - loss: 0.6651 - accuracy: 0.7084 - val_loss: 2.0945 - val_accuracy: 0.5716\n",
            "Epoch 73/100\n",
            "397/397 [==============================] - 7s 17ms/step - loss: 0.6265 - accuracy: 0.7254 - val_loss: 2.3638 - val_accuracy: 0.5568\n",
            "Epoch 74/100\n",
            "397/397 [==============================] - 7s 17ms/step - loss: 0.5726 - accuracy: 0.7687 - val_loss: 2.2164 - val_accuracy: 0.5448\n",
            "Epoch 75/100\n",
            "397/397 [==============================] - 7s 17ms/step - loss: 0.5229 - accuracy: 0.8069 - val_loss: 2.3546 - val_accuracy: 0.5423\n",
            "Epoch 76/100\n",
            "397/397 [==============================] - 7s 17ms/step - loss: 0.4848 - accuracy: 0.8343 - val_loss: 2.4760 - val_accuracy: 0.5521\n",
            "Epoch 77/100\n",
            "397/397 [==============================] - 7s 17ms/step - loss: 0.4355 - accuracy: 0.8576 - val_loss: 2.6328 - val_accuracy: 0.5479\n",
            "Epoch 78/100\n",
            "397/397 [==============================] - 7s 17ms/step - loss: 0.4111 - accuracy: 0.8738 - val_loss: 2.9973 - val_accuracy: 0.5360\n",
            "Epoch 79/100\n",
            "397/397 [==============================] - 7s 17ms/step - loss: 0.4269 - accuracy: 0.8756 - val_loss: 2.9450 - val_accuracy: 0.5486\n",
            "Epoch 80/100\n",
            "397/397 [==============================] - 7s 17ms/step - loss: 0.3986 - accuracy: 0.8862 - val_loss: 2.6534 - val_accuracy: 0.5521\n",
            "Epoch 81/100\n",
            "397/397 [==============================] - 7s 17ms/step - loss: 0.4235 - accuracy: 0.8797 - val_loss: 2.4872 - val_accuracy: 0.5347\n",
            "Epoch 82/100\n",
            "397/397 [==============================] - 7s 17ms/step - loss: 0.3948 - accuracy: 0.8848 - val_loss: 2.7377 - val_accuracy: 0.5549\n",
            "Epoch 83/100\n",
            "397/397 [==============================] - 7s 17ms/step - loss: 0.3479 - accuracy: 0.9009 - val_loss: 2.7106 - val_accuracy: 0.5511\n",
            "Epoch 84/100\n",
            "397/397 [==============================] - 7s 17ms/step - loss: 0.3272 - accuracy: 0.9067 - val_loss: 3.1497 - val_accuracy: 0.5486\n",
            "Epoch 85/100\n",
            "397/397 [==============================] - 7s 17ms/step - loss: 0.3255 - accuracy: 0.9073 - val_loss: 2.8768 - val_accuracy: 0.5495\n",
            "Epoch 86/100\n",
            "397/397 [==============================] - 7s 17ms/step - loss: 0.5847 - accuracy: 0.8083 - val_loss: 2.2795 - val_accuracy: 0.5372\n",
            "Epoch 87/100\n",
            "397/397 [==============================] - 7s 17ms/step - loss: 0.3858 - accuracy: 0.8857 - val_loss: 2.4690 - val_accuracy: 0.5445\n",
            "Epoch 88/100\n",
            "397/397 [==============================] - 7s 17ms/step - loss: 0.3933 - accuracy: 0.8763 - val_loss: 2.6126 - val_accuracy: 0.5514\n",
            "Epoch 89/100\n",
            "397/397 [==============================] - 7s 17ms/step - loss: 0.3337 - accuracy: 0.9050 - val_loss: 2.6775 - val_accuracy: 0.5445\n",
            "Epoch 90/100\n",
            "397/397 [==============================] - 7s 17ms/step - loss: 0.3156 - accuracy: 0.9081 - val_loss: 2.5914 - val_accuracy: 0.5527\n",
            "Epoch 91/100\n",
            "397/397 [==============================] - 7s 17ms/step - loss: 0.2908 - accuracy: 0.9152 - val_loss: 2.8767 - val_accuracy: 0.5397\n",
            "Epoch 92/100\n",
            "397/397 [==============================] - 7s 19ms/step - loss: 0.2814 - accuracy: 0.9212 - val_loss: 2.9658 - val_accuracy: 0.5495\n",
            "Epoch 93/100\n",
            "397/397 [==============================] - 7s 17ms/step - loss: 0.2928 - accuracy: 0.9159 - val_loss: 3.0876 - val_accuracy: 0.5388\n",
            "Epoch 94/100\n",
            "397/397 [==============================] - 7s 17ms/step - loss: 0.3086 - accuracy: 0.9195 - val_loss: 3.3012 - val_accuracy: 0.5420\n",
            "Epoch 95/100\n",
            "397/397 [==============================] - 7s 17ms/step - loss: 0.3031 - accuracy: 0.9180 - val_loss: 3.3343 - val_accuracy: 0.5448\n",
            "Epoch 96/100\n",
            "397/397 [==============================] - 7s 17ms/step - loss: 0.3147 - accuracy: 0.9194 - val_loss: 3.2427 - val_accuracy: 0.5530\n",
            "Epoch 97/100\n",
            "397/397 [==============================] - 7s 17ms/step - loss: 0.3103 - accuracy: 0.9164 - val_loss: 3.0250 - val_accuracy: 0.5410\n",
            "Epoch 98/100\n",
            "397/397 [==============================] - 7s 17ms/step - loss: 0.4477 - accuracy: 0.9060 - val_loss: 2.5226 - val_accuracy: 0.5363\n",
            "Epoch 99/100\n",
            "397/397 [==============================] - 7s 17ms/step - loss: 0.3456 - accuracy: 0.9056 - val_loss: 2.8128 - val_accuracy: 0.5426\n",
            "Epoch 100/100\n",
            "397/397 [==============================] - 7s 17ms/step - loss: 0.3034 - accuracy: 0.9230 - val_loss: 2.8716 - val_accuracy: 0.5413\n"
          ]
        }
      ]
    },
    {
      "cell_type": "code",
      "source": [
        "import matplotlib.pyplot as plt\n",
        "import seaborn as sns\n",
        "epoch_count = range(1, len(hist.history['accuracy']) + 1)\n",
        "sns.lineplot(x=epoch_count,  y=hist.history['accuracy'], label='Train')\n",
        "sns.lineplot(x=epoch_count,  y=hist.history['val_accuracy'], label='Valid')\n",
        "plt.show()"
      ],
      "metadata": {
        "colab": {
          "base_uri": "https://localhost:8080/",
          "height": 265
        },
        "id": "JnxRBdXLe4CO",
        "outputId": "736e5206-c443-48fb-c107-eba66817c5a4"
      },
      "execution_count": null,
      "outputs": [
        {
          "output_type": "display_data",
          "data": {
            "text/plain": [
              "<Figure size 432x288 with 1 Axes>"
            ],
            "image/png": "[encoded data removed]"
          },
          "metadata": {
            "needs_background": "light"
          }
        }
      ]
    },
    {
      "cell_type": "code",
      "source": [
        "#Procedo a hacer un resampling de la salida para corregir desbalanceos\n",
        "from imblearn.over_sampling import RandomOverSampler"
      ],
      "metadata": {
        "id": "rSgX5NRDmIJJ"
      },
      "execution_count": 28,
      "outputs": []
    },
    {
      "cell_type": "code",
      "source": [
        "oversampler = RandomOverSampler(sampling_strategy=\"all\")\n",
        "X_new, Y_new = oversampler.fit_resample(X, Y)"
      ],
      "metadata": {
        "id": "tR2m1hFCT_76"
      },
      "execution_count": 29,
      "outputs": []
    },
    {
      "cell_type": "code",
      "source": [
        "hist2 = model.fit(X_new, Y_new, epochs=100, validation_split=0.2)"
      ],
      "metadata": {
        "colab": {
          "base_uri": "https://localhost:8080/"
        },
        "id": "YBjyPlzMm2gM",
        "outputId": "66d4e569-39bb-4335-f720-3a45b5d7fac8"
      },
      "execution_count": 30,
      "outputs": [
        {
          "output_type": "stream",
          "name": "stdout",
          "text": [
            "Epoch 1/100\n",
            "1568/1568 [==============================] - 46s 23ms/step - loss: 1.3845 - accuracy: 0.4647 - val_loss: 1.8915 - val_accuracy: 0.0000e+00\n",
            "Epoch 2/100\n",
            "1568/1568 [==============================] - 38s 24ms/step - loss: 1.2283 - accuracy: 0.5422 - val_loss: 2.1140 - val_accuracy: 0.0000e+00\n",
            "Epoch 3/100\n",
            "1568/1568 [==============================] - 34s 22ms/step - loss: 1.1093 - accuracy: 0.5897 - val_loss: 1.8610 - val_accuracy: 7.9745e-05\n",
            "Epoch 4/100\n",
            "1568/1568 [==============================] - 34s 22ms/step - loss: 0.9416 - accuracy: 0.6627 - val_loss: 1.7354 - val_accuracy: 0.0062\n",
            "Epoch 5/100\n",
            "1568/1568 [==============================] - 35s 22ms/step - loss: 1.0497 - accuracy: 0.6102 - val_loss: 1.7570 - val_accuracy: 0.0590\n",
            "Epoch 6/100\n",
            "1568/1568 [==============================] - 33s 21ms/step - loss: 0.7967 - accuracy: 0.7239 - val_loss: 1.6390 - val_accuracy: 0.0809\n",
            "Epoch 7/100\n",
            "1568/1568 [==============================] - 38s 24ms/step - loss: 0.7532 - accuracy: 0.7492 - val_loss: 1.6632 - val_accuracy: 0.0924\n",
            "Epoch 8/100\n",
            "1568/1568 [==============================] - 36s 23ms/step - loss: 0.7417 - accuracy: 0.7443 - val_loss: 1.7957 - val_accuracy: 0.1125\n",
            "Epoch 9/100\n",
            "1568/1568 [==============================] - 34s 22ms/step - loss: 0.6561 - accuracy: 0.7781 - val_loss: 1.9934 - val_accuracy: 0.1018\n",
            "Epoch 10/100\n",
            "1568/1568 [==============================] - 35s 22ms/step - loss: 0.6366 - accuracy: 0.7887 - val_loss: 1.5827 - val_accuracy: 0.2047\n",
            "Epoch 11/100\n",
            "1568/1568 [==============================] - 37s 24ms/step - loss: 0.7679 - accuracy: 0.7474 - val_loss: 1.4587 - val_accuracy: 0.2428\n",
            "Epoch 12/100\n",
            "1568/1568 [==============================] - 35s 22ms/step - loss: 0.7007 - accuracy: 0.7746 - val_loss: 1.4209 - val_accuracy: 0.2638\n",
            "Epoch 13/100\n",
            "1568/1568 [==============================] - 27s 17ms/step - loss: 0.5419 - accuracy: 0.8288 - val_loss: 1.3622 - val_accuracy: 0.2687\n",
            "Epoch 14/100\n",
            "1568/1568 [==============================] - 25s 16ms/step - loss: 0.5574 - accuracy: 0.8290 - val_loss: 1.2142 - val_accuracy: 0.3080\n",
            "Epoch 15/100\n",
            "1568/1568 [==============================] - 25s 16ms/step - loss: 0.4755 - accuracy: 0.8488 - val_loss: 1.2319 - val_accuracy: 0.3409\n",
            "Epoch 16/100\n",
            "1568/1568 [==============================] - 25s 16ms/step - loss: 0.4716 - accuracy: 0.8540 - val_loss: 1.1963 - val_accuracy: 0.3829\n",
            "Epoch 17/100\n",
            "1568/1568 [==============================] - 25s 16ms/step - loss: 0.4604 - accuracy: 0.8543 - val_loss: 1.3033 - val_accuracy: 0.3179\n",
            "Epoch 18/100\n",
            "1568/1568 [==============================] - 25s 16ms/step - loss: 0.4996 - accuracy: 0.8422 - val_loss: 1.2383 - val_accuracy: 0.3816\n",
            "Epoch 19/100\n",
            "1568/1568 [==============================] - 26s 16ms/step - loss: 0.4129 - accuracy: 0.8679 - val_loss: 1.2912 - val_accuracy: 0.3982\n",
            "Epoch 20/100\n",
            "1568/1568 [==============================] - 25s 16ms/step - loss: 0.3925 - accuracy: 0.8754 - val_loss: 1.2574 - val_accuracy: 0.4069\n",
            "Epoch 21/100\n",
            "1568/1568 [==============================] - 25s 16ms/step - loss: 0.4310 - accuracy: 0.8690 - val_loss: 1.1334 - val_accuracy: 0.4978\n",
            "Epoch 22/100\n",
            "1568/1568 [==============================] - 25s 16ms/step - loss: 0.4317 - accuracy: 0.8644 - val_loss: 1.0780 - val_accuracy: 0.5021\n",
            "Epoch 23/100\n",
            "1568/1568 [==============================] - 25s 16ms/step - loss: 0.3615 - accuracy: 0.8874 - val_loss: 1.0978 - val_accuracy: 0.5227\n",
            "Epoch 24/100\n",
            "1568/1568 [==============================] - 26s 17ms/step - loss: 0.3694 - accuracy: 0.8883 - val_loss: 1.1315 - val_accuracy: 0.4874\n",
            "Epoch 25/100\n",
            "1568/1568 [==============================] - 26s 16ms/step - loss: 0.3957 - accuracy: 0.8824 - val_loss: 1.0871 - val_accuracy: 0.5122\n",
            "Epoch 26/100\n",
            "1568/1568 [==============================] - 25s 16ms/step - loss: 0.4099 - accuracy: 0.8867 - val_loss: 1.9090 - val_accuracy: 0.3676\n",
            "Epoch 27/100\n",
            "1568/1568 [==============================] - 25s 16ms/step - loss: 0.5365 - accuracy: 0.8519 - val_loss: 1.1208 - val_accuracy: 0.4772\n",
            "Epoch 28/100\n",
            "1568/1568 [==============================] - 25s 16ms/step - loss: 0.3529 - accuracy: 0.8920 - val_loss: 0.9838 - val_accuracy: 0.5827\n",
            "Epoch 29/100\n",
            "1568/1568 [==============================] - 25s 16ms/step - loss: 0.3582 - accuracy: 0.8927 - val_loss: 0.9693 - val_accuracy: 0.5933\n",
            "Epoch 30/100\n",
            "1568/1568 [==============================] - 25s 16ms/step - loss: 0.4333 - accuracy: 0.8793 - val_loss: 0.9918 - val_accuracy: 0.5718\n",
            "Epoch 31/100\n",
            "1568/1568 [==============================] - 25s 16ms/step - loss: 0.3050 - accuracy: 0.9055 - val_loss: 0.8626 - val_accuracy: 0.6678\n",
            "Epoch 32/100\n",
            "1568/1568 [==============================] - 25s 16ms/step - loss: 0.3857 - accuracy: 0.8882 - val_loss: 1.2737 - val_accuracy: 0.4297\n",
            "Epoch 33/100\n",
            "1568/1568 [==============================] - 25s 16ms/step - loss: 0.3657 - accuracy: 0.8898 - val_loss: 1.0520 - val_accuracy: 0.6006\n",
            "Epoch 34/100\n",
            "1568/1568 [==============================] - 25s 16ms/step - loss: 0.3356 - accuracy: 0.8999 - val_loss: 0.9444 - val_accuracy: 0.6262\n",
            "Epoch 35/100\n",
            "1568/1568 [==============================] - 25s 16ms/step - loss: 0.2972 - accuracy: 0.9099 - val_loss: 0.8124 - val_accuracy: 0.6783\n",
            "Epoch 36/100\n",
            "1568/1568 [==============================] - 25s 16ms/step - loss: 0.2737 - accuracy: 0.9200 - val_loss: 0.8121 - val_accuracy: 0.6992\n",
            "Epoch 37/100\n",
            "1568/1568 [==============================] - 25s 16ms/step - loss: 0.4533 - accuracy: 0.8706 - val_loss: 1.0233 - val_accuracy: 0.6173\n",
            "Epoch 38/100\n",
            "1568/1568 [==============================] - 25s 16ms/step - loss: 0.3105 - accuracy: 0.9109 - val_loss: 0.7957 - val_accuracy: 0.7240\n",
            "Epoch 39/100\n",
            "1568/1568 [==============================] - 25s 16ms/step - loss: 0.2676 - accuracy: 0.9222 - val_loss: 0.7943 - val_accuracy: 0.7158\n",
            "Epoch 40/100\n",
            "1568/1568 [==============================] - 25s 16ms/step - loss: 0.3704 - accuracy: 0.9004 - val_loss: 1.0026 - val_accuracy: 0.6238\n",
            "Epoch 41/100\n",
            "1568/1568 [==============================] - 25s 16ms/step - loss: 0.3257 - accuracy: 0.9115 - val_loss: 0.8228 - val_accuracy: 0.7012\n",
            "Epoch 42/100\n",
            "1568/1568 [==============================] - 25s 16ms/step - loss: 0.2548 - accuracy: 0.9273 - val_loss: 0.7436 - val_accuracy: 0.7282\n",
            "Epoch 43/100\n",
            "1568/1568 [==============================] - 25s 16ms/step - loss: 0.2717 - accuracy: 0.9254 - val_loss: 0.7642 - val_accuracy: 0.7400\n",
            "Epoch 44/100\n",
            "1568/1568 [==============================] - 25s 16ms/step - loss: 0.2671 - accuracy: 0.9269 - val_loss: 0.7528 - val_accuracy: 0.7537\n",
            "Epoch 45/100\n",
            "1568/1568 [==============================] - 25s 16ms/step - loss: 0.3325 - accuracy: 0.9194 - val_loss: 0.6178 - val_accuracy: 0.8010\n",
            "Epoch 46/100\n",
            "1568/1568 [==============================] - 25s 16ms/step - loss: 0.2425 - accuracy: 0.9327 - val_loss: 0.6775 - val_accuracy: 0.8033\n",
            "Epoch 47/100\n",
            "1568/1568 [==============================] - 25s 16ms/step - loss: 0.3720 - accuracy: 0.9030 - val_loss: 0.8188 - val_accuracy: 0.7199\n",
            "Epoch 48/100\n",
            "1568/1568 [==============================] - 25s 16ms/step - loss: 0.2701 - accuracy: 0.9252 - val_loss: 0.7110 - val_accuracy: 0.7589\n",
            "Epoch 49/100\n",
            "1568/1568 [==============================] - 25s 16ms/step - loss: 0.2196 - accuracy: 0.9410 - val_loss: 0.6450 - val_accuracy: 0.8035\n",
            "Epoch 50/100\n",
            "1568/1568 [==============================] - 25s 16ms/step - loss: 0.2321 - accuracy: 0.9394 - val_loss: 0.6431 - val_accuracy: 0.7937\n",
            "Epoch 51/100\n",
            "1568/1568 [==============================] - 25s 16ms/step - loss: 0.2292 - accuracy: 0.9397 - val_loss: 0.5665 - val_accuracy: 0.8200\n",
            "Epoch 52/100\n",
            "1568/1568 [==============================] - 25s 16ms/step - loss: 0.2410 - accuracy: 0.9399 - val_loss: 0.6049 - val_accuracy: 0.8007\n",
            "Epoch 53/100\n",
            "1568/1568 [==============================] - 25s 16ms/step - loss: 0.2099 - accuracy: 0.9481 - val_loss: 0.6297 - val_accuracy: 0.7896\n",
            "Epoch 54/100\n",
            "1568/1568 [==============================] - 25s 16ms/step - loss: 0.2280 - accuracy: 0.9442 - val_loss: 0.5635 - val_accuracy: 0.8162\n",
            "Epoch 55/100\n",
            "1568/1568 [==============================] - 25s 16ms/step - loss: 0.3836 - accuracy: 0.9147 - val_loss: 0.7518 - val_accuracy: 0.7621\n",
            "Epoch 56/100\n",
            "1568/1568 [==============================] - 25s 16ms/step - loss: 0.3546 - accuracy: 0.9174 - val_loss: 0.6328 - val_accuracy: 0.8022\n",
            "Epoch 57/100\n",
            "1568/1568 [==============================] - 25s 16ms/step - loss: 0.2106 - accuracy: 0.9480 - val_loss: 0.5641 - val_accuracy: 0.8364\n",
            "Epoch 58/100\n",
            "1568/1568 [==============================] - 25s 16ms/step - loss: 0.1885 - accuracy: 0.9551 - val_loss: 0.5068 - val_accuracy: 0.8554\n",
            "Epoch 59/100\n",
            "1568/1568 [==============================] - 25s 16ms/step - loss: 0.2238 - accuracy: 0.9441 - val_loss: 0.4988 - val_accuracy: 0.8494\n",
            "Epoch 60/100\n",
            "1568/1568 [==============================] - 25s 16ms/step - loss: 0.2329 - accuracy: 0.9488 - val_loss: 0.4931 - val_accuracy: 0.8602\n",
            "Epoch 61/100\n",
            "1568/1568 [==============================] - 25s 16ms/step - loss: 0.1947 - accuracy: 0.9558 - val_loss: 0.4981 - val_accuracy: 0.8588\n",
            "Epoch 62/100\n",
            "1568/1568 [==============================] - 25s 16ms/step - loss: 0.2234 - accuracy: 0.9492 - val_loss: 0.5292 - val_accuracy: 0.8473\n",
            "Epoch 63/100\n",
            "1568/1568 [==============================] - 25s 16ms/step - loss: 0.1859 - accuracy: 0.9600 - val_loss: 0.5558 - val_accuracy: 0.8466\n",
            "Epoch 64/100\n",
            "1568/1568 [==============================] - 25s 16ms/step - loss: 0.3369 - accuracy: 0.9220 - val_loss: 1.0273 - val_accuracy: 0.6692\n",
            "Epoch 65/100\n",
            "1568/1568 [==============================] - 25s 16ms/step - loss: 0.2456 - accuracy: 0.9422 - val_loss: 0.5217 - val_accuracy: 0.8545\n",
            "Epoch 66/100\n",
            "1568/1568 [==============================] - 25s 16ms/step - loss: 0.1845 - accuracy: 0.9581 - val_loss: 0.4514 - val_accuracy: 0.8757\n",
            "Epoch 67/100\n",
            "1568/1568 [==============================] - 25s 16ms/step - loss: 0.6617 - accuracy: 0.8985 - val_loss: 0.7409 - val_accuracy: 0.7978\n",
            "Epoch 68/100\n",
            "1568/1568 [==============================] - 25s 16ms/step - loss: 0.2773 - accuracy: 0.9443 - val_loss: 0.5590 - val_accuracy: 0.8589\n",
            "Epoch 69/100\n",
            "1568/1568 [==============================] - 25s 16ms/step - loss: 0.2117 - accuracy: 0.9566 - val_loss: 0.4746 - val_accuracy: 0.8702\n",
            "Epoch 70/100\n",
            "1568/1568 [==============================] - 25s 16ms/step - loss: 0.1929 - accuracy: 0.9626 - val_loss: 0.4534 - val_accuracy: 0.8840\n",
            "Epoch 71/100\n",
            "1568/1568 [==============================] - 25s 16ms/step - loss: 0.2024 - accuracy: 0.9608 - val_loss: 0.5730 - val_accuracy: 0.8634\n",
            "Epoch 72/100\n",
            "1568/1568 [==============================] - 25s 16ms/step - loss: 0.2666 - accuracy: 0.9504 - val_loss: 0.7494 - val_accuracy: 0.8058\n",
            "Epoch 73/100\n",
            "1568/1568 [==============================] - 26s 16ms/step - loss: 0.2526 - accuracy: 0.9492 - val_loss: 0.5133 - val_accuracy: 0.8691\n",
            "Epoch 74/100\n",
            "1568/1568 [==============================] - 25s 16ms/step - loss: 0.1769 - accuracy: 0.9643 - val_loss: 0.4062 - val_accuracy: 0.8939\n",
            "Epoch 75/100\n",
            "1568/1568 [==============================] - 25s 16ms/step - loss: 0.1757 - accuracy: 0.9632 - val_loss: 0.4586 - val_accuracy: 0.8919\n",
            "Epoch 76/100\n",
            "1568/1568 [==============================] - 25s 16ms/step - loss: 0.2983 - accuracy: 0.9510 - val_loss: 0.7377 - val_accuracy: 0.8479\n",
            "Epoch 77/100\n",
            "1568/1568 [==============================] - 25s 16ms/step - loss: 0.2609 - accuracy: 0.9560 - val_loss: 0.5718 - val_accuracy: 0.8512\n",
            "Epoch 78/100\n",
            "1568/1568 [==============================] - 25s 16ms/step - loss: 0.2138 - accuracy: 0.9525 - val_loss: 0.5141 - val_accuracy: 0.8621\n",
            "Epoch 79/100\n",
            "1568/1568 [==============================] - 25s 16ms/step - loss: 0.2023 - accuracy: 0.9563 - val_loss: 0.4417 - val_accuracy: 0.8871\n",
            "Epoch 80/100\n",
            "1568/1568 [==============================] - 25s 16ms/step - loss: 0.1807 - accuracy: 0.9621 - val_loss: 0.3988 - val_accuracy: 0.8947\n",
            "Epoch 81/100\n",
            "1568/1568 [==============================] - 26s 16ms/step - loss: 0.1597 - accuracy: 0.9695 - val_loss: 0.3921 - val_accuracy: 0.9070\n",
            "Epoch 82/100\n",
            "1568/1568 [==============================] - 26s 16ms/step - loss: 0.3216 - accuracy: 0.9386 - val_loss: 0.4847 - val_accuracy: 0.8680\n",
            "Epoch 83/100\n",
            "1568/1568 [==============================] - 25s 16ms/step - loss: 0.1823 - accuracy: 0.9598 - val_loss: 0.6916 - val_accuracy: 0.7171\n",
            "Epoch 84/100\n",
            "1568/1568 [==============================] - 25s 16ms/step - loss: 0.2244 - accuracy: 0.9524 - val_loss: 0.4805 - val_accuracy: 0.8848\n",
            "Epoch 85/100\n",
            "1568/1568 [==============================] - 25s 16ms/step - loss: 0.1834 - accuracy: 0.9638 - val_loss: 0.4205 - val_accuracy: 0.8963\n",
            "Epoch 86/100\n",
            "1568/1568 [==============================] - 25s 16ms/step - loss: 0.2102 - accuracy: 0.9626 - val_loss: 1.1629 - val_accuracy: 0.8007\n",
            "Epoch 87/100\n",
            "1568/1568 [==============================] - 25s 16ms/step - loss: 0.2136 - accuracy: 0.9596 - val_loss: 0.3961 - val_accuracy: 0.9062\n",
            "Epoch 88/100\n",
            "1568/1568 [==============================] - 25s 16ms/step - loss: 0.1937 - accuracy: 0.9656 - val_loss: 0.7088 - val_accuracy: 0.8243\n",
            "Epoch 89/100\n",
            "1568/1568 [==============================] - 25s 16ms/step - loss: 0.2278 - accuracy: 0.9559 - val_loss: 0.4198 - val_accuracy: 0.8883\n",
            "Epoch 90/100\n",
            "1568/1568 [==============================] - 26s 16ms/step - loss: 0.1705 - accuracy: 0.9685 - val_loss: 0.3968 - val_accuracy: 0.8941\n",
            "Epoch 91/100\n",
            "1568/1568 [==============================] - 26s 16ms/step - loss: 0.1499 - accuracy: 0.9714 - val_loss: 0.3760 - val_accuracy: 0.9134\n",
            "Epoch 92/100\n",
            "1568/1568 [==============================] - 25s 16ms/step - loss: 0.1731 - accuracy: 0.9633 - val_loss: 0.4144 - val_accuracy: 0.9085\n",
            "Epoch 93/100\n",
            "1568/1568 [==============================] - 25s 16ms/step - loss: 0.1467 - accuracy: 0.9735 - val_loss: 0.3462 - val_accuracy: 0.9253\n",
            "Epoch 94/100\n",
            "1568/1568 [==============================] - 25s 16ms/step - loss: 0.1970 - accuracy: 0.9657 - val_loss: 0.7757 - val_accuracy: 0.7876\n",
            "Epoch 95/100\n",
            "1568/1568 [==============================] - 25s 16ms/step - loss: 0.1733 - accuracy: 0.9657 - val_loss: 0.3386 - val_accuracy: 0.9328\n",
            "Epoch 96/100\n",
            "1568/1568 [==============================] - 25s 16ms/step - loss: 0.1422 - accuracy: 0.9748 - val_loss: 0.3281 - val_accuracy: 0.9330\n",
            "Epoch 97/100\n",
            "1568/1568 [==============================] - 25s 16ms/step - loss: 0.1609 - accuracy: 0.9723 - val_loss: 0.3530 - val_accuracy: 0.9159\n",
            "Epoch 98/100\n",
            "1568/1568 [==============================] - 25s 16ms/step - loss: 0.1698 - accuracy: 0.9707 - val_loss: 0.4176 - val_accuracy: 0.9120\n",
            "Epoch 99/100\n",
            "1568/1568 [==============================] - 25s 16ms/step - loss: 0.1653 - accuracy: 0.9709 - val_loss: 0.3433 - val_accuracy: 0.9283\n",
            "Epoch 100/100\n",
            "1568/1568 [==============================] - 25s 16ms/step - loss: 0.2697 - accuracy: 0.9521 - val_loss: 0.4337 - val_accuracy: 0.8998\n"
          ]
        }
      ]
    },
    {
      "cell_type": "code",
      "source": [
        "import matplotlib.pyplot as plt\n",
        "import seaborn as sns\n",
        "epoch_count = range(1, len(hist2.history['accuracy']) + 1)\n",
        "sns.lineplot(x=epoch_count,  y=hist2.history['accuracy'], label='Train')\n",
        "sns.lineplot(x=epoch_count,  y=hist2.history['val_accuracy'], label='Valid')\n",
        "plt.show()"
      ],
      "metadata": {
        "colab": {
          "base_uri": "https://localhost:8080/",
          "height": 265
        },
        "id": "D8q3XvlzuerP",
        "outputId": "b10a4510-de02-4b2e-a31c-5b84be181ad6"
      },
      "execution_count": 31,
      "outputs": [
        {
          "output_type": "display_data",
          "data": {
            "text/plain": [
              "<Figure size 432x288 with 1 Axes>"
            ],
            "image/png": "[encoded data removed]"
          },
          "metadata": {
            "needs_background": "light"
          }
        }
      ]
    },
    {
      "cell_type": "markdown",
      "source": [
        "###Pruebo entrenar con embedings Fasttext + LSTM"
      ],
      "metadata": {
        "id": "2ajJkt8nvs5Q"
      }
    },
    {
      "cell_type": "code",
      "source": [
        "# Descargar los embeddings desde un gogle drive (es la forma más rápida)\n",
        "# NOTA: No hay garantía de que estos links perduren, en caso de que no estén\n",
        "# disponibles descargar de la página oficial como se explica en el siguiente bloque\n",
        "import os\n",
        "import gdown\n",
        "if os.access('fasttext.pkl', os.F_OK) is False:\n",
        "    url = 'https://drive.google.com/uc?id=1KU5qmAYh3LATMvVgocFDfW-PK3prm1WU&export=download'\n",
        "    output = 'fasttext.pkl'\n",
        "    gdown.download(url, output, quiet=False)\n",
        "else:\n",
        "    print(\"Los embeddings fasttext.pkl ya están descargados\")"
      ],
      "metadata": {
        "id": "A61nO4f4v_6t",
        "colab": {
          "base_uri": "https://localhost:8080/"
        },
        "outputId": "a8771152-90eb-40dd-f668-5e2163472089"
      },
      "execution_count": null,
      "outputs": [
        {
          "output_type": "stream",
          "name": "stderr",
          "text": [
            "Downloading...\n",
            "From: https://drive.google.com/uc?id=1KU5qmAYh3LATMvVgocFDfW-PK3prm1WU&export=download\n",
            "To: /content/fasttext.pkl\n",
            "100%|██████████| 2.88G/2.88G [01:04<00:00, 45.0MB/s]\n"
          ]
        }
      ]
    },
    {
      "cell_type": "code",
      "source": [
        "import logging\n",
        "import os\n",
        "from pathlib import Path\n",
        "from io import StringIO\n",
        "import pickle\n",
        "\n",
        "class WordsEmbeddings(object):\n",
        "    logger = logging.getLogger(__name__)\n",
        "\n",
        "    def __init__(self):\n",
        "        # load the embeddings\n",
        "        words_embedding_pkl = Path(self.PKL_PATH)\n",
        "        if not words_embedding_pkl.is_file():\n",
        "            words_embedding_txt = Path(self.WORD_TO_VEC_MODEL_TXT_PATH)\n",
        "            assert words_embedding_txt.is_file(), 'Words embedding not available'\n",
        "            embeddings = self.convert_model_to_pickle()\n",
        "        else:\n",
        "            embeddings = self.load_model_from_pickle()\n",
        "        self.embeddings = embeddings\n",
        "        # build the vocabulary hashmap\n",
        "        index = np.arange(self.embeddings.shape[0])\n",
        "        # Dicctionarios para traducir de embedding a IDX de la palabra\n",
        "        self.word2idx = dict(zip(self.embeddings['word'], index))\n",
        "        self.idx2word = dict(zip(index, self.embeddings['word']))\n",
        "\n",
        "    def get_words_embeddings(self, words):\n",
        "        words_idxs = self.words2idxs(words)\n",
        "        return self.embeddings[words_idxs]['embedding']\n",
        "\n",
        "    def words2idxs(self, words):\n",
        "        return np.array([self.word2idx.get(word, -1) for word in words])\n",
        "\n",
        "    def idxs2words(self, idxs):\n",
        "        return np.array([self.idx2word.get(idx, '-1') for idx in idxs])\n",
        "\n",
        "    def load_model_from_pickle(self):\n",
        "        self.logger.debug(\n",
        "            'loading words embeddings from pickle {}'.format(\n",
        "                self.PKL_PATH\n",
        "            )\n",
        "        )\n",
        "        max_bytes = 2**28 - 1 # 256MB\n",
        "        bytes_in = bytearray(0)\n",
        "        input_size = os.path.getsize(self.PKL_PATH)\n",
        "        with open(self.PKL_PATH, 'rb') as f_in:\n",
        "            for _ in range(0, input_size, max_bytes):\n",
        "                bytes_in += f_in.read(max_bytes)\n",
        "        embeddings = pickle.loads(bytes_in)\n",
        "        self.logger.debug('words embeddings loaded')\n",
        "        return embeddings\n",
        "\n",
        "    def convert_model_to_pickle(self):\n",
        "        # create a numpy strctured array:\n",
        "        # word     embedding\n",
        "        # U50      np.float32[]\n",
        "        # word_1   a, b, c\n",
        "        # word_2   d, e, f\n",
        "        # ...\n",
        "        # word_n   g, h, i\n",
        "        self.logger.debug(\n",
        "            'converting and loading words embeddings from text file {}'.format(\n",
        "                self.WORD_TO_VEC_MODEL_TXT_PATH\n",
        "            )\n",
        "        )\n",
        "        structure = [('word', np.dtype('U' + str(self.WORD_MAX_SIZE))),\n",
        "                     ('embedding', np.float32, (self.N_FEATURES,))]\n",
        "        structure = np.dtype(structure)\n",
        "        # load numpy array from disk using a generator\n",
        "        with open(self.WORD_TO_VEC_MODEL_TXT_PATH, encoding=\"utf8\") as words_embeddings_txt:\n",
        "            embeddings_gen = (\n",
        "                (line.split()[0], line.split()[1:]) for line in words_embeddings_txt\n",
        "                if len(line.split()[1:]) == self.N_FEATURES\n",
        "            )\n",
        "            embeddings = np.fromiter(embeddings_gen, structure)\n",
        "        # add a null embedding\n",
        "        null_embedding = np.array(\n",
        "            [('null_embedding', np.zeros((self.N_FEATURES,), dtype=np.float32))],\n",
        "            dtype=structure\n",
        "        )\n",
        "        embeddings = np.concatenate([embeddings, null_embedding])\n",
        "        # dump numpy array to disk using pickle\n",
        "        max_bytes = 2**28 - 1 # # 256MB\n",
        "        bytes_out = pickle.dumps(embeddings, protocol=pickle.HIGHEST_PROTOCOL)\n",
        "        with open(self.PKL_PATH, 'wb') as f_out:\n",
        "            for idx in range(0, len(bytes_out), max_bytes):\n",
        "                f_out.write(bytes_out[idx:idx+max_bytes])\n",
        "        self.logger.debug('words embeddings loaded')\n",
        "        return embeddings\n",
        "\n",
        "\n",
        "class GloveEmbeddings(WordsEmbeddings):\n",
        "    WORD_TO_VEC_MODEL_TXT_PATH = 'glove.twitter.27B.50d.txt'\n",
        "    PKL_PATH = 'gloveembedding.pkl'\n",
        "    N_FEATURES = 50\n",
        "    WORD_MAX_SIZE = 60\n",
        "\n",
        "\n",
        "class FasttextEmbeddings(WordsEmbeddings):\n",
        "    WORD_TO_VEC_MODEL_TXT_PATH = 'cc.en.300.vec'\n",
        "    PKL_PATH = 'fasttext.pkl'\n",
        "    N_FEATURES = 300\n",
        "    WORD_MAX_SIZE = 60"
      ],
      "metadata": {
        "id": "8PpK4eQVwHry"
      },
      "execution_count": null,
      "outputs": []
    },
    {
      "cell_type": "code",
      "source": [
        "model_fasttext = FasttextEmbeddings()"
      ],
      "metadata": {
        "id": "gmGnQqKzweqC"
      },
      "execution_count": null,
      "outputs": []
    },
    {
      "cell_type": "code",
      "source": [
        "# Crear la Embedding matrix\n",
        "\n",
        "print('preparing embedding matrix...')\n",
        "embed_dim = 300 # fasttext\n",
        "words_not_found = []\n",
        "\n",
        "# word_to_index provieen del tokenizer\n",
        "\n",
        "nb_words = min(num_words, len(word_to_index)) # vocab_size\n",
        "embedding_matrix = np.zeros((nb_words, embed_dim))\n",
        "for word, i in word_to_index.items():\n",
        "    if i >= nb_words:\n",
        "        continue\n",
        "    embedding_vector = model_fasttext.get_words_embeddings(word)[0]\n",
        "    if (embedding_vector is not None) and len(embedding_vector) > 0:\n",
        "        embedding_matrix[i] = embedding_vector\n",
        "    else:\n",
        "        # words not found in embedding index will be all-zeros.\n",
        "        words_not_found.append(word)\n",
        "        print(word)\n",
        "\n",
        "print('number of null word embeddings:', np.sum(np.sum(embedding_matrix, axis=1) == 0))"
      ],
      "metadata": {
        "id": "wznsAGM5wfgN",
        "colab": {
          "base_uri": "https://localhost:8080/"
        },
        "outputId": "04a910de-f3eb-4685-cb57-93fd312743d4"
      },
      "execution_count": null,
      "outputs": [
        {
          "output_type": "stream",
          "name": "stdout",
          "text": [
            "preparing embedding matrix...\n",
            "number of null word embeddings: 2\n"
          ]
        }
      ]
    },
    {
      "cell_type": "code",
      "source": [
        "Embedding(input_dim=vocab_size,  # definido en el Tokenizador\n",
        "          output_dim=embed_dim,  # dimensión de los embeddings utilizados\n",
        "          input_length=input_shape, # máxima sentencia de entrada\n",
        "          weights=[embedding_matrix],  # matrix de embeddings\n",
        "          trainable=False)    # marcar como layer no entrenable"
      ],
      "metadata": {
        "id": "-5ahwTpkxK8r",
        "colab": {
          "base_uri": "https://localhost:8080/"
        },
        "outputId": "09b2171f-9741-4ab1-8075-ca89d1c96a29"
      },
      "execution_count": null,
      "outputs": [
        {
          "output_type": "execute_result",
          "data": {
            "text/plain": [
              "<keras.layers.embeddings.Embedding at 0x7f98a294d450>"
            ]
          },
          "metadata": {},
          "execution_count": 31
        }
      ]
    },
    {
      "cell_type": "code",
      "source": [
        "model3 = Sequential()\n",
        "# input_dim = vocab_size (max n_words)\n",
        "# input_length = setencias con padding a 200\n",
        "# output_dim = embed_dim (depende que embeddings pre entrenados utilizamos)\n",
        "model3.add(Embedding(input_dim=vocab_size, output_dim=embed_dim, input_length=input_shape,\n",
        "                     weights=[embedding_matrix], trainable=False))\n",
        "\n",
        "model3.add(LSTM(units=64, return_sequences=True))\n",
        "model3.add(Dropout(0.2))\n",
        "model3.add(LSTM(units=64)) # La última capa LSTM no lleva return_sequences\n",
        "\n",
        "model3.add(Dense(units=128, activation='relu'))\n",
        "model3.add(Dropout(rate=0.2))\n",
        "model3.add(Dense(units=output_shape, activation='sigmoid'))\n",
        "\n",
        "model3.compile(optimizer=\"adam\",\n",
        "              loss='binary_crossentropy',\n",
        "              metrics=['accuracy'])\n",
        "\n",
        "model3.summary()"
      ],
      "metadata": {
        "id": "zYowV1DyxXmS",
        "colab": {
          "base_uri": "https://localhost:8080/"
        },
        "outputId": "e80fad4d-debe-495e-c589-9c02129db9bb"
      },
      "execution_count": null,
      "outputs": [
        {
          "output_type": "stream",
          "name": "stdout",
          "text": [
            "Model: \"sequential_1\"\n",
            "_________________________________________________________________\n",
            " Layer (type)                Output Shape              Param #   \n",
            "=================================================================\n",
            " embedding_2 (Embedding)     (None, 115, 300)          600000    \n",
            "                                                                 \n",
            " lstm_3 (LSTM)               (None, 115, 64)           93440     \n",
            "                                                                 \n",
            " dropout_3 (Dropout)         (None, 115, 64)           0         \n",
            "                                                                 \n",
            " lstm_4 (LSTM)               (None, 64)                33024     \n",
            "                                                                 \n",
            " dense_2 (Dense)             (None, 128)               8320      \n",
            "                                                                 \n",
            " dropout_4 (Dropout)         (None, 128)               0         \n",
            "                                                                 \n",
            " dense_3 (Dense)             (None, 5)                 645       \n",
            "                                                                 \n",
            "=================================================================\n",
            "Total params: 735,429\n",
            "Trainable params: 135,429\n",
            "Non-trainable params: 600,000\n",
            "_________________________________________________________________\n"
          ]
        }
      ]
    },
    {
      "cell_type": "code",
      "source": [
        "hist3 = model3.fit(X_train_new, Y_train_new, epochs=15, validation_split=0.2)"
      ],
      "metadata": {
        "id": "TJ22tEpOxnVB",
        "colab": {
          "base_uri": "https://localhost:8080/"
        },
        "outputId": "79f4a4b9-f2bf-4f52-f3fa-abad26308831"
      },
      "execution_count": null,
      "outputs": [
        {
          "output_type": "stream",
          "name": "stdout",
          "text": [
            "Epoch 1/15\n",
            "1111/1111 [==============================] - 25s 14ms/step - loss: 0.4705 - accuracy: 0.3283 - val_loss: 0.9200 - val_accuracy: 0.0000e+00\n",
            "Epoch 2/15\n",
            "1111/1111 [==============================] - 15s 13ms/step - loss: 0.4148 - accuracy: 0.4275 - val_loss: 0.9689 - val_accuracy: 0.0000e+00\n",
            "Epoch 3/15\n",
            "1111/1111 [==============================] - 15s 13ms/step - loss: 0.4002 - accuracy: 0.4513 - val_loss: 1.1853 - val_accuracy: 6.7537e-04\n",
            "Epoch 4/15\n",
            "1111/1111 [==============================] - 14s 13ms/step - loss: 0.3968 - accuracy: 0.4530 - val_loss: 1.1199 - val_accuracy: 0.0011\n",
            "Epoch 5/15\n",
            "1111/1111 [==============================] - 15s 13ms/step - loss: 0.3877 - accuracy: 0.4672 - val_loss: 1.1751 - val_accuracy: 0.0010\n",
            "Epoch 6/15\n",
            "1111/1111 [==============================] - 15s 13ms/step - loss: 0.3826 - accuracy: 0.4708 - val_loss: 1.1524 - val_accuracy: 0.0012\n",
            "Epoch 7/15\n",
            "1111/1111 [==============================] - 15s 14ms/step - loss: 0.3788 - accuracy: 0.4753 - val_loss: 1.2811 - val_accuracy: 5.6281e-04\n",
            "Epoch 8/15\n",
            "1111/1111 [==============================] - 14s 13ms/step - loss: 0.3751 - accuracy: 0.4802 - val_loss: 1.1933 - val_accuracy: 0.0020\n",
            "Epoch 9/15\n",
            "1111/1111 [==============================] - 15s 13ms/step - loss: 0.3712 - accuracy: 0.4869 - val_loss: 1.2483 - val_accuracy: 0.0074\n",
            "Epoch 10/15\n",
            "1111/1111 [==============================] - 15s 13ms/step - loss: 0.3674 - accuracy: 0.4883 - val_loss: 1.1886 - val_accuracy: 0.0055\n",
            "Epoch 11/15\n",
            "1111/1111 [==============================] - 15s 13ms/step - loss: 0.3641 - accuracy: 0.4927 - val_loss: 1.2435 - val_accuracy: 0.0045\n",
            "Epoch 12/15\n",
            "1111/1111 [==============================] - 14s 13ms/step - loss: 0.3610 - accuracy: 0.5003 - val_loss: 1.3298 - val_accuracy: 0.0037\n",
            "Epoch 13/15\n",
            "1111/1111 [==============================] - 15s 13ms/step - loss: 0.3571 - accuracy: 0.5079 - val_loss: 1.3706 - val_accuracy: 0.0036\n",
            "Epoch 14/15\n",
            "1111/1111 [==============================] - 15s 14ms/step - loss: 0.3527 - accuracy: 0.5138 - val_loss: 1.4660 - val_accuracy: 0.0034\n",
            "Epoch 15/15\n",
            "1111/1111 [==============================] - 15s 13ms/step - loss: 0.3505 - accuracy: 0.5182 - val_loss: 1.4048 - val_accuracy: 0.0146\n"
          ]
        }
      ]
    },
    {
      "cell_type": "code",
      "source": [
        "import matplotlib.pyplot as plt\n",
        "import seaborn as sns\n",
        "epoch_count = range(1, len(hist3.history['accuracy']) + 1)\n",
        "sns.lineplot(x=epoch_count,  y=hist3.history['accuracy'], label='train')\n",
        "sns.lineplot(x=epoch_count,  y=hist3.history['val_accuracy'], label='valid')\n",
        "plt.show()"
      ],
      "metadata": {
        "id": "M1ghAAiNx4rQ",
        "colab": {
          "base_uri": "https://localhost:8080/",
          "height": 265
        },
        "outputId": "4456fd8f-d989-4840-c96b-703984007aa2"
      },
      "execution_count": null,
      "outputs": [
        {
          "output_type": "display_data",
          "data": {
            "text/plain": [
              "<Figure size 432x288 with 1 Axes>"
            ],
            "image/png": "[encoded data removed]"
          },
          "metadata": {
            "needs_background": "light"
          }
        }
      ]
    },
    {
      "cell_type": "code",
      "source": [
        "model3.evaluate(X_test, Y_test)"
      ],
      "metadata": {
        "id": "xJT3DWnZyDCS",
        "colab": {
          "base_uri": "https://localhost:8080/"
        },
        "outputId": "196353e3-68b0-4488-91a7-9057dcb101a9"
      },
      "execution_count": null,
      "outputs": [
        {
          "output_type": "stream",
          "name": "stdout",
          "text": [
            "213/213 [==============================] - 2s 7ms/step - loss: 0.3871 - accuracy: 0.5454\n"
          ]
        },
        {
          "output_type": "execute_result",
          "data": {
            "text/plain": [
              "[0.38713666796684265, 0.545414388179779]"
            ]
          },
          "metadata": {},
          "execution_count": 35
        }
      ]
    },
    {
      "cell_type": "markdown",
      "source": [
        "## Conclusiones personales"
      ],
      "metadata": {
        "id": "_klWsNc368bV"
      }
    },
    {
      "cell_type": "markdown",
      "source": [
        "El mejor resultado se obtuvo con el modelo sin ajuste de balance de la variable de salida. Se puede jugar con los valores de dropout de las capas.\n",
        "El resultado con resampling, no arrojó los resultados esperados. Se podría probar dando mayor tamaño a la capa densa.\n",
        "Con el modelo de Fasttext, se puede probar realizando mayor cantidad de epochs."
      ],
      "metadata": {
        "id": "NOXf-VC16_bj"
      }
    }
  ]
}
