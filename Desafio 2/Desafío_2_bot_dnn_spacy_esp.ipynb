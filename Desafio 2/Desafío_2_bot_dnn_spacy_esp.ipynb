{
  "cells": [
    {
      "cell_type": "markdown",
      "metadata": {
        "id": "view-in-github",
        "colab_type": "text"
      },
      "source": [
        "<a href=\"https://colab.research.google.com/github/rblanco2023/NLP/blob/main/Desaf%C3%ADo_2_bot_dnn_spacy_esp.ipynb\" target=\"_parent\"><img src=\"https://colab.research.google.com/assets/colab-badge.svg\" alt=\"Open In Colab\"/></a>"
      ]
    },
    {
      "cell_type": "markdown",
      "metadata": {
        "id": "NV8wZ0MTKjv_"
      },
      "source": [
        "<img src=\"https://github.com/hernancontigiani/ceia_memorias_especializacion/raw/master/Figures/logoFIUBA.jpg\" width=\"500\" align=\"center\">\n",
        "\n",
        "\n",
        "# Procesamiento de lenguaje natural\n",
        "## Bot basado en reglas con DNN + Spacy"
      ]
    },
    {
      "cell_type": "markdown",
      "metadata": {
        "id": "Z_9z3H-yKrcK"
      },
      "source": [
        "#### Datos\n",
        "Este ejemplo se inspiró en otro Bot en inglés creado con NLTK, lo tienen como referencia para hacer lo mismo en inglés:\\\n",
        "[LINK](https://towardsdatascience.com/a-simple-chatbot-in-python-with-deep-learning-3e8669997758)"
      ]
    },
    {
      "cell_type": "markdown",
      "metadata": {
        "id": "oCVZakCzAjGN"
      },
      "source": [
        "### 1 - Instalar dependencias\n",
        "Para poder utilizar Spacy en castellano es necesario agregar la librería \"spacy-stanza\" para lematizar palabras en español."
      ]
    },
    {
      "cell_type": "code",
      "execution_count": null,
      "metadata": {
        "colab": {
          "base_uri": "https://localhost:8080/"
        },
        "id": "Zd8NLa4gsSmT",
        "outputId": "efea56e7-3175-42b9-97ab-7bc09870e2ea"
      },
      "outputs": [
        {
          "output_type": "stream",
          "name": "stdout",
          "text": [
            "\u001b[?25l\r\u001b[K     |█                               | 10 kB 24.5 MB/s eta 0:00:01\r\u001b[K     |██                              | 20 kB 31.4 MB/s eta 0:00:01\r\u001b[K     |██▉                             | 30 kB 24.3 MB/s eta 0:00:01\r\u001b[K     |███▉                            | 40 kB 9.4 MB/s eta 0:00:01\r\u001b[K     |████▉                           | 51 kB 7.8 MB/s eta 0:00:01\r\u001b[K     |█████▊                          | 61 kB 9.1 MB/s eta 0:00:01\r\u001b[K     |██████▊                         | 71 kB 9.7 MB/s eta 0:00:01\r\u001b[K     |███████▋                        | 81 kB 7.9 MB/s eta 0:00:01\r\u001b[K     |████████▋                       | 92 kB 8.8 MB/s eta 0:00:01\r\u001b[K     |█████████▋                      | 102 kB 9.6 MB/s eta 0:00:01\r\u001b[K     |██████████▌                     | 112 kB 9.6 MB/s eta 0:00:01\r\u001b[K     |███████████▌                    | 122 kB 9.6 MB/s eta 0:00:01\r\u001b[K     |████████████▌                   | 133 kB 9.6 MB/s eta 0:00:01\r\u001b[K     |█████████████▍                  | 143 kB 9.6 MB/s eta 0:00:01\r\u001b[K     |██████████████▍                 | 153 kB 9.6 MB/s eta 0:00:01\r\u001b[K     |███████████████▎                | 163 kB 9.6 MB/s eta 0:00:01\r\u001b[K     |████████████████▎               | 174 kB 9.6 MB/s eta 0:00:01\r\u001b[K     |█████████████████▎              | 184 kB 9.6 MB/s eta 0:00:01\r\u001b[K     |██████████████████▏             | 194 kB 9.6 MB/s eta 0:00:01\r\u001b[K     |███████████████████▏            | 204 kB 9.6 MB/s eta 0:00:01\r\u001b[K     |████████████████████▏           | 215 kB 9.6 MB/s eta 0:00:01\r\u001b[K     |█████████████████████           | 225 kB 9.6 MB/s eta 0:00:01\r\u001b[K     |██████████████████████          | 235 kB 9.6 MB/s eta 0:00:01\r\u001b[K     |███████████████████████         | 245 kB 9.6 MB/s eta 0:00:01\r\u001b[K     |████████████████████████        | 256 kB 9.6 MB/s eta 0:00:01\r\u001b[K     |█████████████████████████       | 266 kB 9.6 MB/s eta 0:00:01\r\u001b[K     |█████████████████████████▉      | 276 kB 9.6 MB/s eta 0:00:01\r\u001b[K     |██████████████████████████▉     | 286 kB 9.6 MB/s eta 0:00:01\r\u001b[K     |███████████████████████████▊    | 296 kB 9.6 MB/s eta 0:00:01\r\u001b[K     |████████████████████████████▊   | 307 kB 9.6 MB/s eta 0:00:01\r\u001b[K     |█████████████████████████████▊  | 317 kB 9.6 MB/s eta 0:00:01\r\u001b[K     |██████████████████████████████▋ | 327 kB 9.6 MB/s eta 0:00:01\r\u001b[K     |███████████████████████████████▋| 337 kB 9.6 MB/s eta 0:00:01\r\u001b[K     |████████████████████████████████| 342 kB 9.6 MB/s \n",
            "\u001b[?25h"
          ]
        }
      ],
      "source": [
        "# La última versión de spacy-stanza (>1.0) es compatible solo con spacy >=3.0\n",
        "# Nota: spacy 3.0 incorpora al pepiline nlp transformers\n",
        "!pip install -U spacy>=3.1 --quiet\n",
        "!pip install -U spacy-stanza==1.0.0 --quiet"
      ]
    },
    {
      "cell_type": "code",
      "execution_count": null,
      "metadata": {
        "id": "kzao7XO9NJAq"
      },
      "outputs": [],
      "source": [
        "import json\n",
        "import string\n",
        "import random \n",
        "import numpy as np\n",
        "\n",
        "import tensorflow as tf \n",
        "from tensorflow.keras import Sequential \n",
        "from tensorflow.keras.layers import Dense, Dropout"
      ]
    },
    {
      "cell_type": "code",
      "execution_count": null,
      "metadata": {
        "colab": {
          "base_uri": "https://localhost:8080/",
          "height": 463,
          "referenced_widgets": [
            "502ec7bf19ee43f79a6d9a35ea3f61ec",
            "1d5aa25ea9df48d48ad288d77183cd0d",
            "dc4e0950dc7d4284befee741360fabce",
            "b670633efec74efa834f068640bd58ba",
            "fde7b2b012ca48c69f255eed366fba9a",
            "1020d53bf56648b88b96a9af6630a54a",
            "2c2a82bf440f4b179f04c4bad490999a",
            "e667a69ff8c04d4398d75dfb7ccb9683",
            "e44a3d514f0a4d31b4348b5fd1ee8003",
            "e1b446caadfa48fdb5ff1601aace1884",
            "b0954747b8374b3ebbdeddf34645caae",
            "2c996eebc95e44fd9febec2a2dfa6ac0",
            "9c4e5c0c1a6240728733b0d192ce3036",
            "1c2f9d30dd044a33aad913081b0e4c28",
            "74d3bb83007b465fbf3ea4141756d8a1",
            "c7cd566688424677aff8a10ab3730ab9",
            "8c5c9500bdcb49529e11c3dbd41c15cf",
            "6c783fd5a36f4a969e42231f87c3bd25",
            "d471fa8914ea443d9fc9e1080f62229e",
            "5cc1628a0030429a970ad8c128beb89b",
            "66eaf7c7aab54947b7a94e492262a3c2",
            "45a81ec110a8442ba28133950d5b951e"
          ]
        },
        "id": "Z_ExOb8uvjqK",
        "outputId": "9b94ef70-f51f-4162-d6ba-2cdde34efe3c"
      },
      "outputs": [
        {
          "output_type": "display_data",
          "data": {
            "text/plain": [
              "Downloading https://raw.githubusercontent.com/stanfordnlp/stanza-resources/main/resources_1.2.2.json:   0%|   …"
            ],
            "application/vnd.jupyter.widget-view+json": {
              "version_major": 2,
              "version_minor": 0,
              "model_id": "502ec7bf19ee43f79a6d9a35ea3f61ec"
            }
          },
          "metadata": {}
        },
        {
          "output_type": "stream",
          "name": "stderr",
          "text": [
            "2022-07-05 02:09:13 INFO: Downloading default packages for language: es (Spanish)...\n"
          ]
        },
        {
          "output_type": "display_data",
          "data": {
            "text/plain": [
              "Downloading http://nlp.stanford.edu/software/stanza/1.2.2/es/default.zip:   0%|          | 0.00/566M [00:00<?,…"
            ],
            "application/vnd.jupyter.widget-view+json": {
              "version_major": 2,
              "version_minor": 0,
              "model_id": "2c996eebc95e44fd9febec2a2dfa6ac0"
            }
          },
          "metadata": {}
        },
        {
          "output_type": "stream",
          "name": "stderr",
          "text": [
            "2022-07-05 02:11:04 INFO: Finished downloading models and saved to /root/stanza_resources.\n",
            "2022-07-05 02:11:04 INFO: Loading these models for language: es (Spanish):\n",
            "=======================\n",
            "| Processor | Package |\n",
            "-----------------------\n",
            "| tokenize  | ancora  |\n",
            "| mwt       | ancora  |\n",
            "| pos       | ancora  |\n",
            "| lemma     | ancora  |\n",
            "| depparse  | ancora  |\n",
            "| ner       | conll02 |\n",
            "=======================\n",
            "\n",
            "2022-07-05 02:11:04 INFO: Use device: cpu\n",
            "2022-07-05 02:11:04 INFO: Loading: tokenize\n",
            "2022-07-05 02:11:04 INFO: Loading: mwt\n",
            "2022-07-05 02:11:04 INFO: Loading: pos\n",
            "2022-07-05 02:11:04 INFO: Loading: lemma\n",
            "2022-07-05 02:11:04 INFO: Loading: depparse\n",
            "2022-07-05 02:11:05 INFO: Loading: ner\n",
            "2022-07-05 02:11:06 INFO: Done loading processors!\n"
          ]
        }
      ],
      "source": [
        "import stanza\n",
        "import spacy_stanza\n",
        "\n",
        "# Vamos a usar SpaCy-Stanza. Stanza es una librería de NLP de Stanford\n",
        "# SpaCy armó un wrapper para los pipelines y modelos de Stanza\n",
        "# https://stanfordnlp.github.io/stanza/\n",
        "\n",
        "# Descargar el diccionario en español y armar el pipeline de NLP con spacy\n",
        "stanza.download(\"es\")\n",
        "nlp = spacy_stanza.load_pipeline(\"es\")"
      ]
    },
    {
      "cell_type": "markdown",
      "metadata": {
        "id": "_wF10RjVMBdV"
      },
      "source": [
        "### 2 - Herramientas de preprocesamiento de datos\n",
        "Entre las tareas de procesamiento de texto en español se implementa:\n",
        "- Quitar acentos y caracteres especiales\n",
        "- Quitar números\n",
        "- Quitar símbolos de puntuación"
      ]
    },
    {
      "cell_type": "code",
      "execution_count": null,
      "metadata": {
        "id": "ZxoD2hEExmuX"
      },
      "outputs": [],
      "source": [
        "import re\n",
        "import unicodedata\n",
        "\n",
        "# El preprocesamento en castellano requiere más trabajo\n",
        "\n",
        "# Referencia de regex:\n",
        "# https://docs.python.org/3/library/re.html\n",
        "\n",
        "def preprocess_clean_text(text):    \n",
        "    # sacar tildes de las palabras\n",
        "    text = unicodedata.normalize('NFKD', text).encode('ascii', 'ignore').decode('utf-8', 'ignore')\n",
        "    # quitar caracteres especiales\n",
        "    pattern = r'[^a-zA-z0-9.,!?/:;\\\"\\'\\s]' \n",
        "    text = re.sub(pattern, '', text)\n",
        "    pattern = r'[^a-zA-z.,!?/:;\\\"\\'\\s]' \n",
        "    # quitar números\n",
        "    #text = re.sub(pattern, '', text)\n",
        "    # quitar caracteres de puntiación\n",
        "    text = ''.join([c for c in text if c not in string.punctuation])\n",
        "    return text"
      ]
    },
    {
      "cell_type": "code",
      "execution_count": null,
      "metadata": {
        "colab": {
          "base_uri": "https://localhost:8080/",
          "height": 35
        },
        "id": "q-MiMZjh5fu2",
        "outputId": "2883eef6-4f3f-420c-aa00-cc5d39f8ca8e"
      },
      "outputs": [
        {
          "data": {
            "application/vnd.google.colaboratory.intrinsic+json": {
              "type": "string"
            },
            "text/plain": [
              "'personas ideas estas cosas y los peces y los muercielagos'"
            ]
          },
          "execution_count": 6,
          "metadata": {},
          "output_type": "execute_result"
        }
      ],
      "source": [
        "text = \"personas Ideas! estás cosas y los peces y los muercielagos\"\n",
        "\n",
        "# Antes de preprocesar los datos se pasa a mínusculas todo el texto\n",
        "preprocess_clean_text(text.lower())"
      ]
    },
    {
      "cell_type": "code",
      "execution_count": null,
      "metadata": {
        "colab": {
          "base_uri": "https://localhost:8080/"
        },
        "id": "I9V-S8JbrtNn",
        "outputId": "81999fbd-ada2-4165-d87d-6964e920522f"
      },
      "outputs": [
        {
          "name": "stdout",
          "output_type": "stream",
          "text": [
            "tokens: hola personas ideas estas cosas y los peces y los muercielagos\n",
            "Lematización de cada token:\n",
            "[hola, 'holar']\n",
            "[personas, 'persona']\n",
            "[ideas, 'idea']\n",
            "[estas, 'este']\n",
            "[cosas, 'cosa']\n",
            "[y, 'y']\n",
            "[los, 'el']\n",
            "[peces, 'pez']\n",
            "[y, 'y']\n",
            "[los, 'el']\n",
            "[muercielagos, 'muercielago']\n"
          ]
        }
      ],
      "source": [
        "# Ejemplo de como fuciona\n",
        "text = \"hola personas Ideas! estás cosas y los peces y los muercielagos\"\n",
        "\n",
        "# Antes de preprocesar los datos se pasa a mínusculas todo el texto\n",
        "tokes = nlp(preprocess_clean_text(text.lower()))\n",
        "print(\"tokens:\", tokes)\n",
        "print(\"Lematización de cada token:\")\n",
        "for token in tokes:\n",
        "    print([token, token.lemma_])"
      ]
    },
    {
      "cell_type": "markdown",
      "metadata": {
        "id": "ilRbn0KfMm2r"
      },
      "source": [
        "### 3 - Diccionario de entrada"
      ]
    },
    {
      "cell_type": "code",
      "execution_count": null,
      "metadata": {
        "id": "NgIGpjymNEH7"
      },
      "outputs": [],
      "source": [
        "# Dataset en formato JSON que representa las posibles preguntas (patterns)\n",
        "# y las posibles respuestas por categoría (tag)\n",
        "dataset = {\"intents\": [\n",
        "             {\"tag\": \"bienvenida\",\n",
        "              \"patterns\": [\"Hola\", \"¿Cómo estás?\", \"¿Qué tal?\"],\n",
        "              \"responses\": [\"Hola!\", \"Hola, bienvenido a CineUno\", \"Bienvenido a CineUno\", \"Usted está hablando con Cinebot de CineUno\"],\n",
        "             },\n",
        "             {\"tag\": \"nombre\",\n",
        "              \"patterns\": [\"¿Cúal es tu nombre?\", \"¿Quién sos?\", \"Hola, ¿con quien hablo?\", \"¿Cómo te llamás?\"],\n",
        "              \"responses\": [\"Mi nombre es Cinebot\", \"Yo soy Cinebot\", \"usted está hablando con Cinebot\", \"Cinebot a su servicio\"]\n",
        "             },\n",
        "            {\"tag\": \"peliculas\",\n",
        "              \"patterns\": [\"quiero saber que peliculas hay en cartelera\", \"¿que pelicula puedo ver?\", \"¿Que cartelera hay hoy?\", \"¿Que puedo ver?\"],\n",
        "              \"responses\": [\"Las peliculas en cartelera son: Volver al futuro, Forest Gump, Rescatando al soldado Ryan y Superman 3\", \"Hoy puede ver: Volver al futuro, Forest Gump, Rescatando al soldado Ryan, Superman 3\", \"En cartelera tenemos: Volver al futuro, Forest Gump, Rescatando al soldado Ryan, Superman 3\"]\n",
        "             },\n",
        "            {\"tag\": \"peli1\",\n",
        "              \"patterns\": [\"Quiero ver Volver al Futuro\", \"Elijo Volver al Futuro\", \"Volver al Futuro\", \"Me gusta Volver al Futuro\"],\n",
        "              \"responses\": [\"Los horarios para Volver al Futuro son: 18, 21:30 y 23hs. ¿Que horario prefiere?\"]\n",
        "             },\n",
        "            {\"tag\": \"peli2\",\n",
        "              \"patterns\": [\"Quiero ver Forest Gump\", \"Elijo Forest Gump\", \"Forest Gump\", \"Me gusta Forest Gump\"],\n",
        "              \"responses\": [\"Los horarios para Forest Gump son: 17 y 22hs. ¿Que horario prefiere?\"]\n",
        "             },\n",
        "            {\"tag\": \"peli3\",\n",
        "              \"patterns\": [\"Quiero ver Rescatando al soldado Ryan\", \"Elijo Rescatando al soldado Ryan\", \"Rescatando al soldado Ryan\", \"Me gusta Rescatando al soldado Ryan\"],\n",
        "              \"responses\": [\"Los horarios para ver Rescatando al soldado Ryan son: 18, 22:30 y 23:30hs. ¿Que horario prefiere?\"]\n",
        "             },\n",
        "            {\"tag\": \"peli4\",\n",
        "              \"patterns\": [\"Quiero ver Superman 3\", \"Elijo Superman 3\", \"Superman 3\", \"Me gusta Superman 3\"],\n",
        "              \"responses\": [\"Los horarios para Superman 3 son: 16, 17:30, 19 y 21hs. ¿Que horario prefiere?\"]\n",
        "             },\n",
        "            {\"tag\": \"precios\",\n",
        "              \"patterns\": [\"Elijo 16hs\", \"Elijo 17hs\", \"Elijo 17:30\", \"Elijo 18hs\", \"Elijo 19hs\", \"Elijo 21hs\", \"Elijo 21:30hs\", \"Elijo 22hs\", \"Elijo 22:30hs\", \"Elijo 23hs\", \"Elijo 23:30hs\"],\n",
        "              \"responses\": [\"Perfecto, el precio de la entrada es de $650\"]\n",
        "             },\n",
        "            {\"tag\": \"pagos\",\n",
        "              \"patterns\": [\"¿Cómo puedo pagar?\", \"¿Puedo pagar con Tarjeta de crédito?\", \"¿Aceptan Tarjetas?\", \"¿aceptan Mercadopagos?\"],\n",
        "              \"responses\": [\"Puede pagar con efectivo, con tarjeta de crédito y débito y con Mercadopagos\"]\n",
        "             },\n",
        "            {\"tag\": \"pagar\",\n",
        "              \"patterns\": [\"Voy a pagar en efectivo\", \"voy a pagar con tarjeta de crédito\", \"voy a pagar con tarjeta\", \"voy a pagar con Mercadopagos\"],\n",
        "              \"responses\": [\"Si, claro que aceptamos ese medio de pago\"]\n",
        "             },\n",
        "            {\"tag\": \"agradecimientos\",\n",
        "              \"patterns\": [ \"Muchas gracias\", \"Gracias\"],\n",
        "              \"responses\": [\"Por nada!, cualquier otra consulta podes escribirme\"]\n",
        "             },\n",
        "             {\"tag\": \"despedida\",\n",
        "              \"patterns\": [ \"Chau\", \"Hasta luego!\"],\n",
        "              \"responses\": [\"Que disfrutes la pelicula!\", \"No te olvides del pochoclo!\", \"Gracias por elegirnos!\"]\n",
        "             }\n",
        "]}"
      ]
    },
    {
      "cell_type": "markdown",
      "metadata": {
        "id": "19PEDmIDfLRu"
      },
      "source": [
        "### 4 - Preprocesamiento y armado del dataset"
      ]
    },
    {
      "cell_type": "code",
      "execution_count": null,
      "metadata": {
        "colab": {
          "base_uri": "https://localhost:8080/"
        },
        "id": "b3HP8abHNRk3",
        "outputId": "a9bcd18e-91eb-4cef-fcc8-6549cd33bd91"
      },
      "outputs": [
        {
          "output_type": "stream",
          "name": "stderr",
          "text": [
            "/usr/local/lib/python3.7/dist-packages/stanza/models/common/beam.py:86: UserWarning: __floordiv__ is deprecated, and its behavior will change in a future version of pytorch. It currently rounds toward 0 (like the 'trunc' function NOT 'floor'). This results in incorrect rounding for negative values. To keep the current behavior, use torch.div(a, b, rounding_mode='trunc'), or for actual floor division, use torch.div(a, b, rounding_mode='floor').\n",
            "  prevK = bestScoresId // numWords\n",
            "/usr/local/lib/python3.7/dist-packages/spacy/language.py:1008: UserWarning: Due to multiword token expansion or an alignment issue, the original text has been replaced by space-separated expanded tokens.\n",
            "  doc = self._ensure_doc(text)\n",
            "/usr/local/lib/python3.7/dist-packages/spacy/language.py:1008: UserWarning: Can't set named entities because of multi-word token expansion or because the character offsets don't map to valid tokens produced by the Stanza tokenizer:\n",
            "Words: ['quiero', 'ver', 'volver', 'a', 'el', 'futuro']\n",
            "Entities: []\n",
            "  doc = self._ensure_doc(text)\n",
            "/usr/local/lib/python3.7/dist-packages/spacy/language.py:1008: UserWarning: Can't set named entities because of multi-word token expansion or because the character offsets don't map to valid tokens produced by the Stanza tokenizer:\n",
            "Words: ['elijo', 'volver', 'a', 'el', 'futuro']\n",
            "Entities: []\n",
            "  doc = self._ensure_doc(text)\n",
            "/usr/local/lib/python3.7/dist-packages/spacy/language.py:1008: UserWarning: Can't set named entities because of multi-word token expansion or because the character offsets don't map to valid tokens produced by the Stanza tokenizer:\n",
            "Words: ['volver', 'a', 'el', 'futuro']\n",
            "Entities: []\n",
            "  doc = self._ensure_doc(text)\n",
            "/usr/local/lib/python3.7/dist-packages/spacy/language.py:1008: UserWarning: Can't set named entities because of multi-word token expansion or because the character offsets don't map to valid tokens produced by the Stanza tokenizer:\n",
            "Words: ['me', 'gusta', 'volver', 'a', 'el', 'futuro']\n",
            "Entities: []\n",
            "  doc = self._ensure_doc(text)\n",
            "/usr/local/lib/python3.7/dist-packages/spacy/language.py:1008: UserWarning: Can't set named entities because of multi-word token expansion or because the character offsets don't map to valid tokens produced by the Stanza tokenizer:\n",
            "Words: ['quiero', 'ver', 'rescatando', 'a', 'el', 'soldado', 'ryan']\n",
            "Entities: []\n",
            "  doc = self._ensure_doc(text)\n",
            "/usr/local/lib/python3.7/dist-packages/spacy/language.py:1008: UserWarning: Can't set named entities because of multi-word token expansion or because the character offsets don't map to valid tokens produced by the Stanza tokenizer:\n",
            "Words: ['elijo', 'rescatando', 'a', 'el', 'soldado', 'ryan']\n",
            "Entities: []\n",
            "  doc = self._ensure_doc(text)\n",
            "/usr/local/lib/python3.7/dist-packages/spacy/language.py:1008: UserWarning: Can't set named entities because of multi-word token expansion or because the character offsets don't map to valid tokens produced by the Stanza tokenizer:\n",
            "Words: ['rescatando', 'a', 'el', 'soldado', 'ryan']\n",
            "Entities: []\n",
            "  doc = self._ensure_doc(text)\n",
            "/usr/local/lib/python3.7/dist-packages/spacy/language.py:1008: UserWarning: Can't set named entities because of multi-word token expansion or because the character offsets don't map to valid tokens produced by the Stanza tokenizer:\n",
            "Words: ['me', 'gusta', 'rescatando', 'a', 'el', 'soldado', 'ryan']\n",
            "Entities: []\n",
            "  doc = self._ensure_doc(text)\n"
          ]
        }
      ],
      "source": [
        "# Datos que necesitaremos, las palabras o vocabilario\n",
        "words = []\n",
        "classes = []\n",
        "doc_X = []\n",
        "doc_y = []\n",
        "\n",
        "# Por cada intención (intents) debemos tomar los patrones que la caracterízan\n",
        "# a esa intención y transformarla a tokens para lamacenar en doc_X\n",
        "\n",
        "# El tag de cada intención se almacena como doc_Y (la clase a predecir)\n",
        "\n",
        "for intent in dataset[\"intents\"]:\n",
        "    for pattern in intent[\"patterns\"]:\n",
        "        # trasformar el patron a tokens\n",
        "        tokens = nlp(preprocess_clean_text(pattern.lower()))\n",
        "        # lematizar los tokens\n",
        "        for token in tokens:            \n",
        "            words.append(token.lemma_)\n",
        "        \n",
        "        doc_X.append(pattern)\n",
        "        doc_y.append(intent[\"tag\"])\n",
        "    \n",
        "    # Agregar el tag a las clases\n",
        "    if intent[\"tag\"] not in classes:\n",
        "        classes.append(intent[\"tag\"])\n",
        "\n",
        "# Elminar duplicados con \"set\" y ordenar el vocubulario y las clases por orden alfabético\n",
        "words = sorted(set(words))\n",
        "classes = sorted(set(classes))"
      ]
    },
    {
      "cell_type": "code",
      "execution_count": null,
      "metadata": {
        "colab": {
          "base_uri": "https://localhost:8080/"
        },
        "id": "Acy-gcugNbMH",
        "outputId": "829e66bf-6178-4665-fdb5-8995c931e45b"
      },
      "outputs": [
        {
          "output_type": "stream",
          "name": "stdout",
          "text": [
            "words: ['16h', '1730', '17h', '18h', '19hs', '2130hs', '21hs', '2230hs', '22hs', '2330hs', '23h', '3', 'a', 'aceptar', 'cartelera', 'chau', 'como', 'con', 'credito', 'cual', 'de', 'efectivo', 'el', 'elegir', 'en', 'este', 'forest', 'futuro', 'gracias', 'gump', 'gustar', 'haber', 'hablar', 'hasta', 'holar', 'hoy', 'ir', 'llama', 'luego', 'mercadopago', 'mucho', 'nombre', 'pagar', 'pelicula', 'poder', 'que', 'querer', 'quien', 'rescatar', 'ryan', 'saber', 'ser', 'soldado', 'superman', 'tal', 'tarjeta', 'tu', 'tú', 'ver', 'volver', 'yo']\n",
            "classes: ['agradecimientos', 'bienvenida', 'despedida', 'nombre', 'pagar', 'pagos', 'peli1', 'peli2', 'peli3', 'peli4', 'peliculas', 'precios']\n",
            "doc_X: ['Hola', '¿Cómo estás?', '¿Qué tal?', '¿Cúal es tu nombre?', '¿Quién sos?', 'Hola, ¿con quien hablo?', '¿Cómo te llamás?', 'quiero saber que peliculas hay en cartelera', '¿que pelicula puedo ver?', '¿Que cartelera hay hoy?', '¿Que puedo ver?', 'Quiero ver Volver al Futuro', 'Elijo Volver al Futuro', 'Volver al Futuro', 'Me gusta Volver al Futuro', 'Quiero ver Forest Gump', 'Elijo Forest Gump', 'Forest Gump', 'Me gusta Forest Gump', 'Quiero ver Rescatando al soldado Ryan', 'Elijo Rescatando al soldado Ryan', 'Rescatando al soldado Ryan', 'Me gusta Rescatando al soldado Ryan', 'Quiero ver Superman 3', 'Elijo Superman 3', 'Superman 3', 'Me gusta Superman 3', 'Elijo 16hs', 'Elijo 17hs', 'Elijo 17:30', 'Elijo 18hs', 'Elijo 19hs', 'Elijo 21hs', 'Elijo 21:30hs', 'Elijo 22hs', 'Elijo 22:30hs', 'Elijo 23hs', 'Elijo 23:30hs', '¿Cómo puedo pagar?', '¿Puedo pagar con Tarjeta de crédito?', '¿Aceptan Tarjetas?', '¿aceptan Mercadopagos?', 'Voy a pagar en efectivo', 'voy a pagar con tarjeta de crédito', 'voy a pagar con tarjeta', 'voy a pagar con Mercadopagos', 'Muchas gracias', 'Gracias', 'Chau', 'Hasta luego!']\n",
            "doc_y: ['bienvenida', 'bienvenida', 'bienvenida', 'nombre', 'nombre', 'nombre', 'nombre', 'peliculas', 'peliculas', 'peliculas', 'peliculas', 'peli1', 'peli1', 'peli1', 'peli1', 'peli2', 'peli2', 'peli2', 'peli2', 'peli3', 'peli3', 'peli3', 'peli3', 'peli4', 'peli4', 'peli4', 'peli4', 'precios', 'precios', 'precios', 'precios', 'precios', 'precios', 'precios', 'precios', 'precios', 'precios', 'precios', 'pagos', 'pagos', 'pagos', 'pagos', 'pagar', 'pagar', 'pagar', 'pagar', 'agradecimientos', 'agradecimientos', 'despedida', 'despedida']\n"
          ]
        }
      ],
      "source": [
        "print(\"words:\", words)\n",
        "print(\"classes:\", classes)\n",
        "print(\"doc_X:\", doc_X)\n",
        "print(\"doc_y:\", doc_y)"
      ]
    },
    {
      "cell_type": "code",
      "execution_count": null,
      "metadata": {
        "colab": {
          "base_uri": "https://localhost:8080/"
        },
        "id": "YI0L2U7IQcvy",
        "outputId": "563fc509-8e7a-41f4-9c10-918f73fe4ee2"
      },
      "outputs": [
        {
          "output_type": "stream",
          "name": "stdout",
          "text": [
            "Vocabulario: 61\n"
          ]
        }
      ],
      "source": [
        "# Tamaño del vocabulario\n",
        "print(\"Vocabulario:\", len(words))"
      ]
    },
    {
      "cell_type": "code",
      "execution_count": null,
      "metadata": {
        "colab": {
          "base_uri": "https://localhost:8080/"
        },
        "id": "hqBeGKRk_q4r",
        "outputId": "4f2a4b22-1260-446e-b0fe-a82306404d3d"
      },
      "outputs": [
        {
          "output_type": "stream",
          "name": "stdout",
          "text": [
            "Tags: 12\n"
          ]
        }
      ],
      "source": [
        "# Cantidad de tags\n",
        "print(\"Tags:\", len(classes))"
      ]
    },
    {
      "cell_type": "code",
      "execution_count": null,
      "metadata": {
        "colab": {
          "base_uri": "https://localhost:8080/"
        },
        "id": "vpbJ0guPN2Uq",
        "outputId": "a77493e1-18a1-4b11-8842-c5bc6a365bc7"
      },
      "outputs": [
        {
          "output_type": "stream",
          "name": "stdout",
          "text": [
            "X: [0, 0, 0, 0, 0, 0, 0, 0, 0, 0, 0, 0, 0, 0, 0, 0, 0, 0, 0, 0, 0, 0, 0, 0, 0, 0, 0, 0, 0, 0, 0, 0, 0, 0, 1, 0, 0, 0, 0, 0, 0, 0, 0, 0, 0, 0, 0, 0, 0, 0, 0, 0, 0, 0, 0, 0, 0, 0, 0, 0, 0] y: [0, 1, 0, 0, 0, 0, 0, 0, 0, 0, 0, 0]\n",
            "X: [0, 0, 0, 0, 0, 0, 0, 0, 0, 0, 0, 0, 0, 0, 0, 0, 1, 0, 0, 0, 0, 0, 0, 0, 0, 1, 0, 0, 0, 0, 0, 0, 0, 0, 0, 0, 0, 0, 0, 0, 0, 0, 0, 0, 0, 0, 0, 0, 0, 0, 0, 0, 0, 0, 0, 0, 0, 0, 0, 0, 0] y: [0, 1, 0, 0, 0, 0, 0, 0, 0, 0, 0, 0]\n",
            "X: [0, 0, 0, 0, 0, 0, 0, 0, 0, 0, 0, 0, 0, 0, 0, 0, 0, 0, 0, 0, 0, 0, 0, 0, 0, 0, 0, 0, 0, 0, 0, 0, 0, 0, 0, 0, 0, 0, 0, 0, 0, 0, 0, 0, 0, 1, 0, 0, 0, 0, 0, 0, 0, 0, 1, 0, 0, 0, 0, 0, 0] y: [0, 1, 0, 0, 0, 0, 0, 0, 0, 0, 0, 0]\n",
            "X: [0, 0, 0, 0, 0, 0, 0, 0, 0, 0, 0, 0, 0, 0, 0, 0, 0, 0, 0, 1, 0, 0, 0, 0, 0, 0, 0, 0, 0, 0, 0, 0, 0, 0, 0, 0, 0, 0, 0, 0, 0, 1, 0, 0, 0, 0, 0, 0, 0, 0, 0, 1, 0, 0, 0, 0, 1, 0, 0, 0, 0] y: [0, 0, 0, 1, 0, 0, 0, 0, 0, 0, 0, 0]\n",
            "X: [0, 0, 0, 0, 0, 0, 0, 0, 0, 0, 0, 0, 0, 0, 0, 0, 0, 0, 0, 0, 0, 0, 0, 0, 0, 0, 0, 0, 0, 0, 0, 0, 0, 0, 0, 0, 0, 0, 0, 0, 0, 0, 0, 0, 0, 0, 0, 1, 0, 0, 0, 1, 0, 0, 0, 0, 0, 0, 0, 0, 0] y: [0, 0, 0, 1, 0, 0, 0, 0, 0, 0, 0, 0]\n",
            "X: [0, 0, 0, 0, 0, 0, 0, 0, 0, 0, 0, 0, 0, 0, 0, 0, 0, 1, 0, 0, 0, 0, 0, 0, 0, 0, 0, 0, 0, 0, 0, 0, 1, 0, 1, 0, 0, 0, 0, 0, 0, 0, 0, 0, 0, 0, 0, 1, 0, 0, 0, 0, 0, 0, 0, 0, 0, 0, 0, 0, 0] y: [0, 0, 0, 1, 0, 0, 0, 0, 0, 0, 0, 0]\n",
            "X: [0, 0, 0, 0, 0, 0, 0, 0, 0, 0, 0, 0, 0, 0, 0, 0, 1, 0, 0, 0, 0, 0, 0, 0, 0, 0, 0, 0, 0, 0, 0, 0, 0, 0, 0, 0, 0, 1, 0, 0, 0, 0, 0, 0, 0, 0, 0, 0, 0, 0, 0, 0, 0, 0, 0, 0, 0, 1, 0, 0, 0] y: [0, 0, 0, 1, 0, 0, 0, 0, 0, 0, 0, 0]\n",
            "X: [0, 0, 0, 0, 0, 0, 0, 0, 0, 0, 0, 0, 0, 0, 1, 0, 0, 0, 0, 0, 0, 0, 0, 0, 1, 0, 0, 0, 0, 0, 0, 1, 0, 0, 0, 0, 0, 0, 0, 0, 0, 0, 0, 1, 0, 1, 1, 0, 0, 0, 1, 0, 0, 0, 0, 0, 0, 0, 0, 0, 0] y: [0, 0, 0, 0, 0, 0, 0, 0, 0, 0, 1, 0]\n",
            "X: [0, 0, 0, 0, 0, 0, 0, 0, 0, 0, 0, 0, 0, 0, 0, 0, 0, 0, 0, 0, 0, 0, 0, 0, 0, 0, 0, 0, 0, 0, 0, 0, 0, 0, 0, 0, 0, 0, 0, 0, 0, 0, 0, 1, 1, 1, 0, 0, 0, 0, 0, 0, 0, 0, 0, 0, 0, 0, 1, 0, 0] y: [0, 0, 0, 0, 0, 0, 0, 0, 0, 0, 1, 0]\n",
            "X: [0, 0, 0, 0, 0, 0, 0, 0, 0, 0, 0, 0, 0, 0, 1, 0, 0, 0, 0, 0, 0, 0, 0, 0, 0, 0, 0, 0, 0, 0, 0, 1, 0, 0, 0, 1, 0, 0, 0, 0, 0, 0, 0, 0, 0, 1, 0, 0, 0, 0, 0, 0, 0, 0, 0, 0, 0, 0, 0, 0, 0] y: [0, 0, 0, 0, 0, 0, 0, 0, 0, 0, 1, 0]\n",
            "X: [0, 0, 0, 0, 0, 0, 0, 0, 0, 0, 0, 0, 0, 0, 0, 0, 0, 0, 0, 0, 0, 0, 0, 0, 0, 0, 0, 0, 0, 0, 0, 0, 0, 0, 0, 0, 0, 0, 0, 0, 0, 0, 0, 0, 1, 1, 0, 0, 0, 0, 0, 0, 0, 0, 0, 0, 0, 0, 1, 0, 0] y: [0, 0, 0, 0, 0, 0, 0, 0, 0, 0, 1, 0]\n"
          ]
        },
        {
          "output_type": "stream",
          "name": "stderr",
          "text": [
            "/usr/local/lib/python3.7/dist-packages/stanza/models/common/beam.py:86: UserWarning: __floordiv__ is deprecated, and its behavior will change in a future version of pytorch. It currently rounds toward 0 (like the 'trunc' function NOT 'floor'). This results in incorrect rounding for negative values. To keep the current behavior, use torch.div(a, b, rounding_mode='trunc'), or for actual floor division, use torch.div(a, b, rounding_mode='floor').\n",
            "  prevK = bestScoresId // numWords\n",
            "/usr/local/lib/python3.7/dist-packages/spacy/language.py:1008: UserWarning: Due to multiword token expansion or an alignment issue, the original text has been replaced by space-separated expanded tokens.\n",
            "  doc = self._ensure_doc(text)\n",
            "/usr/local/lib/python3.7/dist-packages/spacy/language.py:1008: UserWarning: Can't set named entities because of multi-word token expansion or because the character offsets don't map to valid tokens produced by the Stanza tokenizer:\n",
            "Words: ['quiero', 'ver', 'volver', 'a', 'el', 'futuro']\n",
            "Entities: []\n",
            "  doc = self._ensure_doc(text)\n"
          ]
        },
        {
          "output_type": "stream",
          "name": "stdout",
          "text": [
            "X: [0, 0, 0, 0, 0, 0, 0, 0, 0, 0, 0, 0, 1, 0, 0, 0, 0, 0, 0, 0, 0, 0, 1, 0, 0, 0, 0, 1, 0, 0, 0, 0, 0, 0, 0, 0, 0, 0, 0, 0, 0, 0, 0, 0, 0, 0, 1, 0, 0, 0, 0, 0, 0, 0, 0, 0, 0, 0, 1, 1, 0] y: [0, 0, 0, 0, 0, 0, 1, 0, 0, 0, 0, 0]\n",
            "X: [0, 0, 0, 0, 0, 0, 0, 0, 0, 0, 0, 0, 1, 0, 0, 0, 0, 0, 0, 0, 0, 0, 1, 1, 0, 0, 0, 1, 0, 0, 0, 0, 0, 0, 0, 0, 0, 0, 0, 0, 0, 0, 0, 0, 0, 0, 0, 0, 0, 0, 0, 0, 0, 0, 0, 0, 0, 0, 0, 1, 0] y: [0, 0, 0, 0, 0, 0, 1, 0, 0, 0, 0, 0]\n"
          ]
        },
        {
          "output_type": "stream",
          "name": "stderr",
          "text": [
            "/usr/local/lib/python3.7/dist-packages/spacy/language.py:1008: UserWarning: Can't set named entities because of multi-word token expansion or because the character offsets don't map to valid tokens produced by the Stanza tokenizer:\n",
            "Words: ['elijo', 'volver', 'a', 'el', 'futuro']\n",
            "Entities: []\n",
            "  doc = self._ensure_doc(text)\n",
            "/usr/local/lib/python3.7/dist-packages/spacy/language.py:1008: UserWarning: Can't set named entities because of multi-word token expansion or because the character offsets don't map to valid tokens produced by the Stanza tokenizer:\n",
            "Words: ['volver', 'a', 'el', 'futuro']\n",
            "Entities: []\n",
            "  doc = self._ensure_doc(text)\n"
          ]
        },
        {
          "output_type": "stream",
          "name": "stdout",
          "text": [
            "X: [0, 0, 0, 0, 0, 0, 0, 0, 0, 0, 0, 0, 1, 0, 0, 0, 0, 0, 0, 0, 0, 0, 1, 0, 0, 0, 0, 1, 0, 0, 0, 0, 0, 0, 0, 0, 0, 0, 0, 0, 0, 0, 0, 0, 0, 0, 0, 0, 0, 0, 0, 0, 0, 0, 0, 0, 0, 0, 0, 1, 0] y: [0, 0, 0, 0, 0, 0, 1, 0, 0, 0, 0, 0]\n",
            "X: [0, 0, 0, 0, 0, 0, 0, 0, 0, 0, 0, 0, 1, 0, 0, 0, 0, 0, 0, 0, 0, 0, 1, 0, 0, 0, 0, 1, 0, 0, 1, 0, 0, 0, 0, 0, 0, 0, 0, 0, 0, 0, 0, 0, 0, 0, 0, 0, 0, 0, 0, 0, 0, 0, 0, 0, 0, 0, 0, 1, 1] y: [0, 0, 0, 0, 0, 0, 1, 0, 0, 0, 0, 0]\n"
          ]
        },
        {
          "output_type": "stream",
          "name": "stderr",
          "text": [
            "/usr/local/lib/python3.7/dist-packages/spacy/language.py:1008: UserWarning: Can't set named entities because of multi-word token expansion or because the character offsets don't map to valid tokens produced by the Stanza tokenizer:\n",
            "Words: ['me', 'gusta', 'volver', 'a', 'el', 'futuro']\n",
            "Entities: []\n",
            "  doc = self._ensure_doc(text)\n"
          ]
        },
        {
          "output_type": "stream",
          "name": "stdout",
          "text": [
            "X: [0, 0, 0, 0, 0, 0, 0, 0, 0, 0, 0, 0, 0, 0, 0, 0, 0, 0, 0, 0, 0, 0, 0, 0, 0, 0, 1, 0, 0, 1, 0, 0, 0, 0, 0, 0, 0, 0, 0, 0, 0, 0, 0, 0, 0, 0, 1, 0, 0, 0, 0, 0, 0, 0, 0, 0, 0, 0, 1, 0, 0] y: [0, 0, 0, 0, 0, 0, 0, 1, 0, 0, 0, 0]\n",
            "X: [0, 0, 0, 0, 0, 0, 0, 0, 0, 0, 0, 0, 0, 0, 0, 0, 0, 0, 0, 0, 0, 0, 0, 1, 0, 0, 1, 0, 0, 1, 0, 0, 0, 0, 0, 0, 0, 0, 0, 0, 0, 0, 0, 0, 0, 0, 0, 0, 0, 0, 0, 0, 0, 0, 0, 0, 0, 0, 0, 0, 0] y: [0, 0, 0, 0, 0, 0, 0, 1, 0, 0, 0, 0]\n",
            "X: [0, 0, 0, 0, 0, 0, 0, 0, 0, 0, 0, 0, 0, 0, 0, 0, 0, 0, 0, 0, 0, 0, 0, 0, 0, 0, 1, 0, 0, 1, 0, 0, 0, 0, 0, 0, 0, 0, 0, 0, 0, 0, 0, 0, 0, 0, 0, 0, 0, 0, 0, 0, 0, 0, 0, 0, 0, 0, 0, 0, 0] y: [0, 0, 0, 0, 0, 0, 0, 1, 0, 0, 0, 0]\n",
            "X: [0, 0, 0, 0, 0, 0, 0, 0, 0, 0, 0, 0, 0, 0, 0, 0, 0, 0, 0, 0, 0, 0, 0, 0, 0, 0, 1, 0, 0, 1, 1, 0, 0, 0, 0, 0, 0, 0, 0, 0, 0, 0, 0, 0, 0, 0, 0, 0, 0, 0, 0, 0, 0, 0, 0, 0, 0, 0, 0, 0, 1] y: [0, 0, 0, 0, 0, 0, 0, 1, 0, 0, 0, 0]\n"
          ]
        },
        {
          "output_type": "stream",
          "name": "stderr",
          "text": [
            "/usr/local/lib/python3.7/dist-packages/spacy/language.py:1008: UserWarning: Can't set named entities because of multi-word token expansion or because the character offsets don't map to valid tokens produced by the Stanza tokenizer:\n",
            "Words: ['quiero', 'ver', 'rescatando', 'a', 'el', 'soldado', 'ryan']\n",
            "Entities: []\n",
            "  doc = self._ensure_doc(text)\n",
            "/usr/local/lib/python3.7/dist-packages/spacy/language.py:1008: UserWarning: Can't set named entities because of multi-word token expansion or because the character offsets don't map to valid tokens produced by the Stanza tokenizer:\n",
            "Words: ['elijo', 'rescatando', 'a', 'el', 'soldado', 'ryan']\n",
            "Entities: []\n",
            "  doc = self._ensure_doc(text)\n"
          ]
        },
        {
          "output_type": "stream",
          "name": "stdout",
          "text": [
            "X: [0, 0, 0, 0, 0, 0, 0, 0, 0, 0, 0, 0, 1, 0, 0, 0, 0, 0, 0, 0, 0, 0, 1, 0, 0, 0, 0, 0, 0, 0, 0, 0, 0, 0, 0, 0, 0, 0, 0, 0, 0, 0, 0, 0, 0, 0, 1, 0, 1, 1, 0, 0, 1, 0, 0, 0, 0, 0, 1, 0, 0] y: [0, 0, 0, 0, 0, 0, 0, 0, 1, 0, 0, 0]\n",
            "X: [0, 0, 0, 0, 0, 0, 0, 0, 0, 0, 0, 0, 1, 0, 0, 0, 0, 0, 0, 0, 0, 0, 1, 1, 0, 0, 0, 0, 0, 0, 0, 0, 0, 0, 0, 0, 0, 0, 0, 0, 0, 0, 0, 0, 0, 0, 0, 0, 1, 1, 0, 0, 1, 0, 0, 0, 0, 0, 0, 0, 0] y: [0, 0, 0, 0, 0, 0, 0, 0, 1, 0, 0, 0]\n"
          ]
        },
        {
          "output_type": "stream",
          "name": "stderr",
          "text": [
            "/usr/local/lib/python3.7/dist-packages/spacy/language.py:1008: UserWarning: Can't set named entities because of multi-word token expansion or because the character offsets don't map to valid tokens produced by the Stanza tokenizer:\n",
            "Words: ['rescatando', 'a', 'el', 'soldado', 'ryan']\n",
            "Entities: []\n",
            "  doc = self._ensure_doc(text)\n",
            "/usr/local/lib/python3.7/dist-packages/spacy/language.py:1008: UserWarning: Can't set named entities because of multi-word token expansion or because the character offsets don't map to valid tokens produced by the Stanza tokenizer:\n",
            "Words: ['me', 'gusta', 'rescatando', 'a', 'el', 'soldado', 'ryan']\n",
            "Entities: []\n",
            "  doc = self._ensure_doc(text)\n"
          ]
        },
        {
          "output_type": "stream",
          "name": "stdout",
          "text": [
            "X: [0, 0, 0, 0, 0, 0, 0, 0, 0, 0, 0, 0, 1, 0, 0, 0, 0, 0, 0, 0, 0, 0, 1, 0, 0, 0, 0, 0, 0, 0, 0, 0, 0, 0, 0, 0, 0, 0, 0, 0, 0, 0, 0, 0, 0, 0, 0, 0, 1, 1, 0, 0, 1, 0, 0, 0, 0, 0, 0, 0, 0] y: [0, 0, 0, 0, 0, 0, 0, 0, 1, 0, 0, 0]\n",
            "X: [0, 0, 0, 0, 0, 0, 0, 0, 0, 0, 0, 0, 1, 0, 0, 0, 0, 0, 0, 0, 0, 0, 1, 0, 0, 0, 0, 0, 0, 0, 1, 0, 0, 0, 0, 0, 0, 0, 0, 0, 0, 0, 0, 0, 0, 0, 0, 0, 1, 1, 0, 0, 1, 0, 0, 0, 0, 0, 0, 0, 1] y: [0, 0, 0, 0, 0, 0, 0, 0, 1, 0, 0, 0]\n",
            "X: [0, 0, 0, 0, 0, 0, 0, 0, 0, 0, 0, 1, 0, 0, 0, 0, 0, 0, 0, 0, 0, 0, 0, 0, 0, 0, 0, 0, 0, 0, 0, 0, 0, 0, 0, 0, 0, 0, 0, 0, 0, 0, 0, 0, 0, 0, 1, 0, 0, 0, 0, 0, 0, 1, 0, 0, 0, 0, 1, 0, 0] y: [0, 0, 0, 0, 0, 0, 0, 0, 0, 1, 0, 0]\n",
            "X: [0, 0, 0, 0, 0, 0, 0, 0, 0, 0, 0, 1, 0, 0, 0, 0, 0, 0, 0, 0, 0, 0, 0, 1, 0, 0, 0, 0, 0, 0, 0, 0, 0, 0, 0, 0, 0, 0, 0, 0, 0, 0, 0, 0, 0, 0, 0, 0, 0, 0, 0, 0, 0, 1, 0, 0, 0, 0, 0, 0, 0] y: [0, 0, 0, 0, 0, 0, 0, 0, 0, 1, 0, 0]\n",
            "X: [0, 0, 0, 0, 0, 0, 0, 0, 0, 0, 0, 1, 0, 0, 0, 0, 0, 0, 0, 0, 0, 0, 0, 0, 0, 0, 0, 0, 0, 0, 0, 0, 0, 0, 0, 0, 0, 0, 0, 0, 0, 0, 0, 0, 0, 0, 0, 0, 0, 0, 0, 0, 0, 1, 0, 0, 0, 0, 0, 0, 0] y: [0, 0, 0, 0, 0, 0, 0, 0, 0, 1, 0, 0]\n",
            "X: [0, 0, 0, 0, 0, 0, 0, 0, 0, 0, 0, 1, 0, 0, 0, 0, 0, 0, 0, 0, 0, 0, 0, 0, 0, 0, 0, 0, 0, 0, 1, 0, 0, 0, 0, 0, 0, 0, 0, 0, 0, 0, 0, 0, 0, 0, 0, 0, 0, 0, 0, 0, 0, 1, 0, 0, 0, 0, 0, 0, 1] y: [0, 0, 0, 0, 0, 0, 0, 0, 0, 1, 0, 0]\n",
            "X: [1, 0, 0, 0, 0, 0, 0, 0, 0, 0, 0, 0, 0, 0, 0, 0, 0, 0, 0, 0, 0, 0, 0, 1, 0, 0, 0, 0, 0, 0, 0, 0, 0, 0, 0, 0, 0, 0, 0, 0, 0, 0, 0, 0, 0, 0, 0, 0, 0, 0, 0, 0, 0, 0, 0, 0, 0, 0, 0, 0, 0] y: [0, 0, 0, 0, 0, 0, 0, 0, 0, 0, 0, 1]\n",
            "X: [0, 0, 1, 0, 0, 0, 0, 0, 0, 0, 0, 0, 0, 0, 0, 0, 0, 0, 0, 0, 0, 0, 0, 1, 0, 0, 0, 0, 0, 0, 0, 0, 0, 0, 0, 0, 0, 0, 0, 0, 0, 0, 0, 0, 0, 0, 0, 0, 0, 0, 0, 0, 0, 0, 0, 0, 0, 0, 0, 0, 0] y: [0, 0, 0, 0, 0, 0, 0, 0, 0, 0, 0, 1]\n",
            "X: [0, 1, 0, 0, 0, 0, 0, 0, 0, 0, 0, 0, 0, 0, 0, 0, 0, 0, 0, 0, 0, 0, 0, 1, 0, 0, 0, 0, 0, 0, 0, 0, 0, 0, 0, 0, 0, 0, 0, 0, 0, 0, 0, 0, 0, 0, 0, 0, 0, 0, 0, 0, 0, 0, 0, 0, 0, 0, 0, 0, 0] y: [0, 0, 0, 0, 0, 0, 0, 0, 0, 0, 0, 1]\n",
            "X: [0, 0, 0, 1, 0, 0, 0, 0, 0, 0, 0, 0, 0, 0, 0, 0, 0, 0, 0, 0, 0, 0, 0, 1, 0, 0, 0, 0, 0, 0, 0, 0, 0, 0, 0, 0, 0, 0, 0, 0, 0, 0, 0, 0, 0, 0, 0, 0, 0, 0, 0, 0, 0, 0, 0, 0, 0, 0, 0, 0, 0] y: [0, 0, 0, 0, 0, 0, 0, 0, 0, 0, 0, 1]\n",
            "X: [0, 0, 0, 0, 1, 0, 0, 0, 0, 0, 0, 0, 0, 0, 0, 0, 0, 0, 0, 0, 0, 0, 0, 1, 0, 0, 0, 0, 0, 0, 0, 0, 0, 0, 0, 0, 0, 0, 0, 0, 0, 0, 0, 0, 0, 0, 0, 0, 0, 0, 0, 0, 0, 0, 0, 0, 0, 0, 0, 0, 0] y: [0, 0, 0, 0, 0, 0, 0, 0, 0, 0, 0, 1]\n",
            "X: [0, 0, 0, 0, 0, 0, 1, 0, 0, 0, 0, 0, 0, 0, 0, 0, 0, 0, 0, 0, 0, 0, 0, 1, 0, 0, 0, 0, 0, 0, 0, 0, 0, 0, 0, 0, 0, 0, 0, 0, 0, 0, 0, 0, 0, 0, 0, 0, 0, 0, 0, 0, 0, 0, 0, 0, 0, 0, 0, 0, 0] y: [0, 0, 0, 0, 0, 0, 0, 0, 0, 0, 0, 1]\n",
            "X: [0, 0, 0, 0, 0, 1, 0, 0, 0, 0, 0, 0, 0, 0, 0, 0, 0, 0, 0, 0, 0, 0, 0, 1, 0, 0, 0, 0, 0, 0, 0, 0, 0, 0, 0, 0, 0, 0, 0, 0, 0, 0, 0, 0, 0, 0, 0, 0, 0, 0, 0, 0, 0, 0, 0, 0, 0, 0, 0, 0, 0] y: [0, 0, 0, 0, 0, 0, 0, 0, 0, 0, 0, 1]\n",
            "X: [0, 0, 0, 0, 0, 0, 0, 0, 1, 0, 0, 0, 0, 0, 0, 0, 0, 0, 0, 0, 0, 0, 0, 1, 0, 0, 0, 0, 0, 0, 0, 0, 0, 0, 0, 0, 0, 0, 0, 0, 0, 0, 0, 0, 0, 0, 0, 0, 0, 0, 0, 0, 0, 0, 0, 0, 0, 0, 0, 0, 0] y: [0, 0, 0, 0, 0, 0, 0, 0, 0, 0, 0, 1]\n",
            "X: [0, 0, 0, 0, 0, 0, 0, 1, 0, 0, 0, 0, 0, 0, 0, 0, 0, 0, 0, 0, 0, 0, 0, 1, 0, 0, 0, 0, 0, 0, 0, 0, 0, 0, 0, 0, 0, 0, 0, 0, 0, 0, 0, 0, 0, 0, 0, 0, 0, 0, 0, 0, 0, 0, 0, 0, 0, 0, 0, 0, 0] y: [0, 0, 0, 0, 0, 0, 0, 0, 0, 0, 0, 1]\n",
            "X: [0, 0, 0, 0, 0, 0, 0, 0, 0, 0, 1, 0, 0, 0, 0, 0, 0, 0, 0, 0, 0, 0, 0, 1, 0, 0, 0, 0, 0, 0, 0, 0, 0, 0, 0, 0, 0, 0, 0, 0, 0, 0, 0, 0, 0, 0, 0, 0, 0, 0, 0, 0, 0, 0, 0, 0, 0, 0, 0, 0, 0] y: [0, 0, 0, 0, 0, 0, 0, 0, 0, 0, 0, 1]\n",
            "X: [0, 0, 0, 0, 0, 0, 0, 0, 0, 1, 0, 0, 0, 0, 0, 0, 0, 0, 0, 0, 0, 0, 0, 1, 0, 0, 0, 0, 0, 0, 0, 0, 0, 0, 0, 0, 0, 0, 0, 0, 0, 0, 0, 0, 0, 0, 0, 0, 0, 0, 0, 0, 0, 0, 0, 0, 0, 0, 0, 0, 0] y: [0, 0, 0, 0, 0, 0, 0, 0, 0, 0, 0, 1]\n",
            "X: [0, 0, 0, 0, 0, 0, 0, 0, 0, 0, 0, 0, 0, 0, 0, 0, 1, 0, 0, 0, 0, 0, 0, 0, 0, 0, 0, 0, 0, 0, 0, 0, 0, 0, 0, 0, 0, 0, 0, 0, 0, 0, 1, 0, 1, 0, 0, 0, 0, 0, 0, 0, 0, 0, 0, 0, 0, 0, 0, 0, 0] y: [0, 0, 0, 0, 0, 1, 0, 0, 0, 0, 0, 0]\n",
            "X: [0, 0, 0, 0, 0, 0, 0, 0, 0, 0, 0, 0, 0, 0, 0, 0, 0, 1, 1, 0, 1, 0, 0, 0, 0, 0, 0, 0, 0, 0, 0, 0, 0, 0, 0, 0, 0, 0, 0, 0, 0, 0, 1, 0, 1, 0, 0, 0, 0, 0, 0, 0, 0, 0, 0, 1, 0, 0, 0, 0, 0] y: [0, 0, 0, 0, 0, 1, 0, 0, 0, 0, 0, 0]\n",
            "X: [0, 0, 0, 0, 0, 0, 0, 0, 0, 0, 0, 0, 0, 1, 0, 0, 0, 0, 0, 0, 0, 0, 0, 0, 0, 0, 0, 0, 0, 0, 0, 0, 0, 0, 0, 0, 0, 0, 0, 0, 0, 0, 0, 0, 0, 0, 0, 0, 0, 0, 0, 0, 0, 0, 0, 1, 0, 0, 0, 0, 0] y: [0, 0, 0, 0, 0, 1, 0, 0, 0, 0, 0, 0]\n",
            "X: [0, 0, 0, 0, 0, 0, 0, 0, 0, 0, 0, 0, 0, 1, 0, 0, 0, 0, 0, 0, 0, 0, 0, 0, 0, 0, 0, 0, 0, 0, 0, 0, 0, 0, 0, 0, 0, 0, 0, 1, 0, 0, 0, 0, 0, 0, 0, 0, 0, 0, 0, 0, 0, 0, 0, 0, 0, 0, 0, 0, 0] y: [0, 0, 0, 0, 0, 1, 0, 0, 0, 0, 0, 0]\n",
            "X: [0, 0, 0, 0, 0, 0, 0, 0, 0, 0, 0, 0, 1, 0, 0, 0, 0, 0, 0, 0, 0, 1, 0, 0, 1, 0, 0, 0, 0, 0, 0, 0, 0, 0, 0, 0, 1, 0, 0, 0, 0, 0, 1, 0, 0, 0, 0, 0, 0, 0, 0, 0, 0, 0, 0, 0, 0, 0, 0, 0, 0] y: [0, 0, 0, 0, 1, 0, 0, 0, 0, 0, 0, 0]\n",
            "X: [0, 0, 0, 0, 0, 0, 0, 0, 0, 0, 0, 0, 1, 0, 0, 0, 0, 1, 1, 0, 1, 0, 0, 0, 0, 0, 0, 0, 0, 0, 0, 0, 0, 0, 0, 0, 1, 0, 0, 0, 0, 0, 1, 0, 0, 0, 0, 0, 0, 0, 0, 0, 0, 0, 0, 1, 0, 0, 0, 0, 0] y: [0, 0, 0, 0, 1, 0, 0, 0, 0, 0, 0, 0]\n",
            "X: [0, 0, 0, 0, 0, 0, 0, 0, 0, 0, 0, 0, 1, 0, 0, 0, 0, 1, 0, 0, 0, 0, 0, 0, 0, 0, 0, 0, 0, 0, 0, 0, 0, 0, 0, 0, 1, 0, 0, 0, 0, 0, 1, 0, 0, 0, 0, 0, 0, 0, 0, 0, 0, 0, 0, 1, 0, 0, 0, 0, 0] y: [0, 0, 0, 0, 1, 0, 0, 0, 0, 0, 0, 0]\n",
            "X: [0, 0, 0, 0, 0, 0, 0, 0, 0, 0, 0, 0, 1, 0, 0, 0, 0, 1, 0, 0, 0, 0, 0, 0, 0, 0, 0, 0, 0, 0, 0, 0, 0, 0, 0, 0, 1, 0, 0, 1, 0, 0, 1, 0, 0, 0, 0, 0, 0, 0, 0, 0, 0, 0, 0, 0, 0, 0, 0, 0, 0] y: [0, 0, 0, 0, 1, 0, 0, 0, 0, 0, 0, 0]\n",
            "X: [0, 0, 0, 0, 0, 0, 0, 0, 0, 0, 0, 0, 0, 0, 0, 0, 0, 0, 0, 0, 0, 0, 0, 0, 0, 0, 0, 0, 1, 0, 0, 0, 0, 0, 0, 0, 0, 0, 0, 0, 1, 0, 0, 0, 0, 0, 0, 0, 0, 0, 0, 0, 0, 0, 0, 0, 0, 0, 0, 0, 0] y: [1, 0, 0, 0, 0, 0, 0, 0, 0, 0, 0, 0]\n",
            "X: [0, 0, 0, 0, 0, 0, 0, 0, 0, 0, 0, 0, 0, 0, 0, 0, 0, 0, 0, 0, 0, 0, 0, 0, 0, 0, 0, 0, 1, 0, 0, 0, 0, 0, 0, 0, 0, 0, 0, 0, 0, 0, 0, 0, 0, 0, 0, 0, 0, 0, 0, 0, 0, 0, 0, 0, 0, 0, 0, 0, 0] y: [1, 0, 0, 0, 0, 0, 0, 0, 0, 0, 0, 0]\n",
            "X: [0, 0, 0, 0, 0, 0, 0, 0, 0, 0, 0, 0, 0, 0, 0, 1, 0, 0, 0, 0, 0, 0, 0, 0, 0, 0, 0, 0, 0, 0, 0, 0, 0, 0, 0, 0, 0, 0, 0, 0, 0, 0, 0, 0, 0, 0, 0, 0, 0, 0, 0, 0, 0, 0, 0, 0, 0, 0, 0, 0, 0] y: [0, 0, 1, 0, 0, 0, 0, 0, 0, 0, 0, 0]\n",
            "X: [0, 0, 0, 0, 0, 0, 0, 0, 0, 0, 0, 0, 0, 0, 0, 0, 0, 0, 0, 0, 0, 0, 0, 0, 0, 0, 0, 0, 0, 0, 0, 0, 0, 1, 0, 0, 0, 0, 1, 0, 0, 0, 0, 0, 0, 0, 0, 0, 0, 0, 0, 0, 0, 0, 0, 0, 0, 0, 0, 0, 0] y: [0, 0, 1, 0, 0, 0, 0, 0, 0, 0, 0, 0]\n"
          ]
        }
      ],
      "source": [
        "# Transformar doc_X en bag of words por oneHotEncoding\n",
        "# Transformar doc_Y en un vector de clases multicategórico con oneHotEncoding\n",
        "\n",
        "training = []\n",
        "out_empty = [0] * len(classes)\n",
        "\n",
        "for idx, doc in enumerate(doc_X):\n",
        "    # Transformar la pregunta (input) en tokens y lematizar\n",
        "    text = []\n",
        "    tokens = nlp(preprocess_clean_text(doc.lower()))\n",
        "    for token in tokens:\n",
        "        text.append(token.lemma_)\n",
        "\n",
        "    # Transformar los tokens en \"Bag of words\" (arrays de 1 y 0)\n",
        "    bow = []\n",
        "    for word in words:\n",
        "        bow.append(1) if word in text else bow.append(0)\n",
        "    \n",
        "    # Crear el array de salida (class output) correspondiente\n",
        "    output_row = list(out_empty)\n",
        "    output_row[classes.index(doc_y[idx])] = 1\n",
        "\n",
        "    print(\"X:\", bow, \"y:\", output_row)\n",
        "    training.append([bow, output_row])\n",
        "\n",
        "# Mezclar los datos\n",
        "random.shuffle(training)\n",
        "training = np.array(training, dtype=object)\n",
        "# Dividir en datos de entrada y salida\n",
        "train_X = np.array(list(training[:, 0]))\n",
        "train_y = np.array(list(training[:, 1]))"
      ]
    },
    {
      "cell_type": "markdown",
      "metadata": {
        "id": "a_Hr8QaDfRf3"
      },
      "source": [
        "### 5 - Entrenamiento del modelo"
      ]
    },
    {
      "cell_type": "code",
      "execution_count": null,
      "metadata": {
        "colab": {
          "base_uri": "https://localhost:8080/"
        },
        "id": "fopb3NqcAGTz",
        "outputId": "ba3106cf-1a3f-49c4-fa06-c7bb6de6ab46"
      },
      "outputs": [
        {
          "output_type": "stream",
          "name": "stdout",
          "text": [
            "input: (61,) output: 12\n"
          ]
        }
      ],
      "source": [
        "# Shape de entrada y salida\n",
        "input_shape = (train_X.shape[1],)\n",
        "output_shape = train_y.shape[1]\n",
        "print(\"input:\", input_shape, \"output:\", output_shape)"
      ]
    },
    {
      "cell_type": "code",
      "execution_count": null,
      "metadata": {
        "colab": {
          "base_uri": "https://localhost:8080/"
        },
        "id": "xy7tzkwdOZx9",
        "outputId": "850b419e-dc0b-42d5-84d0-c4554f44d6cf"
      },
      "outputs": [
        {
          "output_type": "stream",
          "name": "stdout",
          "text": [
            "Model: \"sequential\"\n",
            "_________________________________________________________________\n",
            " Layer (type)                Output Shape              Param #   \n",
            "=================================================================\n",
            " dense (Dense)               (None, 256)               15872     \n",
            "                                                                 \n",
            " dropout (Dropout)           (None, 256)               0         \n",
            "                                                                 \n",
            " dense_1 (Dense)             (None, 128)               32896     \n",
            "                                                                 \n",
            " dropout_1 (Dropout)         (None, 128)               0         \n",
            "                                                                 \n",
            " dense_2 (Dense)             (None, 64)                8256      \n",
            "                                                                 \n",
            " dropout_2 (Dropout)         (None, 64)                0         \n",
            "                                                                 \n",
            " dense_3 (Dense)             (None, 12)                780       \n",
            "                                                                 \n",
            "=================================================================\n",
            "Total params: 57,804\n",
            "Trainable params: 57,804\n",
            "Non-trainable params: 0\n",
            "_________________________________________________________________\n",
            "None\n"
          ]
        }
      ],
      "source": [
        "# Entrenamiento del modelo DNN\n",
        "# - Modelo secuencial\n",
        "# - Con regularización\n",
        "# - softmax y optimizador Adam\n",
        "model = Sequential()\n",
        "model.add(Dense(256, input_shape=input_shape, activation=\"relu\"))  #128\n",
        "model.add(Dropout(0.5))\n",
        "model.add(Dense(128, activation=\"relu\"))\n",
        "model.add(Dropout(0.5))\n",
        "model.add(Dense(64, activation=\"relu\"))\n",
        "model.add(Dropout(0.5))\n",
        "model.add(Dense(output_shape, activation = \"softmax\"))\n",
        "\n",
        "model.compile(loss='categorical_crossentropy',\n",
        "              optimizer=\"Adam\",\n",
        "              metrics=[\"accuracy\"])\n",
        "print(model.summary())"
      ]
    },
    {
      "cell_type": "code",
      "execution_count": null,
      "metadata": {
        "colab": {
          "base_uri": "https://localhost:8080/"
        },
        "id": "r6hi4EcdOghm",
        "outputId": "fce3c7e0-7666-46b1-f545-fac4a8526fcf"
      },
      "outputs": [
        {
          "output_type": "stream",
          "name": "stdout",
          "text": [
            "Epoch 1/200\n",
            "2/2 [==============================] - 1s 9ms/step - loss: 2.4887 - accuracy: 0.0800\n",
            "Epoch 2/200\n",
            "2/2 [==============================] - 0s 8ms/step - loss: 2.5302 - accuracy: 0.0600\n",
            "Epoch 3/200\n",
            "2/2 [==============================] - 0s 7ms/step - loss: 2.4550 - accuracy: 0.1200\n",
            "Epoch 4/200\n",
            "2/2 [==============================] - 0s 12ms/step - loss: 2.4943 - accuracy: 0.1000\n",
            "Epoch 5/200\n",
            "2/2 [==============================] - 0s 7ms/step - loss: 2.4054 - accuracy: 0.2400\n",
            "Epoch 6/200\n",
            "2/2 [==============================] - 0s 7ms/step - loss: 2.4316 - accuracy: 0.2000\n",
            "Epoch 7/200\n",
            "2/2 [==============================] - 0s 7ms/step - loss: 2.3792 - accuracy: 0.2200\n",
            "Epoch 8/200\n",
            "2/2 [==============================] - 0s 9ms/step - loss: 2.4024 - accuracy: 0.1400\n",
            "Epoch 9/200\n",
            "2/2 [==============================] - 0s 7ms/step - loss: 2.3543 - accuracy: 0.2000\n",
            "Epoch 10/200\n",
            "2/2 [==============================] - 0s 8ms/step - loss: 2.3308 - accuracy: 0.1800\n",
            "Epoch 11/200\n",
            "2/2 [==============================] - 0s 8ms/step - loss: 2.2934 - accuracy: 0.2600\n",
            "Epoch 12/200\n",
            "2/2 [==============================] - 0s 9ms/step - loss: 2.3063 - accuracy: 0.3000\n",
            "Epoch 13/200\n",
            "2/2 [==============================] - 0s 9ms/step - loss: 2.2511 - accuracy: 0.2600\n",
            "Epoch 14/200\n",
            "2/2 [==============================] - 0s 9ms/step - loss: 2.2322 - accuracy: 0.2600\n",
            "Epoch 15/200\n",
            "2/2 [==============================] - 0s 7ms/step - loss: 2.1600 - accuracy: 0.2600\n",
            "Epoch 16/200\n",
            "2/2 [==============================] - 0s 6ms/step - loss: 2.1808 - accuracy: 0.3800\n",
            "Epoch 17/200\n",
            "2/2 [==============================] - 0s 11ms/step - loss: 2.2048 - accuracy: 0.2200\n",
            "Epoch 18/200\n",
            "2/2 [==============================] - 0s 6ms/step - loss: 2.0645 - accuracy: 0.4000\n",
            "Epoch 19/200\n",
            "2/2 [==============================] - 0s 9ms/step - loss: 2.0879 - accuracy: 0.3400\n",
            "Epoch 20/200\n",
            "2/2 [==============================] - 0s 8ms/step - loss: 2.0023 - accuracy: 0.4400\n",
            "Epoch 21/200\n",
            "2/2 [==============================] - 0s 6ms/step - loss: 2.0875 - accuracy: 0.3800\n",
            "Epoch 22/200\n",
            "2/2 [==============================] - 0s 8ms/step - loss: 1.8782 - accuracy: 0.4600\n",
            "Epoch 23/200\n",
            "2/2 [==============================] - 0s 8ms/step - loss: 1.9091 - accuracy: 0.4600\n",
            "Epoch 24/200\n",
            "2/2 [==============================] - 0s 8ms/step - loss: 1.8195 - accuracy: 0.4400\n",
            "Epoch 25/200\n",
            "2/2 [==============================] - 0s 9ms/step - loss: 1.7335 - accuracy: 0.5200\n",
            "Epoch 26/200\n",
            "2/2 [==============================] - 0s 8ms/step - loss: 1.7735 - accuracy: 0.5400\n",
            "Epoch 27/200\n",
            "2/2 [==============================] - 0s 8ms/step - loss: 1.8082 - accuracy: 0.3800\n",
            "Epoch 28/200\n",
            "2/2 [==============================] - 0s 8ms/step - loss: 1.7591 - accuracy: 0.4600\n",
            "Epoch 29/200\n",
            "2/2 [==============================] - 0s 8ms/step - loss: 1.6099 - accuracy: 0.6000\n",
            "Epoch 30/200\n",
            "2/2 [==============================] - 0s 7ms/step - loss: 1.5734 - accuracy: 0.6000\n",
            "Epoch 31/200\n",
            "2/2 [==============================] - 0s 7ms/step - loss: 1.6211 - accuracy: 0.4200\n",
            "Epoch 32/200\n",
            "2/2 [==============================] - 0s 8ms/step - loss: 1.4868 - accuracy: 0.6200\n",
            "Epoch 33/200\n",
            "2/2 [==============================] - 0s 8ms/step - loss: 1.4448 - accuracy: 0.7200\n",
            "Epoch 34/200\n",
            "2/2 [==============================] - 0s 8ms/step - loss: 1.5737 - accuracy: 0.5200\n",
            "Epoch 35/200\n",
            "2/2 [==============================] - 0s 8ms/step - loss: 1.4089 - accuracy: 0.6400\n",
            "Epoch 36/200\n",
            "2/2 [==============================] - 0s 8ms/step - loss: 1.3158 - accuracy: 0.6200\n",
            "Epoch 37/200\n",
            "2/2 [==============================] - 0s 8ms/step - loss: 1.2033 - accuracy: 0.6800\n",
            "Epoch 38/200\n",
            "2/2 [==============================] - 0s 12ms/step - loss: 1.2517 - accuracy: 0.6800\n",
            "Epoch 39/200\n",
            "2/2 [==============================] - 0s 8ms/step - loss: 1.2870 - accuracy: 0.6400\n",
            "Epoch 40/200\n",
            "2/2 [==============================] - 0s 6ms/step - loss: 1.1530 - accuracy: 0.7400\n",
            "Epoch 41/200\n",
            "2/2 [==============================] - 0s 6ms/step - loss: 1.2362 - accuracy: 0.6600\n",
            "Epoch 42/200\n",
            "2/2 [==============================] - 0s 7ms/step - loss: 1.1700 - accuracy: 0.6000\n",
            "Epoch 43/200\n",
            "2/2 [==============================] - 0s 7ms/step - loss: 1.2061 - accuracy: 0.6600\n",
            "Epoch 44/200\n",
            "2/2 [==============================] - 0s 7ms/step - loss: 0.9645 - accuracy: 0.7200\n",
            "Epoch 45/200\n",
            "2/2 [==============================] - 0s 7ms/step - loss: 0.9770 - accuracy: 0.7400\n",
            "Epoch 46/200\n",
            "2/2 [==============================] - 0s 7ms/step - loss: 1.1214 - accuracy: 0.6000\n",
            "Epoch 47/200\n",
            "2/2 [==============================] - 0s 7ms/step - loss: 0.9963 - accuracy: 0.6800\n",
            "Epoch 48/200\n",
            "2/2 [==============================] - 0s 7ms/step - loss: 1.0303 - accuracy: 0.6600\n",
            "Epoch 49/200\n",
            "2/2 [==============================] - 0s 7ms/step - loss: 1.0042 - accuracy: 0.6600\n",
            "Epoch 50/200\n",
            "2/2 [==============================] - 0s 8ms/step - loss: 0.8178 - accuracy: 0.7600\n",
            "Epoch 51/200\n",
            "2/2 [==============================] - 0s 7ms/step - loss: 0.8859 - accuracy: 0.7000\n",
            "Epoch 52/200\n",
            "2/2 [==============================] - 0s 8ms/step - loss: 0.7801 - accuracy: 0.7800\n",
            "Epoch 53/200\n",
            "2/2 [==============================] - 0s 5ms/step - loss: 0.9018 - accuracy: 0.7400\n",
            "Epoch 54/200\n",
            "2/2 [==============================] - 0s 7ms/step - loss: 0.9332 - accuracy: 0.7400\n",
            "Epoch 55/200\n",
            "2/2 [==============================] - 0s 7ms/step - loss: 0.7196 - accuracy: 0.8000\n",
            "Epoch 56/200\n",
            "2/2 [==============================] - 0s 8ms/step - loss: 0.7856 - accuracy: 0.8000\n",
            "Epoch 57/200\n",
            "2/2 [==============================] - 0s 8ms/step - loss: 0.5430 - accuracy: 0.8400\n",
            "Epoch 58/200\n",
            "2/2 [==============================] - 0s 6ms/step - loss: 0.6816 - accuracy: 0.7800\n",
            "Epoch 59/200\n",
            "2/2 [==============================] - 0s 8ms/step - loss: 0.6437 - accuracy: 0.8200\n",
            "Epoch 60/200\n",
            "2/2 [==============================] - 0s 8ms/step - loss: 0.6182 - accuracy: 0.8600\n",
            "Epoch 61/200\n",
            "2/2 [==============================] - 0s 7ms/step - loss: 0.6625 - accuracy: 0.7600\n",
            "Epoch 62/200\n",
            "2/2 [==============================] - 0s 9ms/step - loss: 0.5634 - accuracy: 0.9000\n",
            "Epoch 63/200\n",
            "2/2 [==============================] - 0s 7ms/step - loss: 0.5797 - accuracy: 0.8400\n",
            "Epoch 64/200\n",
            "2/2 [==============================] - 0s 7ms/step - loss: 0.5842 - accuracy: 0.8600\n",
            "Epoch 65/200\n",
            "2/2 [==============================] - 0s 7ms/step - loss: 0.5587 - accuracy: 0.8400\n",
            "Epoch 66/200\n",
            "2/2 [==============================] - 0s 7ms/step - loss: 0.6175 - accuracy: 0.7800\n",
            "Epoch 67/200\n",
            "2/2 [==============================] - 0s 8ms/step - loss: 0.7083 - accuracy: 0.8400\n",
            "Epoch 68/200\n",
            "2/2 [==============================] - 0s 10ms/step - loss: 0.6066 - accuracy: 0.8400\n",
            "Epoch 69/200\n",
            "2/2 [==============================] - 0s 5ms/step - loss: 0.5992 - accuracy: 0.8200\n",
            "Epoch 70/200\n",
            "2/2 [==============================] - 0s 10ms/step - loss: 0.5171 - accuracy: 0.8800\n",
            "Epoch 71/200\n",
            "2/2 [==============================] - 0s 9ms/step - loss: 0.3898 - accuracy: 0.9400\n",
            "Epoch 72/200\n",
            "2/2 [==============================] - 0s 8ms/step - loss: 0.5826 - accuracy: 0.8800\n",
            "Epoch 73/200\n",
            "2/2 [==============================] - 0s 8ms/step - loss: 0.5325 - accuracy: 0.8800\n",
            "Epoch 74/200\n",
            "2/2 [==============================] - 0s 11ms/step - loss: 0.4789 - accuracy: 0.8800\n",
            "Epoch 75/200\n",
            "2/2 [==============================] - 0s 8ms/step - loss: 0.5579 - accuracy: 0.8400\n",
            "Epoch 76/200\n",
            "2/2 [==============================] - 0s 8ms/step - loss: 0.4791 - accuracy: 0.8400\n",
            "Epoch 77/200\n",
            "2/2 [==============================] - 0s 7ms/step - loss: 0.4557 - accuracy: 0.8600\n",
            "Epoch 78/200\n",
            "2/2 [==============================] - 0s 8ms/step - loss: 0.3661 - accuracy: 0.9200\n",
            "Epoch 79/200\n",
            "2/2 [==============================] - 0s 8ms/step - loss: 0.3479 - accuracy: 0.9400\n",
            "Epoch 80/200\n",
            "2/2 [==============================] - 0s 8ms/step - loss: 0.3735 - accuracy: 0.9200\n",
            "Epoch 81/200\n",
            "2/2 [==============================] - 0s 8ms/step - loss: 0.4909 - accuracy: 0.8000\n",
            "Epoch 82/200\n",
            "2/2 [==============================] - 0s 9ms/step - loss: 0.3674 - accuracy: 0.9600\n",
            "Epoch 83/200\n",
            "2/2 [==============================] - 0s 8ms/step - loss: 0.3224 - accuracy: 0.9600\n",
            "Epoch 84/200\n",
            "2/2 [==============================] - 0s 12ms/step - loss: 0.5441 - accuracy: 0.8000\n",
            "Epoch 85/200\n",
            "2/2 [==============================] - 0s 8ms/step - loss: 0.4111 - accuracy: 0.8600\n",
            "Epoch 86/200\n",
            "2/2 [==============================] - 0s 8ms/step - loss: 0.3813 - accuracy: 0.9000\n",
            "Epoch 87/200\n",
            "2/2 [==============================] - 0s 8ms/step - loss: 0.3809 - accuracy: 0.8800\n",
            "Epoch 88/200\n",
            "2/2 [==============================] - 0s 8ms/step - loss: 0.4544 - accuracy: 0.8000\n",
            "Epoch 89/200\n",
            "2/2 [==============================] - 0s 9ms/step - loss: 0.3361 - accuracy: 0.9200\n",
            "Epoch 90/200\n",
            "2/2 [==============================] - 0s 8ms/step - loss: 0.3243 - accuracy: 0.9000\n",
            "Epoch 91/200\n",
            "2/2 [==============================] - 0s 8ms/step - loss: 0.3147 - accuracy: 0.8800\n",
            "Epoch 92/200\n",
            "2/2 [==============================] - 0s 8ms/step - loss: 0.3964 - accuracy: 0.9000\n",
            "Epoch 93/200\n",
            "2/2 [==============================] - 0s 6ms/step - loss: 0.2267 - accuracy: 0.9400\n",
            "Epoch 94/200\n",
            "2/2 [==============================] - 0s 10ms/step - loss: 0.2881 - accuracy: 0.9800\n",
            "Epoch 95/200\n",
            "2/2 [==============================] - 0s 8ms/step - loss: 0.3742 - accuracy: 0.9000\n",
            "Epoch 96/200\n",
            "2/2 [==============================] - 0s 8ms/step - loss: 0.2252 - accuracy: 0.9600\n",
            "Epoch 97/200\n",
            "2/2 [==============================] - 0s 8ms/step - loss: 0.3663 - accuracy: 0.9200\n",
            "Epoch 98/200\n",
            "2/2 [==============================] - 0s 7ms/step - loss: 0.3830 - accuracy: 0.9200\n",
            "Epoch 99/200\n",
            "2/2 [==============================] - 0s 8ms/step - loss: 0.3326 - accuracy: 0.9000\n",
            "Epoch 100/200\n",
            "2/2 [==============================] - 0s 7ms/step - loss: 0.2069 - accuracy: 1.0000\n",
            "Epoch 101/200\n",
            "2/2 [==============================] - 0s 8ms/step - loss: 0.2757 - accuracy: 0.9400\n",
            "Epoch 102/200\n",
            "2/2 [==============================] - 0s 8ms/step - loss: 0.3362 - accuracy: 0.8400\n",
            "Epoch 103/200\n",
            "2/2 [==============================] - 0s 8ms/step - loss: 0.3394 - accuracy: 0.8800\n",
            "Epoch 104/200\n",
            "2/2 [==============================] - 0s 8ms/step - loss: 0.2088 - accuracy: 0.9600\n",
            "Epoch 105/200\n",
            "2/2 [==============================] - 0s 8ms/step - loss: 0.3322 - accuracy: 0.9000\n",
            "Epoch 106/200\n",
            "2/2 [==============================] - 0s 8ms/step - loss: 0.1902 - accuracy: 0.9800\n",
            "Epoch 107/200\n",
            "2/2 [==============================] - 0s 8ms/step - loss: 0.2989 - accuracy: 0.9000\n",
            "Epoch 108/200\n",
            "2/2 [==============================] - 0s 8ms/step - loss: 0.2843 - accuracy: 0.8800\n",
            "Epoch 109/200\n",
            "2/2 [==============================] - 0s 9ms/step - loss: 0.2706 - accuracy: 0.8800\n",
            "Epoch 110/200\n",
            "2/2 [==============================] - 0s 8ms/step - loss: 0.1881 - accuracy: 0.9800\n",
            "Epoch 111/200\n",
            "2/2 [==============================] - 0s 7ms/step - loss: 0.1886 - accuracy: 0.9600\n",
            "Epoch 112/200\n",
            "2/2 [==============================] - 0s 7ms/step - loss: 0.1987 - accuracy: 0.9600\n",
            "Epoch 113/200\n",
            "2/2 [==============================] - 0s 8ms/step - loss: 0.2214 - accuracy: 0.9200\n",
            "Epoch 114/200\n",
            "2/2 [==============================] - 0s 9ms/step - loss: 0.1939 - accuracy: 1.0000\n",
            "Epoch 115/200\n",
            "2/2 [==============================] - 0s 9ms/step - loss: 0.2208 - accuracy: 0.9200\n",
            "Epoch 116/200\n",
            "2/2 [==============================] - 0s 9ms/step - loss: 0.1776 - accuracy: 0.9800\n",
            "Epoch 117/200\n",
            "2/2 [==============================] - 0s 7ms/step - loss: 0.1856 - accuracy: 0.9800\n",
            "Epoch 118/200\n",
            "2/2 [==============================] - 0s 10ms/step - loss: 0.1556 - accuracy: 0.9800\n",
            "Epoch 119/200\n",
            "2/2 [==============================] - 0s 7ms/step - loss: 0.2262 - accuracy: 0.9600\n",
            "Epoch 120/200\n",
            "2/2 [==============================] - 0s 9ms/step - loss: 0.1204 - accuracy: 0.9600\n",
            "Epoch 121/200\n",
            "2/2 [==============================] - 0s 7ms/step - loss: 0.2327 - accuracy: 0.9200\n",
            "Epoch 122/200\n",
            "2/2 [==============================] - 0s 9ms/step - loss: 0.1797 - accuracy: 0.9600\n",
            "Epoch 123/200\n",
            "2/2 [==============================] - 0s 8ms/step - loss: 0.1859 - accuracy: 0.9400\n",
            "Epoch 124/200\n",
            "2/2 [==============================] - 0s 6ms/step - loss: 0.1576 - accuracy: 0.9600\n",
            "Epoch 125/200\n",
            "2/2 [==============================] - 0s 8ms/step - loss: 0.2786 - accuracy: 0.9400\n",
            "Epoch 126/200\n",
            "2/2 [==============================] - 0s 10ms/step - loss: 0.1989 - accuracy: 0.9600\n",
            "Epoch 127/200\n",
            "2/2 [==============================] - 0s 9ms/step - loss: 0.1197 - accuracy: 0.9800\n",
            "Epoch 128/200\n",
            "2/2 [==============================] - 0s 10ms/step - loss: 0.1401 - accuracy: 0.9600\n",
            "Epoch 129/200\n",
            "2/2 [==============================] - 0s 9ms/step - loss: 0.1275 - accuracy: 1.0000\n",
            "Epoch 130/200\n",
            "2/2 [==============================] - 0s 10ms/step - loss: 0.1694 - accuracy: 0.9600\n",
            "Epoch 131/200\n",
            "2/2 [==============================] - 0s 8ms/step - loss: 0.1055 - accuracy: 0.9800\n",
            "Epoch 132/200\n",
            "2/2 [==============================] - 0s 8ms/step - loss: 0.1872 - accuracy: 0.9600\n",
            "Epoch 133/200\n",
            "2/2 [==============================] - 0s 8ms/step - loss: 0.1587 - accuracy: 1.0000\n",
            "Epoch 134/200\n",
            "2/2 [==============================] - 0s 8ms/step - loss: 0.1883 - accuracy: 0.9400\n",
            "Epoch 135/200\n",
            "2/2 [==============================] - 0s 9ms/step - loss: 0.1999 - accuracy: 0.9600\n",
            "Epoch 136/200\n",
            "2/2 [==============================] - 0s 8ms/step - loss: 0.2047 - accuracy: 0.9600\n",
            "Epoch 137/200\n",
            "2/2 [==============================] - 0s 8ms/step - loss: 0.1718 - accuracy: 0.9400\n",
            "Epoch 138/200\n",
            "2/2 [==============================] - 0s 8ms/step - loss: 0.1410 - accuracy: 0.9800\n",
            "Epoch 139/200\n",
            "2/2 [==============================] - 0s 8ms/step - loss: 0.1345 - accuracy: 0.9400\n",
            "Epoch 140/200\n",
            "2/2 [==============================] - 0s 9ms/step - loss: 0.1626 - accuracy: 0.9600\n",
            "Epoch 141/200\n",
            "2/2 [==============================] - 0s 8ms/step - loss: 0.1990 - accuracy: 0.9600\n",
            "Epoch 142/200\n",
            "2/2 [==============================] - 0s 9ms/step - loss: 0.1241 - accuracy: 0.9600\n",
            "Epoch 143/200\n",
            "2/2 [==============================] - 0s 8ms/step - loss: 0.0789 - accuracy: 1.0000\n",
            "Epoch 144/200\n",
            "2/2 [==============================] - 0s 7ms/step - loss: 0.1808 - accuracy: 0.9600\n",
            "Epoch 145/200\n",
            "2/2 [==============================] - 0s 9ms/step - loss: 0.1209 - accuracy: 0.9600\n",
            "Epoch 146/200\n",
            "2/2 [==============================] - 0s 6ms/step - loss: 0.1561 - accuracy: 0.9800\n",
            "Epoch 147/200\n",
            "2/2 [==============================] - 0s 6ms/step - loss: 0.1023 - accuracy: 1.0000\n",
            "Epoch 148/200\n",
            "2/2 [==============================] - 0s 6ms/step - loss: 0.1256 - accuracy: 0.9600\n",
            "Epoch 149/200\n",
            "2/2 [==============================] - 0s 8ms/step - loss: 0.0775 - accuracy: 1.0000\n",
            "Epoch 150/200\n",
            "2/2 [==============================] - 0s 9ms/step - loss: 0.1487 - accuracy: 0.9600\n",
            "Epoch 151/200\n",
            "2/2 [==============================] - 0s 8ms/step - loss: 0.1291 - accuracy: 0.9600\n",
            "Epoch 152/200\n",
            "2/2 [==============================] - 0s 5ms/step - loss: 0.1180 - accuracy: 0.9800\n",
            "Epoch 153/200\n",
            "2/2 [==============================] - 0s 7ms/step - loss: 0.1672 - accuracy: 0.9400\n",
            "Epoch 154/200\n",
            "2/2 [==============================] - 0s 8ms/step - loss: 0.1469 - accuracy: 0.9400\n",
            "Epoch 155/200\n",
            "2/2 [==============================] - 0s 6ms/step - loss: 0.1180 - accuracy: 0.9800\n",
            "Epoch 156/200\n",
            "2/2 [==============================] - 0s 6ms/step - loss: 0.0851 - accuracy: 1.0000\n",
            "Epoch 157/200\n",
            "2/2 [==============================] - 0s 9ms/step - loss: 0.0655 - accuracy: 1.0000\n",
            "Epoch 158/200\n",
            "2/2 [==============================] - 0s 9ms/step - loss: 0.1864 - accuracy: 0.9800\n",
            "Epoch 159/200\n",
            "2/2 [==============================] - 0s 12ms/step - loss: 0.1119 - accuracy: 1.0000\n",
            "Epoch 160/200\n",
            "2/2 [==============================] - 0s 8ms/step - loss: 0.2599 - accuracy: 0.9400\n",
            "Epoch 161/200\n",
            "2/2 [==============================] - 0s 8ms/step - loss: 0.0588 - accuracy: 1.0000\n",
            "Epoch 162/200\n",
            "2/2 [==============================] - 0s 8ms/step - loss: 0.0952 - accuracy: 0.9800\n",
            "Epoch 163/200\n",
            "2/2 [==============================] - 0s 8ms/step - loss: 0.1630 - accuracy: 0.9400\n",
            "Epoch 164/200\n",
            "2/2 [==============================] - 0s 8ms/step - loss: 0.1198 - accuracy: 0.9800\n",
            "Epoch 165/200\n",
            "2/2 [==============================] - 0s 6ms/step - loss: 0.1475 - accuracy: 0.9800\n",
            "Epoch 166/200\n",
            "2/2 [==============================] - 0s 9ms/step - loss: 0.1146 - accuracy: 0.9800\n",
            "Epoch 167/200\n",
            "2/2 [==============================] - 0s 8ms/step - loss: 0.0769 - accuracy: 1.0000\n",
            "Epoch 168/200\n",
            "2/2 [==============================] - 0s 17ms/step - loss: 0.1245 - accuracy: 0.9800\n",
            "Epoch 169/200\n",
            "2/2 [==============================] - 0s 10ms/step - loss: 0.1492 - accuracy: 0.9400\n",
            "Epoch 170/200\n",
            "2/2 [==============================] - 0s 7ms/step - loss: 0.1442 - accuracy: 0.9600\n",
            "Epoch 171/200\n",
            "2/2 [==============================] - 0s 8ms/step - loss: 0.0949 - accuracy: 0.9800\n",
            "Epoch 172/200\n",
            "2/2 [==============================] - 0s 8ms/step - loss: 0.0560 - accuracy: 1.0000\n",
            "Epoch 173/200\n",
            "2/2 [==============================] - 0s 13ms/step - loss: 0.1114 - accuracy: 0.9400\n",
            "Epoch 174/200\n",
            "2/2 [==============================] - 0s 8ms/step - loss: 0.0877 - accuracy: 0.9800\n",
            "Epoch 175/200\n",
            "2/2 [==============================] - 0s 11ms/step - loss: 0.0581 - accuracy: 1.0000\n",
            "Epoch 176/200\n",
            "2/2 [==============================] - 0s 11ms/step - loss: 0.0997 - accuracy: 0.9800\n",
            "Epoch 177/200\n",
            "2/2 [==============================] - 0s 9ms/step - loss: 0.0608 - accuracy: 0.9800\n",
            "Epoch 178/200\n",
            "2/2 [==============================] - 0s 8ms/step - loss: 0.0809 - accuracy: 1.0000\n",
            "Epoch 179/200\n",
            "2/2 [==============================] - 0s 4ms/step - loss: 0.1027 - accuracy: 0.9600\n",
            "Epoch 180/200\n",
            "2/2 [==============================] - 0s 7ms/step - loss: 0.1437 - accuracy: 0.9600\n",
            "Epoch 181/200\n",
            "2/2 [==============================] - 0s 7ms/step - loss: 0.0576 - accuracy: 1.0000\n",
            "Epoch 182/200\n",
            "2/2 [==============================] - 0s 6ms/step - loss: 0.0584 - accuracy: 1.0000\n",
            "Epoch 183/200\n",
            "2/2 [==============================] - 0s 10ms/step - loss: 0.0858 - accuracy: 0.9600\n",
            "Epoch 184/200\n",
            "2/2 [==============================] - 0s 7ms/step - loss: 0.1002 - accuracy: 0.9600\n",
            "Epoch 185/200\n",
            "2/2 [==============================] - 0s 13ms/step - loss: 0.0761 - accuracy: 0.9800\n",
            "Epoch 186/200\n",
            "2/2 [==============================] - 0s 12ms/step - loss: 0.1826 - accuracy: 0.9400\n",
            "Epoch 187/200\n",
            "2/2 [==============================] - 0s 7ms/step - loss: 0.0567 - accuracy: 0.9800\n",
            "Epoch 188/200\n",
            "2/2 [==============================] - 0s 8ms/step - loss: 0.1414 - accuracy: 0.9600\n",
            "Epoch 189/200\n",
            "2/2 [==============================] - 0s 7ms/step - loss: 0.0482 - accuracy: 1.0000\n",
            "Epoch 190/200\n",
            "2/2 [==============================] - 0s 7ms/step - loss: 0.0627 - accuracy: 0.9800\n",
            "Epoch 191/200\n",
            "2/2 [==============================] - 0s 8ms/step - loss: 0.0695 - accuracy: 0.9800\n",
            "Epoch 192/200\n",
            "2/2 [==============================] - 0s 8ms/step - loss: 0.0729 - accuracy: 1.0000\n",
            "Epoch 193/200\n",
            "2/2 [==============================] - 0s 9ms/step - loss: 0.0648 - accuracy: 0.9800\n",
            "Epoch 194/200\n",
            "2/2 [==============================] - 0s 6ms/step - loss: 0.0910 - accuracy: 0.9800\n",
            "Epoch 195/200\n",
            "2/2 [==============================] - 0s 11ms/step - loss: 0.0541 - accuracy: 1.0000\n",
            "Epoch 196/200\n",
            "2/2 [==============================] - 0s 7ms/step - loss: 0.1211 - accuracy: 0.9600\n",
            "Epoch 197/200\n",
            "2/2 [==============================] - 0s 10ms/step - loss: 0.1025 - accuracy: 0.9800\n",
            "Epoch 198/200\n",
            "2/2 [==============================] - 0s 6ms/step - loss: 0.0466 - accuracy: 1.0000\n",
            "Epoch 199/200\n",
            "2/2 [==============================] - 0s 9ms/step - loss: 0.0656 - accuracy: 0.9800\n",
            "Epoch 200/200\n",
            "2/2 [==============================] - 0s 6ms/step - loss: 0.0715 - accuracy: 0.9800\n"
          ]
        }
      ],
      "source": [
        "hist = model.fit(x=train_X, y=train_y, epochs=200)"
      ]
    },
    {
      "cell_type": "code",
      "execution_count": null,
      "metadata": {
        "colab": {
          "base_uri": "https://localhost:8080/",
          "height": 265
        },
        "id": "Pb1GZDjGRP6Q",
        "outputId": "805d3d19-2d41-4128-c021-06271b55f783"
      },
      "outputs": [
        {
          "output_type": "display_data",
          "data": {
            "text/plain": [
              "<Figure size 432x288 with 1 Axes>"
            ],
            "image/png": "[encoded data removed]"
          },
          "metadata": {
            "needs_background": "light"
          }
        }
      ],
      "source": [
        "import matplotlib.pyplot as plt\n",
        "import seaborn as sns\n",
        "\n",
        "# Entrenamiento\n",
        "epoch_count = range(1, len(hist.history['accuracy']) + 1)\n",
        "sns.lineplot(x=epoch_count,  y=hist.history['accuracy'], label='train')\n",
        "plt.show()"
      ]
    },
    {
      "cell_type": "code",
      "execution_count": null,
      "metadata": {
        "id": "eTVDnrV0mDRf"
      },
      "outputs": [],
      "source": [
        "# Guardar lo necesario para poder re-utilizar este modelo en el futuro\n",
        "# el vocabulario utilizado (words)\n",
        "# las posibles clases\n",
        "# el modelo\n",
        "import pickle\n",
        "pickle.dump(words, open('words.pkl','wb'))\n",
        "pickle.dump(classes, open('classes.pkl','wb'))\n",
        "model.save('chatbot_model.h5')"
      ]
    },
    {
      "cell_type": "markdown",
      "metadata": {
        "id": "TnD1WvhBfVYR"
      },
      "source": [
        "### 6 - Testing y validación"
      ]
    },
    {
      "cell_type": "code",
      "execution_count": null,
      "metadata": {
        "id": "kqBdSGt8Orkm"
      },
      "outputs": [],
      "source": [
        "def text_to_tokens(text): \n",
        "    lemma_tokens = []\n",
        "    tokens = nlp(preprocess_clean_text(text.lower()))\n",
        "    for token in tokens:\n",
        "        lemma_tokens.append(token.lemma_)\n",
        "    #print(lemma_tokens)\n",
        "    return lemma_tokens\n",
        "\n",
        "def bag_of_words(text, vocab): \n",
        "    tokens = text_to_tokens(text)\n",
        "    bow = [0] * len(vocab)\n",
        "    for w in tokens: \n",
        "        for idx, word in enumerate(vocab):\n",
        "            if word == w: \n",
        "                bow[idx] = 1\n",
        "    #print(bow)\n",
        "    return np.array(bow)\n",
        "\n",
        "def pred_class(text, vocab, labels): \n",
        "    bow = bag_of_words(text, vocab)\n",
        "    words_recognized = sum(bow)\n",
        "\n",
        "    return_list = []\n",
        "    if words_recognized > 0:\n",
        "        result = model.predict(np.array([bow]))[0]\n",
        "        thresh = 0.2\n",
        "        y_pred = [[idx, res] for idx, res in enumerate(result) if res > thresh]\n",
        "        y_pred.sort(key=lambda x: x[1], reverse=True)\n",
        "    \n",
        "        for r in y_pred:\n",
        "            return_list.append(labels[r[0]])\n",
        "            #print(labels[r[0]], r[1])\n",
        "\n",
        "    return return_list\n",
        "\n",
        "def get_response(intents_list, intents_json):\n",
        "    tag = intents_list[0]\n",
        "    list_of_intents = intents_json[\"intents\"]\n",
        "    for i in list_of_intents: \n",
        "        if i[\"tag\"] == tag:\n",
        "            result = \"BOT: \" + random.choice(i[\"responses\"])\n",
        "            break\n",
        "    return result"
      ]
    },
    {
      "cell_type": "code",
      "execution_count": null,
      "metadata": {
        "colab": {
          "base_uri": "https://localhost:8080/",
          "height": 815
        },
        "id": "Xp1vXQwdOvl7",
        "outputId": "9e5629d7-b7b6-4cb9-af33-8ac89c0d5304"
      },
      "outputs": [
        {
          "output_type": "stream",
          "name": "stdout",
          "text": [
            "Hola!\n",
            "BOT: Bienvenido a CineUno\n",
            "Que pelicula puedo ver hoy?\n",
            "BOT: En cartelera tenemos: Volver al futuro, Forest Gump, Rescatando al soldado Ryan, Superman 3\n",
            "Elijo Forest Gump\n",
            "BOT: Los horarios para Forest Gump son: 17 y 22hs. ¿Que horario prefiere?\n",
            "22hs\n",
            "BOT: Perfecto, el precio de la entrada es de $650\n",
            "como puedo pagar?\n",
            "BOT: Puede pagar con efectivo, con tarjeta de crédito y débito y con Mercadopagos\n",
            "voy a pagar con Mercadopagos\n",
            "BOT: Si, claro que aceptamos ese medio de pago\n",
            "perfecto, muchas gracias\n",
            "BOT: Por nada!, cualquier otra consulta podes escribirme\n",
            "Chau\n",
            "BOT: Gracias por elegirnos!\n"
          ]
        },
        {
          "output_type": "error",
          "ename": "KeyboardInterrupt",
          "evalue": "ignored",
          "traceback": [
            "\u001b[0;31m---------------------------------------------------------------------------\u001b[0m",
            "\u001b[0;31mKeyboardInterrupt\u001b[0m                         Traceback (most recent call last)",
            "\u001b[0;32m/usr/local/lib/python3.7/dist-packages/ipykernel/kernelbase.py\u001b[0m in \u001b[0;36m_input_request\u001b[0;34m(self, prompt, ident, parent, password)\u001b[0m\n\u001b[1;32m    728\u001b[0m             \u001b[0;32mtry\u001b[0m\u001b[0;34m:\u001b[0m\u001b[0;34m\u001b[0m\u001b[0;34m\u001b[0m\u001b[0m\n\u001b[0;32m--> 729\u001b[0;31m                 \u001b[0mident\u001b[0m\u001b[0;34m,\u001b[0m \u001b[0mreply\u001b[0m \u001b[0;34m=\u001b[0m \u001b[0mself\u001b[0m\u001b[0;34m.\u001b[0m\u001b[0msession\u001b[0m\u001b[0;34m.\u001b[0m\u001b[0mrecv\u001b[0m\u001b[0;34m(\u001b[0m\u001b[0mself\u001b[0m\u001b[0;34m.\u001b[0m\u001b[0mstdin_socket\u001b[0m\u001b[0;34m,\u001b[0m \u001b[0;36m0\u001b[0m\u001b[0;34m)\u001b[0m\u001b[0;34m\u001b[0m\u001b[0;34m\u001b[0m\u001b[0m\n\u001b[0m\u001b[1;32m    730\u001b[0m             \u001b[0;32mexcept\u001b[0m \u001b[0mException\u001b[0m\u001b[0;34m:\u001b[0m\u001b[0;34m\u001b[0m\u001b[0;34m\u001b[0m\u001b[0m\n",
            "\u001b[0;32m/usr/local/lib/python3.7/dist-packages/jupyter_client/session.py\u001b[0m in \u001b[0;36mrecv\u001b[0;34m(self, socket, mode, content, copy)\u001b[0m\n\u001b[1;32m    802\u001b[0m         \u001b[0;32mtry\u001b[0m\u001b[0;34m:\u001b[0m\u001b[0;34m\u001b[0m\u001b[0;34m\u001b[0m\u001b[0m\n\u001b[0;32m--> 803\u001b[0;31m             \u001b[0mmsg_list\u001b[0m \u001b[0;34m=\u001b[0m \u001b[0msocket\u001b[0m\u001b[0;34m.\u001b[0m\u001b[0mrecv_multipart\u001b[0m\u001b[0;34m(\u001b[0m\u001b[0mmode\u001b[0m\u001b[0;34m,\u001b[0m \u001b[0mcopy\u001b[0m\u001b[0;34m=\u001b[0m\u001b[0mcopy\u001b[0m\u001b[0;34m)\u001b[0m\u001b[0;34m\u001b[0m\u001b[0;34m\u001b[0m\u001b[0m\n\u001b[0m\u001b[1;32m    804\u001b[0m         \u001b[0;32mexcept\u001b[0m \u001b[0mzmq\u001b[0m\u001b[0;34m.\u001b[0m\u001b[0mZMQError\u001b[0m \u001b[0;32mas\u001b[0m \u001b[0me\u001b[0m\u001b[0;34m:\u001b[0m\u001b[0;34m\u001b[0m\u001b[0;34m\u001b[0m\u001b[0m\n",
            "\u001b[0;32m/usr/local/lib/python3.7/dist-packages/zmq/sugar/socket.py\u001b[0m in \u001b[0;36mrecv_multipart\u001b[0;34m(self, flags, copy, track)\u001b[0m\n\u001b[1;32m    726\u001b[0m         \"\"\"\n\u001b[0;32m--> 727\u001b[0;31m         \u001b[0mparts\u001b[0m \u001b[0;34m=\u001b[0m \u001b[0;34m[\u001b[0m\u001b[0mself\u001b[0m\u001b[0;34m.\u001b[0m\u001b[0mrecv\u001b[0m\u001b[0;34m(\u001b[0m\u001b[0mflags\u001b[0m\u001b[0;34m,\u001b[0m \u001b[0mcopy\u001b[0m\u001b[0;34m=\u001b[0m\u001b[0mcopy\u001b[0m\u001b[0;34m,\u001b[0m \u001b[0mtrack\u001b[0m\u001b[0;34m=\u001b[0m\u001b[0mtrack\u001b[0m\u001b[0;34m)\u001b[0m\u001b[0;34m]\u001b[0m\u001b[0;34m\u001b[0m\u001b[0;34m\u001b[0m\u001b[0m\n\u001b[0m\u001b[1;32m    728\u001b[0m         \u001b[0;31m# have first part already, only loop while more to receive\u001b[0m\u001b[0;34m\u001b[0m\u001b[0;34m\u001b[0m\u001b[0;34m\u001b[0m\u001b[0m\n",
            "\u001b[0;32mzmq/backend/cython/socket.pyx\u001b[0m in \u001b[0;36mzmq.backend.cython.socket.Socket.recv\u001b[0;34m()\u001b[0m\n",
            "\u001b[0;32mzmq/backend/cython/socket.pyx\u001b[0m in \u001b[0;36mzmq.backend.cython.socket.Socket.recv\u001b[0;34m()\u001b[0m\n",
            "\u001b[0;32mzmq/backend/cython/socket.pyx\u001b[0m in \u001b[0;36mzmq.backend.cython.socket._recv_copy\u001b[0;34m()\u001b[0m\n",
            "\u001b[0;32m/usr/local/lib/python3.7/dist-packages/zmq/backend/cython/checkrc.pxd\u001b[0m in \u001b[0;36mzmq.backend.cython.checkrc._check_rc\u001b[0;34m()\u001b[0m\n",
            "\u001b[0;31mKeyboardInterrupt\u001b[0m: ",
            "\nDuring handling of the above exception, another exception occurred:\n",
            "\u001b[0;31mKeyboardInterrupt\u001b[0m                         Traceback (most recent call last)",
            "\u001b[0;32m<ipython-input-20-cf5f658f278f>\u001b[0m in \u001b[0;36m<module>\u001b[0;34m()\u001b[0m\n\u001b[1;32m      1\u001b[0m \u001b[0;32mwhile\u001b[0m \u001b[0;32mTrue\u001b[0m\u001b[0;34m:\u001b[0m\u001b[0;34m\u001b[0m\u001b[0;34m\u001b[0m\u001b[0m\n\u001b[0;32m----> 2\u001b[0;31m     \u001b[0mmessage\u001b[0m \u001b[0;34m=\u001b[0m \u001b[0minput\u001b[0m\u001b[0;34m(\u001b[0m\u001b[0;34m\"\"\u001b[0m\u001b[0;34m)\u001b[0m\u001b[0;34m\u001b[0m\u001b[0;34m\u001b[0m\u001b[0m\n\u001b[0m\u001b[1;32m      3\u001b[0m     \u001b[0mintents\u001b[0m \u001b[0;34m=\u001b[0m \u001b[0mpred_class\u001b[0m\u001b[0;34m(\u001b[0m\u001b[0mmessage\u001b[0m\u001b[0;34m,\u001b[0m \u001b[0mwords\u001b[0m\u001b[0;34m,\u001b[0m \u001b[0mclasses\u001b[0m\u001b[0;34m)\u001b[0m\u001b[0;34m\u001b[0m\u001b[0;34m\u001b[0m\u001b[0m\n\u001b[1;32m      4\u001b[0m     \u001b[0;32mif\u001b[0m \u001b[0mlen\u001b[0m\u001b[0;34m(\u001b[0m\u001b[0mintents\u001b[0m\u001b[0;34m)\u001b[0m \u001b[0;34m>\u001b[0m \u001b[0;36m0\u001b[0m\u001b[0;34m:\u001b[0m\u001b[0;34m\u001b[0m\u001b[0;34m\u001b[0m\u001b[0m\n\u001b[1;32m      5\u001b[0m         \u001b[0mresult\u001b[0m \u001b[0;34m=\u001b[0m \u001b[0mget_response\u001b[0m\u001b[0;34m(\u001b[0m\u001b[0mintents\u001b[0m\u001b[0;34m,\u001b[0m \u001b[0mdataset\u001b[0m\u001b[0;34m)\u001b[0m\u001b[0;34m\u001b[0m\u001b[0;34m\u001b[0m\u001b[0m\n",
            "\u001b[0;32m/usr/local/lib/python3.7/dist-packages/ipykernel/kernelbase.py\u001b[0m in \u001b[0;36mraw_input\u001b[0;34m(self, prompt)\u001b[0m\n\u001b[1;32m    702\u001b[0m             \u001b[0mself\u001b[0m\u001b[0;34m.\u001b[0m\u001b[0m_parent_ident\u001b[0m\u001b[0;34m,\u001b[0m\u001b[0;34m\u001b[0m\u001b[0;34m\u001b[0m\u001b[0m\n\u001b[1;32m    703\u001b[0m             \u001b[0mself\u001b[0m\u001b[0;34m.\u001b[0m\u001b[0m_parent_header\u001b[0m\u001b[0;34m,\u001b[0m\u001b[0;34m\u001b[0m\u001b[0;34m\u001b[0m\u001b[0m\n\u001b[0;32m--> 704\u001b[0;31m             \u001b[0mpassword\u001b[0m\u001b[0;34m=\u001b[0m\u001b[0;32mFalse\u001b[0m\u001b[0;34m,\u001b[0m\u001b[0;34m\u001b[0m\u001b[0;34m\u001b[0m\u001b[0m\n\u001b[0m\u001b[1;32m    705\u001b[0m         )\n\u001b[1;32m    706\u001b[0m \u001b[0;34m\u001b[0m\u001b[0m\n",
            "\u001b[0;32m/usr/local/lib/python3.7/dist-packages/ipykernel/kernelbase.py\u001b[0m in \u001b[0;36m_input_request\u001b[0;34m(self, prompt, ident, parent, password)\u001b[0m\n\u001b[1;32m    732\u001b[0m             \u001b[0;32mexcept\u001b[0m \u001b[0mKeyboardInterrupt\u001b[0m\u001b[0;34m:\u001b[0m\u001b[0;34m\u001b[0m\u001b[0;34m\u001b[0m\u001b[0m\n\u001b[1;32m    733\u001b[0m                 \u001b[0;31m# re-raise KeyboardInterrupt, to truncate traceback\u001b[0m\u001b[0;34m\u001b[0m\u001b[0;34m\u001b[0m\u001b[0;34m\u001b[0m\u001b[0m\n\u001b[0;32m--> 734\u001b[0;31m                 \u001b[0;32mraise\u001b[0m \u001b[0mKeyboardInterrupt\u001b[0m\u001b[0;34m\u001b[0m\u001b[0;34m\u001b[0m\u001b[0m\n\u001b[0m\u001b[1;32m    735\u001b[0m             \u001b[0;32melse\u001b[0m\u001b[0;34m:\u001b[0m\u001b[0;34m\u001b[0m\u001b[0;34m\u001b[0m\u001b[0m\n\u001b[1;32m    736\u001b[0m                 \u001b[0;32mbreak\u001b[0m\u001b[0;34m\u001b[0m\u001b[0;34m\u001b[0m\u001b[0m\n",
            "\u001b[0;31mKeyboardInterrupt\u001b[0m: "
          ]
        }
      ],
      "source": [
        "while True:\n",
        "    message = input(\"\")\n",
        "    intents = pred_class(message, words, classes)\n",
        "    if len(intents) > 0:\n",
        "        result = get_response(intents, dataset)\n",
        "        print(result)\n",
        "    else:\n",
        "        print(\"Perdón, no comprendo la pregunta.\")\n",
        "    "
      ]
    },
    {
      "cell_type": "markdown",
      "metadata": {
        "id": "ayatkwp4fYQx"
      },
      "source": [
        "### 7 - Conclusiones\n",
        "El bot tal cual está definido es capaz de responder a bastantes tipos de preguntas con gran precisión. Algunas técnicas que podrían ensayarse para evaluar como impactan en el sistema son:\n",
        "- Filtrar los stop words\n",
        "- Utilizar TF-IDF en vez de bag of words"
      ]
    }
  ],
  "metadata": {
    "colab": {
      "collapsed_sections": [],
      "name": "Desafío 2 - bot_dnn_spacy_esp.ipynb",
      "provenance": [],
      "include_colab_link": true
    },
    "kernelspec": {
      "display_name": "Python 3",
      "name": "python3"
    },
    "language_info": {
      "name": "python"
    },
    "widgets": {
      "application/vnd.jupyter.widget-state+json": {
        "502ec7bf19ee43f79a6d9a35ea3f61ec": {
          "model_module": "@jupyter-widgets/controls",
          "model_name": "HBoxModel",
          "model_module_version": "1.5.0",
          "state": {
            "_dom_classes": [],
            "_model_module": "@jupyter-widgets/controls",
            "_model_module_version": "1.5.0",
            "_model_name": "HBoxModel",
            "_view_count": null,
            "_view_module": "@jupyter-widgets/controls",
            "_view_module_version": "1.5.0",
            "_view_name": "HBoxView",
            "box_style": "",
            "children": [
              "IPY_MODEL_1d5aa25ea9df48d48ad288d77183cd0d",
              "IPY_MODEL_dc4e0950dc7d4284befee741360fabce",
              "IPY_MODEL_b670633efec74efa834f068640bd58ba"
            ],
            "layout": "IPY_MODEL_fde7b2b012ca48c69f255eed366fba9a"
          }
        },
        "1d5aa25ea9df48d48ad288d77183cd0d": {
          "model_module": "@jupyter-widgets/controls",
          "model_name": "HTMLModel",
          "model_module_version": "1.5.0",
          "state": {
            "_dom_classes": [],
            "_model_module": "@jupyter-widgets/controls",
            "_model_module_version": "1.5.0",
            "_model_name": "HTMLModel",
            "_view_count": null,
            "_view_module": "@jupyter-widgets/controls",
            "_view_module_version": "1.5.0",
            "_view_name": "HTMLView",
            "description": "",
            "description_tooltip": null,
            "layout": "IPY_MODEL_1020d53bf56648b88b96a9af6630a54a",
            "placeholder": "​",
            "style": "IPY_MODEL_2c2a82bf440f4b179f04c4bad490999a",
            "value": "Downloading https://raw.githubusercontent.com/stanfordnlp/stanza-resources/main/resources_1.2.2.json: "
          }
        },
        "dc4e0950dc7d4284befee741360fabce": {
          "model_module": "@jupyter-widgets/controls",
          "model_name": "FloatProgressModel",
          "model_module_version": "1.5.0",
          "state": {
            "_dom_classes": [],
            "_model_module": "@jupyter-widgets/controls",
            "_model_module_version": "1.5.0",
            "_model_name": "FloatProgressModel",
            "_view_count": null,
            "_view_module": "@jupyter-widgets/controls",
            "_view_module_version": "1.5.0",
            "_view_name": "ProgressView",
            "bar_style": "success",
            "description": "",
            "description_tooltip": null,
            "layout": "IPY_MODEL_e667a69ff8c04d4398d75dfb7ccb9683",
            "max": 24144,
            "min": 0,
            "orientation": "horizontal",
            "style": "IPY_MODEL_e44a3d514f0a4d31b4348b5fd1ee8003",
            "value": 24144
          }
        },
        "b670633efec74efa834f068640bd58ba": {
          "model_module": "@jupyter-widgets/controls",
          "model_name": "HTMLModel",
          "model_module_version": "1.5.0",
          "state": {
            "_dom_classes": [],
            "_model_module": "@jupyter-widgets/controls",
            "_model_module_version": "1.5.0",
            "_model_name": "HTMLModel",
            "_view_count": null,
            "_view_module": "@jupyter-widgets/controls",
            "_view_module_version": "1.5.0",
            "_view_name": "HTMLView",
            "description": "",
            "description_tooltip": null,
            "layout": "IPY_MODEL_e1b446caadfa48fdb5ff1601aace1884",
            "placeholder": "​",
            "style": "IPY_MODEL_b0954747b8374b3ebbdeddf34645caae",
            "value": " 140k/? [00:00&lt;00:00, 3.05MB/s]"
          }
        },
        "fde7b2b012ca48c69f255eed366fba9a": {
          "model_module": "@jupyter-widgets/base",
          "model_name": "LayoutModel",
          "model_module_version": "1.2.0",
          "state": {
            "_model_module": "@jupyter-widgets/base",
            "_model_module_version": "1.2.0",
            "_model_name": "LayoutModel",
            "_view_count": null,
            "_view_module": "@jupyter-widgets/base",
            "_view_module_version": "1.2.0",
            "_view_name": "LayoutView",
            "align_content": null,
            "align_items": null,
            "align_self": null,
            "border": null,
            "bottom": null,
            "display": null,
            "flex": null,
            "flex_flow": null,
            "grid_area": null,
            "grid_auto_columns": null,
            "grid_auto_flow": null,
            "grid_auto_rows": null,
            "grid_column": null,
            "grid_gap": null,
            "grid_row": null,
            "grid_template_areas": null,
            "grid_template_columns": null,
            "grid_template_rows": null,
            "height": null,
            "justify_content": null,
            "justify_items": null,
            "left": null,
            "margin": null,
            "max_height": null,
            "max_width": null,
            "min_height": null,
            "min_width": null,
            "object_fit": null,
            "object_position": null,
            "order": null,
            "overflow": null,
            "overflow_x": null,
            "overflow_y": null,
            "padding": null,
            "right": null,
            "top": null,
            "visibility": null,
            "width": null
          }
        },
        "1020d53bf56648b88b96a9af6630a54a": {
          "model_module": "@jupyter-widgets/base",
          "model_name": "LayoutModel",
          "model_module_version": "1.2.0",
          "state": {
            "_model_module": "@jupyter-widgets/base",
            "_model_module_version": "1.2.0",
            "_model_name": "LayoutModel",
            "_view_count": null,
            "_view_module": "@jupyter-widgets/base",
            "_view_module_version": "1.2.0",
            "_view_name": "LayoutView",
            "align_content": null,
            "align_items": null,
            "align_self": null,
            "border": null,
            "bottom": null,
            "display": null,
            "flex": null,
            "flex_flow": null,
            "grid_area": null,
            "grid_auto_columns": null,
            "grid_auto_flow": null,
            "grid_auto_rows": null,
            "grid_column": null,
            "grid_gap": null,
            "grid_row": null,
            "grid_template_areas": null,
            "grid_template_columns": null,
            "grid_template_rows": null,
            "height": null,
            "justify_content": null,
            "justify_items": null,
            "left": null,
            "margin": null,
            "max_height": null,
            "max_width": null,
            "min_height": null,
            "min_width": null,
            "object_fit": null,
            "object_position": null,
            "order": null,
            "overflow": null,
            "overflow_x": null,
            "overflow_y": null,
            "padding": null,
            "right": null,
            "top": null,
            "visibility": null,
            "width": null
          }
        },
        "2c2a82bf440f4b179f04c4bad490999a": {
          "model_module": "@jupyter-widgets/controls",
          "model_name": "DescriptionStyleModel",
          "model_module_version": "1.5.0",
          "state": {
            "_model_module": "@jupyter-widgets/controls",
            "_model_module_version": "1.5.0",
            "_model_name": "DescriptionStyleModel",
            "_view_count": null,
            "_view_module": "@jupyter-widgets/base",
            "_view_module_version": "1.2.0",
            "_view_name": "StyleView",
            "description_width": ""
          }
        },
        "e667a69ff8c04d4398d75dfb7ccb9683": {
          "model_module": "@jupyter-widgets/base",
          "model_name": "LayoutModel",
          "model_module_version": "1.2.0",
          "state": {
            "_model_module": "@jupyter-widgets/base",
            "_model_module_version": "1.2.0",
            "_model_name": "LayoutModel",
            "_view_count": null,
            "_view_module": "@jupyter-widgets/base",
            "_view_module_version": "1.2.0",
            "_view_name": "LayoutView",
            "align_content": null,
            "align_items": null,
            "align_self": null,
            "border": null,
            "bottom": null,
            "display": null,
            "flex": null,
            "flex_flow": null,
            "grid_area": null,
            "grid_auto_columns": null,
            "grid_auto_flow": null,
            "grid_auto_rows": null,
            "grid_column": null,
            "grid_gap": null,
            "grid_row": null,
            "grid_template_areas": null,
            "grid_template_columns": null,
            "grid_template_rows": null,
            "height": null,
            "justify_content": null,
            "justify_items": null,
            "left": null,
            "margin": null,
            "max_height": null,
            "max_width": null,
            "min_height": null,
            "min_width": null,
            "object_fit": null,
            "object_position": null,
            "order": null,
            "overflow": null,
            "overflow_x": null,
            "overflow_y": null,
            "padding": null,
            "right": null,
            "top": null,
            "visibility": null,
            "width": null
          }
        },
        "e44a3d514f0a4d31b4348b5fd1ee8003": {
          "model_module": "@jupyter-widgets/controls",
          "model_name": "ProgressStyleModel",
          "model_module_version": "1.5.0",
          "state": {
            "_model_module": "@jupyter-widgets/controls",
            "_model_module_version": "1.5.0",
            "_model_name": "ProgressStyleModel",
            "_view_count": null,
            "_view_module": "@jupyter-widgets/base",
            "_view_module_version": "1.2.0",
            "_view_name": "StyleView",
            "bar_color": null,
            "description_width": ""
          }
        },
        "e1b446caadfa48fdb5ff1601aace1884": {
          "model_module": "@jupyter-widgets/base",
          "model_name": "LayoutModel",
          "model_module_version": "1.2.0",
          "state": {
            "_model_module": "@jupyter-widgets/base",
            "_model_module_version": "1.2.0",
            "_model_name": "LayoutModel",
            "_view_count": null,
            "_view_module": "@jupyter-widgets/base",
            "_view_module_version": "1.2.0",
            "_view_name": "LayoutView",
            "align_content": null,
            "align_items": null,
            "align_self": null,
            "border": null,
            "bottom": null,
            "display": null,
            "flex": null,
            "flex_flow": null,
            "grid_area": null,
            "grid_auto_columns": null,
            "grid_auto_flow": null,
            "grid_auto_rows": null,
            "grid_column": null,
            "grid_gap": null,
            "grid_row": null,
            "grid_template_areas": null,
            "grid_template_columns": null,
            "grid_template_rows": null,
            "height": null,
            "justify_content": null,
            "justify_items": null,
            "left": null,
            "margin": null,
            "max_height": null,
            "max_width": null,
            "min_height": null,
            "min_width": null,
            "object_fit": null,
            "object_position": null,
            "order": null,
            "overflow": null,
            "overflow_x": null,
            "overflow_y": null,
            "padding": null,
            "right": null,
            "top": null,
            "visibility": null,
            "width": null
          }
        },
        "b0954747b8374b3ebbdeddf34645caae": {
          "model_module": "@jupyter-widgets/controls",
          "model_name": "DescriptionStyleModel",
          "model_module_version": "1.5.0",
          "state": {
            "_model_module": "@jupyter-widgets/controls",
            "_model_module_version": "1.5.0",
            "_model_name": "DescriptionStyleModel",
            "_view_count": null,
            "_view_module": "@jupyter-widgets/base",
            "_view_module_version": "1.2.0",
            "_view_name": "StyleView",
            "description_width": ""
          }
        },
        "2c996eebc95e44fd9febec2a2dfa6ac0": {
          "model_module": "@jupyter-widgets/controls",
          "model_name": "HBoxModel",
          "model_module_version": "1.5.0",
          "state": {
            "_dom_classes": [],
            "_model_module": "@jupyter-widgets/controls",
            "_model_module_version": "1.5.0",
            "_model_name": "HBoxModel",
            "_view_count": null,
            "_view_module": "@jupyter-widgets/controls",
            "_view_module_version": "1.5.0",
            "_view_name": "HBoxView",
            "box_style": "",
            "children": [
              "IPY_MODEL_9c4e5c0c1a6240728733b0d192ce3036",
              "IPY_MODEL_1c2f9d30dd044a33aad913081b0e4c28",
              "IPY_MODEL_74d3bb83007b465fbf3ea4141756d8a1"
            ],
            "layout": "IPY_MODEL_c7cd566688424677aff8a10ab3730ab9"
          }
        },
        "9c4e5c0c1a6240728733b0d192ce3036": {
          "model_module": "@jupyter-widgets/controls",
          "model_name": "HTMLModel",
          "model_module_version": "1.5.0",
          "state": {
            "_dom_classes": [],
            "_model_module": "@jupyter-widgets/controls",
            "_model_module_version": "1.5.0",
            "_model_name": "HTMLModel",
            "_view_count": null,
            "_view_module": "@jupyter-widgets/controls",
            "_view_module_version": "1.5.0",
            "_view_name": "HTMLView",
            "description": "",
            "description_tooltip": null,
            "layout": "IPY_MODEL_8c5c9500bdcb49529e11c3dbd41c15cf",
            "placeholder": "​",
            "style": "IPY_MODEL_6c783fd5a36f4a969e42231f87c3bd25",
            "value": "Downloading http://nlp.stanford.edu/software/stanza/1.2.2/es/default.zip: 100%"
          }
        },
        "1c2f9d30dd044a33aad913081b0e4c28": {
          "model_module": "@jupyter-widgets/controls",
          "model_name": "FloatProgressModel",
          "model_module_version": "1.5.0",
          "state": {
            "_dom_classes": [],
            "_model_module": "@jupyter-widgets/controls",
            "_model_module_version": "1.5.0",
            "_model_name": "FloatProgressModel",
            "_view_count": null,
            "_view_module": "@jupyter-widgets/controls",
            "_view_module_version": "1.5.0",
            "_view_name": "ProgressView",
            "bar_style": "success",
            "description": "",
            "description_tooltip": null,
            "layout": "IPY_MODEL_d471fa8914ea443d9fc9e1080f62229e",
            "max": 565553347,
            "min": 0,
            "orientation": "horizontal",
            "style": "IPY_MODEL_5cc1628a0030429a970ad8c128beb89b",
            "value": 565553347
          }
        },
        "74d3bb83007b465fbf3ea4141756d8a1": {
          "model_module": "@jupyter-widgets/controls",
          "model_name": "HTMLModel",
          "model_module_version": "1.5.0",
          "state": {
            "_dom_classes": [],
            "_model_module": "@jupyter-widgets/controls",
            "_model_module_version": "1.5.0",
            "_model_name": "HTMLModel",
            "_view_count": null,
            "_view_module": "@jupyter-widgets/controls",
            "_view_module_version": "1.5.0",
            "_view_name": "HTMLView",
            "description": "",
            "description_tooltip": null,
            "layout": "IPY_MODEL_66eaf7c7aab54947b7a94e492262a3c2",
            "placeholder": "​",
            "style": "IPY_MODEL_45a81ec110a8442ba28133950d5b951e",
            "value": " 566M/566M [01:42&lt;00:00, 5.35MB/s]"
          }
        },
        "c7cd566688424677aff8a10ab3730ab9": {
          "model_module": "@jupyter-widgets/base",
          "model_name": "LayoutModel",
          "model_module_version": "1.2.0",
          "state": {
            "_model_module": "@jupyter-widgets/base",
            "_model_module_version": "1.2.0",
            "_model_name": "LayoutModel",
            "_view_count": null,
            "_view_module": "@jupyter-widgets/base",
            "_view_module_version": "1.2.0",
            "_view_name": "LayoutView",
            "align_content": null,
            "align_items": null,
            "align_self": null,
            "border": null,
            "bottom": null,
            "display": null,
            "flex": null,
            "flex_flow": null,
            "grid_area": null,
            "grid_auto_columns": null,
            "grid_auto_flow": null,
            "grid_auto_rows": null,
            "grid_column": null,
            "grid_gap": null,
            "grid_row": null,
            "grid_template_areas": null,
            "grid_template_columns": null,
            "grid_template_rows": null,
            "height": null,
            "justify_content": null,
            "justify_items": null,
            "left": null,
            "margin": null,
            "max_height": null,
            "max_width": null,
            "min_height": null,
            "min_width": null,
            "object_fit": null,
            "object_position": null,
            "order": null,
            "overflow": null,
            "overflow_x": null,
            "overflow_y": null,
            "padding": null,
            "right": null,
            "top": null,
            "visibility": null,
            "width": null
          }
        },
        "8c5c9500bdcb49529e11c3dbd41c15cf": {
          "model_module": "@jupyter-widgets/base",
          "model_name": "LayoutModel",
          "model_module_version": "1.2.0",
          "state": {
            "_model_module": "@jupyter-widgets/base",
            "_model_module_version": "1.2.0",
            "_model_name": "LayoutModel",
            "_view_count": null,
            "_view_module": "@jupyter-widgets/base",
            "_view_module_version": "1.2.0",
            "_view_name": "LayoutView",
            "align_content": null,
            "align_items": null,
            "align_self": null,
            "border": null,
            "bottom": null,
            "display": null,
            "flex": null,
            "flex_flow": null,
            "grid_area": null,
            "grid_auto_columns": null,
            "grid_auto_flow": null,
            "grid_auto_rows": null,
            "grid_column": null,
            "grid_gap": null,
            "grid_row": null,
            "grid_template_areas": null,
            "grid_template_columns": null,
            "grid_template_rows": null,
            "height": null,
            "justify_content": null,
            "justify_items": null,
            "left": null,
            "margin": null,
            "max_height": null,
            "max_width": null,
            "min_height": null,
            "min_width": null,
            "object_fit": null,
            "object_position": null,
            "order": null,
            "overflow": null,
            "overflow_x": null,
            "overflow_y": null,
            "padding": null,
            "right": null,
            "top": null,
            "visibility": null,
            "width": null
          }
        },
        "6c783fd5a36f4a969e42231f87c3bd25": {
          "model_module": "@jupyter-widgets/controls",
          "model_name": "DescriptionStyleModel",
          "model_module_version": "1.5.0",
          "state": {
            "_model_module": "@jupyter-widgets/controls",
            "_model_module_version": "1.5.0",
            "_model_name": "DescriptionStyleModel",
            "_view_count": null,
            "_view_module": "@jupyter-widgets/base",
            "_view_module_version": "1.2.0",
            "_view_name": "StyleView",
            "description_width": ""
          }
        },
        "d471fa8914ea443d9fc9e1080f62229e": {
          "model_module": "@jupyter-widgets/base",
          "model_name": "LayoutModel",
          "model_module_version": "1.2.0",
          "state": {
            "_model_module": "@jupyter-widgets/base",
            "_model_module_version": "1.2.0",
            "_model_name": "LayoutModel",
            "_view_count": null,
            "_view_module": "@jupyter-widgets/base",
            "_view_module_version": "1.2.0",
            "_view_name": "LayoutView",
            "align_content": null,
            "align_items": null,
            "align_self": null,
            "border": null,
            "bottom": null,
            "display": null,
            "flex": null,
            "flex_flow": null,
            "grid_area": null,
            "grid_auto_columns": null,
            "grid_auto_flow": null,
            "grid_auto_rows": null,
            "grid_column": null,
            "grid_gap": null,
            "grid_row": null,
            "grid_template_areas": null,
            "grid_template_columns": null,
            "grid_template_rows": null,
            "height": null,
            "justify_content": null,
            "justify_items": null,
            "left": null,
            "margin": null,
            "max_height": null,
            "max_width": null,
            "min_height": null,
            "min_width": null,
            "object_fit": null,
            "object_position": null,
            "order": null,
            "overflow": null,
            "overflow_x": null,
            "overflow_y": null,
            "padding": null,
            "right": null,
            "top": null,
            "visibility": null,
            "width": null
          }
        },
        "5cc1628a0030429a970ad8c128beb89b": {
          "model_module": "@jupyter-widgets/controls",
          "model_name": "ProgressStyleModel",
          "model_module_version": "1.5.0",
          "state": {
            "_model_module": "@jupyter-widgets/controls",
            "_model_module_version": "1.5.0",
            "_model_name": "ProgressStyleModel",
            "_view_count": null,
            "_view_module": "@jupyter-widgets/base",
            "_view_module_version": "1.2.0",
            "_view_name": "StyleView",
            "bar_color": null,
            "description_width": ""
          }
        },
        "66eaf7c7aab54947b7a94e492262a3c2": {
          "model_module": "@jupyter-widgets/base",
          "model_name": "LayoutModel",
          "model_module_version": "1.2.0",
          "state": {
            "_model_module": "@jupyter-widgets/base",
            "_model_module_version": "1.2.0",
            "_model_name": "LayoutModel",
            "_view_count": null,
            "_view_module": "@jupyter-widgets/base",
            "_view_module_version": "1.2.0",
            "_view_name": "LayoutView",
            "align_content": null,
            "align_items": null,
            "align_self": null,
            "border": null,
            "bottom": null,
            "display": null,
            "flex": null,
            "flex_flow": null,
            "grid_area": null,
            "grid_auto_columns": null,
            "grid_auto_flow": null,
            "grid_auto_rows": null,
            "grid_column": null,
            "grid_gap": null,
            "grid_row": null,
            "grid_template_areas": null,
            "grid_template_columns": null,
            "grid_template_rows": null,
            "height": null,
            "justify_content": null,
            "justify_items": null,
            "left": null,
            "margin": null,
            "max_height": null,
            "max_width": null,
            "min_height": null,
            "min_width": null,
            "object_fit": null,
            "object_position": null,
            "order": null,
            "overflow": null,
            "overflow_x": null,
            "overflow_y": null,
            "padding": null,
            "right": null,
            "top": null,
            "visibility": null,
            "width": null
          }
        },
        "45a81ec110a8442ba28133950d5b951e": {
          "model_module": "@jupyter-widgets/controls",
          "model_name": "DescriptionStyleModel",
          "model_module_version": "1.5.0",
          "state": {
            "_model_module": "@jupyter-widgets/controls",
            "_model_module_version": "1.5.0",
            "_model_name": "DescriptionStyleModel",
            "_view_count": null,
            "_view_module": "@jupyter-widgets/base",
            "_view_module_version": "1.2.0",
            "_view_name": "StyleView",
            "description_width": ""
          }
        }
      }
    }
  },
  "nbformat": 4,
  "nbformat_minor": 0
}
