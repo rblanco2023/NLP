{
  "nbformat": 4,
  "nbformat_minor": 0,
  "metadata": {
    "colab": {
      "name": "Desafío 3.ipynb",
      "provenance": [],
      "authorship_tag": "ABX9TyMfBjhml48ZM+7KMMJAEuZW",
      "include_colab_link": true
    },
    "kernelspec": {
      "name": "python3",
      "display_name": "Python 3"
    },
    "language_info": {
      "name": "python"
    }
  },
  "cells": [
    {
      "cell_type": "markdown",
      "metadata": {
        "id": "view-in-github",
        "colab_type": "text"
      },
      "source": [
        "<a href=\"https://colab.research.google.com/github/rblanco2023/NLP/blob/main/Desaf%C3%ADo_3.ipynb\" target=\"_parent\"><img src=\"https://colab.research.google.com/assets/colab-badge.svg\" alt=\"Open In Colab\"/></a>"
      ]
    },
    {
      "cell_type": "code",
      "execution_count": 1,
      "metadata": {
        "colab": {
          "base_uri": "https://localhost:8080/"
        },
        "id": "3k309Bplthb8",
        "outputId": "dc2104ba-87f3-4ac9-f7e8-5148f573ee6a"
      },
      "outputs": [
        {
          "output_type": "stream",
          "name": "stderr",
          "text": [
            "[nltk_data] Downloading package punkt to /root/nltk_data...\n",
            "[nltk_data]   Unzipping tokenizers/punkt.zip.\n",
            "[nltk_data] Downloading package wordnet to /root/nltk_data...\n",
            "[nltk_data] Downloading package omw-1.4 to /root/nltk_data...\n"
          ]
        },
        {
          "output_type": "execute_result",
          "data": {
            "text/plain": [
              "True"
            ]
          },
          "metadata": {},
          "execution_count": 1
        }
      ],
      "source": [
        "import json\n",
        "import string\n",
        "import random\n",
        "import re\n",
        "import urllib.request\n",
        "import pandas as pd\n",
        "import numpy as np\n",
        "from gensim.models import Word2Vec\n",
        "# Para leer y parsear el texto en HTML de wikipedia\n",
        "import bs4 as bs\n",
        "\n",
        "import nltk\n",
        "# Descargar el diccionario\n",
        "nltk.download(\"punkt\")\n",
        "nltk.download(\"wordnet\")\n",
        "nltk.download('omw-1.4')"
      ]
    },
    {
      "cell_type": "markdown",
      "source": [
        "###Determino el dataset a utilizar\n",
        "Utilizaré los sonetos de William Shakespeare"
      ],
      "metadata": {
        "id": "KibdMaXiuGon"
      }
    },
    {
      "cell_type": "code",
      "source": [
        "raw_html = urllib.request.urlopen('https://www.gutenberg.org/files/1041/1041-h/1041-h.htm')\n",
        "raw_html = raw_html.read()\n",
        "\n",
        "article_html = bs.BeautifulSoup(raw_html, 'lxml')\n",
        "\n",
        "article_paragraphs = article_html.find_all('p')\n",
        "\n",
        "article_text = ''\n",
        "\n",
        "for para in article_paragraphs:\n",
        "    article_text += para.text\n",
        "\n",
        "article_text = article_text.lower()"
      ],
      "metadata": {
        "id": "uCLymNcOuF7-"
      },
      "execution_count": 2,
      "outputs": []
    },
    {
      "cell_type": "code",
      "source": [
        "article_text"
      ],
      "metadata": {
        "colab": {
          "base_uri": "https://localhost:8080/",
          "height": 139
        },
        "id": "L-PrXBkIw90n",
        "outputId": "4a122f19-437d-4622-fabd-5933a95ae18a"
      },
      "execution_count": 3,
      "outputs": [
        {
          "output_type": "execute_result",
          "data": {
            "text/plain": [
              "'\\r\\n  from fairest creatures we desire increase,\\r\\n  that thereby beauty’s rose might never die,\\r\\n  but as the riper should by time decease,\\r\\n  his tender heir might bear his memory:\\r\\n  but thou, contracted to thine own bright eyes,\\r\\n  feed’st thy light’s flame with self-substantial fuel,\\r\\n  making a famine where abundance lies,\\r\\n  thyself thy foe, to thy sweet self too cruel:\\r\\n  thou that art now the world’s fresh ornament,\\r\\n  and only herald to the gaudy spring,\\r\\n  within thine own bud buriest thy content,\\r\\n  and tender churl mak’st waste in niggarding:\\r\\n  \\xa0\\xa0\\xa0\\xa0pity the world, or else this glutton be,\\r\\n  \\xa0\\xa0\\xa0\\xa0to eat the world’s due, by the grave and thee.\\n\\r\\n  when forty winters shall besiege thy brow,\\r\\n  and dig deep trenches in thy beauty’s field,\\r\\n  thy youth’s proud livery so gazed on now,\\r\\n  will be a tatter’d weed of small worth held:\\r\\n  then being asked, where all thy beauty lies,\\r\\n  where all the treasure of thy lusty days;\\r\\n  to say, within thine own deep sunken eyes,\\r\\n  were an all-eating shame, and thriftless praise.\\r\\n  how much more praise deserv’d thy beauty’s use,\\r\\n  if thou couldst answer ‘this fair child of mine\\r\\n  shall sum my count, and make my old excuse,’\\r\\n  proving his beauty by succession thine!\\r\\n  \\xa0\\xa0\\xa0\\xa0this were to be new made when thou art old,\\r\\n  \\xa0\\xa0\\xa0\\xa0and see thy blood warm when thou feel’st it cold.\\n\\r\\n  look in thy glass and tell the face thou viewest\\r\\n  now is the time that face should form another;\\r\\n  whose fresh repair if now thou not renewest,\\r\\n  thou dost beguile the world, unbless some mother.\\r\\n  for where is she so fair whose unear’d womb\\r\\n  disdains the tillage of thy husbandry?\\r\\n  or who is he so fond will be the tomb,\\r\\n  of his self-love to stop posterity?\\r\\n  thou art thy mother’s glass and she in thee\\r\\n  calls back the lovely april of her prime;\\r\\n  so thou through windows of thine age shalt see,\\r\\n  despite of wrinkles this thy golden time.\\r\\n  \\xa0\\xa0\\xa0\\xa0but if thou live, remember’d not to be,\\r\\n  \\xa0\\xa0\\xa0\\xa0die single and thine image dies with thee.\\n\\r\\n  unthrifty loveliness, why dost thou spend\\r\\n  upon thyself thy beauty’s legacy?\\r\\n  nature’s bequest gives nothing, but doth lend,\\r\\n  and being frank she lends to those are free:\\r\\n  then, beauteous niggard, why dost thou abuse\\r\\n  the bounteous largess given thee to give?\\r\\n  profitless usurer, why dost thou use\\r\\n  so great a sum of sums, yet canst not live?\\r\\n  for having traffic with thyself alone,\\r\\n  thou of thyself thy sweet self dost deceive:\\r\\n  then how when nature calls thee to be gone,\\r\\n  what acceptable audit canst thou leave?\\r\\n  \\xa0\\xa0\\xa0\\xa0thy unused beauty must be tombed with thee,\\r\\n  \\xa0\\xa0\\xa0\\xa0which, used, lives th’ executor to be.\\n\\r\\n  those hours, that with gentle work did frame\\r\\n  the lovely gaze where every eye doth dwell,\\r\\n  will play the tyrants to the very same\\r\\n  and that unfair which fairly doth excel;\\r\\n  for never-resting time leads summer on\\r\\n  to hideous winter, and confounds him there;\\r\\n  sap checked with frost, and lusty leaves quite gone,\\r\\n  beauty o’er-snowed and bareness every where:\\r\\n  then were not summer’s distillation left,\\r\\n  a liquid prisoner pent in walls of glass,\\r\\n  beauty’s effect with beauty were bereft,\\r\\n  nor it, nor no remembrance what it was:\\r\\n  \\xa0\\xa0\\xa0\\xa0but flowers distill’d, though they with winter meet,\\r\\n  \\xa0\\xa0\\xa0\\xa0leese but their show; their substance still lives sweet.\\n\\r\\n  then let not winter’s ragged hand deface,\\r\\n  in thee thy summer, ere thou be distill’d:\\r\\n  make sweet some vial; treasure thou some place\\r\\n  with beauty’s treasure ere it be self-kill’d.\\r\\n  that use is not forbidden usury,\\r\\n  which happies those that pay the willing loan;\\r\\n  that’s for thyself to breed another thee,\\r\\n  or ten times happier, be it ten for one;\\r\\n  ten times thyself were happier than thou art,\\r\\n  if ten of thine ten times refigur’d thee:\\r\\n  then what could death do if thou shouldst depart,\\r\\n  leaving thee living in posterity?\\r\\n  \\xa0\\xa0\\xa0\\xa0be not self-will’d, for thou art much too fair\\r\\n  \\xa0\\xa0\\xa0\\xa0to be death’s conquest and make worms thine heir.\\n\\r\\n  lo! in the orient when the gracious light\\r\\n  lifts up his burning head, each under eye\\r\\n  doth homage to his new-appearing sight,\\r\\n  serving with looks his sacred majesty;\\r\\n  and having climb’d the steep-up heavenly hill,\\r\\n  resembling strong youth in his middle age,\\r\\n  yet mortal looks adore his beauty still,\\r\\n  attending on his golden pilgrimage:\\r\\n  but when from highmost pitch, with weary car,\\r\\n  like feeble age, he reeleth from the day,\\r\\n  the eyes, ’fore duteous, now converted are\\r\\n  from his low tract, and look another way:\\r\\n  \\xa0\\xa0\\xa0\\xa0so thou, thyself outgoing in thy noon:\\r\\n  \\xa0\\xa0\\xa0\\xa0unlook’d, on diest unless thou get a son.\\n\\r\\n  music to hear, why hear’st thou music sadly?\\r\\n  sweets with sweets war not, joy delights in joy:\\r\\n  why lov’st thou that which thou receiv’st not gladly,\\r\\n  or else receiv’st with pleasure thine annoy?\\r\\n  if the true concord of well-tuned sounds,\\r\\n  by unions married, do offend thine ear,\\r\\n  they do but sweetly chide thee, who confounds\\r\\n  in singleness the parts that thou shouldst bear.\\r\\n  mark how one string, sweet husband to another,\\r\\n  strikes each in each by mutual ordering;\\r\\n  resembling sire and child and happy mother,\\r\\n  who, all in one, one pleasing note do sing:\\r\\n  \\xa0\\xa0\\xa0\\xa0whose speechless song being many, seeming one,\\r\\n  \\xa0\\xa0\\xa0\\xa0sings this to thee: ‘thou single wilt prove none.’\\n\\r\\n  is it for fear to wet a widow’s eye,\\r\\n  that thou consum’st thyself in single life?\\r\\n  ah! if thou issueless shalt hap to die,\\r\\n  the world will wail thee like a makeless wife;\\r\\n  the world will be thy widow and still weep\\r\\n  that thou no form of thee hast left behind,\\r\\n  when every private widow well may keep\\r\\n  by children’s eyes, her husband’s shape in mind:\\r\\n  look! what an unthrift in the world doth spend\\r\\n  shifts but his place, for still the world enjoys it;\\r\\n  but beauty’s waste hath in the world an end,\\r\\n  and kept unused the user so destroys it.\\r\\n  \\xa0\\xa0\\xa0\\xa0no love toward others in that bosom sits\\r\\n  \\xa0\\xa0\\xa0\\xa0that on himself such murd’rous shame commits.\\n\\r\\n  for shame! deny that thou bear’st love to any,\\r\\n  who for thyself art so unprovident.\\r\\n  grant, if thou wilt, thou art belov’d of many,\\r\\n  but that thou none lov’st is most evident:\\r\\n  for thou art so possess’d with murderous hate,\\r\\n  that ’gainst thyself thou stick’st not to conspire,\\r\\n  seeking that beauteous roof to ruinate\\r\\n  which to repair should be thy chief desire.\\r\\n  o! change thy thought, that i may change my mind:\\r\\n  shall hate be fairer lodg’d than gentle love?\\r\\n  be, as thy presence is, gracious and kind,\\r\\n  or to thyself at least kind-hearted prove:\\r\\n  \\xa0\\xa0\\xa0\\xa0make thee another self for love of me,\\r\\n  \\xa0\\xa0\\xa0\\xa0that beauty still may live in thine or thee.\\n\\r\\n  as fast as thou shalt wane, so fast thou grow’st,\\r\\n  in one of thine, from that which thou departest;\\r\\n  and that fresh blood which youngly thou bestow’st,\\r\\n  thou mayst call thine when thou from youth convertest,\\r\\n  herein lives wisdom, beauty, and increase;\\r\\n  without this folly, age, and cold decay:\\r\\n  if all were minded so, the times should cease\\r\\n  and threescore year would make the world away.\\r\\n  let those whom nature hath not made for store,\\r\\n  harsh, featureless, and rude, barrenly perish:\\r\\n  look, whom she best endow’d, she gave thee more;\\r\\n  which bounteous gift thou shouldst in bounty cherish:\\r\\n  \\xa0\\xa0\\xa0\\xa0she carv’d thee for her seal, and meant thereby,\\r\\n  \\xa0\\xa0\\xa0\\xa0thou shouldst print more, not let that copy die.\\n\\r\\n  when i do count the clock that tells the time,\\r\\n  and see the brave day sunk in hideous night;\\r\\n  when i behold the violet past prime,\\r\\n  and sable curls, all silvered o’er with white;\\r\\n  when lofty trees i see barren of leaves,\\r\\n  which erst from heat did canopy the herd,\\r\\n  and summer’s green all girded up in sheaves,\\r\\n  borne on the bier with white and bristly beard,\\r\\n  then of thy beauty do i question make,\\r\\n  that thou among the wastes of time must go,\\r\\n  since sweets and beauties do themselves forsake\\r\\n  and die as fast as they see others grow;\\r\\n  \\xa0\\xa0\\xa0\\xa0and nothing ’gainst time’s scythe can make defence\\r\\n  \\xa0\\xa0\\xa0\\xa0save breed, to brave him when he takes thee hence.\\n\\r\\n  o! that you were your self; but, love you are\\r\\n  no longer yours, than you yourself here live:\\r\\n  against this coming end you should prepare,\\r\\n  and your sweet semblance to some other give:\\r\\n  so should that beauty which you hold in lease\\r\\n  find no determination; then you were\\r\\n  yourself again, after yourself’s decease,\\r\\n  when your sweet issue your sweet form should bear.\\r\\n  who lets so fair a house fall to decay,\\r\\n  which husbandry in honour might uphold,\\r\\n  against the stormy gusts of winter’s day\\r\\n  and barren rage of death’s eternal cold?\\r\\n  \\xa0\\xa0\\xa0\\xa0o! none but unthrifts. dear my love, you know,\\r\\n  \\xa0\\xa0\\xa0\\xa0you had a father: let your son say so.\\n\\r\\n  not from the stars do i my judgement pluck;\\r\\n  and yet methinks i have astronomy,\\r\\n  but not to tell of good or evil luck,\\r\\n  of plagues, of dearths, or seasons’ quality;\\r\\n  nor can i fortune to brief minutes tell,\\r\\n  pointing to each his thunder, rain and wind,\\r\\n  or say with princes if it shall go well\\r\\n  by oft predict that i in heaven find:\\r\\n  but from thine eyes my knowledge i derive,\\r\\n  and constant stars in them i read such art\\r\\n  as ‘truth and beauty shall together thrive,\\r\\n  if from thyself, to store thou wouldst convert’;\\r\\n  \\xa0\\xa0\\xa0\\xa0or else of thee this i prognosticate:\\r\\n  \\xa0\\xa0\\xa0\\xa0‘thy end is truth’s and beauty’s doom and date.’\\n\\r\\n  when i consider every thing that grows\\r\\n  holds in perfection but a little moment,\\r\\n  that this huge stage presenteth nought but shows\\r\\n  whereon the stars in secret influence comment;\\r\\n  when i perceive that men as plants increase,\\r\\n  cheered and checked even by the self-same sky,\\r\\n  vaunt in their youthful sap, at height decrease,\\r\\n  and wear their brave state out of memory;\\r\\n  then the conceit of this inconstant stay\\r\\n  sets you most rich in youth before my sight,\\r\\n  where wasteful time debateth with decay\\r\\n  to change your day of youth to sullied night,\\r\\n  \\xa0\\xa0\\xa0\\xa0and all in war with time for love of you,\\r\\n  \\xa0\\xa0\\xa0\\xa0as he takes from you, i engraft you new.\\n\\r\\n  but wherefore do not you a mightier way\\r\\n  make war upon this bloody tyrant, time?\\r\\n  and fortify yourself in your decay\\r\\n  with means more blessed than my barren rhyme?\\r\\n  now stand you on the top of happy hours,\\r\\n  and many maiden gardens, yet unset,\\r\\n  with virtuous wish would bear you living flowers,\\r\\n  much liker than your painted counterfeit:\\r\\n  so should the lines of life that life repair,\\r\\n  which this, time’s pencil, or my pupil pen,\\r\\n  neither in inward worth nor outward fair,\\r\\n  can make you live yourself in eyes of men.\\r\\n  \\xa0\\xa0\\xa0\\xa0to give away yourself, keeps yourself still,\\r\\n  \\xa0\\xa0\\xa0\\xa0and you must live, drawn by your own sweet skill.\\n\\r\\n  who will believe my verse in time to come,\\r\\n  if it were fill’d with your most high deserts?\\r\\n  though yet heaven knows it is but as a tomb\\r\\n  which hides your life, and shows not half your parts.\\r\\n  if i could write the beauty of your eyes,\\r\\n  and in fresh numbers number all your graces,\\r\\n  the age to come would say ‘this poet lies;\\r\\n  such heavenly touches ne’er touch’d earthly faces.’\\r\\n  so should my papers, yellow’d with their age,\\r\\n  be scorn’d, like old men of less truth than tongue,\\r\\n  and your true rights be term’d a poet’s rage\\r\\n  and stretched metre of an antique song:\\r\\n  \\xa0\\xa0\\xa0\\xa0but were some child of yours alive that time,\\r\\n  \\xa0\\xa0\\xa0\\xa0you should live twice,--in it, and in my rhyme.\\n\\r\\n  shall i compare thee to a summer’s day?\\r\\n  thou art more lovely and more temperate:\\r\\n  rough winds do shake the darling buds of may,\\r\\n  and summer’s lease hath all too short a date:\\r\\n  sometime too hot the eye of heaven shines,\\r\\n  and often is his gold complexion dimm’d,\\r\\n  and every fair from fair sometime declines,\\r\\n  by chance, or nature’s changing course untrimm’d:\\r\\n  but thy eternal summer shall not fade,\\r\\n  nor lose possession of that fair thou ow’st,\\r\\n  nor shall death brag thou wander’st in his shade,\\r\\n  when in eternal lines to time thou grow’st,\\r\\n  \\xa0\\xa0\\xa0\\xa0so long as men can breathe, or eyes can see,\\r\\n  \\xa0\\xa0\\xa0\\xa0so long lives this, and this gives life to thee.\\n\\r\\n  devouring time, blunt thou the lion’s paws,\\r\\n  and make the earth devour her own sweet brood;\\r\\n  pluck the keen teeth from the fierce tiger’s jaws,\\r\\n  and burn the long-liv’d phoenix, in her blood;\\r\\n  make glad and sorry seasons as thou fleets,\\r\\n  and do whate’er thou wilt, swift-footed time,\\r\\n  to the wide world and all her fading sweets;\\r\\n  but i forbid thee one most heinous crime:\\r\\n  o! carve not with thy hours my love’s fair brow,\\r\\n  nor draw no lines there with thine antique pen;\\r\\n  him in thy course untainted do allow\\r\\n  for beauty’s pattern to succeeding men.\\r\\n  \\xa0\\xa0\\xa0\\xa0yet, do thy worst old time: despite thy wrong,\\r\\n  \\xa0\\xa0\\xa0\\xa0my love shall in my verse ever live young.\\n\\r\\n  a woman’s face with nature’s own hand painted,\\r\\n  hast thou, the master mistress of my passion;\\r\\n  a woman’s gentle heart, but not acquainted\\r\\n  with shifting change, as is false women’s fashion:\\r\\n  an eye more bright than theirs, less false in rolling,\\r\\n  gilding the object whereupon it gazeth;\\r\\n  a man in hue all ‘hues’ in his controlling,\\r\\n  which steals men’s eyes and women’s souls amazeth.\\r\\n  and for a woman wert thou first created;\\r\\n  till nature, as she wrought thee, fell a-doting,\\r\\n  and by addition me of thee defeated,\\r\\n  by adding one thing to my purpose nothing.\\r\\n  \\xa0\\xa0\\xa0\\xa0but since she prick’d thee out for women’s pleasure,\\r\\n  \\xa0\\xa0\\xa0\\xa0mine be thy love and thy love’s use their treasure.\\n\\r\\n  so is it not with me as with that muse,\\r\\n  stirr’d by a painted beauty to his verse,\\r\\n  who heaven itself for ornament doth use\\r\\n  and every fair with his fair doth rehearse,\\r\\n  making a couplement of proud compare.\\r\\n  with sun and moon, with earth and sea’s rich gems,\\r\\n  with april’s first-born flowers, and all things rare,\\r\\n  that heaven’s air in this huge rondure hems.\\r\\n  o! let me, true in love, but truly write,\\r\\n  and then believe me, my love is as fair\\r\\n  as any mother’s child, though not so bright\\r\\n  as those gold candles fix’d in heaven’s air:\\r\\n  \\xa0\\xa0\\xa0\\xa0let them say more that like of hearsay well;\\r\\n  \\xa0\\xa0\\xa0\\xa0i will not praise that purpose not to sell.\\n\\r\\n  my glass shall not persuade me i am old,\\r\\n  so long as youth and thou are of one date;\\r\\n  but when in thee time’s furrows i behold,\\r\\n  then look i death my days should expiate.\\r\\n  for all that beauty that doth cover thee,\\r\\n  is but the seemly raiment of my heart,\\r\\n  which in thy breast doth live, as thine in me:\\r\\n  how can i then be elder than thou art?\\r\\n  o! therefore love, be of thyself so wary\\r\\n  as i, not for myself, but for thee will;\\r\\n  bearing thy heart, which i will keep so chary\\r\\n  as tender nurse her babe from faring ill.\\r\\n  \\xa0\\xa0\\xa0\\xa0presume not on thy heart when mine is slain,\\r\\n  \\xa0\\xa0\\xa0\\xa0thou gav’st me thine not to give back again.\\n\\r\\n  as an unperfect actor on the stage,\\r\\n  who with his fear is put beside his part,\\r\\n  or some fierce thing replete with too much rage,\\r\\n  whose strength’s abundance weakens his own heart;\\r\\n  so i, for fear of trust, forget to say\\r\\n  the perfect ceremony of love’s rite,\\r\\n  and in mine own love’s strength seem to decay,\\r\\n  o’ercharg’d with burthen of mine own love’s might.\\r\\n  o! let my looks be then the eloquence\\r\\n  and dumb presagers of my speaking breast,\\r\\n  who plead for love, and look for recompense,\\r\\n  more than that tongue that more hath more express’d.\\r\\n  \\xa0\\xa0\\xa0\\xa0o! learn to read what silent love hath writ:\\r\\n  \\xa0\\xa0\\xa0\\xa0to hear with eyes belongs to love’s fine wit.\\n\\r\\n  mine eye hath play’d the painter and hath stell’d,\\r\\n  thy beauty’s form in table of my heart;\\r\\n  my body is the frame wherein ’tis held,\\r\\n  and perspective it is best painter’s art.\\r\\n  for through the painter must you see his skill,\\r\\n  to find where your true image pictur’d lies,\\r\\n  which in my bosom’s shop is hanging still,\\r\\n  that hath his windows glazed with thine eyes.\\r\\n  now see what good turns eyes for eyes have done:\\r\\n  mine eyes have drawn thy shape, and thine for me\\r\\n  are windows to my breast, where-through the sun\\r\\n  delights to peep, to gaze therein on thee;\\r\\n  \\xa0\\xa0\\xa0\\xa0yet eyes this cunning want to grace their art,\\r\\n  \\xa0\\xa0\\xa0\\xa0they draw but what they see, know not the heart.\\n\\r\\n  let those who are in favour with their stars\\r\\n  of public honour and proud titles boast,\\r\\n  whilst i, whom fortune of such triumph bars\\r\\n  unlook’d for joy in that i honour most.\\r\\n  great princes’ favourites their fair leaves spread\\r\\n  but as the marigold at the sun’s eye,\\r\\n  and in themselves their pride lies buried,\\r\\n  for at a frown they in their glory die.\\r\\n  the painful warrior famoused for fight,\\r\\n  after a thousand victories once foil’d,\\r\\n  is from the book of honour razed quite,\\r\\n  and all the rest forgot for which he toil’d:\\r\\n  \\xa0\\xa0\\xa0\\xa0then happy i, that love and am belov’d,\\r\\n  \\xa0\\xa0\\xa0\\xa0where i may not remove nor be remov’d.\\n\\r\\n  lord of my love, to whom in vassalage\\r\\n  thy merit hath my duty strongly knit,\\r\\n  to thee i send this written embassage,\\r\\n  to witness duty, not to show my wit:\\r\\n  duty so great, which wit so poor as mine\\r\\n  may make seem bare, in wanting words to show it,\\r\\n  but that i hope some good conceit of thine\\r\\n  in thy soul’s thought, all naked, will bestow it:\\r\\n  till whatsoever star that guides my moving,\\r\\n  points on me graciously with fair aspect,\\r\\n  and puts apparel on my tatter’d loving,\\r\\n  to show me worthy of thy sweet respect:\\r\\n  \\xa0\\xa0\\xa0\\xa0then may i dare to boast how i do love thee;\\r\\n  \\xa0\\xa0\\xa0\\xa0till then, not show my head where thou mayst prove me.\\n\\r\\n  weary with toil, i haste me to my bed,\\r\\n  the dear respose for limbs with travel tir’d;\\r\\n  but then begins a journey in my head\\r\\n  to work my mind, when body’s work’s expired:\\r\\n  for then my thoughts--from far where i abide--\\r\\n  intend a zealous pilgrimage to thee,\\r\\n  and keep my drooping eyelids open wide,\\r\\n  looking on darkness which the blind do see:\\r\\n  save that my soul’s imaginary sight\\r\\n  presents thy shadow to my sightless view,\\r\\n  which, like a jewel hung in ghastly night,\\r\\n  makes black night beauteous, and her old face new.\\r\\n  \\xa0\\xa0\\xa0\\xa0lo! thus, by day my limbs, by night my mind,\\r\\n  \\xa0\\xa0\\xa0\\xa0for thee, and for myself, no quiet find.\\n\\r\\n  how can i then return in happy plight,\\r\\n  that am debarre’d the benefit of rest?\\r\\n  when day’s oppression is not eas’d by night,\\r\\n  but day by night and night by day oppress’d,\\r\\n  and each, though enemies to either’s reign,\\r\\n  do in consent shake hands to torture me,\\r\\n  the one by toil, the other to complain\\r\\n  how far i toil, still farther off from thee.\\r\\n  i tell the day, to please him thou art bright,\\r\\n  and dost him grace when clouds do blot the heaven:\\r\\n  so flatter i the swart-complexion’d night,\\r\\n  when sparkling stars twire not thou gild’st the even.\\r\\n  \\xa0\\xa0\\xa0\\xa0but day doth daily draw my sorrows longer,\\r\\n  \\xa0\\xa0\\xa0\\xa0and night doth nightly make grief’s length seem stronger.\\n\\r\\n  when in disgrace with fortune and men’s eyes\\r\\n  i all alone beweep my outcast state,\\r\\n  and trouble deaf heaven with my bootless cries,\\r\\n  and look upon myself, and curse my fate,\\r\\n  wishing me like to one more rich in hope,\\r\\n  featur’d like him, like him with friends possess’d,\\r\\n  desiring this man’s art, and that man’s scope,\\r\\n  with what i most enjoy contented least;\\r\\n  yet in these thoughts my self almost despising,\\r\\n  haply i think on thee,-- and then my state,\\r\\n  like to the lark at break of day arising\\r\\n  from sullen earth, sings hymns at heaven’s gate;\\r\\n  \\xa0\\xa0\\xa0\\xa0for thy sweet love remember’d such wealth brings\\r\\n  \\xa0\\xa0\\xa0\\xa0that then i scorn to change my state with kings.\\n\\r\\n  when to the sessions of sweet silent thought\\r\\n  i summon up remembrance of things past,\\r\\n  i sigh the lack of many a thing i sought,\\r\\n  and with old woes new wail my dear time’s waste:\\r\\n  then can i drown an eye, unused to flow,\\r\\n  for precious friends hid in death’s dateless night,\\r\\n  and weep afresh love’s long since cancell’d woe,\\r\\n  and moan the expense of many a vanish’d sight:\\r\\n  then can i grieve at grievances foregone,\\r\\n  and heavily from woe to woe tell o’er\\r\\n  the sad account of fore-bemoaned moan,\\r\\n  which i new pay as if not paid before.\\r\\n  \\xa0\\xa0\\xa0\\xa0but if the while i think on thee, dear friend,\\r\\n  \\xa0\\xa0\\xa0\\xa0all losses are restor’d and sorrows end.\\n\\r\\n  thy bosom is endeared with all hearts,\\r\\n  which i by lacking have supposed dead;\\r\\n  and there reigns love, and all love’s loving parts,\\r\\n  and all those friends which i thought buried.\\r\\n  how many a holy and obsequious tear\\r\\n  hath dear religious love stol’n from mine eye,\\r\\n  as interest of the dead, which now appear\\r\\n  but things remov’d that hidden in thee lie!\\r\\n  thou art the grave where buried love doth live,\\r\\n  hung with the trophies of my lovers gone,\\r\\n  who all their parts of me to thee did give,\\r\\n  that due of many now is thine alone:\\r\\n  \\xa0\\xa0\\xa0\\xa0their images i lov’d, i view in thee,\\r\\n  \\xa0\\xa0\\xa0\\xa0and thou--all they--hast all the all of me.\\n\\r\\n  if thou survive my well-contented day,\\r\\n  when that churl death my bones with dust shall cover\\r\\n  and shalt by fortune once more re-survey\\r\\n  these poor rude lines of thy deceased lover,\\r\\n  compare them with the bett’ring of the time,\\r\\n  and though they be outstripp’d by every pen,\\r\\n  reserve them for my love, not for their rhyme,\\r\\n  exceeded by the height of happier men.\\r\\n  o! then vouchsafe me but this loving thought:\\r\\n  ‘had my friend’s muse grown with this growing age,\\r\\n  a dearer birth than this his love had brought,\\r\\n  to march in ranks of better equipage:\\r\\n  \\xa0\\xa0\\xa0\\xa0but since he died and poets better prove,\\r\\n  \\xa0\\xa0\\xa0\\xa0theirs for their style i’ll read, his for his love’.\\n\\r\\n  full many a glorious morning have i seen\\r\\n  flatter the mountain tops with sovereign eye,\\r\\n  kissing with golden face the meadows green,\\r\\n  gilding pale streams with heavenly alchemy;\\r\\n  anon permit the basest clouds to ride\\r\\n  with ugly rack on his celestial face,\\r\\n  and from the forlorn world his visage hide,\\r\\n  stealing unseen to west with this disgrace:\\r\\n  even so my sun one early morn did shine,\\r\\n  with all triumphant splendour on my brow;\\r\\n  but out! alack! he was but one hour mine,\\r\\n  the region cloud hath mask’d him from me now.\\r\\n  \\xa0\\xa0\\xa0\\xa0yet him for this my love no whit disdaineth;\\r\\n  \\xa0\\xa0\\xa0\\xa0suns of the world may stain when heaven’s sun staineth.\\n\\r\\n  why didst thou promise such a beauteous day,\\r\\n  and make me travel forth without my cloak,\\r\\n  to let base clouds o’ertake me in my way,\\r\\n  hiding thy bravery in their rotten smoke?\\r\\n  ’tis not enough that through the cloud thou break,\\r\\n  to dry the rain on my storm-beaten face,\\r\\n  for no man well of such a salve can speak,\\r\\n  that heals the wound, and cures not the disgrace:\\r\\n  nor can thy shame give physic to my grief;\\r\\n  though thou repent, yet i have still the loss:\\r\\n  the offender’s sorrow lends but weak relief\\r\\n  to him that bears the strong offence’s cross.\\r\\n  \\xa0\\xa0\\xa0\\xa0ah! but those tears are pearl which thy love sheds,\\r\\n  \\xa0\\xa0\\xa0\\xa0and they are rich and ransom all ill deeds.\\n\\r\\n  no more be griev’d at that which thou hast done:\\r\\n  roses have thorns, and silver fountains mud:\\r\\n  clouds and eclipses stain both moon and sun,\\r\\n  and loathsome canker lives in sweetest bud.\\r\\n  all men make faults, and even i in this,\\r\\n  authorizing thy trespass with compare,\\r\\n  myself corrupting, salving thy amiss,\\r\\n  excusing thy sins more than thy sins are;\\r\\n  for to thy sensual fault i bring in sense,--\\r\\n  thy adverse party is thy advocate,--\\r\\n  and ’gainst myself a lawful plea commence:\\r\\n  such civil war is in my love and hate,\\r\\n  \\xa0\\xa0\\xa0\\xa0that i an accessary needs must be,\\r\\n  \\xa0\\xa0\\xa0\\xa0to that sweet thief which sourly robs from me.\\n\\r\\n  let me confess that we two must be twain,\\r\\n  although our undivided loves are one:\\r\\n  so shall those blots that do with me remain,\\r\\n  without thy help, by me be borne alone.\\r\\n  in our two loves there is but one respect,\\r\\n  though in our lives a separable spite,\\r\\n  which though it alter not love’s sole effect,\\r\\n  yet doth it steal sweet hours from love’s delight.\\r\\n  i may not evermore acknowledge thee,\\r\\n  lest my bewailed guilt should do thee shame,\\r\\n  nor thou with public kindness honour me,\\r\\n  unless thou take that honour from thy name:\\r\\n  \\xa0\\xa0\\xa0\\xa0but do not so, i love thee in such sort,\\r\\n  \\xa0\\xa0\\xa0\\xa0as thou being mine, mine is thy good report.\\n\\r\\n  as a decrepit father takes delight\\r\\n  to see his active child do deeds of youth,\\r\\n  so i, made lame by fortune’s dearest spite,\\r\\n  take all my comfort of thy worth and truth;\\r\\n  for whether beauty, birth, or wealth, or wit,\\r\\n  or any of these all, or all, or more,\\r\\n  entitled in thy parts, do crowned sit,\\r\\n  i make my love engrafted, to this store:\\r\\n  so then i am not lame, poor, nor despis’d,\\r\\n  whilst that this shadow doth such substance give\\r\\n  that i in thy abundance am suffic’d,\\r\\n  and by a part of all thy glory live.\\r\\n  \\xa0\\xa0\\xa0\\xa0look what is best, that best i wish in thee:\\r\\n  \\xa0\\xa0\\xa0\\xa0this wish i have; then ten times happy me!\\n\\r\\n  how can my muse want subject to invent,\\r\\n  while thou dost breathe, that pour’st into my verse\\r\\n  thine own sweet argument, too excellent\\r\\n  for every vulgar paper to rehearse?\\r\\n  o! give thyself the thanks, if aught in me\\r\\n  worthy perusal stand against thy sight;\\r\\n  for who’s so dumb that cannot write to thee,\\r\\n  when thou thyself dost give invention light?\\r\\n  be thou the tenth muse, ten times more in worth\\r\\n  than those old nine which rhymers invocate;\\r\\n  and he that calls on thee, let him bring forth\\r\\n  eternal numbers to outlive long date.\\r\\n  \\xa0\\xa0\\xa0\\xa0if my slight muse do please these curious days,\\r\\n  \\xa0\\xa0\\xa0\\xa0the pain be mine, but thine shall be the praise.\\n\\r\\n  o! how thy worth with manners may i sing,\\r\\n  when thou art all the better part of me?\\r\\n  what can mine own praise to mine own self bring?\\r\\n  and what is’t but mine own when i praise thee?\\r\\n  even for this, let us divided live,\\r\\n  and our dear love lose name of single one,\\r\\n  that by this separation i may give\\r\\n  that due to thee which thou deserv’st alone.\\r\\n  o absence! what a torment wouldst thou prove,\\r\\n  were it not thy sour leisure gave sweet leave,\\r\\n  to entertain the time with thoughts of love,\\r\\n  which time and thoughts so sweetly doth deceive,\\r\\n  \\xa0\\xa0\\xa0\\xa0and that thou teachest how to make one twain,\\r\\n  \\xa0\\xa0\\xa0\\xa0by praising him here who doth hence remain.\\n\\r\\n  take all my loves, my love, yea take them all;\\r\\n  what hast thou then more than thou hadst before?\\r\\n  no love, my love, that thou mayst true love call;\\r\\n  all mine was thine, before thou hadst this more.\\r\\n  then, if for my love, thou my love receivest,\\r\\n  i cannot blame thee, for my love thou usest;\\r\\n  but yet be blam’d, if thou thyself deceivest\\r\\n  by wilful taste of what thyself refusest.\\r\\n  i do forgive thy robbery, gentle thief,\\r\\n  although thou steal thee all my poverty:\\r\\n  and yet, love knows it is a greater grief\\r\\n  to bear love’s wrong, than hate’s known injury.\\r\\n  \\xa0\\xa0\\xa0\\xa0lascivious grace, in whom all ill well shows,\\r\\n  \\xa0\\xa0\\xa0\\xa0kill me with spites yet we must not be foes.\\n\\r\\n  those pretty wrongs that liberty commits,\\r\\n  when i am sometime absent from thy heart,\\r\\n  thy beauty, and thy years full well befits,\\r\\n  for still temptation follows where thou art.\\r\\n  gentle thou art, and therefore to be won,\\r\\n  beauteous thou art, therefore to be assail’d;\\r\\n  and when a woman woos, what woman’s son\\r\\n  will sourly leave her till he have prevail’d?\\r\\n  ay me! but yet thou mightst my seat forbear,\\r\\n  and chide thy beauty and thy straying youth,\\r\\n  who lead thee in their riot even there\\r\\n  where thou art forced to break a twofold truth:--\\r\\n  \\xa0\\xa0\\xa0\\xa0hers by thy beauty tempting her to thee,\\r\\n  \\xa0\\xa0\\xa0\\xa0thine by thy beauty being false to me.\\n\\r\\n  that thou hast her it is not all my grief,\\r\\n  and yet it may be said i loved her dearly;\\r\\n  that she hath thee is of my wailing chief,\\r\\n  a loss in love that touches me more nearly.\\r\\n  loving offenders thus i will excuse ye:\\r\\n  thou dost love her, because thou know’st i love her;\\r\\n  and for my sake even so doth she abuse me,\\r\\n  suffering my friend for my sake to approve her.\\r\\n  if i lose thee, my loss is my love’s gain,\\r\\n  and losing her, my friend hath found that loss;\\r\\n  both find each other, and i lose both twain,\\r\\n  and both for my sake lay on me this cross:\\r\\n  \\xa0\\xa0\\xa0\\xa0but here’s the joy; my friend and i are one;\\r\\n  \\xa0\\xa0\\xa0\\xa0sweet flattery! then she loves but me alone.\\n\\r\\n  when most i wink, then do mine eyes best see,\\r\\n  for all the day they view things unrespected;\\r\\n  but when i sleep, in dreams they look on thee,\\r\\n  and darkly bright, are bright in dark directed.\\r\\n  then thou, whose shadow shadows doth make bright,\\r\\n  how would thy shadow’s form form happy show\\r\\n  to the clear day with thy much clearer light,\\r\\n  when to unseeing eyes thy shade shines so!\\r\\n  how would, i say, mine eyes be blessed made\\r\\n  by looking on thee in the living day,\\r\\n  when in dead night thy fair imperfect shade\\r\\n  through heavy sleep on sightless eyes doth stay!\\r\\n  \\xa0\\xa0\\xa0\\xa0all days are nights to see till i see thee,\\r\\n  \\xa0\\xa0\\xa0\\xa0and nights bright days when dreams do show thee me.\\n\\r\\n  if the dull substance of my flesh were thought,\\r\\n  injurious distance should not stop my way;\\r\\n  for then despite of space i would be brought,\\r\\n  from limits far remote, where thou dost stay.\\r\\n  no matter then although my foot did stand\\r\\n  upon the farthest earth remov’d from thee;\\r\\n  for nimble thought can jump both sea and land,\\r\\n  as soon as think the place where he would be.\\r\\n  but, ah! thought kills me that i am not thought,\\r\\n  to leap large lengths of miles when thou art gone,\\r\\n  but that so much of earth and water wrought,\\r\\n  i must attend time’s leisure with my moan;\\r\\n  \\xa0\\xa0\\xa0\\xa0receiving nought by elements so slow\\r\\n  \\xa0\\xa0\\xa0\\xa0but heavy tears, badges of either’s woe.\\n\\r\\n  the other two, slight air, and purging fire\\r\\n  are both with thee, wherever i abide;\\r\\n  the first my thought, the other my desire,\\r\\n  these present-absent with swift motion slide.\\r\\n  for when these quicker elements are gone\\r\\n  in tender embassy of love to thee,\\r\\n  my life, being made of four, with two alone\\r\\n  sinks down to death, oppress’d with melancholy;\\r\\n  until life’s composition be recur’d\\r\\n  by those swift messengers return’d from thee,\\r\\n  who even but now come back again, assur’d,\\r\\n  of thy fair health, recounting it to me:\\r\\n  \\xa0\\xa0\\xa0\\xa0this told, i joy; but then no longer glad,\\r\\n  \\xa0\\xa0\\xa0\\xa0i send them back again, and straight grow sad.\\n\\r\\n  mine eye and heart are at a mortal war,\\r\\n  how to divide the conquest of thy sight;\\r\\n  mine eye my heart thy picture’s sight would bar,\\r\\n  my heart mine eye the freedom of that right.\\r\\n  my heart doth plead that thou in him dost lie,--\\r\\n  a closet never pierc’d with crystal eyes--\\r\\n  but the defendant doth that plea deny,\\r\\n  and says in him thy fair appearance lies.\\r\\n  to side this title is impannelled\\r\\n  a quest of thoughts, all tenants to the heart;\\r\\n  and by their verdict is determined\\r\\n  the clear eye’s moiety, and the dear heart’s part:\\r\\n  \\xa0\\xa0\\xa0\\xa0as thus; mine eye’s due is thy outward part,\\r\\n  \\xa0\\xa0\\xa0\\xa0and my heart’s right, thy inward love of heart.\\n\\r\\n  betwixt mine eye and heart a league is took,\\r\\n  and each doth good turns now unto the other:\\r\\n  when that mine eye is famish’d for a look,\\r\\n  or heart in love with sighs himself doth smother,\\r\\n  with my love’s picture then my eye doth feast,\\r\\n  and to the painted banquet bids my heart;\\r\\n  another time mine eye is my heart’s guest,\\r\\n  and in his thoughts of love doth share a part:\\r\\n  so, either by thy picture or my love,\\r\\n  thyself away, art present still with me;\\r\\n  for thou not farther than my thoughts canst move,\\r\\n  and i am still with them, and they with thee;\\r\\n  \\xa0\\xa0\\xa0\\xa0or, if they sleep, thy picture in my sight\\r\\n  \\xa0\\xa0\\xa0\\xa0awakes my heart, to heart’s and eye’s delight.\\n\\r\\n  how careful was i when i took my way,\\r\\n  each trifle under truest bars to thrust,\\r\\n  that to my use it might unused stay\\r\\n  from hands of falsehood, in sure wards of trust!\\r\\n  but thou, to whom my jewels trifles are,\\r\\n  most worthy comfort, now my greatest grief,\\r\\n  thou best of dearest, and mine only care,\\r\\n  art left the prey of every vulgar thief.\\r\\n  thee have i not lock’d up in any chest,\\r\\n  save where thou art not, though i feel thou art,\\r\\n  within the gentle closure of my breast,\\r\\n  from whence at pleasure thou mayst come and part;\\r\\n  \\xa0\\xa0\\xa0\\xa0and even thence thou wilt be stol’n i fear,\\r\\n  \\xa0\\xa0\\xa0\\xa0for truth proves thievish for a prize so dear.\\n\\r\\n  against that time, if ever that time come,\\r\\n  when i shall see thee frown on my defects,\\r\\n  when as thy love hath cast his utmost sum,\\r\\n  call’d to that audit by advis’d respects;\\r\\n  against that time when thou shalt strangely pass,\\r\\n  and scarcely greet me with that sun, thine eye,\\r\\n  when love, converted from the thing it was,\\r\\n  shall reasons find of settled gravity;\\r\\n  against that time do i ensconce me here,\\r\\n  within the knowledge of mine own desert,\\r\\n  and this my hand, against my self uprear,\\r\\n  to guard the lawful reasons on thy part:\\r\\n  \\xa0\\xa0\\xa0\\xa0to leave poor me thou hast the strength of laws,\\r\\n  \\xa0\\xa0\\xa0\\xa0since why to love i can allege no cause.\\n\\r\\n  how heavy do i journey on the way,\\r\\n  when what i seek, my weary travel’s end,\\r\\n  doth teach that ease and that repose to say,\\r\\n  ‘thus far the miles are measured from thy friend!’\\r\\n  the beast that bears me, tired with my woe,\\r\\n  plods dully on, to bear that weight in me,\\r\\n  as if by some instinct the wretch did know\\r\\n  his rider lov’d not speed, being made from thee:\\r\\n  the bloody spur cannot provoke him on,\\r\\n  that sometimes anger thrusts into his hide,\\r\\n  which heavily he answers with a groan,\\r\\n  more sharp to me than spurring to his side;\\r\\n  \\xa0\\xa0\\xa0\\xa0for that same groan doth put this in my mind,\\r\\n  \\xa0\\xa0\\xa0\\xa0my grief lies onward, and my joy behind.\\n\\r\\n  thus can my love excuse the slow offence\\r\\n  of my dull bearer when from thee i speed:\\r\\n  from where thou art why should i haste me thence?\\r\\n  till i return, of posting is no need.\\r\\n  o! what excuse will my poor beast then find,\\r\\n  when swift extremity can seem but slow?\\r\\n  then should i spur, though mounted on the wind,\\r\\n  in winged speed no motion shall i know,\\r\\n  then can no horse with my desire keep pace;\\r\\n  therefore desire, of perfect’st love being made,\\r\\n  shall neigh--no dull flesh--in his fiery race;\\r\\n  but love, for love, thus shall excuse my jade,--\\r\\n  \\xa0\\xa0\\xa0\\xa0‘since from thee going, he went wilful-slow,\\r\\n  \\xa0\\xa0\\xa0\\xa0towards thee i’ll run, and give him leave to go.’\\n\\r\\n  so am i as the rich, whose blessed key,\\r\\n  can bring him to his sweet up-locked treasure,\\r\\n  the which he will not every hour survey,\\r\\n  for blunting the fine point of seldom pleasure.\\r\\n  therefore are feasts so solemn and so rare,\\r\\n  since, seldom coming in that long year set,\\r\\n  like stones of worth they thinly placed are,\\r\\n  or captain jewels in the carcanet.\\r\\n  so is the time that keeps you as my chest,\\r\\n  or as the wardrobe which the robe doth hide,\\r\\n  to make some special instant special-blest,\\r\\n  by new unfolding his imprison’d pride.\\r\\n  \\xa0\\xa0\\xa0\\xa0blessed are you whose worthiness gives scope,\\r\\n  \\xa0\\xa0\\xa0\\xa0being had, to triumph; being lacked, to hope.\\n\\r\\n  what is your substance, whereof are you made,\\r\\n  that millions of strange shadows on you tend?\\r\\n  since every one, hath every one, one shade,\\r\\n  and you but one, can every shadow lend.\\r\\n  describe adonis, and the counterfeit\\r\\n  is poorly imitated after you;\\r\\n  on helen’s cheek all art of beauty set,\\r\\n  and you in grecian tires are painted new:\\r\\n  speak of the spring, and foison of the year,\\r\\n  the one doth shadow of your beauty show,\\r\\n  the other as your bounty doth appear;\\r\\n  and you in every blessed shape we know.\\r\\n  \\xa0\\xa0\\xa0\\xa0in all external grace you have some part,\\r\\n  \\xa0\\xa0\\xa0\\xa0but you like none, none you, for constant heart.\\n\\r\\n  o! how much more doth beauty beauteous seem\\r\\n  by that sweet ornament which truth doth give.\\r\\n  the rose looks fair, but fairer we it deem\\r\\n  for that sweet odour, which doth in it live.\\r\\n  the canker blooms have full as deep a dye\\r\\n  as the perfumed tincture of the roses.\\r\\n  hang on such thorns, and play as wantonly\\r\\n  when summer’s breath their masked buds discloses:\\r\\n  but, for their virtue only is their show,\\r\\n  they live unwoo’d, and unrespected fade;\\r\\n  die to themselves. sweet roses do not so;\\r\\n  of their sweet deaths, are sweetest odours made:\\r\\n  \\xa0\\xa0\\xa0\\xa0and so of you, beauteous and lovely youth,\\r\\n  \\xa0\\xa0\\xa0\\xa0when that shall vade, by verse distills your truth.\\n\\r\\n  not marble, nor the gilded monuments\\r\\n  of princes, shall outlive this powerful rhyme;\\r\\n  but you shall shine more bright in these contents\\r\\n  than unswept stone, besmear’d with sluttish time.\\r\\n  when wasteful war shall statues overturn,\\r\\n  and broils root out the work of masonry,\\r\\n  nor mars his sword, nor war’s quick fire shall burn\\r\\n  the living record of your memory.\\r\\n  ’gainst death, and all-oblivious enmity\\r\\n  shall you pace forth; your praise shall still find room\\r\\n  even in the eyes of all posterity\\r\\n  that wear this world out to the ending doom.\\r\\n  \\xa0\\xa0\\xa0\\xa0so, till the judgment that yourself arise,\\r\\n  \\xa0\\xa0\\xa0\\xa0you live in this, and dwell in lovers’ eyes.\\n\\r\\n  sweet love, renew thy force; be it not said\\r\\n  thy edge should blunter be than appetite,\\r\\n  which but to-day by feeding is allay’d,\\r\\n  to-morrow sharpened in his former might:\\r\\n  so, love, be thou, although to-day thou fill\\r\\n  thy hungry eyes, even till they wink with fulness,\\r\\n  to-morrow see again, and do not kill\\r\\n  the spirit of love, with a perpetual dulness.\\r\\n  let this sad interim like the ocean be\\r\\n  which parts the shore, where two contracted new\\r\\n  come daily to the banks, that when they see\\r\\n  return of love, more blest may be the view;\\r\\n  \\xa0\\xa0\\xa0\\xa0or call it winter, which being full of care,\\r\\n  \\xa0\\xa0\\xa0\\xa0makes summer’s welcome, thrice more wished, more rare.\\n\\r\\n  being your slave what should i do but tend,\\r\\n  upon the hours, and times of your desire?\\r\\n  i have no precious time at all to spend;\\r\\n  nor services to do, till you require.\\r\\n  nor dare i chide the world-without-end hour,\\r\\n  whilst i, my sovereign, watch the clock for you,\\r\\n  nor think the bitterness of absence sour,\\r\\n  when you have bid your servant once adieu;\\r\\n  nor dare i question with my jealous thought\\r\\n  where you may be, or your affairs suppose,\\r\\n  but, like a sad slave, stay and think of nought\\r\\n  save, where you are, how happy you make those.\\r\\n  \\xa0\\xa0\\xa0\\xa0so true a fool is love, that in your will,\\r\\n  \\xa0\\xa0\\xa0\\xa0though you do anything, he thinks no ill.\\n\\r\\n  that god forbid, that made me first your slave,\\r\\n  i should in thought control your times of pleasure,\\r\\n  or at your hand the account of hours to crave,\\r\\n  being your vassal, bound to stay your leisure!\\r\\n  o! let me suffer, being at your beck,\\r\\n  the imprison’d absence of your liberty;\\r\\n  and patience, tame to sufferance, bide each check,\\r\\n  without accusing you of injury.\\r\\n  be where you list, your charter is so strong\\r\\n  that you yourself may privilage your time\\r\\n  to what you will; to you it doth belong\\r\\n  yourself to pardon of self-doing crime.\\r\\n  \\xa0\\xa0\\xa0\\xa0i am to wait, though waiting so be hell,\\r\\n  \\xa0\\xa0\\xa0\\xa0not blame your pleasure be it ill or well.\\n\\r\\n  if there be nothing new, but that which is\\r\\n  hath been before, how are our brains beguil’d,\\r\\n  which labouring for invention bear amiss\\r\\n  the second burthen of a former child!\\r\\n  o! that record could with a backward look,\\r\\n  even of five hundred courses of the sun,\\r\\n  show me your image in some antique book,\\r\\n  since mind at first in character was done!\\r\\n  that i might see what the old world could say\\r\\n  to this composed wonder of your frame;\\r\\n  wh’r we are mended, or wh’r better they,\\r\\n  or whether revolution be the same.\\r\\n  \\xa0\\xa0\\xa0\\xa0o! sure i am the wits of former days,\\r\\n  \\xa0\\xa0\\xa0\\xa0to subjects worse have given admiring praise.\\n\\r\\n  like as the waves make towards the pebbled shore,\\r\\n  so do our minutes hasten to their end;\\r\\n  each changing place with that which goes before,\\r\\n  in sequent toil all forwards do contend.\\r\\n  nativity, once in the main of light,\\r\\n  crawls to maturity, wherewith being crown’d,\\r\\n  crooked eclipses ’gainst his glory fight,\\r\\n  and time that gave doth now his gift confound.\\r\\n  time doth transfix the flourish set on youth\\r\\n  and delves the parallels in beauty’s brow,\\r\\n  feeds on the rarities of nature’s truth,\\r\\n  and nothing stands but for his scythe to mow:\\r\\n  \\xa0\\xa0\\xa0\\xa0and yet to times in hope, my verse shall stand.\\r\\n  \\xa0\\xa0\\xa0\\xa0praising thy worth, despite his cruel hand.\\n\\r\\n  is it thy will, thy image should keep open\\r\\n  my heavy eyelids to the weary night?\\r\\n  dost thou desire my slumbers should be broken,\\r\\n  while shadows like to thee do mock my sight?\\r\\n  is it thy spirit that thou send’st from thee\\r\\n  so far from home into my deeds to pry,\\r\\n  to find out shames and idle hours in me,\\r\\n  the scope and tenure of thy jealousy?\\r\\n  o, no! thy love, though much, is not so great:\\r\\n  it is my love that keeps mine eye awake:\\r\\n  mine own true love that doth my rest defeat,\\r\\n  to play the watchman ever for thy sake:\\r\\n  \\xa0\\xa0\\xa0\\xa0for thee watch i, whilst thou dost wake elsewhere,\\r\\n  \\xa0\\xa0\\xa0\\xa0from me far off, with others all too near.\\n\\r\\n  sin of self-love possesseth all mine eye\\r\\n  and all my soul, and all my every part;\\r\\n  and for this sin there is no remedy,\\r\\n  it is so grounded inward in my heart.\\r\\n  methinks no face so gracious is as mine,\\r\\n  no shape so true, no truth of such account;\\r\\n  and for myself mine own worth do define,\\r\\n  as i all other in all worths surmount.\\r\\n  but when my glass shows me myself indeed\\r\\n  beated and chopp’d with tanned antiquity,\\r\\n  mine own self-love quite contrary i read;\\r\\n  self so self-loving were iniquity.\\r\\n  \\xa0\\xa0\\xa0\\xa0’tis thee,--myself,--that for myself i praise,\\r\\n  \\xa0\\xa0\\xa0\\xa0painting my age with beauty of thy days.\\n\\r\\n  against my love shall be as i am now,\\r\\n  with time’s injurious hand crush’d and o’erworn;\\r\\n  when hours have drain’d his blood and fill’d his brow\\r\\n  with lines and wrinkles; when his youthful morn\\r\\n  hath travell’d on to age’s steepy night;\\r\\n  and all those beauties whereof now he’s king\\r\\n  are vanishing, or vanished out of sight,\\r\\n  stealing away the treasure of his spring;\\r\\n  for such a time do i now fortify\\r\\n  against confounding age’s cruel knife,\\r\\n  that he shall never cut from memory\\r\\n  my sweet love’s beauty, though my lover’s life:\\r\\n  \\xa0\\xa0\\xa0\\xa0his beauty shall in these black lines be seen,\\r\\n  \\xa0\\xa0\\xa0\\xa0and they shall live, and he in them still green.\\n\\r\\n  when i have seen by time’s fell hand defac’d\\r\\n  the rich-proud cost of outworn buried age;\\r\\n  when sometime lofty towers i see down-raz’d,\\r\\n  and brass eternal slave to mortal rage;\\r\\n  when i have seen the hungry ocean gain\\r\\n  advantage on the kingdom of the shore,\\r\\n  and the firm soil win of the watery main,\\r\\n  increasing store with loss, and loss with store;\\r\\n  when i have seen such interchange of state,\\r\\n  or state itself confounded, to decay;\\r\\n  ruin hath taught me thus to ruminate--\\r\\n  that time will come and take my love away.\\r\\n  \\xa0\\xa0\\xa0\\xa0this thought is as a death which cannot choose\\r\\n  \\xa0\\xa0\\xa0\\xa0but weep to have, that which it fears to lose.\\n\\r\\n  since brass, nor stone, nor earth, nor boundless sea,\\r\\n  but sad mortality o’ersways their power,\\r\\n  how with this rage shall beauty hold a plea,\\r\\n  whose action is no stronger than a flower?\\r\\n  o! how shall summer’s honey breath hold out,\\r\\n  against the wrackful siege of battering days,\\r\\n  when rocks impregnable are not so stout,\\r\\n  nor gates of steel so strong but time decays?\\r\\n  o fearful meditation! where, alack,\\r\\n  shall time’s best jewel from time’s chest lie hid?\\r\\n  or what strong hand can hold his swift foot back?\\r\\n  or who his spoil of beauty can forbid?\\r\\n  \\xa0\\xa0\\xa0\\xa0o! none, unless this miracle have might,\\r\\n  \\xa0\\xa0\\xa0\\xa0that in black ink my love may still shine bright.\\n\\r\\n  tired with all these, for restful death i cry,\\r\\n  as to behold desert a beggar born,\\r\\n  and needy nothing trimm’d in jollity,\\r\\n  and purest faith unhappily forsworn,\\r\\n  and gilded honour shamefully misplac’d,\\r\\n  and maiden virtue rudely strumpeted,\\r\\n  and right perfection wrongfully disgrac’d,\\r\\n  and strength by limping sway disabled\\r\\n  and art made tongue-tied by authority,\\r\\n  and folly--doctor-like--controlling skill,\\r\\n  and simple truth miscall’d simplicity,\\r\\n  and captive good attending captain ill:\\r\\n  \\xa0\\xa0\\xa0\\xa0tir’d with all these, from these would i be gone,\\r\\n  \\xa0\\xa0\\xa0\\xa0save that, to die, i leave my love alone.\\n\\r\\n  ah! wherefore with infection should he live,\\r\\n  and with his presence grace impiety,\\r\\n  that sin by him advantage should achieve,\\r\\n  and lace itself with his society?\\r\\n  why should false painting imitate his cheek,\\r\\n  and steel dead seeming of his living hue?\\r\\n  why should poor beauty indirectly seek\\r\\n  roses of shadow, since his rose is true?\\r\\n  why should he live, now nature bankrupt is,\\r\\n  beggar’d of blood to blush through lively veins?\\r\\n  for she hath no exchequer now but his,\\r\\n  and proud of many, lives upon his gains.\\r\\n  \\xa0\\xa0\\xa0\\xa0o! him she stores, to show what wealth she had\\r\\n  \\xa0\\xa0\\xa0\\xa0in days long since, before these last so bad.\\n\\r\\n  thus is his cheek the map of days outworn,\\r\\n  when beauty lived and died as flowers do now,\\r\\n  before these bastard signs of fair were born,\\r\\n  or durst inhabit on a living brow;\\r\\n  before the golden tresses of the dead,\\r\\n  the right of sepulchres, were shorn away,\\r\\n  to live a second life on second head;\\r\\n  ere beauty’s dead fleece made another gay:\\r\\n  in him those holy antique hours are seen,\\r\\n  without all ornament, itself and true,\\r\\n  making no summer of another’s green,\\r\\n  robbing no old to dress his beauty new;\\r\\n  \\xa0\\xa0\\xa0\\xa0and him as for a map doth nature store,\\r\\n  \\xa0\\xa0\\xa0\\xa0to show false art what beauty was of yore.\\n\\r\\n  those parts of thee that the world’s eye doth view\\r\\n  want nothing that the thought of hearts can mend;\\r\\n  all tongues--the voice of souls--give thee that due,\\r\\n  uttering bare truth, even so as foes commend.\\r\\n  thy outward thus with outward praise is crown’d;\\r\\n  but those same tongues, that give thee so thine own,\\r\\n  in other accents do this praise confound\\r\\n  by seeing farther than the eye hath shown.\\r\\n  they look into the beauty of thy mind,\\r\\n  and that in guess they measure by thy deeds;\\r\\n  then--churls--their thoughts, although their eyes were kind,\\r\\n  to thy fair flower add the rank smell of weeds:\\r\\n  \\xa0\\xa0\\xa0\\xa0but why thy odour matcheth not thy show,\\r\\n  \\xa0\\xa0\\xa0\\xa0the soil is this, that thou dost common grow.\\n\\r\\n  that thou art blam’d shall not be thy defect,\\r\\n  for slander’s mark was ever yet the fair;\\r\\n  the ornament of beauty is suspect,\\r\\n  a crow that flies in heaven’s sweetest air.\\r\\n  so thou be good, slander doth but approve\\r\\n  thy worth the greater being woo’d of time;\\r\\n  for canker vice the sweetest buds doth love,\\r\\n  and thou present’st a pure unstained prime.\\r\\n  thou hast passed by the ambush of young days\\r\\n  either not assail’d, or victor being charg’d;\\r\\n  yet this thy praise cannot be so thy praise,\\r\\n  to tie up envy, evermore enlarg’d,\\r\\n  \\xa0\\xa0\\xa0\\xa0if some suspect of ill mask’d not thy show,\\r\\n  \\xa0\\xa0\\xa0\\xa0then thou alone kingdoms of hearts shouldst owe.\\n\\r\\n  no longer mourn for me when i am dead\\r\\n  than you shall hear the surly sullen bell\\r\\n  give warning to the world that i am fled\\r\\n  from this vile world with vilest worms to dwell:\\r\\n  nay, if you read this line, remember not\\r\\n  the hand that writ it, for i love you so,\\r\\n  that i in your sweet thoughts would be forgot,\\r\\n  if thinking on me then should make you woe.\\r\\n  o! if,--i say you look upon this verse,\\r\\n  when i perhaps compounded am with clay,\\r\\n  do not so much as my poor name rehearse;\\r\\n  but let your love even with my life decay;\\r\\n  \\xa0\\xa0\\xa0\\xa0lest the wise world should look into your moan,\\r\\n  \\xa0\\xa0\\xa0\\xa0and mock you with me after i am gone.\\n\\r\\n  o! lest the world should task you to recite\\r\\n  what merit lived in me, that you should love\\r\\n  after my death,--dear love, forget me quite,\\r\\n  for you in me can nothing worthy prove;\\r\\n  unless you would devise some virtuous lie,\\r\\n  to do more for me than mine own desert,\\r\\n  and hang more praise upon deceased i\\r\\n  than niggard truth would willingly impart:\\r\\n  o! lest your true love may seem false in this\\r\\n  that you for love speak well of me untrue,\\r\\n  my name be buried where my body is,\\r\\n  and live no more to shame nor me nor you.\\r\\n  \\xa0\\xa0\\xa0\\xa0for i am shamed by that which i bring forth,\\r\\n  \\xa0\\xa0\\xa0\\xa0and so should you, to love things nothing worth.\\n\\r\\n  that time of year thou mayst in me behold\\r\\n  when yellow leaves, or none, or few, do hang\\r\\n  upon those boughs which shake against the cold,\\r\\n  bare ruin’d choirs, where late the sweet birds sang.\\r\\n  in me thou see’st the twilight of such day\\r\\n  as after sunset fadeth in the west;\\r\\n  which by and by black night doth take away,\\r\\n  death’s second self, that seals up all in rest.\\r\\n  in me thou see’st the glowing of such fire,\\r\\n  that on the ashes of his youth doth lie,\\r\\n  as the death-bed, whereon it must expire,\\r\\n  consum’d with that which it was nourish’d by.\\r\\n  \\xa0\\xa0\\xa0\\xa0this thou perceiv’st, which makes thy love more strong,\\r\\n  \\xa0\\xa0\\xa0\\xa0to love that well, which thou must leave ere long.\\n\\r\\n  but be contented: when that fell arrest\\r\\n  without all bail shall carry me away,\\r\\n  my life hath in this line some interest,\\r\\n  which for memorial still with thee shall stay.\\r\\n  when thou reviewest this, thou dost review\\r\\n  the very part was consecrate to thee:\\r\\n  the earth can have but earth, which is his due;\\r\\n  my spirit is thine, the better part of me:\\r\\n  so then thou hast but lost the dregs of life,\\r\\n  the prey of worms, my body being dead;\\r\\n  the coward conquest of a wretch’s knife,\\r\\n  too base of thee to be remembered.\\r\\n  \\xa0\\xa0\\xa0\\xa0the worth of that is that which it contains,\\r\\n  \\xa0\\xa0\\xa0\\xa0and that is this, and this with thee remains.\\n\\r\\n  so are you to my thoughts as food to life,\\r\\n  or as sweet-season’d showers are to the ground;\\r\\n  and for the peace of you i hold such strife\\r\\n  as ’twixt a miser and his wealth is found.\\r\\n  now proud as an enjoyer, and anon\\r\\n  doubting the filching age will steal his treasure;\\r\\n  now counting best to be with you alone,\\r\\n  then better’d that the world may see my pleasure:\\r\\n  sometime all full with feasting on your sight,\\r\\n  and by and by clean starved for a look;\\r\\n  possessing or pursuing no delight,\\r\\n  save what is had, or must from you be took.\\r\\n  \\xa0\\xa0\\xa0\\xa0thus do i pine and surfeit day by day,\\r\\n  \\xa0\\xa0\\xa0\\xa0or gluttoning on all, or all away.\\n\\r\\n  why is my verse so barren of new pride,\\r\\n  so far from variation or quick change?\\r\\n  why with the time do i not glance aside\\r\\n  to new-found methods, and to compounds strange?\\r\\n  why write i still all one, ever the same,\\r\\n  and keep invention in a noted weed,\\r\\n  that every word doth almost tell my name,\\r\\n  showing their birth, and where they did proceed?\\r\\n  o! know sweet love i always write of you,\\r\\n  and you and love are still my argument;\\r\\n  so all my best is dressing old words new,\\r\\n  spending again what is already spent:\\r\\n  \\xa0\\xa0\\xa0\\xa0for as the sun is daily new and old,\\r\\n  \\xa0\\xa0\\xa0\\xa0so is my love still telling what is told.\\n\\r\\n  thy glass will show thee how thy beauties wear,\\r\\n  thy dial how thy precious minutes waste;\\r\\n  these vacant leaves thy mind’s imprint will bear,\\r\\n  and of this book, this learning mayst thou taste.\\r\\n  the wrinkles which thy glass will truly show\\r\\n  of mouthed graves will give thee memory;\\r\\n  thou by thy dial’s shady stealth mayst know\\r\\n  time’s thievish progress to eternity.\\r\\n  look! what thy memory cannot contain,\\r\\n  commit to these waste blanks, and thou shalt find\\r\\n  those children nursed, deliver’d from thy brain,\\r\\n  to take a new acquaintance of thy mind.\\r\\n  \\xa0\\xa0\\xa0\\xa0these offices, so oft as thou wilt look,\\r\\n  \\xa0\\xa0\\xa0\\xa0shall profit thee and much enrich thy book.\\n\\r\\n  so oft have i invoked thee for my muse,\\r\\n  and found such fair assistance in my verse\\r\\n  as every alien pen hath got my use\\r\\n  and under thee their poesy disperse.\\r\\n  thine eyes, that taught the dumb on high to sing\\r\\n  and heavy ignorance aloft to fly,\\r\\n  have added feathers to the learned’s wing\\r\\n  and given grace a double majesty.\\r\\n  yet be most proud of that which i compile,\\r\\n  whose influence is thine, and born of thee:\\r\\n  in others’ works thou dost but mend the style,\\r\\n  and arts with thy sweet graces graced be;\\r\\n  \\xa0\\xa0\\xa0\\xa0but thou art all my art, and dost advance\\r\\n  \\xa0\\xa0\\xa0\\xa0as high as learning, my rude ignorance.\\n\\r\\n  whilst i alone did call upon thy aid,\\r\\n  my verse alone had all thy gentle grace;\\r\\n  but now my gracious numbers are decay’d,\\r\\n  and my sick muse doth give an other place.\\r\\n  i grant, sweet love, thy lovely argument\\r\\n  deserves the travail of a worthier pen;\\r\\n  yet what of thee thy poet doth invent\\r\\n  he robs thee of, and pays it thee again.\\r\\n  he lends thee virtue, and he stole that word\\r\\n  from thy behaviour; beauty doth he give,\\r\\n  and found it in thy cheek: he can afford\\r\\n  no praise to thee, but what in thee doth live.\\r\\n  \\xa0\\xa0\\xa0\\xa0then thank him not for that which he doth say,\\r\\n  \\xa0\\xa0\\xa0\\xa0since what he owes thee, thou thyself dost pay.\\n\\r\\n  o! how i faint when i of you do write,\\r\\n  knowing a better spirit doth use your name,\\r\\n  and in the praise thereof spends all his might,\\r\\n  to make me tongue-tied speaking of your fame!\\r\\n  but since your worth--wide as the ocean is,--\\r\\n  the humble as the proudest sail doth bear,\\r\\n  my saucy bark, inferior far to his,\\r\\n  on your broad main doth wilfully appear.\\r\\n  your shallowest help will hold me up afloat,\\r\\n  whilst he upon your soundless deep doth ride;\\r\\n  or, being wrack’d, i am a worthless boat,\\r\\n  he of tall building, and of goodly pride:\\r\\n  \\xa0\\xa0\\xa0\\xa0then if he thrive and i be cast away,\\r\\n  \\xa0\\xa0\\xa0\\xa0the worst was this,--my love was my decay.\\n\\r\\n  or i shall live your epitaph to make,\\r\\n  or you survive when i in earth am rotten;\\r\\n  from hence your memory death cannot take,\\r\\n  although in me each part will be forgotten.\\r\\n  your name from hence immortal life shall have,\\r\\n  though i, once gone, to all the world must die:\\r\\n  the earth can yield me but a common grave,\\r\\n  when you entombed in men’s eyes shall lie.\\r\\n  your monument shall be my gentle verse,\\r\\n  which eyes not yet created shall o’er-read;\\r\\n  and tongues to be, your being shall rehearse,\\r\\n  when all the breathers of this world are dead;\\r\\n  \\xa0\\xa0\\xa0\\xa0you still shall live,--such virtue hath my pen,--\\r\\n  \\xa0\\xa0\\xa0\\xa0where breath most breathes, even in the mouths of men.\\n\\r\\n  i grant thou wert not married to my muse,\\r\\n  and therefore mayst without attaint o’erlook\\r\\n  the dedicated words which writers use\\r\\n  of their fair subject, blessing every book.\\r\\n  thou art as fair in knowledge as in hue,\\r\\n  finding thy worth a limit past my praise;\\r\\n  and therefore art enforced to seek anew\\r\\n  some fresher stamp of the time-bettering days.\\r\\n  and do so, love; yet when they have devis’d,\\r\\n  what strained touches rhetoric can lend,\\r\\n  thou truly fair, wert truly sympathiz’d\\r\\n  in true plain words, by thy true-telling friend;\\r\\n  \\xa0\\xa0\\xa0\\xa0and their gross painting might be better us’d\\r\\n  \\xa0\\xa0\\xa0\\xa0where cheeks need blood; in thee it is abus’d.\\n\\r\\n  i never saw that you did painting need,\\r\\n  and therefore to your fair no painting set;\\r\\n  i found, or thought i found, you did exceed\\r\\n  that barren tender of a poet’s debt:\\r\\n  and therefore have i slept in your report,\\r\\n  that you yourself, being extant, well might show\\r\\n  how far a modern quill doth come too short,\\r\\n  speaking of worth, what worth in you doth grow.\\r\\n  this silence for my sin you did impute,\\r\\n  which shall be most my glory being dumb;\\r\\n  for i impair not beauty being mute,\\r\\n  when others would give life, and bring a tomb.\\r\\n  \\xa0\\xa0\\xa0\\xa0there lives more life in one of your fair eyes\\r\\n  \\xa0\\xa0\\xa0\\xa0than both your poets can in praise devise.\\n\\r\\n  who is it that says most, which can say more,\\r\\n  than this rich praise,--that you alone, are you?\\r\\n  in whose confine immured is the store\\r\\n  which should example where your equal grew.\\r\\n  lean penury within that pen doth dwell\\r\\n  that to his subject lends not some small glory;\\r\\n  but he that writes of you, if he can tell\\r\\n  that you are you, so dignifies his story,\\r\\n  let him but copy what in you is writ,\\r\\n  not making worse what nature made so clear,\\r\\n  and such a counterpart shall fame his wit,\\r\\n  making his style admired every where.\\r\\n  \\xa0\\xa0\\xa0\\xa0you to your beauteous blessings add a curse,\\r\\n  \\xa0\\xa0\\xa0\\xa0being fond on praise, which makes your praises worse.\\n\\r\\n  my tongue-tied muse in manners holds her still,\\r\\n  while comments of your praise richly compil’d,\\r\\n  reserve their character with golden quill,\\r\\n  and precious phrase by all the muses fil’d.\\r\\n  i think good thoughts, whilst others write good words,\\r\\n  and like unlettered clerk still cry ‘amen’\\r\\n  to every hymn that able spirit affords,\\r\\n  in polish’d form of well-refined pen.\\r\\n  hearing you praised, i say ‘’tis so, ’tis true,’\\r\\n  and to the most of praise add something more;\\r\\n  but that is in my thought, whose love to you,\\r\\n  though words come hindmost, holds his rank before.\\r\\n  \\xa0\\xa0\\xa0\\xa0then others, for the breath of words respect,\\r\\n  \\xa0\\xa0\\xa0\\xa0me for my dumb thoughts, speaking in effect.\\n\\r\\n  was it the proud full sail of his great verse,\\r\\n  bound for the prize of all too precious you,\\r\\n  that did my ripe thoughts in my brain inhearse,\\r\\n  making their tomb the womb wherein they grew?\\r\\n  was it his spirit, by spirits taught to write,\\r\\n  above a mortal pitch, that struck me dead?\\r\\n  no, neither he, nor his compeers by night\\r\\n  giving him aid, my verse astonished.\\r\\n  he, nor that affable familiar ghost\\r\\n  which nightly gulls him with intelligence,\\r\\n  as victors of my silence cannot boast;\\r\\n  i was not sick of any fear from thence:\\r\\n  \\xa0\\xa0\\xa0\\xa0but when your countenance fill’d up his line,\\r\\n  \\xa0\\xa0\\xa0\\xa0then lacked i matter; that enfeebled mine.\\n\\r\\n  farewell! thou art too dear for my possessing,\\r\\n  and like enough thou know’st thy estimate,\\r\\n  the charter of thy worth gives thee releasing;\\r\\n  my bonds in thee are all determinate.\\r\\n  for how do i hold thee but by thy granting?\\r\\n  and for that riches where is my deserving?\\r\\n  the cause of this fair gift in me is wanting,\\r\\n  and so my patent back again is swerving.\\r\\n  thyself thou gav’st, thy own worth then not knowing,\\r\\n  or me to whom thou gav’st it, else mistaking;\\r\\n  so thy great gift, upon misprision growing,\\r\\n  comes home again, on better judgement making.\\r\\n  \\xa0\\xa0\\xa0\\xa0thus have i had thee, as a dream doth flatter,\\r\\n  \\xa0\\xa0\\xa0\\xa0in sleep a king, but waking no such matter.\\n\\r\\n  when thou shalt be dispos’d to set me light,\\r\\n  and place my merit in the eye of scorn,\\r\\n  upon thy side, against myself i’ll fight,\\r\\n  and prove thee virtuous, though thou art forsworn.\\r\\n  with mine own weakness, being best acquainted,\\r\\n  upon thy part i can set down a story\\r\\n  of faults conceal’d, wherein i am attainted;\\r\\n  that thou in losing me shalt win much glory:\\r\\n  and i by this will be a gainer too;\\r\\n  for bending all my loving thoughts on thee,\\r\\n  the injuries that to myself i do,\\r\\n  doing thee vantage, double-vantage me.\\r\\n  \\xa0\\xa0\\xa0\\xa0such is my love, to thee i so belong,\\r\\n  \\xa0\\xa0\\xa0\\xa0that for thy right, myself will bear all wrong.\\n\\r\\n  say that thou didst forsake me for some fault,\\r\\n  and i will comment upon that offence:\\r\\n  speak of my lameness, and i straight will halt,\\r\\n  against thy reasons making no defence.\\r\\n  thou canst not love disgrace me half so ill,\\r\\n  to set a form upon desired change,\\r\\n  as i’ll myself disgrace; knowing thy will,\\r\\n  i will acquaintance strangle, and look strange;\\r\\n  be absent from thy walks; and in my tongue\\r\\n  thy sweet beloved name no more shall dwell,\\r\\n  lest i, too much profane, should do it wrong,\\r\\n  and haply of our old acquaintance tell.\\r\\n  \\xa0\\xa0\\xa0\\xa0for thee, against my self i’ll vow debate,\\r\\n  \\xa0\\xa0\\xa0\\xa0for i must ne’er love him whom thou dost hate.\\n\\r\\n  then hate me when thou wilt; if ever, now;\\r\\n  now, while the world is bent my deeds to cross,\\r\\n  join with the spite of fortune, make me bow,\\r\\n  and do not drop in for an after-loss:\\r\\n  ah! do not, when my heart hath ’scap’d this sorrow,\\r\\n  come in the rearward of a conquer’d woe;\\r\\n  give not a windy night a rainy morrow,\\r\\n  to linger out a purpos’d overthrow.\\r\\n  if thou wilt leave me, do not leave me last,\\r\\n  when other petty griefs have done their spite,\\r\\n  but in the onset come: so shall i taste\\r\\n  at first the very worst of fortune’s might;\\r\\n  \\xa0\\xa0\\xa0\\xa0and other strains of woe, which now seem woe,\\r\\n  \\xa0\\xa0\\xa0\\xa0compar’d with loss of thee, will not seem so.\\n\\r\\n  some glory in their birth, some in their skill,\\r\\n  some in their wealth, some in their body’s force,\\r\\n  some in their garments though new-fangled ill;\\r\\n  some in their hawks and hounds, some in their horse;\\r\\n  and every humour hath his adjunct pleasure,\\r\\n  wherein it finds a joy above the rest:\\r\\n  but these particulars are not my measure,\\r\\n  all these i better in one general best.\\r\\n  thy love is better than high birth to me,\\r\\n  richer than wealth, prouder than garments’ costs,\\r\\n  of more delight than hawks and horses be;\\r\\n  and having thee, of all men’s pride i boast:\\r\\n  \\xa0\\xa0\\xa0\\xa0wretched in this alone, that thou mayst take\\r\\n  \\xa0\\xa0\\xa0\\xa0all this away, and me most wretchcd make.\\n\\r\\n  but do thy worst to steal thyself away,\\r\\n  for term of life thou art assured mine;\\r\\n  and life no longer than thy love will stay,\\r\\n  for it depends upon that love of thine.\\r\\n  then need i not to fear the worst of wrongs,\\r\\n  when in the least of them my life hath end.\\r\\n  i see a better state to me belongs\\r\\n  than that which on thy humour doth depend:\\r\\n  thou canst not vex me with inconstant mind,\\r\\n  since that my life on thy revolt doth lie.\\r\\n  o! what a happy title do i find,\\r\\n  happy to have thy love, happy to die!\\r\\n  \\xa0\\xa0\\xa0\\xa0but what’s so blessed-fair that fears no blot?\\r\\n  \\xa0\\xa0\\xa0\\xa0thou mayst be false, and yet i know it not.\\n\\r\\n  so shall i live, supposing thou art true,\\r\\n  like a deceived husband; so love’s face\\r\\n  may still seem love to me, though alter’d new;\\r\\n  thy looks with me, thy heart in other place:\\r\\n  for there can live no hatred in thine eye,\\r\\n  therefore in that i cannot know thy change.\\r\\n  in many’s looks, the false heart’s history\\r\\n  is writ in moods, and frowns, and wrinkles strange.\\r\\n  but heaven in thy creation did decree\\r\\n  that in thy face sweet love should ever dwell;\\r\\n  whate’er thy thoughts, or thy heart’s workings be,\\r\\n  thy looks should nothing thence, but sweetness tell.\\r\\n  \\xa0\\xa0\\xa0\\xa0how like eve’s apple doth thy beauty grow,\\r\\n  \\xa0\\xa0\\xa0\\xa0if thy sweet virtue answer not thy show!\\n\\r\\n  they that have power to hurt, and will do none,\\r\\n  that do not do the thing they most do show,\\r\\n  who, moving others, are themselves as stone,\\r\\n  unmoved, cold, and to temptation slow;\\r\\n  they rightly do inherit heaven’s graces,\\r\\n  and husband nature’s riches from expense;\\r\\n  they are the lords and owners of their faces,\\r\\n  others, but stewards of their excellence.\\r\\n  the summer’s flower is to the summer sweet,\\r\\n  though to itself, it only live and die,\\r\\n  but if that flower with base infection meet,\\r\\n  the basest weed outbraves his dignity:\\r\\n  \\xa0\\xa0\\xa0\\xa0for sweetest things turn sourest by their deeds;\\r\\n  \\xa0\\xa0\\xa0\\xa0lilies that fester, smell far worse than weeds.\\n\\r\\n  how sweet and lovely dost thou make the shame\\r\\n  which, like a canker in the fragrant rose,\\r\\n  doth spot the beauty of thy budding name!\\r\\n  o! in what sweets dost thou thy sins enclose.\\r\\n  that tongue that tells the story of thy days,\\r\\n  making lascivious comments on thy sport,\\r\\n  cannot dispraise, but in a kind of praise;\\r\\n  naming thy name, blesses an ill report.\\r\\n  o! what a mansion have those vices got\\r\\n  which for their habitation chose out thee,\\r\\n  where beauty’s veil doth cover every blot\\r\\n  and all things turns to fair that eyes can see!\\r\\n  \\xa0\\xa0\\xa0\\xa0take heed, dear heart, of this large privilege;\\r\\n  \\xa0\\xa0\\xa0\\xa0the hardest knife ill-us’d doth lose his edge.\\n\\r\\n  some say thy fault is youth, some wantonness;\\r\\n  some say thy grace is youth and gentle sport;\\r\\n  both grace and faults are lov’d of more and less:\\r\\n  thou mak’st faults graces that to thee resort.\\r\\n  as on the finger of a throned queen\\r\\n  the basest jewel will be well esteem’d,\\r\\n  so are those errors that in thee are seen\\r\\n  to truths translated, and for true things deem’d.\\r\\n  how many lambs might the stern wolf betray,\\r\\n  if like a lamb he could his looks translate!\\r\\n  how many gazers mightst thou lead away,\\r\\n  if thou wouldst use the strength of all thy state!\\r\\n  \\xa0\\xa0\\xa0\\xa0but do not so; i love thee in such sort,\\r\\n  \\xa0\\xa0\\xa0\\xa0as, thou being mine, mine is thy good report.\\n\\r\\n  how like a winter hath my absence been\\r\\n  from thee, the pleasure of the fleeting year!\\r\\n  what freezings have i felt, what dark days seen!\\r\\n  what old december’s bareness everywhere!\\r\\n  and yet this time removed was summer’s time;\\r\\n  the teeming autumn, big with rich increase,\\r\\n  bearing the wanton burden of the prime,\\r\\n  like widow’d wombs after their lords’ decease:\\r\\n  yet this abundant issue seem’d to me\\r\\n  but hope of orphans, and unfather’d fruit;\\r\\n  for summer and his pleasures wait on thee,\\r\\n  and, thou away, the very birds are mute:\\r\\n  \\xa0\\xa0\\xa0\\xa0or, if they sing, ’tis with so dull a cheer,\\r\\n  \\xa0\\xa0\\xa0\\xa0that leaves look pale, dreading the winter’s near.\\n\\r\\n  from you have i been absent in the spring,\\r\\n  when proud-pied april, dress’d in all his trim,\\r\\n  hath put a spirit of youth in every thing,\\r\\n  that heavy saturn laugh’d and leap’d with him.\\r\\n  yet nor the lays of birds, nor the sweet smell\\r\\n  of different flowers in odour and in hue,\\r\\n  could make me any summer’s story tell,\\r\\n  or from their proud lap pluck them where they grew:\\r\\n  nor did i wonder at the lily’s white,\\r\\n  nor praise the deep vermilion in the rose;\\r\\n  they were but sweet, but figures of delight,\\r\\n  drawn after you, you pattern of all those.\\r\\n  \\xa0\\xa0\\xa0\\xa0yet seem’d it winter still, and you away,\\r\\n  \\xa0\\xa0\\xa0\\xa0as with your shadow i with these did play.\\n\\r\\n  the forward violet thus did i chide:\\r\\n  sweet thief, whence didst thou steal thy sweet that smells,\\r\\n  if not from my love’s breath? the purple pride\\r\\n  which on thy soft cheek for complexion dwells\\r\\n  in my love’s veins thou hast too grossly dy’d.\\r\\n  the lily i condemned for thy hand,\\r\\n  and buds of marjoram had stol’n thy hair;\\r\\n  the roses fearfully on thorns did stand,\\r\\n  one blushing shame, another white despair;\\r\\n  a third, nor red nor white, had stol’n of both,\\r\\n  and to his robbery had annex’d thy breath;\\r\\n  but, for his theft, in pride of all his growth\\r\\n  a vengeful canker eat him up to death.\\r\\n  \\xa0\\xa0\\xa0\\xa0more flowers i noted, yet i none could see,\\r\\n  \\xa0\\xa0\\xa0\\xa0but sweet, or colour it had stol’n from thee.\\n\\r\\n  where art thou muse that thou forget’st so long,\\r\\n  to speak of that which gives thee all thy might?\\r\\n  spend’st thou thy fury on some worthless song,\\r\\n  darkening thy power to lend base subjects light?\\r\\n  return forgetful muse, and straight redeem,\\r\\n  in gentle numbers time so idly spent;\\r\\n  sing to the ear that doth thy lays esteem\\r\\n  and gives thy pen both skill and argument.\\r\\n  rise, resty muse, my love’s sweet face survey,\\r\\n  if time have any wrinkle graven there;\\r\\n  if any, be a satire to decay,\\r\\n  and make time’s spoils despised every where.\\r\\n  \\xa0\\xa0\\xa0\\xa0give my love fame faster than time wastes life,\\r\\n  \\xa0\\xa0\\xa0\\xa0so thou prevent’st his scythe and crooked knife.\\n\\r\\n  o truant muse what shall be thy amends\\r\\n  for thy neglect of truth in beauty dy’d?\\r\\n  both truth and beauty on my love depends;\\r\\n  so dost thou too, and therein dignified.\\r\\n  make answer muse: wilt thou not haply say,\\r\\n  ‘truth needs no colour, with his colour fix’d;\\r\\n  beauty no pencil, beauty’s truth to lay;\\r\\n  but best is best, if never intermix’d’?\\r\\n  because he needs no praise, wilt thou be dumb?\\r\\n  excuse not silence so, for’t lies in thee\\r\\n  to make him much outlive a gilded tomb\\r\\n  and to be prais’d of ages yet to be.\\r\\n  \\xa0\\xa0\\xa0\\xa0then do thy office, muse; i teach thee how\\r\\n  \\xa0\\xa0\\xa0\\xa0to make him seem long hence as he shows now.\\n\\r\\n  my love is strengthen’d, though more weak in seeming;\\r\\n  i love not less, though less the show appear;\\r\\n  that love is merchandiz’d, whose rich esteeming,\\r\\n  the owner’s tongue doth publish every where.\\r\\n  our love was new, and then but in the spring,\\r\\n  when i was wont to greet it with my lays;\\r\\n  as philomel in summer’s front doth sing,\\r\\n  and stops her pipe in growth of riper days:\\r\\n  not that the summer is less pleasant now\\r\\n  than when her mournful hymns did hush the night,\\r\\n  but that wild music burthens every bough,\\r\\n  and sweets grown common lose their dear delight.\\r\\n  \\xa0\\xa0\\xa0\\xa0therefore like her, i sometime hold my tongue:\\r\\n  \\xa0\\xa0\\xa0\\xa0because i would not dull you with my song.\\n\\r\\n  alack! what poverty my muse brings forth,\\r\\n  that having such a scope to show her pride,\\r\\n  the argument, all bare, is of more worth\\r\\n  than when it hath my added praise beside!\\r\\n  o! blame me not, if i no more can write!\\r\\n  look in your glass, and there appears a face\\r\\n  that over-goes my blunt invention quite,\\r\\n  dulling my lines, and doing me disgrace.\\r\\n  were it not sinful then, striving to mend,\\r\\n  to mar the subject that before was well?\\r\\n  for to no other pass my verses tend\\r\\n  than of your graces and your gifts to tell;\\r\\n  \\xa0\\xa0\\xa0\\xa0and more, much more, than in my verse can sit,\\r\\n  \\xa0\\xa0\\xa0\\xa0your own glass shows you when you look in it.\\n\\r\\n  to me, fair friend, you never can be old,\\r\\n  for as you were when first your eye i ey’d,\\r\\n  such seems your beauty still. three winters cold,\\r\\n  have from the forests shook three summers’ pride,\\r\\n  three beauteous springs to yellow autumn turn’d,\\r\\n  in process of the seasons have i seen,\\r\\n  three april perfumes in three hot junes burn’d,\\r\\n  since first i saw you fresh, which yet are green.\\r\\n  ah! yet doth beauty like a dial-hand,\\r\\n  steal from his figure, and no pace perceiv’d;\\r\\n  so your sweet hue, which methinks still doth stand,\\r\\n  hath motion, and mine eye may be deceiv’d:\\r\\n  \\xa0\\xa0\\xa0\\xa0for fear of which, hear this thou age unbred:\\r\\n  \\xa0\\xa0\\xa0\\xa0ere you were born was beauty’s summer dead.\\n\\r\\n  let not my love be call’d idolatry,\\r\\n  nor my beloved as an idol show,\\r\\n  since all alike my songs and praises be\\r\\n  to one, of one, still such, and ever so.\\r\\n  kind is my love to-day, to-morrow kind,\\r\\n  still constant in a wondrous excellence;\\r\\n  therefore my verse to constancy confin’d,\\r\\n  one thing expressing, leaves out difference.\\r\\n  ‘fair, kind, and true,’ is all my argument,\\r\\n  ‘fair, kind, and true,’ varying to other words;\\r\\n  and in this change is my invention spent,\\r\\n  three themes in one, which wondrous scope affords.\\r\\n  \\xa0\\xa0\\xa0\\xa0fair, kind, and true, have often liv’d alone,\\r\\n  \\xa0\\xa0\\xa0\\xa0which three till now, never kept seat in one.\\n\\r\\n  when in the chronicle of wasted time\\r\\n  i see descriptions of the fairest wights,\\r\\n  and beauty making beautiful old rime,\\r\\n  in praise of ladies dead and lovely knights,\\r\\n  then, in the blazon of sweet beauty’s best,\\r\\n  of hand, of foot, of lip, of eye, of brow,\\r\\n  i see their antique pen would have express’d\\r\\n  even such a beauty as you master now.\\r\\n  so all their praises are but prophecies\\r\\n  of this our time, all you prefiguring;\\r\\n  and for they looked but with divining eyes,\\r\\n  they had not skill enough your worth to sing:\\r\\n  \\xa0\\xa0\\xa0\\xa0for we, which now behold these present days,\\r\\n  \\xa0\\xa0\\xa0\\xa0have eyes to wonder, but lack tongues to praise.\\n\\r\\n  not mine own fears, nor the prophetic soul\\r\\n  of the wide world dreaming on things to come,\\r\\n  can yet the lease of my true love control,\\r\\n  supposed as forfeit to a confin’d doom.\\r\\n  the mortal moon hath her eclipse endur’d,\\r\\n  and the sad augurs mock their own presage;\\r\\n  incertainties now crown themselves assur’d,\\r\\n  and peace proclaims olives of endless age.\\r\\n  now with the drops of this most balmy time,\\r\\n  my love looks fresh, and death to me subscribes,\\r\\n  since, spite of him, i’ll live in this poor rime,\\r\\n  while he insults o’er dull and speechless tribes:\\r\\n  \\xa0\\xa0\\xa0\\xa0and thou in this shalt find thy monument,\\r\\n  \\xa0\\xa0\\xa0\\xa0when tyrants’ crests and tombs of brass are spent.\\n\\r\\n  what’s in the brain, that ink may character,\\r\\n  which hath not figur’d to thee my true spirit?\\r\\n  what’s new to speak, what now to register,\\r\\n  that may express my love, or thy dear merit?\\r\\n  nothing, sweet boy; but yet, like prayers divine,\\r\\n  i must each day say o’er the very same;\\r\\n  counting no old thing old, thou mine, i thine,\\r\\n  even as when first i hallow’d thy fair name.\\r\\n  so that eternal love in love’s fresh case,\\r\\n  weighs not the dust and injury of age,\\r\\n  nor gives to necessary wrinkles place,\\r\\n  but makes antiquity for aye his page;\\r\\n  \\xa0\\xa0\\xa0\\xa0finding the first conceit of love there bred,\\r\\n  \\xa0\\xa0\\xa0\\xa0where time and outward form would show it dead.\\n\\r\\n  o! never say that i was false of heart,\\r\\n  though absence seem’d my flame to qualify,\\r\\n  as easy might i from my self depart\\r\\n  as from my soul which in thy breast doth lie:\\r\\n  that is my home of love: if i have rang’d,\\r\\n  like him that travels, i return again;\\r\\n  just to the time, not with the time exchang’d,\\r\\n  so that myself bring water for my stain.\\r\\n  never believe though in my nature reign’d,\\r\\n  all frailties that besiege all kinds of blood,\\r\\n  that it could so preposterously be stain’d,\\r\\n  to leave for nothing all thy sum of good;\\r\\n  \\xa0\\xa0\\xa0\\xa0for nothing this wide universe i call,\\r\\n  \\xa0\\xa0\\xa0\\xa0save thou, my rose, in it thou art my all.\\n\\r\\n  alas! ’tis true, i have gone here and there,\\r\\n  and made my self a motley to the view,\\r\\n  gor’d mine own thoughts, sold cheap what is most dear,\\r\\n  made old offences of affections new;\\r\\n  most true it is, that i have look’d on truth\\r\\n  askance and strangely; but, by all above,\\r\\n  these blenches gave my heart another youth,\\r\\n  and worse essays prov’d thee my best of love.\\r\\n  now all is done, save what shall have no end:\\r\\n  mine appetite i never more will grind\\r\\n  on newer proof, to try an older friend,\\r\\n  a god in love, to whom i am confin’d.\\r\\n  \\xa0\\xa0\\xa0\\xa0then give me welcome, next my heaven the best,\\r\\n  \\xa0\\xa0\\xa0\\xa0even to thy pure and most most loving breast.\\n\\r\\n  o! for my sake do you with fortune chide,\\r\\n  the guilty goddess of my harmful deeds,\\r\\n  that did not better for my life provide\\r\\n  than public means which public manners breeds.\\r\\n  thence comes it that my name receives a brand,\\r\\n  and almost thence my nature is subdu’d\\r\\n  to what it works in, like the dyer’s hand:\\r\\n  pity me, then, and wish i were renew’d;\\r\\n  whilst, like a willing patient, i will drink,\\r\\n  potions of eisel ’gainst my strong infection;\\r\\n  no bitterness that i will bitter think,\\r\\n  nor double penance, to correct correction.\\r\\n  \\xa0\\xa0\\xa0\\xa0pity me then, dear friend, and i assure ye,\\r\\n  \\xa0\\xa0\\xa0\\xa0even that your pity is enough to cure me.\\n\\r\\n  your love and pity doth the impression fill,\\r\\n  which vulgar scandal stamp’d upon my brow;\\r\\n  for what care i who calls me well or ill,\\r\\n  so you o’er-green my bad, my good allow?\\r\\n  you are my all-the-world, and i must strive\\r\\n  to know my shames and praises from your tongue;\\r\\n  none else to me, nor i to none alive,\\r\\n  that my steel’d sense or changes right or wrong.\\r\\n  in so profound abysm i throw all care\\r\\n  of others’ voices, that my adder’s sense\\r\\n  to critic and to flatterer stopped are.\\r\\n  mark how with my neglect i do dispense:\\r\\n  \\xa0\\xa0\\xa0\\xa0you are so strongly in my purpose bred,\\r\\n  \\xa0\\xa0\\xa0\\xa0that all the world besides methinks are dead.\\n\\r\\n  since i left you, mine eye is in my mind;\\r\\n  and that which governs me to go about\\r\\n  doth part his function and is partly blind,\\r\\n  seems seeing, but effectually is out;\\r\\n  for it no form delivers to the heart\\r\\n  of bird, of flower, or shape which it doth latch:\\r\\n  of his quick objects hath the mind no part,\\r\\n  nor his own vision holds what it doth catch;\\r\\n  for if it see the rud’st or gentlest sight,\\r\\n  the most sweet favour or deformed’st creature,\\r\\n  the mountain or the sea, the day or night:\\r\\n  the crow, or dove, it shapes them to your feature.\\r\\n  \\xa0\\xa0\\xa0\\xa0incapable of more, replete with you,\\r\\n  \\xa0\\xa0\\xa0\\xa0my most true mind thus maketh mine untrue.\\n\\r\\n  or whether doth my mind, being crown’d with you,\\r\\n  drink up the monarch’s plague, this flattery?\\r\\n  or whether shall i say, mine eye saith true,\\r\\n  and that your love taught it this alchemy,\\r\\n  to make of monsters and things indigest\\r\\n  such cherubins as your sweet self resemble,\\r\\n  creating every bad a perfect best,\\r\\n  as fast as objects to his beams assemble?\\r\\n  o! ’tis the first, ’tis flattery in my seeing,\\r\\n  and my great mind most kingly drinks it up:\\r\\n  mine eye well knows what with his gust is ’greeing,\\r\\n  and to his palate doth prepare the cup:\\r\\n  \\xa0\\xa0\\xa0\\xa0if it be poison’d, ’tis the lesser sin\\r\\n  \\xa0\\xa0\\xa0\\xa0that mine eye loves it and doth first begin.\\n\\r\\n  those lines that i before have writ do lie,\\r\\n  even those that said i could not love you dearer:\\r\\n  yet then my judgment knew no reason why\\r\\n  my most full flame should afterwards burn clearer.\\r\\n  but reckoning time, whose million’d accidents\\r\\n  creep in ’twixt vows, and change decrees of kings,\\r\\n  tan sacred beauty, blunt the sharp’st intents,\\r\\n  divert strong minds to the course of altering things;\\r\\n  alas! why fearing of time’s tyranny,\\r\\n  might i not then say, ‘now i love you best,’\\r\\n  when i was certain o’er incertainty,\\r\\n  crowning the present, doubting of the rest?\\r\\n  \\xa0\\xa0\\xa0\\xa0love is a babe, then might i not say so,\\r\\n  \\xa0\\xa0\\xa0\\xa0to give full growth to that which still doth grow?\\n\\r\\n  let me not to the marriage of true minds\\r\\n  admit impediments. love is not love\\r\\n  which alters when it alteration finds,\\r\\n  or bends with the remover to remove:\\r\\n  o, no! it is an ever-fixed mark,\\r\\n  that looks on tempests and is never shaken;\\r\\n  it is the star to every wandering bark,\\r\\n  whose worth’s unknown, although his height be taken.\\r\\n  love’s not time’s fool, though rosy lips and cheeks\\r\\n  within his bending sickle’s compass come;\\r\\n  love alters not with his brief hours and weeks,\\r\\n  but bears it out even to the edge of doom.\\r\\n  \\xa0\\xa0\\xa0\\xa0if this be error and upon me prov’d,\\r\\n  \\xa0\\xa0\\xa0\\xa0i never writ, nor no man ever lov’d.\\n\\r\\n  accuse me thus: that i have scanted all,\\r\\n  wherein i should your great deserts repay,\\r\\n  forgot upon your dearest love to call,\\r\\n  whereto all bonds do tie me day by day;\\r\\n  that i have frequent been with unknown minds,\\r\\n  and given to time your own dear-purchas’d right;\\r\\n  that i have hoisted sail to all the winds\\r\\n  which should transport me farthest from your sight.\\r\\n  book both my wilfulness and errors down,\\r\\n  and on just proof surmise, accumulate;\\r\\n  bring me within the level of your frown,\\r\\n  but shoot not at me in your waken’d hate;\\r\\n  \\xa0\\xa0\\xa0\\xa0since my appeal says i did strive to prove\\r\\n  \\xa0\\xa0\\xa0\\xa0the constancy and virtue of your love.\\n\\r\\n  like as, to make our appetite more keen,\\r\\n  with eager compounds we our palate urge;\\r\\n  as, to prevent our maladies unseen,\\r\\n  we sicken to shun sickness when we purge;\\r\\n  even so, being full of your ne’er-cloying sweetness,\\r\\n  to bitter sauces did i frame my feeding;\\r\\n  and, sick of welfare, found a kind of meetness\\r\\n  to be diseas’d, ere that there was true needing.\\r\\n  thus policy in love, to anticipate\\r\\n  the ills that were not, grew to faults assur’d,\\r\\n  and brought to medicine a healthful state\\r\\n  which, rank of goodness, would by ill be cur’d;\\r\\n  \\xa0\\xa0\\xa0\\xa0but thence i learn and find the lesson true,\\r\\n  \\xa0\\xa0\\xa0\\xa0drugs poison him that so fell sick of you.\\n\\r\\n  what potions have i drunk of siren tears,\\r\\n  distill’d from limbecks foul as hell within,\\r\\n  applying fears to hopes, and hopes to fears,\\r\\n  still losing when i saw myself to win!\\r\\n  what wretched errors hath my heart committed,\\r\\n  whilst it hath thought itself so blessed never!\\r\\n  how have mine eyes out of their spheres been fitted,\\r\\n  in the distraction of this madding fever!\\r\\n  o benefit of ill! now i find true\\r\\n  that better is, by evil still made better;\\r\\n  and ruin’d love, when it is built anew,\\r\\n  grows fairer than at first, more strong, far greater.\\r\\n  \\xa0\\xa0\\xa0\\xa0so i return rebuk’d to my content,\\r\\n  \\xa0\\xa0\\xa0\\xa0and gain by ill thrice more than i have spent.\\n\\r\\n  that you were once unkind befriends me now,\\r\\n  and for that sorrow, which i then did feel,\\r\\n  needs must i under my transgression bow,\\r\\n  unless my nerves were brass or hammer’d steel.\\r\\n  for if you were by my unkindness shaken,\\r\\n  as i by yours, you’ve pass’d a hell of time;\\r\\n  and i, a tyrant, have no leisure taken\\r\\n  to weigh how once i suffer’d in your crime.\\r\\n  o! that our night of woe might have remember’d\\r\\n  my deepest sense, how hard true sorrow hits,\\r\\n  and soon to you, as you to me, then tender’d\\r\\n  the humble salve, which wounded bosoms fits!\\r\\n  \\xa0\\xa0\\xa0\\xa0but that your trespass now becomes a fee;\\r\\n  \\xa0\\xa0\\xa0\\xa0mine ransoms yours, and yours must ransom me.\\n\\r\\n  ’tis better to be vile than vile esteem’d,\\r\\n  when not to be receives reproach of being;\\r\\n  and the just pleasure lost, which is so deem’d\\r\\n  not by our feeling, but by others’ seeing:\\r\\n  for why should others’ false adulterate eyes\\r\\n  give salutation to my sportive blood?\\r\\n  or on my frailties why are frailer spies,\\r\\n  which in their wills count bad what i think good?\\r\\n  no, i am that i am, and they that level\\r\\n  at my abuses reckon up their own:\\r\\n  i may be straight though they themselves be bevel;\\r\\n  by their rank thoughts, my deeds must not be shown;\\r\\n  \\xa0\\xa0\\xa0\\xa0unless this general evil they maintain,\\r\\n  \\xa0\\xa0\\xa0\\xa0all men are bad and in their badness reign.\\n\\r\\n  thy gift, thy tables, are within my brain\\r\\n  full character’d with lasting memory,\\r\\n  which shall above that idle rank remain,\\r\\n  beyond all date; even to eternity:\\r\\n  or, at the least, so long as brain and heart\\r\\n  have faculty by nature to subsist;\\r\\n  till each to raz’d oblivion yield his part\\r\\n  of thee, thy record never can be miss’d.\\r\\n  that poor retention could not so much hold,\\r\\n  nor need i tallies thy dear love to score;\\r\\n  therefore to give them from me was i bold,\\r\\n  to trust those tables that receive thee more:\\r\\n  \\xa0\\xa0\\xa0\\xa0to keep an adjunct to remember thee\\r\\n  \\xa0\\xa0\\xa0\\xa0were to import forgetfulness in me.\\n\\r\\n  no, time, thou shalt not boast that i do change:\\r\\n  thy pyramids built up with newer might\\r\\n  to me are nothing novel, nothing strange;\\r\\n  they are but dressings of a former sight.\\r\\n  our dates are brief, and therefore we admire\\r\\n  what thou dost foist upon us that is old;\\r\\n  and rather make them born to our desire\\r\\n  than think that we before have heard them told.\\r\\n  thy registers and thee i both defy,\\r\\n  not wondering at the present nor the past,\\r\\n  for thy records and what we see doth lie,\\r\\n  made more or less by thy continual haste.\\r\\n  \\xa0\\xa0\\xa0\\xa0this i do vow and this shall ever be;\\r\\n  \\xa0\\xa0\\xa0\\xa0i will be true despite thy scythe and thee.\\n\\r\\n  if my dear love were but the child of state,\\r\\n  it might for fortune’s bastard be unfather’d,\\r\\n  as subject to time’s love or to time’s hate,\\r\\n  weeds among weeds, or flowers with flowers gather’d.\\r\\n  no, it was builded far from accident;\\r\\n  it suffers not in smiling pomp, nor falls\\r\\n  under the blow of thralled discontent,\\r\\n  whereto th’ inviting time our fashion calls:\\r\\n  it fears not policy, that heretic,\\r\\n  which works on leases of short-number’d hours,\\r\\n  but all alone stands hugely politic,\\r\\n  that it nor grows with heat, nor drowns with showers.\\r\\n  \\xa0\\xa0\\xa0\\xa0to this i witness call the fools of time,\\r\\n  \\xa0\\xa0\\xa0\\xa0which die for goodness, who have lived for crime.\\n\\r\\n  were’t aught to me i bore the canopy,\\r\\n  with my extern the outward honouring,\\r\\n  or laid great bases for eternity,\\r\\n  which proves more short than waste or ruining?\\r\\n  have i not seen dwellers on form and favour\\r\\n  lose all and more by paying too much rent\\r\\n  for compound sweet; forgoing simple savour,\\r\\n  pitiful thrivers, in their gazing spent?\\r\\n  no; let me be obsequious in thy heart,\\r\\n  and take thou my oblation, poor but free,\\r\\n  which is not mix’d with seconds, knows no art,\\r\\n  but mutual render, only me for thee.\\r\\n  \\xa0\\xa0\\xa0\\xa0hence, thou suborned informer! a true soul\\r\\n  \\xa0\\xa0\\xa0\\xa0when most impeach’d, stands least in thy control.\\n\\r\\n  o thou, my lovely boy, who in thy power\\r\\n  dost hold time’s fickle glass, his fickle hour;\\r\\n  who hast by waning grown, and therein show’st\\r\\n  thy lovers withering, as thy sweet self grow’st.\\r\\n  if nature, sovereign mistress over wrack,\\r\\n  as thou goest onwards, still will pluck thee back,\\r\\n  she keeps thee to this purpose, that her skill\\r\\n  may time disgrace and wretched minutes kill.\\r\\n  yet fear her, o thou minion of her pleasure!\\r\\n  she may detain, but not still keep, her treasure:\\r\\n  \\xa0\\xa0\\xa0\\xa0her audit (though delayed) answered must be,\\r\\n  \\xa0\\xa0\\xa0\\xa0and her quietus is to render thee.\\n\\r\\n  in the old age black was not counted fair,\\r\\n  or if it were, it bore not beauty’s name;\\r\\n  but now is black beauty’s successive heir,\\r\\n  and beauty slander’d with a bastard shame:\\r\\n  for since each hand hath put on nature’s power,\\r\\n  fairing the foul with art’s false borrowed face,\\r\\n  sweet beauty hath no name, no holy bower,\\r\\n  but is profan’d, if not lives in disgrace.\\r\\n  therefore my mistress’ eyes are raven black,\\r\\n  her eyes so suited, and they mourners seem\\r\\n  at such who, not born fair, no beauty lack,\\r\\n  sland’ring creation with a false esteem:\\r\\n  \\xa0\\xa0\\xa0\\xa0yet so they mourn becoming of their woe,\\r\\n  \\xa0\\xa0\\xa0\\xa0that every tongue says beauty should look so.\\n\\r\\n  how oft when thou, my music, music play’st,\\r\\n  upon that blessed wood whose motion sounds\\r\\n  with thy sweet fingers when thou gently sway’st\\r\\n  the wiry concord that mine ear confounds,\\r\\n  do i envy those jacks that nimble leap,\\r\\n  to kiss the tender inward of thy hand,\\r\\n  whilst my poor lips which should that harvest reap,\\r\\n  at the wood’s boldness by thee blushing stand!\\r\\n  to be so tickled, they would change their state\\r\\n  and situation with those dancing chips,\\r\\n  o’er whom thy fingers walk with gentle gait,\\r\\n  making dead wood more bless’d than living lips.\\r\\n  \\xa0\\xa0\\xa0\\xa0since saucy jacks so happy are in this,\\r\\n  \\xa0\\xa0\\xa0\\xa0give them thy fingers, me thy lips to kiss.\\n\\r\\n  the expense of spirit in a waste of shame\\r\\n  is lust in action: and till action, lust\\r\\n  is perjur’d, murderous, bloody, full of blame,\\r\\n  savage, extreme, rude, cruel, not to trust;\\r\\n  enjoy’d no sooner but despised straight;\\r\\n  past reason hunted; and no sooner had,\\r\\n  past reason hated, as a swallow’d bait,\\r\\n  on purpose laid to make the taker mad:\\r\\n  mad in pursuit and in possession so;\\r\\n  had, having, and in quest, to have extreme;\\r\\n  a bliss in proof,-- and prov’d, a very woe;\\r\\n  before, a joy propos’d; behind a dream.\\r\\n  \\xa0\\xa0\\xa0\\xa0all this the world well knows; yet none knows well\\r\\n  \\xa0\\xa0\\xa0\\xa0to shun the heaven that leads men to this hell.\\n\\r\\n  my mistress’ eyes are nothing like the sun;\\r\\n  coral is far more red, than her lips red:\\r\\n  if snow be white, why then her breasts are dun;\\r\\n  if hairs be wires, black wires grow on her head.\\r\\n  i have seen roses damask’d, red and white,\\r\\n  but no such roses see i in her cheeks;\\r\\n  and in some perfumes is there more delight\\r\\n  than in the breath that from my mistress reeks.\\r\\n  i love to hear her speak, yet well i know\\r\\n  that music hath a far more pleasing sound:\\r\\n  i grant i never saw a goddess go,--\\r\\n  my mistress, when she walks, treads on the ground:\\r\\n  \\xa0\\xa0\\xa0\\xa0and yet by heaven, i think my love as rare,\\r\\n  \\xa0\\xa0\\xa0\\xa0as any she belied with false compare.\\n\\r\\n  thou art as tyrannous, so as thou art,\\r\\n  as those whose beauties proudly make them cruel;\\r\\n  for well thou know’st to my dear doting heart\\r\\n  thou art the fairest and most precious jewel.\\r\\n  yet, in good faith, some say that thee behold,\\r\\n  thy face hath not the power to make love groan;\\r\\n  to say they err i dare not be so bold,\\r\\n  although i swear it to myself alone.\\r\\n  and to be sure that is not false i swear,\\r\\n  a thousand groans, but thinking on thy face,\\r\\n  one on another’s neck, do witness bear\\r\\n  thy black is fairest in my judgment’s place.\\r\\n  \\xa0\\xa0\\xa0\\xa0in nothing art thou black save in thy deeds,\\r\\n  \\xa0\\xa0\\xa0\\xa0and thence this slander, as i think, proceeds.\\n\\r\\n  thine eyes i love, and they, as pitying me,\\r\\n  knowing thy heart torment me with disdain,\\r\\n  have put on black and loving mourners be,\\r\\n  looking with pretty ruth upon my pain.\\r\\n  and truly not the morning sun of heaven\\r\\n  better becomes the grey cheeks of the east,\\r\\n  nor that full star that ushers in the even,\\r\\n  doth half that glory to the sober west,\\r\\n  as those two mourning eyes become thy face:\\r\\n  o! let it then as well beseem thy heart\\r\\n  to mourn for me since mourning doth thee grace,\\r\\n  and suit thy pity like in every part.\\r\\n  \\xa0\\xa0\\xa0\\xa0then will i swear beauty herself is black,\\r\\n  \\xa0\\xa0\\xa0\\xa0and all they foul that thy complexion lack.\\n\\r\\n  beshrew that heart that makes my heart to groan\\r\\n  for that deep wound it gives my friend and me!\\r\\n  is’t not enough to torture me alone,\\r\\n  but slave to slavery my sweet’st friend must be?\\r\\n  me from myself thy cruel eye hath taken,\\r\\n  and my next self thou harder hast engross’d:\\r\\n  of him, myself, and thee i am forsaken;\\r\\n  a torment thrice three-fold thus to be cross’d:\\r\\n  prison my heart in thy steel bosom’s ward,\\r\\n  but then my friend’s heart let my poor heart bail;\\r\\n  whoe’er keeps me, let my heart be his guard;\\r\\n  thou canst not then use rigour in my jail:\\r\\n  \\xa0\\xa0\\xa0\\xa0and yet thou wilt; for i, being pent in thee,\\r\\n  \\xa0\\xa0\\xa0\\xa0perforce am thine, and all that is in me.\\n\\r\\n  so, now i have confess’d that he is thine,\\r\\n  and i my self am mortgag’d to thy will,\\r\\n  myself i’ll forfeit, so that other mine\\r\\n  thou wilt restore to be my comfort still:\\r\\n  but thou wilt not, nor he will not be free,\\r\\n  for thou art covetous, and he is kind;\\r\\n  he learn’d but surety-like to write for me,\\r\\n  under that bond that him as fast doth bind.\\r\\n  the statute of thy beauty thou wilt take,\\r\\n  thou usurer, that putt’st forth all to use,\\r\\n  and sue a friend came debtor for my sake;\\r\\n  so him i lose through my unkind abuse.\\r\\n  \\xa0\\xa0\\xa0\\xa0him have i lost; thou hast both him and me:\\r\\n  \\xa0\\xa0\\xa0\\xa0he pays the whole, and yet am i not free.\\n\\r\\n  whoever hath her wish, thou hast thy ‘will,’\\r\\n  and ‘will’ to boot, and ‘will’ in over-plus;\\r\\n  more than enough am i that vex’d thee still,\\r\\n  to thy sweet will making addition thus.\\r\\n  wilt thou, whose will is large and spacious,\\r\\n  not once vouchsafe to hide my will in thine?\\r\\n  shall will in others seem right gracious,\\r\\n  and in my will no fair acceptance shine?\\r\\n  the sea, all water, yet receives rain still,\\r\\n  and in abundance addeth to his store;\\r\\n  so thou, being rich in ‘will,’ add to thy ‘will’\\r\\n  one will of mine, to make thy large will more.\\r\\n  \\xa0\\xa0\\xa0\\xa0let no unkind ‘no’ fair beseechers kill;\\r\\n  \\xa0\\xa0\\xa0\\xa0think all but one, and me in that one ‘will.’\\n\\r\\n  if thy soul check thee that i come so near,\\r\\n  swear to thy blind soul that i was thy ‘will’,\\r\\n  and will, thy soul knows, is admitted there;\\r\\n  thus far for love, my love-suit, sweet, fulfil.\\r\\n  ‘will’, will fulfil the treasure of thy love,\\r\\n  ay, fill it full with wills, and my will one.\\r\\n  in things of great receipt with ease we prove\\r\\n  among a number one is reckon’d none:\\r\\n  then in the number let me pass untold,\\r\\n  though in thy store’s account i one must be;\\r\\n  for nothing hold me, so it please thee hold\\r\\n  that nothing me, a something sweet to thee:\\r\\n  \\xa0\\xa0\\xa0\\xa0make but my name thy love, and love that still,\\r\\n  \\xa0\\xa0\\xa0\\xa0and then thou lov’st me for my name is ‘will.’\\n\\r\\n  thou blind fool, love, what dost thou to mine eyes,\\r\\n  that they behold, and see not what they see?\\r\\n  they know what beauty is, see where it lies,\\r\\n  yet what the best is take the worst to be.\\r\\n  if eyes, corrupt by over-partial looks,\\r\\n  be anchor’d in the bay where all men ride,\\r\\n  why of eyes’ falsehood hast thou forged hooks,\\r\\n  whereto the judgment of my heart is tied?\\r\\n  why should my heart think that a several plot,\\r\\n  which my heart knows the wide world’s common place?\\r\\n  or mine eyes, seeing this, say this is not,\\r\\n  to put fair truth upon so foul a face?\\r\\n  \\xa0\\xa0\\xa0\\xa0in things right true my heart and eyes have err’d,\\r\\n  \\xa0\\xa0\\xa0\\xa0and to this false plague are they now transferr’d.\\n\\r\\n  when my love swears that she is made of truth,\\r\\n  i do believe her though i know she lies,\\r\\n  that she might think me some untutor’d youth,\\r\\n  unlearned in the world’s false subtleties.\\r\\n  thus vainly thinking that she thinks me young,\\r\\n  although she knows my days are past the best,\\r\\n  simply i credit her false-speaking tongue:\\r\\n  on both sides thus is simple truth suppressed:\\r\\n  but wherefore says she not she is unjust?\\r\\n  and wherefore say not i that i am old?\\r\\n  o! love’s best habit is in seeming trust,\\r\\n  and age in love, loves not to have years told:\\r\\n  \\xa0\\xa0\\xa0\\xa0therefore i lie with her, and she with me,\\r\\n  \\xa0\\xa0\\xa0\\xa0and in our faults by lies we flatter’d be.\\n\\r\\n  o! call not me to justify the wrong\\r\\n  that thy unkindness lays upon my heart;\\r\\n  wound me not with thine eye, but with thy tongue:\\r\\n  use power with power, and slay me not by art,\\r\\n  tell me thou lov’st elsewhere; but in my sight,\\r\\n  dear heart, forbear to glance thine eye aside:\\r\\n  what need’st thou wound with cunning, when thy might\\r\\n  is more than my o’erpress’d defence can bide?\\r\\n  let me excuse thee: ah! my love well knows\\r\\n  her pretty looks have been mine enemies;\\r\\n  and therefore from my face she turns my foes,\\r\\n  that they elsewhere might dart their injuries:\\r\\n  \\xa0\\xa0\\xa0\\xa0yet do not so; but since i am near slain,\\r\\n  \\xa0\\xa0\\xa0\\xa0kill me outright with looks, and rid my pain.\\n\\r\\n  be wise as thou art cruel; do not press\\r\\n  my tongue-tied patience with too much disdain;\\r\\n  lest sorrow lend me words, and words express\\r\\n  the manner of my pity-wanting pain.\\r\\n  if i might teach thee wit, better it were,\\r\\n  though not to love, yet, love to tell me so;--\\r\\n  as testy sick men, when their deaths be near,\\r\\n  no news but health from their physicians know;--\\r\\n  for, if i should despair, i should grow mad,\\r\\n  and in my madness might speak ill of thee;\\r\\n  now this ill-wresting world is grown so bad,\\r\\n  mad slanderers by mad ears believed be.\\r\\n  \\xa0\\xa0\\xa0\\xa0that i may not be so, nor thou belied,\\r\\n  \\xa0\\xa0\\xa0\\xa0bear thine eyes straight, though thy proud heart go wide.\\n\\r\\n  in faith i do not love thee with mine eyes,\\r\\n  for they in thee a thousand errors note;\\r\\n  but ’tis my heart that loves what they despise,\\r\\n  who, in despite of view, is pleased to dote.\\r\\n  nor are mine ears with thy tongue’s tune delighted;\\r\\n  nor tender feeling, to base touches prone,\\r\\n  nor taste, nor smell, desire to be invited\\r\\n  to any sensual feast with thee alone:\\r\\n  but my five wits nor my five senses can\\r\\n  dissuade one foolish heart from serving thee,\\r\\n  who leaves unsway’d the likeness of a man,\\r\\n  thy proud heart’s slave and vassal wretch to be:\\r\\n  \\xa0\\xa0\\xa0\\xa0only my plague thus far i count my gain,\\r\\n  \\xa0\\xa0\\xa0\\xa0that she that makes me sin awards me pain.\\n\\r\\n  love is my sin, and thy dear virtue hate,\\r\\n  hate of my sin, grounded on sinful loving:\\r\\n  o! but with mine compare thou thine own state,\\r\\n  and thou shalt find it merits not reproving;\\r\\n  or, if it do, not from those lips of thine,\\r\\n  that have profan’d their scarlet ornaments\\r\\n  and seal’d false bonds of love as oft as mine,\\r\\n  robb’d others’ beds’ revenues of their rents.\\r\\n  be it lawful i love thee, as thou lov’st those\\r\\n  whom thine eyes woo as mine importune thee:\\r\\n  root pity in thy heart, that, when it grows,\\r\\n  thy pity may deserve to pitied be.\\r\\n  \\xa0\\xa0\\xa0\\xa0if thou dost seek to have what thou dost hide,\\r\\n  \\xa0\\xa0\\xa0\\xa0by self-example mayst thou be denied!\\n\\r\\n  lo, as a careful housewife runs to catch\\r\\n  one of her feather’d creatures broke away,\\r\\n  sets down her babe, and makes all swift dispatch\\r\\n  in pursuit of the thing she would have stay;\\r\\n  whilst her neglected child holds her in chase,\\r\\n  cries to catch her whose busy care is bent\\r\\n  to follow that which flies before her face,\\r\\n  not prizing her poor infant’s discontent;\\r\\n  so runn’st thou after that which flies from thee,\\r\\n  whilst i thy babe chase thee afar behind;\\r\\n  but if thou catch thy hope, turn back to me,\\r\\n  and play the mother’s part, kiss me, be kind;\\r\\n  \\xa0\\xa0\\xa0\\xa0so will i pray that thou mayst have thy ‘will,’\\r\\n  \\xa0\\xa0\\xa0\\xa0if thou turn back and my loud crying still.\\n\\r\\n  two loves i have of comfort and despair,\\r\\n  which like two spirits do suggest me still:\\r\\n  the better angel is a man right fair,\\r\\n  the worser spirit a woman colour’d ill.\\r\\n  to win me soon to hell, my female evil,\\r\\n  tempteth my better angel from my side,\\r\\n  and would corrupt my saint to be a devil,\\r\\n  wooing his purity with her foul pride.\\r\\n  and whether that my angel be turn’d fiend,\\r\\n  suspect i may, yet not directly tell;\\r\\n  but being both from me, both to each friend,\\r\\n  i guess one angel in another’s hell:\\r\\n  \\xa0\\xa0\\xa0\\xa0yet this shall i ne’er know, but live in doubt,\\r\\n  \\xa0\\xa0\\xa0\\xa0till my bad angel fire my good one out.\\n\\r\\n  those lips that love’s own hand did make,\\r\\n  breathed forth the sound that said ‘i hate’,\\r\\n  to me that languish’d for her sake:\\r\\n  but when she saw my woeful state,\\r\\n  straight in her heart did mercy come,\\r\\n  chiding that tongue that ever sweet\\r\\n  was us’d in giving gentle doom;\\r\\n  and taught it thus anew to greet;\\r\\n  ‘i hate’ she alter’d with an end,\\r\\n  that followed it as gentle day,\\r\\n  doth follow night, who like a fiend\\r\\n  from heaven to hell is flown away.\\r\\n  \\xa0\\xa0\\xa0\\xa0‘i hate’, from hate away she threw,\\r\\n  \\xa0\\xa0\\xa0\\xa0and sav’d my life, saying ‘not you’.\\n\\r\\n  poor soul, the centre of my sinful earth,\\r\\n  my sinful earth these rebel powers array,\\r\\n  why dost thou pine within and suffer dearth,\\r\\n  painting thy outward walls so costly gay?\\r\\n  why so large cost, having so short a lease,\\r\\n  dost thou upon thy fading mansion spend?\\r\\n  shall worms, inheritors of this excess,\\r\\n  eat up thy charge? is this thy body’s end?\\r\\n  then soul, live thou upon thy servant’s loss,\\r\\n  and let that pine to aggravate thy store;\\r\\n  buy terms divine in selling hours of dross;\\r\\n  within be fed, without be rich no more:\\r\\n  \\xa0\\xa0\\xa0\\xa0so shall thou feed on death, that feeds on men,\\r\\n  \\xa0\\xa0\\xa0\\xa0and death once dead, there’s no more dying then.\\n\\r\\n  my love is as a fever longing still,\\r\\n  for that which longer nurseth the disease;\\r\\n  feeding on that which doth preserve the ill,\\r\\n  the uncertain sickly appetite to please.\\r\\n  my reason, the physician to my love,\\r\\n  angry that his prescriptions are not kept,\\r\\n  hath left me, and i desperate now approve\\r\\n  desire is death, which physic did except.\\r\\n  past cure i am, now reason is past care,\\r\\n  and frantic-mad with evermore unrest;\\r\\n  my thoughts and my discourse as madmen’s are,\\r\\n  at random from the truth vainly express’d;\\r\\n  \\xa0\\xa0\\xa0\\xa0for i have sworn thee fair, and thought thee bright,\\r\\n  \\xa0\\xa0\\xa0\\xa0who art as black as hell, as dark as night.\\n\\r\\n  o me! what eyes hath love put in my head,\\r\\n  which have no correspondence with true sight;\\r\\n  or, if they have, where is my judgment fled,\\r\\n  that censures falsely what they see aright?\\r\\n  if that be fair whereon my false eyes dote,\\r\\n  what means the world to say it is not so?\\r\\n  if it be not, then love doth well denote\\r\\n  love’s eye is not so true as all men’s: no,\\r\\n  how can it? o! how can love’s eye be true,\\r\\n  that is so vexed with watching and with tears?\\r\\n  no marvel then, though i mistake my view;\\r\\n  the sun itself sees not, till heaven clears.\\r\\n  \\xa0\\xa0\\xa0\\xa0o cunning love! with tears thou keep’st me blind,\\r\\n  \\xa0\\xa0\\xa0\\xa0lest eyes well-seeing thy foul faults should find.\\n\\r\\n  canst thou, o cruel! say i love thee not,\\r\\n  when i against myself with thee partake?\\r\\n  do i not think on thee, when i forgot\\r\\n  am of my self, all tyrant, for thy sake?\\r\\n  who hateth thee that i do call my friend,\\r\\n  on whom frown’st thou that i do fawn upon,\\r\\n  nay, if thou lour’st on me, do i not spend\\r\\n  revenge upon myself with present moan?\\r\\n  what merit do i in my self respect,\\r\\n  that is so proud thy service to despise,\\r\\n  when all my best doth worship thy defect,\\r\\n  commanded by the motion of thine eyes?\\r\\n  \\xa0\\xa0\\xa0\\xa0but, love, hate on, for now i know thy mind;\\r\\n  \\xa0\\xa0\\xa0\\xa0those that can see thou lov’st, and i am blind.\\n\\r\\n  o! from what power hast thou this powerful might,\\r\\n  with insufficiency my heart to sway?\\r\\n  to make me give the lie to my true sight,\\r\\n  and swear that brightness doth not grace the day?\\r\\n  whence hast thou this becoming of things ill,\\r\\n  that in the very refuse of thy deeds\\r\\n  there is such strength and warrantise of skill,\\r\\n  that, in my mind, thy worst all best exceeds?\\r\\n  who taught thee how to make me love thee more,\\r\\n  the more i hear and see just cause of hate?\\r\\n  o! though i love what others do abhor,\\r\\n  with others thou shouldst not abhor my state:\\r\\n  \\xa0\\xa0\\xa0\\xa0if thy unworthiness rais’d love in me,\\r\\n  \\xa0\\xa0\\xa0\\xa0more worthy i to be belov’d of thee.\\n\\r\\n  love is too young to know what conscience is,\\r\\n  yet who knows not conscience is born of love?\\r\\n  then, gentle cheater, urge not my amiss,\\r\\n  lest guilty of my faults thy sweet self prove:\\r\\n  for, thou betraying me, i do betray\\r\\n  my nobler part to my gross body’s treason;\\r\\n  my soul doth tell my body that he may\\r\\n  triumph in love; flesh stays no farther reason,\\r\\n  but rising at thy name doth point out thee,\\r\\n  as his triumphant prize. proud of this pride,\\r\\n  he is contented thy poor drudge to be,\\r\\n  to stand in thy affairs, fall by thy side.\\r\\n  \\xa0\\xa0\\xa0\\xa0no want of conscience hold it that i call\\r\\n  \\xa0\\xa0\\xa0\\xa0her ‘love,’ for whose dear love i rise and fall.\\n\\r\\n  in loving thee thou know’st i am forsworn,\\r\\n  but thou art twice forsworn, to me love swearing;\\r\\n  in act thy bed-vow broke, and new faith torn,\\r\\n  in vowing new hate after new love bearing:\\r\\n  but why of two oaths’ breach do i accuse thee,\\r\\n  when i break twenty? i am perjur’d most;\\r\\n  for all my vows are oaths but to misuse thee,\\r\\n  and all my honest faith in thee is lost:\\r\\n  for i have sworn deep oaths of thy deep kindness,\\r\\n  oaths of thy love, thy truth, thy constancy;\\r\\n  and, to enlighten thee, gave eyes to blindness,\\r\\n  or made them swear against the thing they see;\\r\\n  \\xa0\\xa0\\xa0\\xa0for i have sworn thee fair; more perjur’d i,\\r\\n  \\xa0\\xa0\\xa0\\xa0to swear against the truth so foul a lie!\\n\\r\\n  cupid laid by his brand and fell asleep:\\r\\n  a maid of dian’s this advantage found,\\r\\n  and his love-kindling fire did quickly steep\\r\\n  in a cold valley-fountain of that ground;\\r\\n  which borrow’d from this holy fire of love,\\r\\n  a dateless lively heat, still to endure,\\r\\n  and grew a seeting bath, which yet men prove\\r\\n  against strange maladies a sovereign cure.\\r\\n  but at my mistress’ eye love’s brand new-fired,\\r\\n  the boy for trial needs would touch my breast;\\r\\n  i, sick withal, the help of bath desired,\\r\\n  and thither hied, a sad distemper’d guest,\\r\\n  \\xa0\\xa0\\xa0\\xa0but found no cure, the bath for my help lies\\r\\n  \\xa0\\xa0\\xa0\\xa0where cupid got new fire; my mistress’ eyes.\\n\\r\\n  the little love-god lying once asleep,\\r\\n  laid by his side his heart-inflaming brand,\\r\\n  whilst many nymphs that vow’d chaste life to keep\\r\\n  came tripping by; but in her maiden hand\\r\\n  the fairest votary took up that fire\\r\\n  which many legions of true hearts had warm’d;\\r\\n  and so the general of hot desire\\r\\n  was, sleeping, by a virgin hand disarm’d.\\r\\n  this brand she quenched in a cool well by,\\r\\n  which from love’s fire took heat perpetual,\\r\\n  growing a bath and healthful remedy,\\r\\n  for men diseas’d; but i, my mistress’ thrall,\\r\\n  \\xa0\\xa0\\xa0\\xa0came there for cure and this by that i prove,\\r\\n  \\xa0\\xa0\\xa0\\xa0love’s fire heats water, water cools not love.\\n'"
            ],
            "application/vnd.google.colaboratory.intrinsic+json": {
              "type": "string"
            }
          },
          "metadata": {},
          "execution_count": 3
        }
      ]
    },
    {
      "cell_type": "markdown",
      "source": [
        "###Preprocesamiento"
      ],
      "metadata": {
        "id": "gN6pyQV5yC2m"
      }
    },
    {
      "cell_type": "code",
      "source": [
        "article_text = article_text.replace('\\n', '.') #Elimino los saltos de fila\n",
        "article_text = article_text.replace(',.', '.') # Reemplazo ,. por .\n",
        "article_text = article_text.replace(':.', '.')\n",
        "article_text = article_text.replace(';.', '.')\n",
        "article_text = article_text.replace('\\xa0\\xa0\\xa0\\xa0', '')\n",
        "article_text = re.split(r\"\\r.\", article_text) #Separo las oraciones"
      ],
      "metadata": {
        "id": "hiptMmRoxmV9"
      },
      "execution_count": 4,
      "outputs": []
    },
    {
      "cell_type": "code",
      "source": [
        "df = pd.DataFrame(article_text)\n",
        "df.drop(0)"
      ],
      "metadata": {
        "colab": {
          "base_uri": "https://localhost:8080/",
          "height": 424
        },
        "id": "mlp7rSWG_ZfZ",
        "outputId": "b4d5d900-3a9d-45c4-ee29-99665152beb6"
      },
      "execution_count": 5,
      "outputs": [
        {
          "output_type": "execute_result",
          "data": {
            "text/plain": [
              "                                                      0\n",
              "1            from fairest creatures we desire increase,\n",
              "2           that thereby beauty’s rose might never die,\n",
              "3              but as the riper should by time decease,\n",
              "4                his tender heir might bear his memory:\n",
              "5        but thou, contracted to thine own bright eyes,\n",
              "...                                                 ...\n",
              "2151        which from love’s fire took heat perpetual,\n",
              "2152               growing a bath and healthful remedy,\n",
              "2153      for men diseas’d; but i, my mistress’ thrall,\n",
              "2154      came there for cure and this by that i prove,\n",
              "2155    love’s fire heats water, water cools not love..\n",
              "\n",
              "[2155 rows x 1 columns]"
            ],
            "text/html": [
              "\n",
              "  <div id=\"df-c63838f3-5f18-451c-9361-62b21f8be1f3\">\n",
              "    <div class=\"colab-df-container\">\n",
              "      <div>\n",
              "<style scoped>\n",
              "    .dataframe tbody tr th:only-of-type {\n",
              "        vertical-align: middle;\n",
              "    }\n",
              "\n",
              "    .dataframe tbody tr th {\n",
              "        vertical-align: top;\n",
              "    }\n",
              "\n",
              "    .dataframe thead th {\n",
              "        text-align: right;\n",
              "    }\n",
              "</style>\n",
              "<table border=\"1\" class=\"dataframe\">\n",
              "  <thead>\n",
              "    <tr style=\"text-align: right;\">\n",
              "      <th></th>\n",
              "      <th>0</th>\n",
              "    </tr>\n",
              "  </thead>\n",
              "  <tbody>\n",
              "    <tr>\n",
              "      <th>1</th>\n",
              "      <td>from fairest creatures we desire increase,</td>\n",
              "    </tr>\n",
              "    <tr>\n",
              "      <th>2</th>\n",
              "      <td>that thereby beauty’s rose might never die,</td>\n",
              "    </tr>\n",
              "    <tr>\n",
              "      <th>3</th>\n",
              "      <td>but as the riper should by time decease,</td>\n",
              "    </tr>\n",
              "    <tr>\n",
              "      <th>4</th>\n",
              "      <td>his tender heir might bear his memory:</td>\n",
              "    </tr>\n",
              "    <tr>\n",
              "      <th>5</th>\n",
              "      <td>but thou, contracted to thine own bright eyes,</td>\n",
              "    </tr>\n",
              "    <tr>\n",
              "      <th>...</th>\n",
              "      <td>...</td>\n",
              "    </tr>\n",
              "    <tr>\n",
              "      <th>2151</th>\n",
              "      <td>which from love’s fire took heat perpetual,</td>\n",
              "    </tr>\n",
              "    <tr>\n",
              "      <th>2152</th>\n",
              "      <td>growing a bath and healthful remedy,</td>\n",
              "    </tr>\n",
              "    <tr>\n",
              "      <th>2153</th>\n",
              "      <td>for men diseas’d; but i, my mistress’ thrall,</td>\n",
              "    </tr>\n",
              "    <tr>\n",
              "      <th>2154</th>\n",
              "      <td>came there for cure and this by that i prove,</td>\n",
              "    </tr>\n",
              "    <tr>\n",
              "      <th>2155</th>\n",
              "      <td>love’s fire heats water, water cools not love..</td>\n",
              "    </tr>\n",
              "  </tbody>\n",
              "</table>\n",
              "<p>2155 rows × 1 columns</p>\n",
              "</div>\n",
              "      <button class=\"colab-df-convert\" onclick=\"convertToInteractive('df-c63838f3-5f18-451c-9361-62b21f8be1f3')\"\n",
              "              title=\"Convert this dataframe to an interactive table.\"\n",
              "              style=\"display:none;\">\n",
              "        \n",
              "  <svg xmlns=\"http://www.w3.org/2000/svg\" height=\"24px\"viewBox=\"0 0 24 24\"\n",
              "       width=\"24px\">\n",
              "    <path d=\"M0 0h24v24H0V0z\" fill=\"none\"/>\n",
              "    <path d=\"M18.56 5.44l.94 2.06.94-2.06 2.06-.94-2.06-.94-.94-2.06-.94 2.06-2.06.94zm-11 1L8.5 8.5l.94-2.06 2.06-.94-2.06-.94L8.5 2.5l-.94 2.06-2.06.94zm10 10l.94 2.06.94-2.06 2.06-.94-2.06-.94-.94-2.06-.94 2.06-2.06.94z\"/><path d=\"M17.41 7.96l-1.37-1.37c-.4-.4-.92-.59-1.43-.59-.52 0-1.04.2-1.43.59L10.3 9.45l-7.72 7.72c-.78.78-.78 2.05 0 2.83L4 21.41c.39.39.9.59 1.41.59.51 0 1.02-.2 1.41-.59l7.78-7.78 2.81-2.81c.8-.78.8-2.07 0-2.86zM5.41 20L4 18.59l7.72-7.72 1.47 1.35L5.41 20z\"/>\n",
              "  </svg>\n",
              "      </button>\n",
              "      \n",
              "  <style>\n",
              "    .colab-df-container {\n",
              "      display:flex;\n",
              "      flex-wrap:wrap;\n",
              "      gap: 12px;\n",
              "    }\n",
              "\n",
              "    .colab-df-convert {\n",
              "      background-color: #E8F0FE;\n",
              "      border: none;\n",
              "      border-radius: 50%;\n",
              "      cursor: pointer;\n",
              "      display: none;\n",
              "      fill: #1967D2;\n",
              "      height: 32px;\n",
              "      padding: 0 0 0 0;\n",
              "      width: 32px;\n",
              "    }\n",
              "\n",
              "    .colab-df-convert:hover {\n",
              "      background-color: #E2EBFA;\n",
              "      box-shadow: 0px 1px 2px rgba(60, 64, 67, 0.3), 0px 1px 3px 1px rgba(60, 64, 67, 0.15);\n",
              "      fill: #174EA6;\n",
              "    }\n",
              "\n",
              "    [theme=dark] .colab-df-convert {\n",
              "      background-color: #3B4455;\n",
              "      fill: #D2E3FC;\n",
              "    }\n",
              "\n",
              "    [theme=dark] .colab-df-convert:hover {\n",
              "      background-color: #434B5C;\n",
              "      box-shadow: 0px 1px 3px 1px rgba(0, 0, 0, 0.15);\n",
              "      filter: drop-shadow(0px 1px 2px rgba(0, 0, 0, 0.3));\n",
              "      fill: #FFFFFF;\n",
              "    }\n",
              "  </style>\n",
              "\n",
              "      <script>\n",
              "        const buttonEl =\n",
              "          document.querySelector('#df-c63838f3-5f18-451c-9361-62b21f8be1f3 button.colab-df-convert');\n",
              "        buttonEl.style.display =\n",
              "          google.colab.kernel.accessAllowed ? 'block' : 'none';\n",
              "\n",
              "        async function convertToInteractive(key) {\n",
              "          const element = document.querySelector('#df-c63838f3-5f18-451c-9361-62b21f8be1f3');\n",
              "          const dataTable =\n",
              "            await google.colab.kernel.invokeFunction('convertToInteractive',\n",
              "                                                     [key], {});\n",
              "          if (!dataTable) return;\n",
              "\n",
              "          const docLinkHtml = 'Like what you see? Visit the ' +\n",
              "            '<a target=\"_blank\" href=https://colab.research.google.com/notebooks/data_table.ipynb>data table notebook</a>'\n",
              "            + ' to learn more about interactive tables.';\n",
              "          element.innerHTML = '';\n",
              "          dataTable['output_type'] = 'display_data';\n",
              "          await google.colab.output.renderOutput(dataTable, element);\n",
              "          const docLink = document.createElement('div');\n",
              "          docLink.innerHTML = docLinkHtml;\n",
              "          element.appendChild(docLink);\n",
              "        }\n",
              "      </script>\n",
              "    </div>\n",
              "  </div>\n",
              "  "
            ]
          },
          "metadata": {},
          "execution_count": 5
        }
      ]
    },
    {
      "cell_type": "code",
      "source": [
        "df.head()"
      ],
      "metadata": {
        "colab": {
          "base_uri": "https://localhost:8080/",
          "height": 206
        },
        "id": "Sa17eGqA_gin",
        "outputId": "e6d97f56-d40d-474c-c717-ba0e02ec6b14"
      },
      "execution_count": 6,
      "outputs": [
        {
          "output_type": "execute_result",
          "data": {
            "text/plain": [
              "                                               0\n",
              "0                                               \n",
              "1     from fairest creatures we desire increase,\n",
              "2    that thereby beauty’s rose might never die,\n",
              "3       but as the riper should by time decease,\n",
              "4         his tender heir might bear his memory:"
            ],
            "text/html": [
              "\n",
              "  <div id=\"df-735eac2c-93bd-4dbf-bb60-077d66bed91c\">\n",
              "    <div class=\"colab-df-container\">\n",
              "      <div>\n",
              "<style scoped>\n",
              "    .dataframe tbody tr th:only-of-type {\n",
              "        vertical-align: middle;\n",
              "    }\n",
              "\n",
              "    .dataframe tbody tr th {\n",
              "        vertical-align: top;\n",
              "    }\n",
              "\n",
              "    .dataframe thead th {\n",
              "        text-align: right;\n",
              "    }\n",
              "</style>\n",
              "<table border=\"1\" class=\"dataframe\">\n",
              "  <thead>\n",
              "    <tr style=\"text-align: right;\">\n",
              "      <th></th>\n",
              "      <th>0</th>\n",
              "    </tr>\n",
              "  </thead>\n",
              "  <tbody>\n",
              "    <tr>\n",
              "      <th>0</th>\n",
              "      <td></td>\n",
              "    </tr>\n",
              "    <tr>\n",
              "      <th>1</th>\n",
              "      <td>from fairest creatures we desire increase,</td>\n",
              "    </tr>\n",
              "    <tr>\n",
              "      <th>2</th>\n",
              "      <td>that thereby beauty’s rose might never die,</td>\n",
              "    </tr>\n",
              "    <tr>\n",
              "      <th>3</th>\n",
              "      <td>but as the riper should by time decease,</td>\n",
              "    </tr>\n",
              "    <tr>\n",
              "      <th>4</th>\n",
              "      <td>his tender heir might bear his memory:</td>\n",
              "    </tr>\n",
              "  </tbody>\n",
              "</table>\n",
              "</div>\n",
              "      <button class=\"colab-df-convert\" onclick=\"convertToInteractive('df-735eac2c-93bd-4dbf-bb60-077d66bed91c')\"\n",
              "              title=\"Convert this dataframe to an interactive table.\"\n",
              "              style=\"display:none;\">\n",
              "        \n",
              "  <svg xmlns=\"http://www.w3.org/2000/svg\" height=\"24px\"viewBox=\"0 0 24 24\"\n",
              "       width=\"24px\">\n",
              "    <path d=\"M0 0h24v24H0V0z\" fill=\"none\"/>\n",
              "    <path d=\"M18.56 5.44l.94 2.06.94-2.06 2.06-.94-2.06-.94-.94-2.06-.94 2.06-2.06.94zm-11 1L8.5 8.5l.94-2.06 2.06-.94-2.06-.94L8.5 2.5l-.94 2.06-2.06.94zm10 10l.94 2.06.94-2.06 2.06-.94-2.06-.94-.94-2.06-.94 2.06-2.06.94z\"/><path d=\"M17.41 7.96l-1.37-1.37c-.4-.4-.92-.59-1.43-.59-.52 0-1.04.2-1.43.59L10.3 9.45l-7.72 7.72c-.78.78-.78 2.05 0 2.83L4 21.41c.39.39.9.59 1.41.59.51 0 1.02-.2 1.41-.59l7.78-7.78 2.81-2.81c.8-.78.8-2.07 0-2.86zM5.41 20L4 18.59l7.72-7.72 1.47 1.35L5.41 20z\"/>\n",
              "  </svg>\n",
              "      </button>\n",
              "      \n",
              "  <style>\n",
              "    .colab-df-container {\n",
              "      display:flex;\n",
              "      flex-wrap:wrap;\n",
              "      gap: 12px;\n",
              "    }\n",
              "\n",
              "    .colab-df-convert {\n",
              "      background-color: #E8F0FE;\n",
              "      border: none;\n",
              "      border-radius: 50%;\n",
              "      cursor: pointer;\n",
              "      display: none;\n",
              "      fill: #1967D2;\n",
              "      height: 32px;\n",
              "      padding: 0 0 0 0;\n",
              "      width: 32px;\n",
              "    }\n",
              "\n",
              "    .colab-df-convert:hover {\n",
              "      background-color: #E2EBFA;\n",
              "      box-shadow: 0px 1px 2px rgba(60, 64, 67, 0.3), 0px 1px 3px 1px rgba(60, 64, 67, 0.15);\n",
              "      fill: #174EA6;\n",
              "    }\n",
              "\n",
              "    [theme=dark] .colab-df-convert {\n",
              "      background-color: #3B4455;\n",
              "      fill: #D2E3FC;\n",
              "    }\n",
              "\n",
              "    [theme=dark] .colab-df-convert:hover {\n",
              "      background-color: #434B5C;\n",
              "      box-shadow: 0px 1px 3px 1px rgba(0, 0, 0, 0.15);\n",
              "      filter: drop-shadow(0px 1px 2px rgba(0, 0, 0, 0.3));\n",
              "      fill: #FFFFFF;\n",
              "    }\n",
              "  </style>\n",
              "\n",
              "      <script>\n",
              "        const buttonEl =\n",
              "          document.querySelector('#df-735eac2c-93bd-4dbf-bb60-077d66bed91c button.colab-df-convert');\n",
              "        buttonEl.style.display =\n",
              "          google.colab.kernel.accessAllowed ? 'block' : 'none';\n",
              "\n",
              "        async function convertToInteractive(key) {\n",
              "          const element = document.querySelector('#df-735eac2c-93bd-4dbf-bb60-077d66bed91c');\n",
              "          const dataTable =\n",
              "            await google.colab.kernel.invokeFunction('convertToInteractive',\n",
              "                                                     [key], {});\n",
              "          if (!dataTable) return;\n",
              "\n",
              "          const docLinkHtml = 'Like what you see? Visit the ' +\n",
              "            '<a target=\"_blank\" href=https://colab.research.google.com/notebooks/data_table.ipynb>data table notebook</a>'\n",
              "            + ' to learn more about interactive tables.';\n",
              "          element.innerHTML = '';\n",
              "          dataTable['output_type'] = 'display_data';\n",
              "          await google.colab.output.renderOutput(dataTable, element);\n",
              "          const docLink = document.createElement('div');\n",
              "          docLink.innerHTML = docLinkHtml;\n",
              "          element.appendChild(docLink);\n",
              "        }\n",
              "      </script>\n",
              "    </div>\n",
              "  </div>\n",
              "  "
            ]
          },
          "metadata": {},
          "execution_count": 6
        }
      ]
    },
    {
      "cell_type": "code",
      "source": [
        "print(\"Cantidad de documentos en el corpus:\", len(article_text))"
      ],
      "metadata": {
        "colab": {
          "base_uri": "https://localhost:8080/"
        },
        "id": "zj5NziDpBXuY",
        "outputId": "92695a60-799f-49ab-e1db-69dceea4d602"
      },
      "execution_count": 7,
      "outputs": [
        {
          "output_type": "stream",
          "name": "stdout",
          "text": [
            "Cantidad de documentos en el corpus: 2156\n"
          ]
        }
      ]
    },
    {
      "cell_type": "markdown",
      "source": [
        "###Modelo"
      ],
      "metadata": {
        "id": "42XLxt54B2tv"
      }
    },
    {
      "cell_type": "code",
      "source": [
        "from keras.preprocessing.text import text_to_word_sequence\n",
        "\n",
        "sentence_tokens = []\n",
        "# Recorrer todas las filas y transformar las oraciones\n",
        "# en una secuencia de palabras (esto podría realizarse con NLTK o spaCy también)\n",
        "for _, row in df[:None].iterrows():\n",
        "    sentence_tokens.append(text_to_word_sequence(row[0]))"
      ],
      "metadata": {
        "id": "uxoDJhe4B5XY"
      },
      "execution_count": 8,
      "outputs": []
    },
    {
      "cell_type": "code",
      "source": [
        "sentence_tokens[2:3]"
      ],
      "metadata": {
        "colab": {
          "base_uri": "https://localhost:8080/"
        },
        "id": "3cwcnMDKDJRu",
        "outputId": "e9ed4863-a9e8-41e7-8242-712779a8bb02"
      },
      "execution_count": 9,
      "outputs": [
        {
          "output_type": "execute_result",
          "data": {
            "text/plain": [
              "[['that', 'thereby', 'beauty’s', 'rose', 'might', 'never', 'die']]"
            ]
          },
          "metadata": {},
          "execution_count": 9
        }
      ]
    },
    {
      "cell_type": "code",
      "source": [
        "from gensim.models.callbacks import CallbackAny2Vec\n",
        "# Durante el entrenamiento gensim por defecto no informa el \"loss\" en cada época\n",
        "# Sobracargamos el callback para poder tener esta información\n",
        "class callback(CallbackAny2Vec):\n",
        "    \"\"\"\n",
        "    Callback to print loss after each epoch\n",
        "    \"\"\"\n",
        "    def __init__(self):\n",
        "        self.epoch = 0\n",
        "\n",
        "    def on_epoch_end(self, model):\n",
        "        loss = model.get_latest_training_loss()\n",
        "        if self.epoch == 0:\n",
        "            print('Loss after epoch {}: {}'.format(self.epoch, loss))\n",
        "        else:\n",
        "            print('Loss after epoch {}: {}'.format(self.epoch, loss- self.loss_previous_step))\n",
        "        self.epoch += 1\n",
        "        self.loss_previous_step = loss"
      ],
      "metadata": {
        "id": "vny0n_6NDcOE"
      },
      "execution_count": 10,
      "outputs": []
    },
    {
      "cell_type": "code",
      "source": [
        "# Crearmos el modelo generador de vectoeres\n",
        "# En este caso utilizaremos la estructura modelo Skipgram\n",
        "w2v_model = Word2Vec(min_count=5,    # frecuencia mínima de palabra para incluirla en el vocabulario\n",
        "                     window=3,       # cant de palabras antes y desp de la predicha\n",
        "                     size=300,       # dimensionalidad de los vectores \n",
        "                     negative=20,    # cantidad de negative samples... 0 es no se usa\n",
        "                     workers=1,      # si tienen más cores pueden cambiar este valor\n",
        "                     sg=1)           # modelo 0:CBOW  1:skipgram"
      ],
      "metadata": {
        "id": "sNhuiWgJD3bC"
      },
      "execution_count": 11,
      "outputs": []
    },
    {
      "cell_type": "code",
      "source": [
        "w2v_model.build_vocab(sentence_tokens)"
      ],
      "metadata": {
        "id": "i1GE-lUyEQTJ"
      },
      "execution_count": 12,
      "outputs": []
    },
    {
      "cell_type": "code",
      "source": [
        "print(\"Cantidad de docs en el corpus:\", w2v_model.corpus_count)"
      ],
      "metadata": {
        "colab": {
          "base_uri": "https://localhost:8080/"
        },
        "id": "JjI8ygnaER9o",
        "outputId": "517374c8-5393-4fcd-c101-a2c247922dfb"
      },
      "execution_count": 13,
      "outputs": [
        {
          "output_type": "stream",
          "name": "stdout",
          "text": [
            "Cantidad de docs en el corpus: 2156\n"
          ]
        }
      ]
    },
    {
      "cell_type": "code",
      "source": [
        "print(\"Cantidad de words distintas en el corpus:\", len(w2v_model.wv.vocab))"
      ],
      "metadata": {
        "colab": {
          "base_uri": "https://localhost:8080/"
        },
        "id": "FJ_36K0oEbbn",
        "outputId": "93eb1809-9487-4134-dfe0-615bda7e6906"
      },
      "execution_count": 14,
      "outputs": [
        {
          "output_type": "stream",
          "name": "stdout",
          "text": [
            "Cantidad de words distintas en el corpus: 511\n"
          ]
        }
      ]
    },
    {
      "cell_type": "markdown",
      "source": [
        "###Entrenamiento del modelo"
      ],
      "metadata": {
        "id": "g-BWBqvnEhxM"
      }
    },
    {
      "cell_type": "code",
      "source": [
        "w2v_model.train(sentence_tokens,\n",
        "                 total_examples=w2v_model.corpus_count,\n",
        "                 epochs=200,\n",
        "                 compute_loss = True,\n",
        "                 callbacks=[callback()]\n",
        "                 )"
      ],
      "metadata": {
        "colab": {
          "base_uri": "https://localhost:8080/"
        },
        "id": "Yguyz7sjEklz",
        "outputId": "5b3966bd-71a1-45b8-8db7-971b02722349"
      },
      "execution_count": 15,
      "outputs": [
        {
          "output_type": "stream",
          "name": "stdout",
          "text": [
            "Loss after epoch 0: 162263.5625\n",
            "Loss after epoch 1: 83257.1875\n",
            "Loss after epoch 2: 81659.25\n",
            "Loss after epoch 3: 83166.8125\n",
            "Loss after epoch 4: 82804.65625\n",
            "Loss after epoch 5: 83499.53125\n",
            "Loss after epoch 6: 83871.6875\n",
            "Loss after epoch 7: 84260.4375\n",
            "Loss after epoch 8: 84729.0\n",
            "Loss after epoch 9: 83409.6875\n",
            "Loss after epoch 10: 82824.8125\n",
            "Loss after epoch 11: 80113.0\n",
            "Loss after epoch 12: 73259.25\n",
            "Loss after epoch 13: 72571.5\n",
            "Loss after epoch 14: 71847.125\n",
            "Loss after epoch 15: 71789.5\n",
            "Loss after epoch 16: 71207.5\n",
            "Loss after epoch 17: 71703.875\n",
            "Loss after epoch 18: 71390.125\n",
            "Loss after epoch 19: 71174.25\n",
            "Loss after epoch 20: 70174.25\n",
            "Loss after epoch 21: 69182.0\n",
            "Loss after epoch 22: 68302.5\n",
            "Loss after epoch 23: 69203.875\n",
            "Loss after epoch 24: 68949.25\n",
            "Loss after epoch 25: 66759.875\n",
            "Loss after epoch 26: 62359.5\n",
            "Loss after epoch 27: 58792.0\n",
            "Loss after epoch 28: 58827.0\n",
            "Loss after epoch 29: 58171.75\n",
            "Loss after epoch 30: 58708.25\n",
            "Loss after epoch 31: 58267.75\n",
            "Loss after epoch 32: 57773.5\n",
            "Loss after epoch 33: 56903.0\n",
            "Loss after epoch 34: 57159.0\n",
            "Loss after epoch 35: 56511.75\n",
            "Loss after epoch 36: 56173.0\n",
            "Loss after epoch 37: 56389.75\n",
            "Loss after epoch 38: 54878.0\n",
            "Loss after epoch 39: 54898.0\n",
            "Loss after epoch 40: 55843.5\n",
            "Loss after epoch 41: 55455.5\n",
            "Loss after epoch 42: 55001.75\n",
            "Loss after epoch 43: 53263.0\n",
            "Loss after epoch 44: 53859.0\n",
            "Loss after epoch 45: 53412.5\n",
            "Loss after epoch 46: 54056.0\n",
            "Loss after epoch 47: 54164.5\n",
            "Loss after epoch 48: 53082.75\n",
            "Loss after epoch 49: 53870.25\n",
            "Loss after epoch 50: 53734.0\n",
            "Loss after epoch 51: 53626.5\n",
            "Loss after epoch 52: 53311.0\n",
            "Loss after epoch 53: 53152.0\n",
            "Loss after epoch 54: 53464.0\n",
            "Loss after epoch 55: 53062.75\n",
            "Loss after epoch 56: 52461.75\n",
            "Loss after epoch 57: 52564.75\n",
            "Loss after epoch 58: 52428.5\n",
            "Loss after epoch 59: 52887.75\n",
            "Loss after epoch 60: 52211.75\n",
            "Loss after epoch 61: 51840.0\n",
            "Loss after epoch 62: 52929.0\n",
            "Loss after epoch 63: 51711.25\n",
            "Loss after epoch 64: 50531.5\n",
            "Loss after epoch 65: 48768.5\n",
            "Loss after epoch 66: 48100.0\n",
            "Loss after epoch 67: 48914.0\n",
            "Loss after epoch 68: 48062.0\n",
            "Loss after epoch 69: 48311.0\n",
            "Loss after epoch 70: 49099.5\n",
            "Loss after epoch 71: 48729.5\n",
            "Loss after epoch 72: 47831.0\n",
            "Loss after epoch 73: 48552.0\n",
            "Loss after epoch 74: 49174.0\n",
            "Loss after epoch 75: 48647.5\n",
            "Loss after epoch 76: 47486.5\n",
            "Loss after epoch 77: 47943.5\n",
            "Loss after epoch 78: 47914.5\n",
            "Loss after epoch 79: 47303.0\n",
            "Loss after epoch 80: 47602.5\n",
            "Loss after epoch 81: 48537.0\n",
            "Loss after epoch 82: 48268.5\n",
            "Loss after epoch 83: 47875.5\n",
            "Loss after epoch 84: 47804.5\n",
            "Loss after epoch 85: 47041.5\n",
            "Loss after epoch 86: 48329.5\n",
            "Loss after epoch 87: 47964.5\n",
            "Loss after epoch 88: 48103.0\n",
            "Loss after epoch 89: 46878.5\n",
            "Loss after epoch 90: 47714.0\n",
            "Loss after epoch 91: 48269.5\n",
            "Loss after epoch 92: 47326.0\n",
            "Loss after epoch 93: 47919.5\n",
            "Loss after epoch 94: 46731.5\n",
            "Loss after epoch 95: 47123.5\n",
            "Loss after epoch 96: 47711.5\n",
            "Loss after epoch 97: 46750.5\n",
            "Loss after epoch 98: 47694.0\n",
            "Loss after epoch 99: 46799.0\n",
            "Loss after epoch 100: 46452.5\n",
            "Loss after epoch 101: 46878.0\n",
            "Loss after epoch 102: 47390.5\n",
            "Loss after epoch 103: 47650.0\n",
            "Loss after epoch 104: 47677.0\n",
            "Loss after epoch 105: 47382.0\n",
            "Loss after epoch 106: 48090.0\n",
            "Loss after epoch 107: 47670.0\n",
            "Loss after epoch 108: 47207.0\n",
            "Loss after epoch 109: 46219.5\n",
            "Loss after epoch 110: 45569.0\n",
            "Loss after epoch 111: 46280.5\n",
            "Loss after epoch 112: 46844.5\n",
            "Loss after epoch 113: 46907.5\n",
            "Loss after epoch 114: 47426.5\n",
            "Loss after epoch 115: 46663.0\n",
            "Loss after epoch 116: 47122.5\n",
            "Loss after epoch 117: 46680.5\n",
            "Loss after epoch 118: 46668.5\n",
            "Loss after epoch 119: 47522.5\n",
            "Loss after epoch 120: 46797.0\n",
            "Loss after epoch 121: 46624.5\n",
            "Loss after epoch 122: 45781.5\n",
            "Loss after epoch 123: 46616.0\n",
            "Loss after epoch 124: 46587.5\n",
            "Loss after epoch 125: 47242.0\n",
            "Loss after epoch 126: 47083.5\n",
            "Loss after epoch 127: 46960.5\n",
            "Loss after epoch 128: 47237.0\n",
            "Loss after epoch 129: 47084.0\n",
            "Loss after epoch 130: 45399.0\n",
            "Loss after epoch 131: 46212.0\n",
            "Loss after epoch 132: 47471.0\n",
            "Loss after epoch 133: 46208.0\n",
            "Loss after epoch 134: 47295.0\n",
            "Loss after epoch 135: 46803.0\n",
            "Loss after epoch 136: 47033.0\n",
            "Loss after epoch 137: 45998.0\n",
            "Loss after epoch 138: 46864.0\n",
            "Loss after epoch 139: 46695.5\n",
            "Loss after epoch 140: 46617.5\n",
            "Loss after epoch 141: 45463.5\n",
            "Loss after epoch 142: 45904.5\n",
            "Loss after epoch 143: 45507.5\n",
            "Loss after epoch 144: 45999.5\n",
            "Loss after epoch 145: 46517.0\n",
            "Loss after epoch 146: 45412.5\n",
            "Loss after epoch 147: 45523.5\n",
            "Loss after epoch 148: 46237.0\n",
            "Loss after epoch 149: 45886.5\n",
            "Loss after epoch 150: 45679.0\n",
            "Loss after epoch 151: 44756.0\n",
            "Loss after epoch 152: 45566.0\n",
            "Loss after epoch 153: 45542.0\n",
            "Loss after epoch 154: 42945.0\n",
            "Loss after epoch 155: 42048.0\n",
            "Loss after epoch 156: 41609.0\n",
            "Loss after epoch 157: 41781.0\n",
            "Loss after epoch 158: 42766.0\n",
            "Loss after epoch 159: 42463.0\n",
            "Loss after epoch 160: 42002.0\n",
            "Loss after epoch 161: 42988.0\n",
            "Loss after epoch 162: 42853.0\n",
            "Loss after epoch 163: 41788.0\n",
            "Loss after epoch 164: 42609.0\n",
            "Loss after epoch 165: 42574.0\n",
            "Loss after epoch 166: 41440.0\n",
            "Loss after epoch 167: 41788.0\n",
            "Loss after epoch 168: 42160.0\n",
            "Loss after epoch 169: 41273.0\n",
            "Loss after epoch 170: 41754.0\n",
            "Loss after epoch 171: 41653.0\n",
            "Loss after epoch 172: 41895.0\n",
            "Loss after epoch 173: 41881.0\n",
            "Loss after epoch 174: 40577.0\n",
            "Loss after epoch 175: 41331.0\n",
            "Loss after epoch 176: 41583.0\n",
            "Loss after epoch 177: 41838.0\n",
            "Loss after epoch 178: 41229.0\n",
            "Loss after epoch 179: 41905.0\n",
            "Loss after epoch 180: 41686.0\n",
            "Loss after epoch 181: 41572.0\n",
            "Loss after epoch 182: 40419.0\n",
            "Loss after epoch 183: 41419.0\n",
            "Loss after epoch 184: 40922.0\n",
            "Loss after epoch 185: 41846.0\n",
            "Loss after epoch 186: 41170.0\n",
            "Loss after epoch 187: 41096.0\n",
            "Loss after epoch 188: 42592.0\n",
            "Loss after epoch 189: 41411.0\n",
            "Loss after epoch 190: 42140.0\n",
            "Loss after epoch 191: 41623.0\n",
            "Loss after epoch 192: 40160.0\n",
            "Loss after epoch 193: 42082.0\n",
            "Loss after epoch 194: 41140.0\n",
            "Loss after epoch 195: 40702.0\n",
            "Loss after epoch 196: 40832.0\n",
            "Loss after epoch 197: 41591.0\n",
            "Loss after epoch 198: 40226.0\n",
            "Loss after epoch 199: 40994.0\n"
          ]
        },
        {
          "output_type": "execute_result",
          "data": {
            "text/plain": [
              "(1699979, 3524000)"
            ]
          },
          "metadata": {},
          "execution_count": 15
        }
      ]
    },
    {
      "cell_type": "markdown",
      "source": [
        "###Pruebas"
      ],
      "metadata": {
        "id": "tLSvY6dKE0m1"
      }
    },
    {
      "cell_type": "code",
      "source": [
        "w2v_model.wv.most_similar(positive=[\"dead\"], topn=10)"
      ],
      "metadata": {
        "colab": {
          "base_uri": "https://localhost:8080/"
        },
        "id": "fC5PL3UFE2Wz",
        "outputId": "ac657c88-62f0-4ec9-be68-6f5004bbe549"
      },
      "execution_count": 16,
      "outputs": [
        {
          "output_type": "execute_result",
          "data": {
            "text/plain": [
              "[('living', 0.44620198011398315),\n",
              " ('worse', 0.42709121108055115),\n",
              " ('less', 0.4207935631275177),\n",
              " ('brow', 0.393370121717453),\n",
              " ('flowers', 0.37296390533447266),\n",
              " ('longer', 0.36998364329338074),\n",
              " ('makes', 0.3685852289199829),\n",
              " ('once', 0.3668811619281769),\n",
              " ('hide', 0.3582109808921814),\n",
              " ('gone', 0.35620540380477905)]"
            ]
          },
          "metadata": {},
          "execution_count": 16
        }
      ]
    },
    {
      "cell_type": "code",
      "source": [
        "w2v_model.wv.most_similar(negative=[\"dead\"], topn=10)"
      ],
      "metadata": {
        "colab": {
          "base_uri": "https://localhost:8080/"
        },
        "outputId": "de7dad1c-12ed-495c-f167-b9ac5fdf3365",
        "id": "OHnWoyq5gffd"
      },
      "execution_count": 20,
      "outputs": [
        {
          "output_type": "execute_result",
          "data": {
            "text/plain": [
              "[('true', 0.05011307820677757),\n",
              " ('know', 0.015494484454393387),\n",
              " ('since', 0.012204296886920929),\n",
              " ('skill', 0.010307639837265015),\n",
              " ('decay', 0.004793494939804077),\n",
              " ('eyes', 0.003576332703232765),\n",
              " ('tell', 0.0026676729321479797),\n",
              " ('water', -0.0008852854371070862),\n",
              " ('come', -0.0027501857839524746),\n",
              " ('itself', -0.005945511162281036)]"
            ]
          },
          "metadata": {},
          "execution_count": 20
        }
      ]
    },
    {
      "cell_type": "code",
      "source": [
        "w2v_model.wv.most_similar(positive=[\"desire\"], topn=10)"
      ],
      "metadata": {
        "colab": {
          "base_uri": "https://localhost:8080/"
        },
        "outputId": "2436df3d-2a02-4e61-d57f-2e8449b530ff",
        "id": "swcqXCI0fHrv"
      },
      "execution_count": 17,
      "outputs": [
        {
          "output_type": "execute_result",
          "data": {
            "text/plain": [
              "[('therefore', 0.4046172797679901),\n",
              " ('two', 0.3852030038833618),\n",
              " ('buried', 0.3824410140514374),\n",
              " ('brain', 0.3611655831336975),\n",
              " ('grew', 0.3531067371368408),\n",
              " ('painting', 0.3494494557380676),\n",
              " ('lines', 0.3426726162433624),\n",
              " ('invention', 0.33686840534210205),\n",
              " ('thought', 0.33218586444854736),\n",
              " ('fairest', 0.32911860942840576)]"
            ]
          },
          "metadata": {},
          "execution_count": 17
        }
      ]
    },
    {
      "cell_type": "code",
      "source": [
        "w2v_model.wv.most_similar(negative=[\"desire\"], topn=10)"
      ],
      "metadata": {
        "colab": {
          "base_uri": "https://localhost:8080/"
        },
        "outputId": "62deacb8-a66d-4700-a09e-822946f29199",
        "id": "F4axzd3wgU1W"
      },
      "execution_count": 19,
      "outputs": [
        {
          "output_type": "execute_result",
          "data": {
            "text/plain": [
              "[('others', 0.0377042256295681),\n",
              " ('skill', 0.019147800281643867),\n",
              " ('power', 0.01686260849237442),\n",
              " ('summer’s', 0.01038346067070961),\n",
              " ('they', -0.004806850105524063),\n",
              " ('come', -0.005541369318962097),\n",
              " ('thing', -0.012170083820819855),\n",
              " ('pen', -0.018888752907514572),\n",
              " ('day', -0.02026074379682541),\n",
              " ('taught', -0.021313752979040146)]"
            ]
          },
          "metadata": {},
          "execution_count": 19
        }
      ]
    },
    {
      "cell_type": "code",
      "source": [
        "w2v_model.wv.most_similar(positive=[\"joy\"], topn=10)"
      ],
      "metadata": {
        "colab": {
          "base_uri": "https://localhost:8080/"
        },
        "outputId": "33c927ba-7299-4f80-e4c1-e3b9c052f91f",
        "id": "ooH4-4QRgk8n"
      },
      "execution_count": 21,
      "outputs": [
        {
          "output_type": "execute_result",
          "data": {
            "text/plain": [
              "[('wherein', 0.47509273886680603),\n",
              " ('grief', 0.47131937742233276),\n",
              " ('cure', 0.43250638246536255),\n",
              " ('sweets', 0.4273146390914917),\n",
              " ('war', 0.4124882221221924),\n",
              " ('quite', 0.3857344090938568),\n",
              " ('says', 0.3849511742591858),\n",
              " ('sorrow', 0.38366395235061646),\n",
              " ('knows', 0.37792330980300903),\n",
              " ('am', 0.37721389532089233)]"
            ]
          },
          "metadata": {},
          "execution_count": 21
        }
      ]
    },
    {
      "cell_type": "code",
      "source": [
        "w2v_model.wv.most_similar(negative=[\"joy\"], topn=10)"
      ],
      "metadata": {
        "colab": {
          "base_uri": "https://localhost:8080/"
        },
        "outputId": "bda7f000-db89-412f-b096-ef5dfe8803df",
        "id": "PHE3k6hqgpxt"
      },
      "execution_count": 22,
      "outputs": [
        {
          "output_type": "execute_result",
          "data": {
            "text/plain": [
              "[('own', 0.08512154221534729),\n",
              " ('eyes', 0.04462076723575592),\n",
              " ('thine', 0.027846956625580788),\n",
              " ('old', 0.026398025453090668),\n",
              " ('within', 0.021579235792160034),\n",
              " ('time’s', 0.019596491008996964),\n",
              " ('swift', -0.007687138393521309),\n",
              " ('skill', -0.013840774074196815),\n",
              " ('cruel', -0.021549426019191742),\n",
              " ('hide', -0.02611752599477768)]"
            ]
          },
          "metadata": {},
          "execution_count": 22
        }
      ]
    }
  ]
}
